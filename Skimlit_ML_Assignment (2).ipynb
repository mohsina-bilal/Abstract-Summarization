{
  "nbformat": 4,
  "nbformat_minor": 0,
  "metadata": {
    "colab": {
      "provenance": [],
      "gpuType": "A100"
    },
    "kernelspec": {
      "name": "python3",
      "display_name": "Python 3"
    },
    "language_info": {
      "name": "python"
    },
    "accelerator": "GPU"
  },
  "cells": [
    {
      "cell_type": "markdown",
      "source": [
        "# **AN NLP MODEL FOR MAKING READING OF MEDICAL ABSTRACTS EASIER FOR THE PURPOSE OF RESEARCH**"
      ],
      "metadata": {
        "id": "chFGkmQ5vPGp"
      }
    },
    {
      "cell_type": "code",
      "source": [
        "! nvidia-smi -L"
      ],
      "metadata": {
        "colab": {
          "base_uri": "https://localhost:8080/",
          "height": 0
        },
        "id": "HzNEikXSLoGP",
        "outputId": "b71d5846-4d87-4e67-ce9a-a7e75db7e941"
      },
      "execution_count": 2,
      "outputs": [
        {
          "output_type": "stream",
          "name": "stdout",
          "text": [
            "GPU 0: NVIDIA A100-SXM4-40GB (UUID: GPU-43a8d007-ed14-4b80-23d8-1a940bc6cb45)\n"
          ]
        }
      ]
    },
    {
      "cell_type": "markdown",
      "source": [
        "###Access Data (PubMed 200k RCT) Using authors' GitHub\n",
        "\n",
        "link : https://github.com/Franck-Dernoncourt/pubmed-rct"
      ],
      "metadata": {
        "id": "gC4NdS8_vekr"
      }
    },
    {
      "cell_type": "code",
      "source": [
        "! git clone https://github.com/Franck-Dernoncourt/pubmed-rct\n",
        "! ls pubmed-rct"
      ],
      "metadata": {
        "colab": {
          "base_uri": "https://localhost:8080/",
          "height": 0
        },
        "id": "Pzbq0J0-LpQC",
        "outputId": "79e30ddd-1a6f-45af-d7db-4dd05cb5a333"
      },
      "execution_count": 5,
      "outputs": [
        {
          "output_type": "stream",
          "name": "stdout",
          "text": [
            "PubMed_200k_RCT\t\t\t\t       PubMed_20k_RCT_numbers_replaced_with_at_sign\n",
            "PubMed_200k_RCT_numbers_replaced_with_at_sign  README.md\n",
            "PubMed_20k_RCT\n"
          ]
        }
      ]
    },
    {
      "cell_type": "code",
      "source": [
        "# Copy files to your Google Drive\n",
        "!cp -r pubmed-rct /content/drive/MyDrive/"
      ],
      "metadata": {
        "id": "mBvTjddXLpSr"
      },
      "execution_count": 11,
      "outputs": []
    },
    {
      "cell_type": "code",
      "source": [
        "# using subset pumed 20k dataset\n",
        "!ls pubmed-rct/PubMed_20k_RCT_numbers_replaced_with_at_sign/"
      ],
      "metadata": {
        "colab": {
          "base_uri": "https://localhost:8080/",
          "height": 0
        },
        "id": "qSs6IR8LLpU2",
        "outputId": "696506d0-b819-4eca-d316-96dc5bb00278"
      },
      "execution_count": 10,
      "outputs": [
        {
          "output_type": "stream",
          "name": "stdout",
          "text": [
            "dev.txt  test.txt  train.txt\n"
          ]
        }
      ]
    },
    {
      "cell_type": "code",
      "source": [
        "# start experimenting seeing what the dataset holds to undestand what we are working with\n",
        "data_dir = \"/content/drive/MyDrive/ML PROJECTS/Skimlit/pubmed-rct/PubMed_20k_RCT_numbers_replaced_with_at_sign/\"\n"
      ],
      "metadata": {
        "id": "mvnV5D7jLpXx"
      },
      "execution_count": 1,
      "outputs": []
    },
    {
      "cell_type": "code",
      "source": [
        "import os\n",
        "filenames = [os.path.join(data_dir, filename) for filename in os.listdir(data_dir)]\n",
        "filenames"
      ],
      "metadata": {
        "colab": {
          "base_uri": "https://localhost:8080/"
        },
        "id": "A6sfeAq6LpZ1",
        "outputId": "f23712a6-7627-4551-f0e0-31677d3f3441"
      },
      "execution_count": 2,
      "outputs": [
        {
          "output_type": "execute_result",
          "data": {
            "text/plain": [
              "['/content/drive/MyDrive/ML PROJECTS/Skimlit/pubmed-rct/PubMed_20k_RCT_numbers_replaced_with_at_sign/dev.txt',\n",
              " '/content/drive/MyDrive/ML PROJECTS/Skimlit/pubmed-rct/PubMed_20k_RCT_numbers_replaced_with_at_sign/test.txt',\n",
              " '/content/drive/MyDrive/ML PROJECTS/Skimlit/pubmed-rct/PubMed_20k_RCT_numbers_replaced_with_at_sign/train.txt']"
            ]
          },
          "metadata": {},
          "execution_count": 2
        }
      ]
    },
    {
      "cell_type": "code",
      "source": [
        "# Preprocessing Data\n",
        "\n",
        "def get_lines(filename):\n",
        "  \"\"\"\n",
        "  Read filename and return lines of text as list\n",
        "\n",
        "  Arguments:\n",
        "  filename: target filepath\n",
        "\n",
        "  Returns:\n",
        "  A list of strings with 1 string per line from target filename\n",
        "\n",
        "  \"\"\"\n",
        "\n",
        "  with open(filename,\"r\") as f:\n",
        "    return f.readlines()"
      ],
      "metadata": {
        "id": "OY9voNm1Lpc6"
      },
      "execution_count": 3,
      "outputs": []
    },
    {
      "cell_type": "code",
      "source": [
        "# reading the train lines\n",
        "train_file = os.path.join(data_dir, \"train.txt\")\n",
        "test_file = os.path.join(data_dir, \"test.txt\")"
      ],
      "metadata": {
        "id": "33YlTtddQVr9"
      },
      "execution_count": 4,
      "outputs": []
    },
    {
      "cell_type": "code",
      "source": [
        "train_lines = get_lines(train_file)\n",
        "train_lines"
      ],
      "metadata": {
        "colab": {
          "base_uri": "https://localhost:8080/"
        },
        "id": "SSfJZbn5NQsE",
        "outputId": "b90f4ab4-6a4b-475c-dd9e-901b4747fd04"
      },
      "execution_count": 5,
      "outputs": [
        {
          "output_type": "execute_result",
          "data": {
            "text/plain": [
              "['###24293578\\n',\n",
              " 'OBJECTIVE\\tTo investigate the efficacy of @ weeks of daily low-dose oral prednisolone in improving pain , mobility , and systemic low-grade inflammation in the short term and whether the effect would be sustained at @ weeks in older adults with moderate to severe knee osteoarthritis ( OA ) .\\n',\n",
              " 'METHODS\\tA total of @ patients with primary knee OA were randomized @:@ ; @ received @ mg/day of prednisolone and @ received placebo for @ weeks .\\n',\n",
              " 'METHODS\\tOutcome measures included pain reduction and improvement in function scores and systemic inflammation markers .\\n',\n",
              " 'METHODS\\tPain was assessed using the visual analog pain scale ( @-@ mm ) .\\n',\n",
              " 'METHODS\\tSecondary outcome measures included the Western Ontario and McMaster Universities Osteoarthritis Index scores , patient global assessment ( PGA ) of the severity of knee OA , and @-min walk distance ( @MWD ) .\\n',\n",
              " 'METHODS\\tSerum levels of interleukin @ ( IL-@ ) , IL-@ , tumor necrosis factor ( TNF ) - , and high-sensitivity C-reactive protein ( hsCRP ) were measured .\\n',\n",
              " 'RESULTS\\tThere was a clinically relevant reduction in the intervention group compared to the placebo group for knee pain , physical function , PGA , and @MWD at @ weeks .\\n',\n",
              " 'RESULTS\\tThe mean difference between treatment arms ( @ % CI ) was @ ( @-@ @ ) , p < @ ; @ ( @-@ @ ) , p < @ ; @ ( @-@ @ ) , p < @ ; and @ ( @-@ @ ) , p < @ , respectively .\\n',\n",
              " 'RESULTS\\tFurther , there was a clinically relevant reduction in the serum levels of IL-@ , IL-@ , TNF - , and hsCRP at @ weeks in the intervention group when compared to the placebo group .\\n',\n",
              " 'RESULTS\\tThese differences remained significant at @ weeks .\\n',\n",
              " 'RESULTS\\tThe Outcome Measures in Rheumatology Clinical Trials-Osteoarthritis Research Society International responder rate was @ % in the intervention group and @ % in the placebo group ( p < @ ) .\\n',\n",
              " 'CONCLUSIONS\\tLow-dose oral prednisolone had both a short-term and a longer sustained effect resulting in less knee pain , better physical function , and attenuation of systemic inflammation in older patients with knee OA ( ClinicalTrials.gov identifier NCT@ ) .\\n',\n",
              " '\\n',\n",
              " '###24854809\\n',\n",
              " 'BACKGROUND\\tEmotional eating is associated with overeating and the development of obesity .\\n',\n",
              " 'BACKGROUND\\tYet , empirical evidence for individual ( trait ) differences in emotional eating and cognitive mechanisms that contribute to eating during sad mood remain equivocal .\\n',\n",
              " 'OBJECTIVE\\tThe aim of this study was to test if attention bias for food moderates the effect of self-reported emotional eating during sad mood ( vs neutral mood ) on actual food intake .\\n',\n",
              " 'OBJECTIVE\\tIt was expected that emotional eating is predictive of elevated attention for food and higher food intake after an experimentally induced sad mood and that attentional maintenance on food predicts food intake during a sad versus a neutral mood .\\n',\n",
              " 'METHODS\\tParticipants ( N = @ ) were randomly assigned to one of the two experimental mood induction conditions ( sad/neutral ) .\\n',\n",
              " 'METHODS\\tAttentional biases for high caloric foods were measured by eye tracking during a visual probe task with pictorial food and neutral stimuli .\\n',\n",
              " 'METHODS\\tSelf-reported emotional eating was assessed with the Dutch Eating Behavior Questionnaire ( DEBQ ) and ad libitum food intake was tested by a disguised food offer .\\n',\n",
              " 'RESULTS\\tHierarchical multivariate regression modeling showed that self-reported emotional eating did not account for changes in attention allocation for food or food intake in either condition .\\n',\n",
              " 'RESULTS\\tYet , attention maintenance on food cues was significantly related to increased intake specifically in the neutral condition , but not in the sad mood condition .\\n',\n",
              " 'CONCLUSIONS\\tThe current findings show that self-reported emotional eating ( based on the DEBQ ) might not validly predict who overeats when sad , at least not in a laboratory setting with healthy women .\\n',\n",
              " 'CONCLUSIONS\\tResults further suggest that attention maintenance on food relates to eating motivation when in a neutral affective state , and might therefore be a cognitive mechanism contributing to increased food intake in general , but maybe not during sad mood .\\n',\n",
              " '\\n',\n",
              " '###25165090\\n',\n",
              " 'BACKGROUND\\tAlthough working smoke alarms halve deaths in residential fires , many households do not keep alarms operational .\\n',\n",
              " 'BACKGROUND\\tWe tested whether theory-based education increases alarm operability .\\n',\n",
              " 'METHODS\\tRandomised multiarm trial , with a single arm randomly selected for use each day , in low-income neighbourhoods in Maryland , USA .\\n',\n",
              " \"METHODS\\tIntervention arms : ( @ ) Full Education combining a health belief module with a social-cognitive theory module that provided hands-on practice installing alarm batteries and using the alarm 's hush button ; ( @ ) Hands-on Practice social-cognitive module supplemented by typical fire department education ; ( @ ) Current Norm receiving typical fire department education only .\\n\",\n",
              " 'METHODS\\tFour hundred and thirty-six homes recruited through churches or by knocking on doors in @-@ .\\n',\n",
              " 'METHODS\\tFollow-up visits checked alarm operability in @ homes ( @ % ) @-@ @ years after installation .\\n',\n",
              " 'METHODS\\tnumber of homes with working alarms defined as alarms with working batteries or hard-wired and number of working alarms per home .\\n',\n",
              " 'METHODS\\tRegressions controlled for alarm status preintervention ; demographics and beliefs about fire risks and alarm effectiveness .\\n',\n",
              " 'RESULTS\\tHomes in the Full Education and Practice arms were more likely to have a functioning smoke alarm at follow-up ( OR = @ , @ % CI @ to @ ) and had an average of @ more working alarms per home ( @ % CI @ to @ ) .\\n',\n",
              " 'RESULTS\\tWorking alarms per home rose @ % .\\n',\n",
              " 'RESULTS\\tFull Education and Practice had similar effectiveness ( p = @ on both outcome measures ) .\\n',\n",
              " 'CONCLUSIONS\\tWithout exceeding typical fire department installation time , installers can achieve greater smoke alarm operability .\\n',\n",
              " 'CONCLUSIONS\\tHands-on practice is key .\\n',\n",
              " 'CONCLUSIONS\\tTwo years after installation , for every three homes that received hands-on practice , one had an additional working alarm .\\n',\n",
              " 'BACKGROUND\\thttp://www.clinicaltrials.gov number NCT@ .\\n',\n",
              " '\\n',\n",
              " '###24633056\\n',\n",
              " 'OBJECTIVE\\tTo evaluate the performance ( efficacy , safety and acceptability ) of a new micro-adherent absorbent dressing ( UrgoClean ) compared with a hydrofiber dressing ( Aquacel ) in the local management of venous leg ulcers , in the debridement stage .\\n',\n",
              " 'METHODS\\tA non-inferiority European randomised controlled clinical trial ( RCT ) was conducted in @ centres , on patients presenting with venous or predominantly venous , mixed aetiology leg ulcers at their sloughy stage ( with more than @ % of the wound bed covered with slough at baseline ) .\\n',\n",
              " 'METHODS\\tPatients were followed over a @-week period and assessed weekly .\\n',\n",
              " 'METHODS\\tThe primary judgement criteria was the relative regression of the wound surface area after the @-week treatment period .\\n',\n",
              " 'METHODS\\tSecondary endpoints were the relative reduction of sloughy tissue and the percentage of patients presenting with a debrided wound .\\n',\n",
              " 'RESULTS\\tAltogether , @ patients were randomised to either UrgoClean ( test group ; n = @ ) or Aquacel ( control group ; n = @ ) dressings .\\n',\n",
              " 'RESULTS\\tRegarding the wound healing process predictive factors ( wound area , duration , ABPI value , recurrence ) , at baseline , the two groups were well balanced , for both wound and patient characteristics .\\n',\n",
              " 'RESULTS\\tCompression therapy was administered to both groups and after a median @-day treatment period , the percentage of relative reduction of the wound surface area was very similar ( -@ % vs -@ % in the UrgoClean and control groups , respectively ) .\\n',\n",
              " 'RESULTS\\tWhen considering the secondary criteria at week @ , the relative reduction of sloughy tissue was significantly higher in the UrgoClean group than in the control group ( -@ % vs -@,@ % ; p = @ ) .\\n',\n",
              " 'RESULTS\\tThe percentage of debrided wounds was also significantly higher in the test group ( @ % vs @ % ; p = @ ) .\\n',\n",
              " \"CONCLUSIONS\\tThis ` EARTH ' RCT confirmed that the UrgoClean dressing has similar efficacy and safety compared to Aquacel .\\n\",\n",
              " 'CONCLUSIONS\\tHowever , UrgoClean also showed better autolytic properties than the control group in the management of venous leg ulcers at the sloughy stage .\\n',\n",
              " 'CONCLUSIONS\\tThe new UrgoClean dressing therefore represents a promising therapeutic option within the current range of autolytic dressings available .\\n',\n",
              " 'BACKGROUND\\tThis study was sponsored by a grant from the pharmaceutical company Laboratoires Urgo .\\n',\n",
              " 'BACKGROUND\\tS. Bohbot and O. Tacca are employees of Laboratoires Urgo .\\n',\n",
              " 'BACKGROUND\\tS. Meaume , J. Dissemond and G. Perceau have received monetary compensation as presenters for Laboratoires Urgo .\\n',\n",
              " 'BACKGROUND\\tData management and statistical analyses were conducted independently by Vertical ( Paris , France ) .\\n',\n",
              " '\\n',\n",
              " '###24814304\\n',\n",
              " 'OBJECTIVE\\tEye movements ( EM ) during recall of an aversive memory is a treatment element unique to Eye Movement Desensitization and Reprocessing ( EMDR ) .\\n',\n",
              " 'OBJECTIVE\\tExperimental studies have shown that EM reduce memory vividness and/or emotionality shortly after the intervention .\\n',\n",
              " 'OBJECTIVE\\tHowever , it is unclear whether the immediate effects of the intervention reflect actual changes in memory .\\n',\n",
              " 'OBJECTIVE\\tThe aim of this study was to test whether immediate reductions in memory vividness and emotionality persist at a @h follow up and whether the magnitude of these effects is related to the duration of the intervention .\\n',\n",
              " \"METHODS\\tSeventy-three undergraduates recalled two negative autobiographical memories , one with EM ( `` recall with EM '' ) and one without ( `` recall only '' ) .\\n\",\n",
              " 'METHODS\\tHalf of participants recalled each memory for four periods of @s , the other half for eight periods of @s .\\n',\n",
              " 'METHODS\\tMemory vividness/emotionality were self-rated at a pre-test , an immediate post-test , and a @h follow-up test .\\n',\n",
              " 'RESULTS\\tIn both duration groups , recall with EM , but not recall only , caused an immediate decrease in memory vividness .\\n',\n",
              " 'RESULTS\\tThere were no immediate reductions in memory emotionality .\\n',\n",
              " \"RESULTS\\tFurthermore , only the ` eight periods ' group showed that recall with EM , but not recall only , caused a decrease in both memory emotionality and memory vividness from the pre-test to the follow-up .\\n\",\n",
              " 'CONCLUSIONS\\tOnly self-report measures were used .\\n',\n",
              " 'CONCLUSIONS\\tThe findings suggest that recall with EM causes @-hchanges in memory vividness/emotionality , which may explain part of the EMDR treatment effect , and these effects are related to intervention duration .\\n',\n",
              " '\\n',\n",
              " '###25825539\\n',\n",
              " 'OBJECTIVE\\tFew studies have tested the impact of motivational interviewing ( MI ) delivered by primary care providers on pediatric obesity .\\n',\n",
              " 'OBJECTIVE\\tThis study tested the efficacy of MI delivered by providers and registered dietitians ( RDs ) to parents of overweight children aged @ through @ .\\n',\n",
              " 'METHODS\\tForty-two practices from the Pediatric Research in Office Settings Network of the American Academy of Pediatrics were randomly assigned to @ of @ groups .\\n',\n",
              " 'METHODS\\tGroup @ ( usual care ) measured BMI percentile at baseline and @ - and @-year follow-up .\\n',\n",
              " 'METHODS\\tGroup @ ( provider only ) delivered @ MI counseling sessions to parents of the index child over @ years .\\n',\n",
              " 'METHODS\\tGroup @ ( provider + RD ) delivered @ provider MI sessions plus @ MI sessions from a RD. .\\n',\n",
              " 'METHODS\\tThe primary outcome was child BMI percentile at @-year follow up .\\n',\n",
              " 'RESULTS\\tAt @-year follow-up , the adjusted BMI percentile was @ , @ , and @ for groups @ , @ , and @ , respectively .\\n',\n",
              " 'RESULTS\\tThe group @ mean was significantly ( P = @ ) lower than group @ .\\n',\n",
              " 'RESULTS\\tMean changes from baseline in BMI percentile were @ , @ , and @ across groups @ , @ , and @ .\\n',\n",
              " 'CONCLUSIONS\\tMI delivered by providers and RDs ( group @ ) resulted in statistically significant reductions in BMI percentile .\\n',\n",
              " 'CONCLUSIONS\\tResearch is needed to determine the clinical significance and persistence of the BMI effects observed .\\n',\n",
              " 'CONCLUSIONS\\tHow the intervention can be brought to scale ( in particular , how to train physicians to use MI effectively and how best to train RDs and integrate them into primary care settings ) also merits future research .\\n',\n",
              " '\\n',\n",
              " '###24507941\\n',\n",
              " 'BACKGROUND\\tAntithrombin ( AT ) concentrations are reduced after cardiac surgery with cardiopulmonary bypass compared with the preoperative levels .\\n',\n",
              " 'BACKGROUND\\tLow postoperative AT is associated with worse short - and mid-term clinical outcomes .\\n',\n",
              " 'BACKGROUND\\tThe aim of the study is to evaluate the effects of AT administration on activation of the coagulation and fibrinolytic systems , platelet function , and the inflammatory response in patients with low postoperative AT levels .\\n',\n",
              " 'METHODS\\tSixty patients with postoperative AT levels of less than @ % were randomly assigned to receive purified AT ( @ IU in three administrations ) or placebo in the postoperative intensive care unit .\\n',\n",
              " 'METHODS\\tThirty patients with postoperative AT levels greater than @ % were observed as controls .\\n',\n",
              " 'METHODS\\tInterleukin @ ( a marker of inflammation ) , prothrombin fragment @-@ ( a marker of thrombin generation ) , plasmin-antiplasmin complex ( a marker of fibrinolysis ) , and platelet factor @ ( a marker of platelet activation ) were measured at six different times .\\n',\n",
              " 'RESULTS\\tCompared with the no AT group and control patients , patients receiving AT showed significantly higher AT values until @ hours after the last administration .\\n',\n",
              " 'RESULTS\\tAnalysis of variance for repeated measures showed a significant effect of study treatment in reducing prothrombin fragment @-@ ( p = @ ; interaction with time sample , p = @ ) and plasmin-antiplasmin complex ( p < @ ; interaction with time sample , p < @ ) values but not interleukin @ ( p = @ ; interaction with time sample , p = @ ) and platelet factor @ ( p = @ ; interaction with time sample , p = @ ) .\\n',\n",
              " 'RESULTS\\tNo difference in chest tube drainage , reopening for bleeding , and blood transfusion was observed .\\n',\n",
              " 'CONCLUSIONS\\tAntithrombin administration in patients with low AT activity after surgery with cardiopulmonary bypass reduces postoperative thrombin generation and fibrinolysis with no effects on platelet activation and inflammatory response .\\n',\n",
              " '\\n',\n",
              " '###24976083\\n',\n",
              " 'OBJECTIVE\\tWe evaluated patients at tertiary -LSB- both percutaneous coronary intervention ( PCI ) and coronary artery bypass grafting ( CABG ) capable -RSB- and primary hospitals in the EARLY-ACS trial .\\n',\n",
              " 'BACKGROUND\\tEarly invasive management is recommended for high-risk non-ST-segment elevation acute coronary syndromes .\\n',\n",
              " \"METHODS\\tWe evaluated outcomes in @,@ patients presenting to : tertiary sites , primary sites with transfer to tertiary sites ( `` transferred '' ) and those who remained at primary sites ( `` non-transfer '' ) .\\n\",\n",
              " 'RESULTS\\tThere were @ tertiary ( n = @,@ patients ) and @ primary hospitals -LSB- n = @,@ patients ( @ transferred ; @,@ non-transfer ) -RSB- .\\n',\n",
              " 'RESULTS\\tSignificant delays occurred in time from symptom onset to angiography ( @ hr ) , PCI ( @h ) , and CABG ( @ hr ) for transferred patients ( P < @ ) .\\n',\n",
              " 'RESULTS\\tNon-transfer patients had less @-day death/myocardial infarction -LSB- @ % vs. @ % ( tertiary ) ; adjusted odds ratio ( OR ) : @ ( @-@ @ ) , P = @ -RSB- ; transferred ( @ % ) and tertiary patients were similar -LSB- adjusted OR : @ ( @-@ @ ) , P = @ -RSB- .\\n',\n",
              " 'RESULTS\\tNon-transfer patients had lower @-year mortality -LSB- @ % vs. @ % ( tertiary ) ; adjusted hazard ratio ( HR ) : @ ( @-@ @ ) , P = @ -RSB- : there was no difference between transferred and tertiary patients -LSB- @ % vs. @ % ; adjusted HR : @ ( @-@ @ ) , P = @ -RSB- .\\n',\n",
              " 'RESULTS\\tDespite similar rates of catheterization , GUSTO severe/moderate bleeding within @ hr was less in non-transfer -LSB- @ % vs. @ % ( tertiary ) ; adjusted OR : @ ( @-@ @ ) , P < @ -RSB- , whereas transferred ( @ % ) and tertiary patients were similar -LSB- adjusted OR : @ ( @-@ @ ) , P = @ -RSB- .\\n',\n",
              " 'RESULTS\\tThere was no difference in non-CABG bleeding .\\n',\n",
              " 'CONCLUSIONS\\tTimely angiography and revascularization were often not achieved in transferred patients .\\n',\n",
              " 'CONCLUSIONS\\tNon-transferred patients presenting to primary sites had the lowest event rates and the best long-term survival .\\n',\n",
              " '\\n',\n",
              " '###25001475\\n',\n",
              " 'OBJECTIVE\\tWe hypothesized that a targeted temperature of @ C as compared to that of @ C would increase survival and reduce the severity of circulatory shock in patients with shock on admission after out-of-hospital cardiac arrest ( OHCA ) .\\n',\n",
              " 'METHODS\\tThe recently published Target Temperature Management trial ( TTM-trial ) randomized @ OHCA patients with no difference in outcome between groups and no difference in mortality at the end of the trial in a predefined subgroup of patients with shock at admission .\\n',\n",
              " 'METHODS\\tShock was defined as a systolic blood pressure of < @ mm Hg for > @ min or the need of supportive measures to maintain a blood pressure @ mmHg and/or clinical signs of end-organ hypoperfusion .\\n',\n",
              " 'METHODS\\tIn this post hoc analysis reported here , we further analyzed the @ patients with shock at admission ; all had been randomized to receive intervention at @ C ( TTM@ ; n = @ ) or @ C ( TTM@ ; n = @ ) .\\n',\n",
              " 'METHODS\\tPrimary outcome was @-day mortality .\\n',\n",
              " 'METHODS\\tSecondary outcomes were intensive care unit ( ICU ) and @-day mortality , severity of circulatory shock assessed by mean arterial pressure , serum lactate , fluid balance and the extended Sequential Organ Failure assessment ( SOFA ) score .\\n',\n",
              " 'RESULTS\\tThere was no significance difference between targeted temperature management at @ C or @ C on @-day mortality -LSB- log-rank test , p = @ , hazard ratio @ , @ % confidence interval ( CI ) @-@ @ -RSB- or ICU mortality ( @ vs. @ % , p = @ ; relative risk @ , @ % CI @-@ @ ) .\\n',\n",
              " 'RESULTS\\tSerum lactate and the extended cardiovascular SOFA score were higher in the TTM@ group ( p < @ ) .\\n',\n",
              " 'CONCLUSIONS\\tWe found no benefit in survival or severity of circulatory shock with targeted temperature management at @ C as compared to @ C in patients with shock on admission after OHCA .\\n',\n",
              " '\\n',\n",
              " '###25406902\\n',\n",
              " 'BACKGROUND\\tYouths with a family history of alcohol and other drug use disorders ( FH + ) are at a greater risk of developing substance use disorders than their peers with no such family histories ( FH - ) , and this increased risk may be related to impaired maturation of forebrain circuitry .\\n',\n",
              " 'BACKGROUND\\tFH + individuals have shown altered forebrain activity at rest and while performing cognitive tasks .\\n',\n",
              " 'BACKGROUND\\tHowever , it is not fully understood how forebrain activity is altered in FH + individuals , and ultimately how these alterations may contribute to substance use disorder risk .\\n',\n",
              " 'METHODS\\tIn this study , we tested @ FH + and @ FH - youths performing a go/no-go task and examined activations in blocks with only go trials ( Go Only ) , blocks with @ % go and @ % no-go trials ( Go/NoGo ) , and a contrast of those @ blocks .\\n',\n",
              " 'RESULTS\\tFH + youths had significantly greater cerebral activations in both the Go and Go/NoGo blocks than FH - youths in regions including the posterior cingulate/precuneus , bilateral middle/superior temporal gyrus , and medial superior frontal gyrus with no significant group differences in the subtraction between Go Only and Go/NoGo blocks .\\n',\n",
              " 'RESULTS\\tAdditionally , FH + youths had moderately slower reaction times on go trials in the Go Only blocks .\\n',\n",
              " 'CONCLUSIONS\\tOur findings suggest that global activation increase in FH + youths are modulated by FH density and are not specific to the inhibitory components of the task .\\n',\n",
              " 'CONCLUSIONS\\tThis pattern of increased activations in FH + youths may be at least partially due to impaired forebrain white matter development leading to greater activations/less efficient neural communication during task performance .\\n',\n",
              " '\\n',\n",
              " '###25471989\\n',\n",
              " 'BACKGROUND\\tRisk factors have been proposed for running injuries including ( a ) reduced muscular strength , ( b ) excessive joint movements and ( c ) excessive joint moments in the frontal and transverse planes .\\n',\n",
              " \"BACKGROUND\\tTo date , many running injury prevention programs have focused on a `` top down '' approach to strengthen the hip musculature in the attempt to reduce movements and moments at the hip , knee , and/or ankle joints .\\n\",\n",
              " 'BACKGROUND\\tHowever , running mechanics did not change when hip muscle strength increased .\\n',\n",
              " \"BACKGROUND\\tIt could be speculated that emphasis should be placed on increasing the strength of the ankle joint for a `` ground up '' approach .\\n\",\n",
              " 'BACKGROUND\\tStrengthening of the large and small muscles crossing the ankle joint is assumed to change the force distribution for these muscles and to increase the use of smaller muscles .\\n',\n",
              " 'BACKGROUND\\tThis would be associated with a reduction of joint and insertion forces , which could have a beneficial effect on injury prevention .\\n',\n",
              " 'BACKGROUND\\tHowever , training of the ankle joint as an injury prevention strategy has not been studied .\\n',\n",
              " 'BACKGROUND\\tAnkle strengthening techniques include isolated strengthening or movement-related strengthening such as functional balance training .\\n',\n",
              " 'BACKGROUND\\tThere is little knowledge about the efficacy of such training programs on strength alteration , gait or injury reduction .\\n',\n",
              " 'METHODS\\tNovice runners will be randomly assigned to one of three groups : an isolated ankle strengthening group ( strength , n = @ ) , a functional balance training group ( balance , n = @ ) or an activity-matched control group ( control , n = @ ) .\\n',\n",
              " 'METHODS\\tIsokinetic strength will be measured using a Biodex System @ dynamometer .\\n',\n",
              " 'METHODS\\tRunning kinematics and kinetics will be assessed using @D motion analysis and a force platform .\\n',\n",
              " 'METHODS\\tPostural control will be assessed by quantifying the magnitude and temporal structure of the center of pressure trace during single leg stance on a force platform .\\n',\n",
              " 'METHODS\\tThe change pre - and post-training in isokinetic strength , running mechanics , and postural control variables will be compared following the interventions .\\n',\n",
              " 'METHODS\\tInjuries rates will be compared between groups over @months .\\n',\n",
              " 'CONCLUSIONS\\tAvoiding injury will allow individuals to enjoy the benefits of participating in aerobic activities and reduce the healthcare costs associated with running injuries .\\n',\n",
              " 'BACKGROUND\\tCurrent Controlled Trial NCT@ .\\n',\n",
              " '\\n',\n",
              " '###24694205\\n',\n",
              " 'BACKGROUND\\tVitamin B@ deficiency causes neurologic and psychiatric disease , especially in older adults .\\n',\n",
              " 'BACKGROUND\\tSubacute combined degeneration is characterized by damage to the posterior and lateral spinal cord affecting the corticospinal tract .\\n',\n",
              " 'OBJECTIVE\\tTo test corticospinal tract projections using motor evoked potentials ( MEPs ) by transcranial magnetic stimulation ( TMS ) in asymptomatic older adults with low vitamin B@ ( B@ ) levels .\\n',\n",
              " 'METHODS\\tCross-sectional study of @ healthy older adults ( > @ years ) .\\n',\n",
              " 'METHODS\\tMEPs were recorded in the abductor pollicis brevis and tibialis anterior muscles , at rest and during slight tonic contraction .\\n',\n",
              " 'METHODS\\tCentral motor conduction time ( CMCT ) was derived from the latency of MEPs and peripheral motor conduction time ( PMCT ) .\\n',\n",
              " 'METHODS\\tNeurophysiological variables were analyzed statistically according to B@ status .\\n',\n",
              " 'RESULTS\\tMedian age was @ years ( @ % women ) .\\n',\n",
              " 'RESULTS\\tTwenty-six out of the @ subjects had low vitamin B@ levels ( B@ < @pmol/l ) .\\n',\n",
              " 'RESULTS\\tMEPs were recorded for all subjects in upper and lower extremities .\\n',\n",
              " 'RESULTS\\tThere were no significant differences in either latency or amplitude of MEPs and CMCT between low and normal B@ groups .\\n',\n",
              " 'RESULTS\\tThere was a significant PMCT delay in the lower extremities in the low B@ group ( p = @ ) .\\n',\n",
              " 'CONCLUSIONS\\tNo subclinical abnormality of the corticospinal tract is detected in asymptomatic B@-deficient older adults .\\n',\n",
              " 'CONCLUSIONS\\tThe peripheral nervous system appears to be more vulnerable to damage attributable to this vitamin deficit .\\n',\n",
              " 'CONCLUSIONS\\tThe neurophysiological evaluation of asymptomatic older adults with lower B@ levels should be focused mainly in peripheral nervous system evaluation .\\n',\n",
              " '\\n',\n",
              " '###24576512\\n',\n",
              " 'BACKGROUND\\tUncontrolled hypertension ( HTN ) is a significant public health problem among blacks in the United States .\\n',\n",
              " 'BACKGROUND\\tDespite the proven efficacy of therapeutic lifestyle change ( TLC ) on blood pressure ( BP ) reduction in clinical trials , few studies have examined their effectiveness in church-based settings-an influential institution for health promotion in black communities .\\n',\n",
              " 'METHODS\\tUsing a cluster-randomized , @-arm trial design , this study evaluates the effectiveness of a faith-based TLC intervention vs health education ( HE ) control on BP reduction among hypertensive black adults .\\n',\n",
              " 'METHODS\\tThe intervention is delivered by trained lay health advisors through group TLC sessions plus motivational interviewing in @ black churches .\\n',\n",
              " 'METHODS\\tParticipants in the intervention group receive @ weekly TLC sessions targeting weight loss , increasing physical activity , fruit , vegetable and low-fat dairy intake , and decreasing fat and sodium intake , plus @ monthly individual motivational interviewing sessions .\\n',\n",
              " 'METHODS\\tParticipants in the control group attend @ weekly classes on HTN and other health topics delivered by health care experts .\\n',\n",
              " 'METHODS\\tThe primary outcome is change in BP from baseline to @ months .\\n',\n",
              " 'METHODS\\tSecondary outcomes include level of physical activity , percent change in weight , and fruit and vegetable consumption at @ months , and BP control at @ months .\\n',\n",
              " 'CONCLUSIONS\\tIf successful , this trial will provide an alternative and culturally appropriate model for HTN control through evidence-based lifestyle modification delivered in churches by lay health advisors .\\n',\n",
              " '\\n',\n",
              " '###24807407\\n',\n",
              " 'BACKGROUND\\tThe classification of clinical severity of Ebstein anomaly still remains a challenge .\\n',\n",
              " 'BACKGROUND\\tThe aim of this study was to focus on the interaction of the pathologically altered right heart with the anatomically-supposedly-normal left heart and to derive from cardiac magnetic resonance ( CMR ) a simple imaging measure for the clinical severity of Ebstein anomaly .\\n',\n",
              " 'RESULTS\\tTwenty-five patients at a mean age of @ years with unrepaired Ebstein anomaly were examined in a prospective study .\\n',\n",
              " 'RESULTS\\tDisease severity was classified using CMR volumes and functional measurements in comparison with heart failure markers from clinical data , ECG , laboratory and cardiopulmonary exercise testing , and echocardiography .\\n',\n",
              " 'RESULTS\\tAll examinations were completed within @ hours .\\n',\n",
              " 'RESULTS\\tA total right/left-volume index was defined from end-diastolic volume measurements in CMR : total right/left-volume index = ( RA + aRV + fRV ) / ( LA+LV ) .\\n',\n",
              " 'RESULTS\\tMean total right/left-volume index was @ ( normal values : @ ) .\\n',\n",
              " 'RESULTS\\tThis new total right/left-volume index correlated with almost all clinically used biomarkers of heart failure : brain natriuretic peptide ( r = @ ; P = @ ) , QRS ( r = @ ; P = @ ) , peak oxygen consumption/kg ( r = -@ ; P = @ ) , ventilatory response to carbon dioxide production at anaerobic threshold ( r = @ ; P = @ ) , the severity of tricuspid regurgitation ( r = @ ; P = @ ) , tricuspid valve offset ( r = @ ; P = @ ) , and tricuspid annular plane systolic excursion ( r = @ ; P = @ ) .\\n',\n",
              " 'RESULTS\\tPreviously described severity indices ( -LSB- RA + aRV -RSB- / -LSB- fRV + LA+LV -RSB- ) and fRV/LV end-diastolic volume corresponded only to some parameters .\\n',\n",
              " 'CONCLUSIONS\\tIn patients with Ebstein anomaly , the easily acquired index of right-sided to left-sided heart volumes from CMR correlated well with established heart failure markers .\\n',\n",
              " 'CONCLUSIONS\\tOur data suggest that the total right/left-volume index should be used as a new and simplified CMR measure , allowing more accurate assessment of disease severity than previously described scoring systems .\\n',\n",
              " '\\n',\n",
              " '###24947717\\n',\n",
              " 'OBJECTIVE\\tThis study sought to investigate the association of beta-blocker therapy at discharge with clinical outcomes in patients with ST-segment elevation myocardial infarction ( STEMI ) after primary percutaneous coronary intervention ( PCI ) .\\n',\n",
              " 'BACKGROUND\\tLimited data are available on the efficacy of beta-blocker therapy for secondary prevention in STEMI patients .\\n',\n",
              " 'METHODS\\tBetween November @ , @ and September @ , @ , @,@ patients were enrolled in nationwide , prospective , multicenter registries .\\n',\n",
              " 'METHODS\\tAmong these , we studied STEMI patients undergoing primary PCI who were discharged alive ( n = @,@ ) .\\n',\n",
              " 'METHODS\\tWe classified patients into the beta-blocker group ( n = @,@ ) and no-beta-blocker group ( n = @,@ ) according to the use of beta-blockers at discharge .\\n',\n",
              " 'METHODS\\tPropensity-score matching analysis was also performed in @,@ patient triplets .\\n',\n",
              " 'METHODS\\tThe primary outcome was all-cause death .\\n',\n",
              " 'RESULTS\\tThe median follow-up duration was @ days ( interquartile range : @ to @ days ) .\\n',\n",
              " 'RESULTS\\tAll-cause death occurred in @ patients ( @ % ) of the beta-blocker group versus @ patients ( @ % ) of the no-beta-blocker group ( p < @ ) .\\n',\n",
              " 'RESULTS\\tAfter @:@ propensity-score matching , beta-blocker therapy was associated with a lower incidence of all-cause death ( @ % vs. @ % , adjusted hazard ratio : @ , @ % confidence interval : @ to @ , p = @ ) .\\n',\n",
              " 'RESULTS\\tThe association with better outcome of beta-blocker therapy in terms of all-cause death was consistent across various subgroups , including patients with relatively low-risk profiles such as ejection fraction > @ % or single-vessel disease .\\n',\n",
              " 'CONCLUSIONS\\tBeta-blocker therapy at discharge was associated with improved survival in STEMI patients treated with primary PCI .\\n',\n",
              " 'CONCLUSIONS\\tOur results support the current American College of Cardiology/American Heart Association guidelines , which recommend long-term beta-blocker therapy in all patients with STEMI regardless of reperfusion therapy or risk profile .\\n',\n",
              " '\\n',\n",
              " '###24281275\\n',\n",
              " 'OBJECTIVE\\tLocal anesthetic wound infiltration is widely used as an effective adjunct during multimodal postoperative pain management .\\n',\n",
              " 'OBJECTIVE\\tThe aim of this study was to evaluate the effectiveness of continuous wound infusion of ropivacaine in postoperative pain relief , opioid sparing , incidence of nausea and vomiting , and bowel and liver function improvement in patients undergoing open hepatectomy .\\n',\n",
              " 'METHODS\\tForty patients undergoing open hepatectomy were enrolled in this prospective , randomized , double-blinded , placebo-controlled trial .\\n',\n",
              " 'METHODS\\tPatients were divided into @ groups : the @ % saline continuous infusion group ( the control group ; n = @ ) and the ropivacaine continuous infusion group ( the Ropi group ; n = @ ) .\\n',\n",
              " 'METHODS\\tOutcomes measured postoperatively were pain score at rest and on movement , sufentanil consumption , incidence of nausea and vomiting , and sedation score across @ postoperative hours .\\n',\n",
              " 'METHODS\\tTime to bowel recovery , liver function change , mean length of hospitalization , patient satisfaction , and other data after @ postoperative hours were collected until hospital discharge .\\n',\n",
              " 'RESULTS\\tPain scores at rest were lower for the ropivacaine group and reached significance after @ and @ hours ( P < @ ) .\\n',\n",
              " 'RESULTS\\tSufentanil consumption ( @ vs. @ g ; P < @ ) after @ hours , time to bowel recovery ( @ vs. @ d ; P < @ ) , incidence of nausea and vomiting ( @ vs. @ ; P < @ ) , and mean length of hospitalization ( @ vs. @ d ; P < @ ) were significantly reduced , and the sedation score and liver function change were also comparable between the @ groups .\\n',\n",
              " 'RESULTS\\tThere was no difference with respect to pain scores on movement , nor with respect to patient satisfaction .\\n',\n",
              " 'CONCLUSIONS\\tSurgical wound infusion with ropivacaine after hepatectomy can improve pain relief at rest and accelerate recovery and discharge .\\n',\n",
              " '\\n',\n",
              " '###24911353\\n',\n",
              " 'OBJECTIVE\\tTuberculosis ( TB ) is highly prevalent among HIV-infected people , including those receiving combination antiretroviral therapy ( cART ) , necessitating a well tolerated and efficacious TB vaccine for these populations .\\n',\n",
              " 'OBJECTIVE\\tWe evaluated the safety and immunogenicity of the candidate TB vaccine M@/AS@ in adults with well controlled HIV infection on cART .\\n',\n",
              " 'METHODS\\tA randomized , observer-blind , controlled trial ( NCT@ ) .\\n',\n",
              " 'METHODS\\tHIV-infected adults on cART in Switzerland were randomized @:@:@ to receive two doses , @ month apart , of M@/AS@ , AS@ or @ % physiological saline ( N = @ , N = @ and N = @ , respectively ) and were followed up to @ months postdose @ ( D@ ) .\\n',\n",
              " 'METHODS\\tIndividuals with CD@ cell counts below @ cells/l were excluded .\\n',\n",
              " 'METHODS\\tAdverse events ( AEs ) including HIV-specific and laboratory safety parameters were recorded .\\n',\n",
              " 'METHODS\\tCell-mediated ( ICS ) and humoral ( ELISA ) responses were evaluated before vaccination , @ month after each dose ( D@ , D@ ) and D@ .\\n',\n",
              " 'RESULTS\\tThirty-seven individuals -LSB- interquartile range ( IQR ) CD@ cell counts at screening : @-@ cells/l ; undetectable HIV-@ viremia -RSB- were enrolled ; @ % of individuals reported previous BCG vaccination , @ % tested negative for the QuantiFERON-TB assay .\\n',\n",
              " 'RESULTS\\tFor M@/AS@ recipients , no vaccine-related serious AEs or cART-regimen adjustments were recorded , and there were no clinically relevant effects on laboratory safety parameters , HIV-@ viral loads or CD@ cell counts .\\n',\n",
              " 'RESULTS\\tM@/AS@ was immunogenic , inducing persistent and polyfunctional M@-specific CD@ T-cell responses -LSB- medians @ % ( IQR @-@ @ ) at D@ -RSB- and @ % ( @-@ @ ) at D@ , predominantly CD@LIL-@TNF - , CD@LIL-@ and CD@LIL-@TNF-IFN - -RSB- .\\n',\n",
              " 'RESULTS\\tAll M@/AS@ vaccines were seropositive for anti-M@ IgG after second vaccination until study end .\\n',\n",
              " 'CONCLUSIONS\\tM@/AS@ was clinically well tolerated and immunogenic in this population , supporting further clinical evaluation in HIV-infected individuals in TB-endemic settings .\\n',\n",
              " '\\n',\n",
              " '###25318787\\n',\n",
              " 'OBJECTIVE\\tThe aim of this study was to investigate whether remedial hydration ( RH ) reduces the incidence of contrast-induced nephropathy ( CIN ) and short-term adverse events in ST-elevation myocardial infarction ( STEMI ) patients undergoing primary percutaneous coronary intervention ( PCI ) .\\n',\n",
              " 'METHODS\\tA total of @ consecutive STEMI patients were prospectively and randomly assigned into two groups : @ patients in the RH group and @ patients in the no RH ( control ) group .\\n',\n",
              " 'METHODS\\tThe serum creatinine ( SCr ) and creatinine clearance ( CCr ) levels were measured on admission and at @ , @ and @ hours after primary PCI .\\n',\n",
              " 'METHODS\\tThe rates of CIN and short-term adverse events were analyzed for each group .\\n',\n",
              " 'METHODS\\tAfter surgery , the patients were categorized into four groups according to the Mehran risk score : low ( @ , n = @ ) , moderate ( @-@ , n = @ ) , high ( @-@ , n = @ ) or very high ( @ , n = @ ) .\\n',\n",
              " 'RESULTS\\tThe incidence of CIN in the RH group was lower than that observed in the control group ( @/@ ; @ % vs. @/@ ; @ % , p < @ ) .\\n',\n",
              " 'RESULTS\\tThe subgroup analysis showed that the rate of CIN was lower in the moderate ( @/@ ; @ % vs. @/@ ; @ % , p < @ ) and significantly lower in both the high ( @/@ ; @ % vs. @/@ ; @ % , p < @ ) and very high score groups ( @/@ ; @ % vs. @/@ ; @ % , p < @ ) among the RH patients compared to the controls .\\n',\n",
              " 'RESULTS\\tAt @ , @ and @ hours after PCI , the patients in the RH group exhibited lower SCr levels and higher CCr levels than the patients in the control group ( both p < @ ) .\\n',\n",
              " 'RESULTS\\tA lower incidence of in-hospital clinical events was also observed in the RH group .\\n',\n",
              " 'CONCLUSIONS\\tRemedial hydration decreases the occurrence of CIN and improves the short-term prognosis of STEMI patients undergoing primary PCI .\\n',\n",
              " '\\n',\n",
              " '###24396280\\n',\n",
              " 'BACKGROUND\\tAn increased production of oxidizing species related to reactive oral diseases , such as chronic apical periodontitis , could have systemic implications such as an increase in cardiovascular morbidity .\\n',\n",
              " 'BACKGROUND\\tBased on this consideration , we conducted a prospective study to assess whether subjects affected by chronic periodontitis presented with higher values of oxidative stress than reference values before endodontic treatment , and whether endodontic treatment can reduce the oxidative imbalance and bring it back to normal in these subjects .\\n',\n",
              " 'METHODS\\tThe authors recruited @ groups of patients from private studies and dental clinics : these patients were recruited randomly .\\n',\n",
              " 'METHODS\\tThe oxidative balance in both patients with chronic apical periodontitis ( CAP ) and healthy control patients was determined by measuring the oxidant status , using an identification of the reactive oxygen metabolites ( d-ROMs ) test , while the antioxidant status in these patients was determined using a biological antioxidant potential ( BAP ) test .\\n',\n",
              " 'METHODS\\tBoth these tests were carried on plasma samples taken from enrolled patients .\\n',\n",
              " 'METHODS\\tValues were measured both before the endodontic treatment of the patients with chronic apical periodontitis , and @ and @ days after treatment , and compared to those obtained from healthy control patients .\\n',\n",
              " 'RESULTS\\tIt was found that , on recruitment , the patients with chronic apical periodontitis exhibited significantly higher levels of oxidative stress than control patients , as determined by the d-ROMs and BAP tests .\\n',\n",
              " 'RESULTS\\tFurthermore , the d-ROMs test values were shown to decrease and the BAP test values to increase over time in patients with chronic apical periodontitis following endodontic therapy .\\n',\n",
              " 'RESULTS\\tAs the levels of oxidative stress in these patients tended to reduce and return to normal by @ days following treatment .\\n',\n",
              " 'CONCLUSIONS\\tThis study has demonstrated a positive association between chronic apical periodontitis and oxidative stress .\\n',\n",
              " 'CONCLUSIONS\\tSubjects affected by chronic apical periodontitis are exposed to a condition of oxidative stress , which is extremely dangerous to general health .\\n',\n",
              " 'CONCLUSIONS\\tMoreover , one can infer from these findings that through proper endodontic therapy , a good oxidative balance can be restored , thereby avoiding the risk of contracting the abovementioned diseases .\\n',\n",
              " '\\n',\n",
              " '###24731889\\n',\n",
              " 'BACKGROUND\\tPlacebo effect has been largely studied and debated in medicine .\\n',\n",
              " 'BACKGROUND\\tResearch focused mainly on children and adults but not on newborns .\\n',\n",
              " 'BACKGROUND\\tIn osteopathy , few studies documented this effect and no research has been conducted in newborns .\\n',\n",
              " 'OBJECTIVE\\tTo assess the presence of placebo effect in newborns using sham osteopathic manipulative treatment .\\n',\n",
              " 'METHODS\\tRandomized control trial .\\n',\n",
              " 'METHODS\\tNeonatal Intensive Care Unit in Italy .\\n',\n",
              " 'METHODS\\tTwo groups ( @ patients each ) of preterm infants aged @-@ weeks without medical complications received routine pediatric care and osteopathic sham therapy was administrated to the study group only for the entire period of hospitalization .\\n',\n",
              " 'METHODS\\tPrimary end point was the mean reduction of length of stay at discharge .\\n',\n",
              " 'METHODS\\tSecondary objective was the change in daily weight gain .\\n',\n",
              " 'RESULTS\\t@ newborns entered the study .\\n',\n",
              " 'RESULTS\\tNo difference between sham and control group was found for the primary outcome length of stay ( @ ; @ ; p = @ ) .\\n',\n",
              " 'RESULTS\\tMultivariate analysis showed no difference between study and control group on length of stay .\\n',\n",
              " 'RESULTS\\tA negative association was found for gestational age ( -@ ; @ % CI -@ to -@ ; p = @ ) , birth weight ( -@ ; @ % CI -@ to -@ ; p < @ ) and milk volume at study enrollment ( -@ ; @ % CI -@ to -@ ; p = @ ) .\\n',\n",
              " 'CONCLUSIONS\\tTo the best of our knowledge , this study is the first in the field showing no placebo effect on newborns .\\n',\n",
              " 'CONCLUSIONS\\tFurther discussions are opened concerning the age when placebo effect starts .\\n',\n",
              " '\\n',\n",
              " '###25880933\\n',\n",
              " 'BACKGROUND\\tClostridium difficile infection ( CDI ) is a leading cause of diarrhoea in health care settings with symptoms ranging from mild and self-limiting to life threatening .\\n',\n",
              " 'BACKGROUND\\tSMT@ is a novel , non-absorbable antibiotic currently under development for the treatment of CDI .\\n',\n",
              " 'BACKGROUND\\tHere we report the results from a Phase I study .\\n',\n",
              " 'METHODS\\tA double-blind , randomized , placebo-controlled study assessing safety and tolerability of single and multiple oral doses of SMT@ in healthy volunteers .\\n',\n",
              " 'METHODS\\tPharmacokinetic assessments included blood and faecal sampling .\\n',\n",
              " 'METHODS\\tThe effect of food on systemic exposure and analysis of the gut microbiota were also included .\\n',\n",
              " 'RESULTS\\tFifty-six healthy male subjects were enrolled .\\n',\n",
              " 'RESULTS\\tFollowing single oral doses of up to @,@ mg in the fasted state , plasma concentrations of SMT@ were generally below the lower limit of quantification .\\n',\n",
              " 'RESULTS\\tIn the fed state levels ranged from @ to @ ng/mL after single dosing and after repeat dosing at Day @ from @ to @ ng/mL .\\n',\n",
              " 'RESULTS\\tFollowing single and multiple oral doses of SMT@ , mean daily faecal concentrations increased with increasing dose level and were significantly above the typical MIC range for C. difficile ( @-@ @ g/mL ) .\\n',\n",
              " 'RESULTS\\tAt @ mg BID , mean ( SD ) faecal concentrations of @,@ ( @ ) g/g and @,@ ( @ ) g/g were determined on days @ and @ of dosing respectively .\\n',\n",
              " 'RESULTS\\tNo notable metabolites were detected in faeces .\\n',\n",
              " 'RESULTS\\tOverall , all doses of SMT@ were well tolerated both as single oral doses or BID oral doses for @ days .\\n',\n",
              " 'RESULTS\\tThe majority ( @ % ) of adverse events ( AEs ) were classified as gastrointestinal disorders and were mild in severity , resolving without treatment .\\n',\n",
              " 'RESULTS\\tThe gut microbiota was analysed in the multiple dose groups with minimal changes observed in the bacterial groups analysed except for total clostridia which were reduced to below the limit of detection by day @ of dosing .\\n',\n",
              " 'CONCLUSIONS\\tOral administration of SMT@ was considered safe and well tolerated and was associated with negligible plasma concentrations after single and multiple doses .\\n',\n",
              " 'CONCLUSIONS\\tIn addition , minimal disruption of normal gut microbiota was noted , confirming the highly selective spectrum of the compound .\\n',\n",
              " 'CONCLUSIONS\\tThese results support the further clinical development of SMT@ as an oral therapy for CDI .\\n',\n",
              " 'BACKGROUND\\tCurrent Controlled Trials .\\n',\n",
              " 'BACKGROUND\\tISRCTN@ .\\n',\n",
              " '\\n',\n",
              " '###25231496\\n',\n",
              " 'BACKGROUND\\tWhile overall survival for most common cancers in Australia is improving , the rural-urban differential has been widening , with significant excess deaths due to lung , colorectal , breast and prostate cancer in regional Australia .\\n',\n",
              " 'BACKGROUND\\tInternationally a major focus on understanding variations in cancer outcomes has been later presentation to healthcare and later diagnosis .\\n',\n",
              " 'BACKGROUND\\tApproaches to reducing time to diagnosis of symptomatic cancer include public symptom awareness campaigns and interventions in primary care to improve early cancer detection .\\n',\n",
              " 'BACKGROUND\\tThis paper reports the protocol of a factorial cluster-randomised trial of community and general practice ( GP ) level interventions to reduce the time to diagnosis of cancer in rural Western Australia ( WA ) .\\n',\n",
              " 'METHODS\\tThe community intervention is a symptom awareness campaign tailored for rural Australians delivered through a community engagement model .\\n',\n",
              " 'METHODS\\tThe GP intervention includes a resource card with symptom risk assessment charts and local referral pathways implemented through multiple academic detailing visits and case studies .\\n',\n",
              " 'METHODS\\tParticipants are eligible if recently diagnosed with breast , colorectal , lung or prostate cancer who reside in specific regions of rural WA with a planned sample size of @ .\\n',\n",
              " 'METHODS\\tThe primary outcome is the Total Diagnostic Interval , defined as the duration from first symptom ( or date of cancer screening test ) to cancer diagnosis .\\n',\n",
              " 'METHODS\\tSecondary outcomes include cancer stage , healthcare utilisation , disease-free status , survival at @ and @years and cost-effectiveness .\\n',\n",
              " 'BACKGROUND\\tEthics approval has been granted by the University of Western Australia and from all relevant hospital recruitment sites in WA .\\n',\n",
              " 'RESULTS\\tResults of this trial will be reported in peer-reviewed publications and in conference presentations .\\n',\n",
              " 'BACKGROUND\\tAustralian New Zealand Clinical Trials Registry ( ANZCTR ) .\\n',\n",
              " 'BACKGROUND\\tACTRN@ .\\n',\n",
              " '\\n',\n",
              " '###26024687\\n',\n",
              " 'BACKGROUND\\tThis study aimed to evaluate whether incidental CT findings of emphysema , airway thickening and bronchiectasis , as seen on CT scans performed for other non-pulmonary clinical indications , are associated with future acute exacerbations of COPD resulting in hospitalisation or death .\\n',\n",
              " 'METHODS\\tThis multicentre prospective case-cohort study comprised @ subjects who underwent routine diagnostic chest CT for non-pulmonary indications .\\n',\n",
              " 'METHODS\\tUsing a case-cohort approach , we visually graded CT scans from cases and a random sample of @ % of the baseline cohort ( n = @ ) for emphysema severity ( range @-@ ) , airway thickening ( range @-@ ) and bronchiectasis ( range @-@ ) .\\n',\n",
              " 'METHODS\\tWe used weighted Cox proportional hazards analysis to assess the independent association between CT findings and hospitalisation or death due to COPD exacerbation .\\n',\n",
              " 'RESULTS\\tDuring a median follow-up of @ years ( maximum @ years ) , @ COPD events were identified .\\n',\n",
              " 'RESULTS\\tThe risk of experiencing a future acute exacerbation of COPD resulting in hospitalisation or death was significantly increased in subjects with severe emphysema ( score @ ) and severe airway thickening ( score @ ) .\\n',\n",
              " 'RESULTS\\tThe respective HRs were @ ( @ % CI @ to @ ) and @ ( @ % CI @ to @ ) .\\n',\n",
              " 'RESULTS\\tSevere bronchiectasis ( score @ ) was not significantly associated with increased risk of adverse events ( HR @ ; @ % CI @ to @ ) .\\n',\n",
              " 'CONCLUSIONS\\tMorphological correlates of COPD such as emphysema and airway thickening detected on CT scans obtained for other non-pulmonary indications are strong independent predictors of subsequent development of acute exacerbations of COPD resulting in hospitalisation or death .\\n',\n",
              " '\\n',\n",
              " '###24851690\\n',\n",
              " 'OBJECTIVE\\tTo explore the feasibility of making a preoperative diagnosis of lung adenocarcinoma shown as ground-glass nodule ( GGN ) on computed tomography ( CT ) .\\n',\n",
              " 'METHODS\\tA total of @ GGN lesions proved pathologically were divided randomly into A and B groups .\\n',\n",
              " 'METHODS\\tThen each group was further divided pathologically into preinvasive lesion , minimal invasive adenocarcinoma ( MIA ) and invasive adenocarcinoma ( IAC ) subgroups .\\n',\n",
              " 'METHODS\\tGroup A ( n = @ ) , size of lesion , proportion of ground glass opacity ( GGO ) composition of lesion , long diameter , longest diameter and size of solid component in lesion were measured on CT so as to establish the CT diagnostic standard of lung adenocarcinoma shown as GGN on CT. .\\n',\n",
              " 'METHODS\\tGroup B ( n = @ ) was employed to evaluate the accuracy of the above CT diagnostic standard .\\n',\n",
              " 'METHODS\\tSPSS @ software was used for statistical analysis .\\n',\n",
              " 'RESULTS\\tSignificant statistic significance existed in all parameters among all groups ( P < @ ) .\\n',\n",
              " 'RESULTS\\tAll parameters were correlated the pathologic type of lesion .\\n',\n",
              " 'RESULTS\\tThe differences were statistically significant ( P = @ ) .\\n',\n",
              " 'RESULTS\\tThrough the receiver operating characteristic ( ROC ) curve , between groups of preinvasive lesion and MIA , each parameter had a medium diagnostic value of @-@ @ ; between groups of MIA and IAC , size of lesion and long diameter of solid component in lesion had a medium diagnostic value of @-@ @ , longest diameter of solid component , size of solid component in lesion and proportion of GGO composition of lesion had a high diagnostic value with an AUC of > @ .\\n',\n",
              " 'RESULTS\\tThe CT diagnostic standard , derived from group A , was used to analyze the pathologic type of group B. And t no significant statistic significance existed between CT preoperative diagnosis and operative pathologic diagnosis ( P > @ ) .\\n',\n",
              " 'RESULTS\\tThe correct diagnosis rates of size of lesion , proportion of GGO composition of lesion , long diameter , longest diameter and size of solid component in lesion were @ % , @ % , @ % , @ % and @ % respectively .\\n',\n",
              " 'CONCLUSIONS\\tBased upon size of lesion , proportion of GGO composition of lesion , long diameter , longest diameter and size of solid component in lesion , preoperative CT examination may be used to determine the pathological types of lung adenocarcinoma shown as GGN .\\n',\n",
              " '\\n',\n",
              " '###25883103\\n',\n",
              " 'OBJECTIVE\\tTonsillectomy surgery is associated with severe postoperative pain that usually requires analgesics including opioids .\\n',\n",
              " 'OBJECTIVE\\tPain control is still a big problem after tonsillectomy surgery .\\n',\n",
              " 'OBJECTIVE\\tWe aimed to evaluate the efficacy of preemptive analgesia using montelukast for pediatric post-tonsillectomy pain management .\\n',\n",
              " 'OBJECTIVE\\tThis is the first-time use of montelukast in post-tonsillectomy pain .\\n',\n",
              " 'METHODS\\tDouble-blind , controlled-randomized study .\\n',\n",
              " 'METHODS\\tUniversity teaching and research hospital .\\n',\n",
              " 'METHODS\\tA total of @ children , aged @ to @ years , American Society of Anesthesiologist class I-II , scheduled for elective tonsillectomy were enrolled in this clinical trial study .\\n',\n",
              " 'METHODS\\tThe patients were randomized into @ groups : the montelukast group ( group M , n = @ ) and control group ( group C , n = @ ) .\\n',\n",
              " 'METHODS\\tGroup M recieved an oral montelukast tablet and group C recieved placebo at @pm on the morning before surgery .\\n',\n",
              " 'METHODS\\tPost-tonsillectomy pain was evaluated with the Wong-Baker FACES Scale during the @ hours after surgery .\\n',\n",
              " \"METHODS\\tPatients ' intraoperative hemodynamic parameters and intraoperative and postoperative complications were recorded .\\n\",\n",
              " 'RESULTS\\tThere were statistically significant differences between group C and group M for Wong-Baker FACES pain rating scale scores ( P < @ ) .\\n',\n",
              " 'RESULTS\\tIn the @ hours after surgery , the total number of patients using rescue analgesics was higher in group C than in group M , and the difference was statistically significant ( P < @ ) .\\n',\n",
              " 'RESULTS\\tThere was no significant difference in demographic parameters ( P > @ ) .\\n',\n",
              " 'RESULTS\\tThere were no significant differences in postoperative nausea and vomiting , otalgia , trismus , fever , or halitosis between the groups ( P > @ ) .\\n',\n",
              " 'CONCLUSIONS\\tPreemptive montelukast can be used safely to reduce the serious pain caused by tonsillectomy in children .\\n',\n",
              " '\\n',\n",
              " '###24318863\\n',\n",
              " 'OBJECTIVE\\tMetastatic colon cancer patients are treated with the chemotherapy regimens , FOLFOX and FOLFIRI , in either order .\\n',\n",
              " 'OBJECTIVE\\tSo far , we can not predict the response of chemotherapeutic agent , so it is necessary to find which regimen is adequate before starting chemotherapy .\\n',\n",
              " 'METHODS\\tEnrolled patients are randomized into either conventional treatment or planned treatment preceded by pretreatment genetic analysis .\\n',\n",
              " 'METHODS\\tBlood samples of patients in planned treatment group ( N = @ ) were analyzed for the genetic polymorphism before selection of chemotherapeutic agents .\\n',\n",
              " 'METHODS\\tTarget genes were XPD-@ , GSTP-@-@ , XRCC@-@ for oxaliplatin , UGT@A@ for irinotecan .\\n',\n",
              " 'METHODS\\tThe response was measured by computed tomographic scan after completion of three cycles of chemotherapy .\\n',\n",
              " 'RESULTS\\tOverall response rate was significantly higher in planned group ( @ % vs. @ % , P = @ ) .\\n',\n",
              " 'RESULTS\\tIn FOLFOX group , response rate was significantly improved in the planned patients ( @ % vs. @ % , P = @ ) .\\n',\n",
              " \"RESULTS\\tIn FOLFIRI group , the difference did n't reach statistical significance ( @ % vs. @ % , P = @ ) .\\n\",\n",
              " 'CONCLUSIONS\\tWe found significantly improved response rates in the chemotherapy of metastatic colon cancer by pretreatment genetic analysis , especially in FOLFOX group .\\n',\n",
              " '\\n',\n",
              " '###25872502\\n',\n",
              " 'BACKGROUND\\tCardiac arrest causes ischaemic brain injury .\\n',\n",
              " 'BACKGROUND\\tArterial carbon dioxide tension ( PaCO@ ) is a major determinant of cerebral blood flow .\\n',\n",
              " 'BACKGROUND\\tThus , mild hypercapnia in the @ h following cardiac arrest may increase cerebral blood flow and attenuate such injury .\\n',\n",
              " 'BACKGROUND\\tWe describe the Carbon Control and Cardiac Arrest ( CCC ) trial .\\n',\n",
              " 'METHODS\\tThe CCC trial is a pilot multicentre feasibility , safety and biological efficacy randomized controlled trial recruiting adult cardiac arrest patients admitted to the intensive care unit after return of spontaneous circulation .\\n',\n",
              " 'METHODS\\tAt admission , using concealed allocation , participants are randomized to @ h of either normocapnia ( PaCO@ @ to @ mmHg ) or mild hypercapnia ( PaCO@ @ to @ mmHg ) .\\n',\n",
              " 'METHODS\\tKey feasibility outcomes are recruitment rate and protocol compliance rate .\\n',\n",
              " 'METHODS\\tThe primary biological efficacy and biological safety measures are the between-groups difference in serum neuron-specific enolase and S@b protein levels at @ h , @ h and @ h. Secondary outcome measure include adverse events , in-hospital mortality , and neurological assessment at @ months .\\n',\n",
              " 'CONCLUSIONS\\tThe trial commenced in December @ and , when completed , will provide clinical evidence as to whether targeting mild hypercapnia for @ h following intensive care unit admission for cardiac arrest patients is feasible and safe and whether it results in decreased concentrations of neurological injury biomarkers compared with normocapnia .\\n',\n",
              " 'CONCLUSIONS\\tTrial results will also be used to determine whether a phase IIb study powered for survival at @ days is feasible and justified .\\n',\n",
              " 'BACKGROUND\\tAustralian New Zealand Clinical Trials Registry ACTRN@ .\\n',\n",
              " '\\n',\n",
              " '###24226487\\n',\n",
              " 'BACKGROUND\\tFor decades thiopental has been considered as the hypnotic drug of choice for intracranial surgery .\\n',\n",
              " 'BACKGROUND\\tHowever , total intravenous anesthesia performed with thiopental is associated with delayed recovery , whereas early post-operative neurological evaluation is critical .\\n',\n",
              " 'BACKGROUND\\tFor this reason , target controlled infusion ( TCI ) of propofol is increasingly used for maintenance of anesthesia .\\n',\n",
              " 'BACKGROUND\\tHowever , a thiopental TCI has never been assessed for this purpose .\\n',\n",
              " 'BACKGROUND\\tWe tested the hypothesis that a thiopental TCI provides an acceptable way to achieve early recovery compared to a propofol TCI during supratentorial surgery .\\n',\n",
              " 'METHODS\\tEighty patients undergoing elective craniotomy for a supratentorial tumor were randomized to receive either a propofol TCI ( group P ) or a thiopental TCI ( group T ) .\\n',\n",
              " 'METHODS\\tBoth groups received a sufentanil TCI and the bispectral index was monitored .\\n',\n",
              " 'METHODS\\tThe primary end-point was time to tracheal extubation .\\n',\n",
              " 'METHODS\\tSecondary end-points were per - and post-operative hemodynamics as well as respiratory and recovery parameters .\\n',\n",
              " 'METHODS\\tAssessment of study end-points was performed by an intensive care specialist blinded ( like the patient ) to the received hypnotic .\\n',\n",
              " 'RESULTS\\tTime to extubation was significantly ( P < @ ) shorter in group P ( median @ minutes ; interquartile range @-@ minutes ) than in group T ( median @ minutes ; interquartile range @-@ minutes ) .\\n',\n",
              " 'RESULTS\\tSimilarly , the recovery parameters were significantly better in group P than in group T.\\n',\n",
              " 'RESULTS\\tThere was no difference between groups in terms of patient characteristics and hemodynamic parameters .\\n',\n",
              " 'CONCLUSIONS\\tEven with TCI and bispectral index monitoring , thiopental is associated with an inappropriate delayed recovery from supratentorial surgery compared to propofol TCI .\\n',\n",
              " '\\n',\n",
              " '###25539560\\n',\n",
              " 'OBJECTIVE\\tTo investigate the effects of conservative therapy applied before arthroscopic subacromial decompression on the clinical outcome in patients with stage @ shoulder impingement syndrome .\\n',\n",
              " 'METHODS\\tSixty-eight patients having stage @ shoulder impingement syndrome and treated with arthroscopic subacromial decompression were included in the study .\\n',\n",
              " 'METHODS\\tWe divided these patients into @ groups , whereby @ ( @ % ) patients received conservative therapy before arthroscopic subacromial decompression and @ ( @ % ) patients did not receive conservative therapy .\\n',\n",
              " 'METHODS\\tWe compared both groups in terms of the the Constant , UCLA , and VAS scores for shoulder pain before and after arthroscopic subacromial decompression .\\n',\n",
              " 'RESULTS\\tConstant , UCLA , and VAS scores were statistically significantly improved in both groups after arthroscopic subacromial decompression ( P < @ ) .\\n',\n",
              " 'RESULTS\\tConstant , UCLA , and VAS scores before arthroscopic subacromial decompression were statistically better in Group @ than in Group @ ( P < @ ) .\\n',\n",
              " 'RESULTS\\tNo statistically significant difference was found between the groups in terms of Constant , UCLA , and VAS scores after arthroscopic subacromial decompression ( P > @ ) .\\n',\n",
              " 'CONCLUSIONS\\tConservative therapy applied in patients with stage @ shoulder impingement syndrome before arthroscopic subacromial decompression does not have a positive contribution on the clinical outcome after arthroscopic subacromial decompression .\\n',\n",
              " '\\n',\n",
              " '###24401051\\n',\n",
              " 'BACKGROUND\\tObstructive sleep apnea is associated with considerable health risks .\\n',\n",
              " 'BACKGROUND\\tAlthough continuous positive airway pressure ( CPAP ) can mitigate these risks , effectiveness can be reduced by inadequate adherence to treatment .\\n',\n",
              " 'BACKGROUND\\tWe evaluated the clinical safety and effectiveness of upper-airway stimulation at @ months for the treatment of moderate-to-severe obstructive sleep apnea .\\n',\n",
              " 'METHODS\\tUsing a multicenter , prospective , single-group , cohort design , we surgically implanted an upper-airway stimulation device in patients with obstructive sleep apnea who had difficulty either accepting or adhering to CPAP therapy .\\n',\n",
              " 'METHODS\\tThe primary outcome measures were the apnea-hypopnea index ( AHI ; the number of apnea or hypopnea events per hour , with a score of @ indicating moderate-to-severe apnea ) and the oxygen desaturation index ( ODI ; the number of times per hour of sleep that the blood oxygen level drops by @ percentage points from baseline ) .\\n',\n",
              " 'METHODS\\tSecondary outcome measures were the Epworth Sleepiness Scale , the Functional Outcomes of Sleep Questionnaire ( FOSQ ) , and the percentage of sleep time with the oxygen saturation less than @ % .\\n',\n",
              " 'METHODS\\tConsecutive participants with a response were included in a randomized , controlled therapy-withdrawal trial .\\n',\n",
              " 'RESULTS\\tThe study included @ participants ; @ % were men .\\n',\n",
              " 'RESULTS\\tThe mean age was @ years , and the mean body-mass index ( the weight in kilograms divided by the square of the height in meters ) was @ .\\n',\n",
              " 'RESULTS\\tThe median AHI score at @ months decreased @ % , from @ events per hour to @ events per hour ( P < @ ) ; the ODI score decreased @ % , from @ events per hour to @ events per hour ( P < @ ) .\\n',\n",
              " 'RESULTS\\tSecondary outcome measures showed a reduction in the effects of sleep apnea and improved quality of life .\\n',\n",
              " 'RESULTS\\tIn the randomized phase , the mean AHI score did not differ significantly from the @-month score in the nonrandomized phase among the @ participants in the therapy-maintenance group ( @ and @ events per hour , respectively ) ; the AHI score was significantly higher ( indicating more severe apnea ) among the @ participants in the therapy-withdrawal group ( @ vs. @ events per hour , P < @ ) .\\n',\n",
              " 'RESULTS\\tThe ODI results followed a similar pattern .\\n',\n",
              " 'RESULTS\\tThe rate of procedure-related serious adverse events was less than @ % .\\n',\n",
              " 'CONCLUSIONS\\tIn this uncontrolled cohort study , upper-airway stimulation led to significant improvements in objective and subjective measurements of the severity of obstructive sleep apnea .\\n',\n",
              " 'CONCLUSIONS\\t( Funded by Inspire Medical Systems ; STAR ClinicalTrials.gov number , NCT@ . )\\n',\n",
              " '\\n',\n",
              " '###26126563\\n',\n",
              " 'OBJECTIVE\\tTo identify facilitators and barriers to clinical trial implementation in Aboriginal health services .\\n',\n",
              " 'METHODS\\tIndepth interview study with thematic analysis .\\n',\n",
              " 'METHODS\\tSix Aboriginal community-controlled health services and one government-run service involved in the Kanyini Guidelines Adherence with the Polypill ( KGAP ) study , a pragmatic randomised controlled trial that aimed to improve adherence to indicated drug treatments for people at high risk of cardiovascular disease .\\n',\n",
              " 'METHODS\\t@ health care providers and @ Aboriginal and Torres Strait Islander patients .\\n',\n",
              " 'RESULTS\\tA fundamental enabler was that participants considered the research to be governed and endorsed by the local health service .\\n',\n",
              " 'RESULTS\\tThat the research was perceived to address a health priority for communities was also highly motivating for both providers and patients .\\n',\n",
              " 'RESULTS\\tEnlisting the support of Aboriginal and Torres Strait Islander staff champions who were visible to the community as the main source of information about the trial was particularly important .\\n',\n",
              " 'RESULTS\\tThe major implementation barrier for staff was balancing their service delivery roles with adherence to often highly demanding trial-related procedures .\\n',\n",
              " \"RESULTS\\tThis was partially alleviated by the research team 's provision of onsite support and attempts to make trial processes more streamlined .\\n\",\n",
              " 'RESULTS\\tAlthough more intensive support was highly desired , there were usually insufficient resources to provide this .\\n',\n",
              " 'CONCLUSIONS\\tDespite strong community and health service support , major investments in time and resources are needed to ensure successful implementation and minimal disruption to already overstretched , routine services .\\n',\n",
              " 'CONCLUSIONS\\tTrial budgets will necessarily be inflated as a result .\\n',\n",
              " 'CONCLUSIONS\\tFunding agencies need to consider these additional resource demands when supporting trials of a similar nature .\\n',\n",
              " '\\n',\n",
              " '###24693629\\n',\n",
              " 'OBJECTIVE\\tTo compare the effect of incomplete caries removal ( ICR ) and indirect pulp capping ( IPC ) with calcium hydroxide ( CH ) or an inert material ( wax ) on color , consistency and contamination of the remaining dentin of primary molars .\\n',\n",
              " 'METHODS\\tThis double-blind , parallel-design , randomized controlled trial included @ children presenting one primary molar with deep caries lesion .\\n',\n",
              " 'METHODS\\tChildren were randomly assigned after ICR to receive IPC with CH or wax .\\n',\n",
              " 'METHODS\\tAll teeth were then restored with resin composite .\\n',\n",
              " 'METHODS\\tBaseline dentin color and consistency were evaluated after ICR , and dentin samples were collected for contamination analyses using scanning electron microscopy .\\n',\n",
              " 'METHODS\\tAfter @ months , restorations were removed and the three parameters were re-evaluated .\\n',\n",
              " 'METHODS\\tIn both groups , dentin became significantly darker after @ months .\\n',\n",
              " 'RESULTS\\tNo cases of yellow dentin were observed after @ months with CH compared to @ % of the wax cases ( P < @ ) .\\n',\n",
              " 'RESULTS\\tA statistically significant difference over time was observed only for CH regarding consistency .\\n',\n",
              " 'RESULTS\\tCH stimulated a dentin hardening process in a statistically higher number of cases than wax ( @ % vs. @ % ; P = @ ) .\\n',\n",
              " 'RESULTS\\tContamination changed significantly over time in CH and wax without significant difference between groups .\\n',\n",
              " 'RESULTS\\tIt was concluded that CH and wax arrested the carious process of the remaining carious dentin after indirect pulp capping , but CH showed superior dentin color and consistency after @ months .\\n',\n",
              " '\\n',\n",
              " '###24996519\\n',\n",
              " 'BACKGROUND\\tIn literature there is a general consensus that the use of the mirror improves proprioception .\\n',\n",
              " 'BACKGROUND\\tDuring rehabilitation the mirror is an important instrument to improve stability .\\n',\n",
              " 'BACKGROUND\\tIn some sports , such as dancing , mirrors are widely used during training .\\n',\n",
              " 'BACKGROUND\\tThe purpose of this study is to evaluate the effectiveness of the use of a mirror on balance in young dancers .\\n',\n",
              " 'BACKGROUND\\tSixty-four young dancers ( ranging from @-@ years ) were included in this study .\\n',\n",
              " 'BACKGROUND\\tThirty-two attending lessons with a mirror ( mirror - group ) were compared to @ young dancers that attended the same lessons without a mirror ( non-mirror group ) .\\n',\n",
              " 'BACKGROUND\\tBalance was evaluated by BESS ( Balance Error Scoring System ) , which consists of three stances ( double limb , single limb , and tandem ) on two surfaces ( firm and foam ) .\\n',\n",
              " 'BACKGROUND\\tThe errors were assessed at each stance and summed to create the two subtotal scores ( firm and foam surface ) and the final total score ( BESS ) .\\n',\n",
              " 'BACKGROUND\\tThe BESS was performed at recruitment ( T@ ) and after @months of dance lessons ( T@ ) .\\n',\n",
              " 'RESULTS\\tThe repeated measures ANOVA analysis showed that for the BESS total score there is a difference due to the time ( F = @ ; p < @ ) .\\n',\n",
              " 'RESULTS\\tNo other differences due to the group or to the time of measurement were found ( p > @ ) .\\n',\n",
              " 'RESULTS\\tThe analysis of the multiple regression model showed the influence of the values at T@ for every BESS items and the dominance of limb for stability on an unstable surface standing on one or two legs .\\n',\n",
              " 'CONCLUSIONS\\tThese preliminary results suggest that the use of a mirror in a ballet classroom does not improve balance acquisition of the dancer .\\n',\n",
              " 'CONCLUSIONS\\tOn the other hand , improvement found after @months confirms that at the age of the dancers studied motor skills and balance can easily be trained and improved .\\n',\n",
              " '\\n',\n",
              " '###25440306\\n',\n",
              " 'OBJECTIVE\\tLong-term follow-up studies documenting maintenance of treatment effects are fewin adolescent anorexia nervosa ( AN ) .\\n',\n",
              " 'OBJECTIVE\\tThis exploratory study reports relapse from full remission and attainment of remission during a @-year open follow-up period using a convenience sample of a subgroup of @ % ( n = @ ) from an original cohort of @ participants who completed a randomized clinical trial comparing family-based therapy ( FBT ) and adolescent-focused individual therapy ( AFT ) .\\n',\n",
              " 'METHODS\\tFollow-up assessments were completed up to @years posttreatment ( average , @ years ) .\\n',\n",
              " 'METHODS\\tAvailable participants completed the Eating Disorder Examination as well as self-report measures of self-esteem and depression at @ to @ years posttreatment .\\n',\n",
              " 'RESULTS\\tTwo participants ( @ % ) relapsed ( FBT : n = @ , @ % ; AFT : n = @ , @ % ) , on average @ years ( SD = @ years ) after remission was achieved at @-year follow-up .\\n',\n",
              " 'RESULTS\\tTen new participants ( @ % ) achieved remission ( FBT : n = @ , @ % ; AFT : n = @ , @ % ) .\\n',\n",
              " 'RESULTS\\tMean time to remission for this group was @ years ( SD = @ years ) from @-year follow-up .\\n',\n",
              " 'RESULTS\\tThere were no differences based on treatment group assignment in either relapse from full remission or new remission during long-term follow-up .\\n',\n",
              " 'RESULTS\\tOther psychopathology was stable over time .\\n',\n",
              " 'CONCLUSIONS\\tThere were few changes in the clinical presentation of participants who were assessed at long-term follow-up .\\n',\n",
              " 'CONCLUSIONS\\tThese data suggest that outcomes are generally stable posttreatment regardless of treatment type once remission is achieved .\\n',\n",
              " 'CONCLUSIONS\\tClinical trial registration information-Effectiveness of Family-Based Versus Individual Psychotherapy in Treating Adolescents With Anorexia Nervosa ; http://www.clinicaltrials.gov/; NCT@ .\\n',\n",
              " '\\n',\n",
              " '###24754891\\n',\n",
              " 'BACKGROUND\\tCoronary artery bypass grafting using the radial artery has , since the @s , gone through a revival .\\n',\n",
              " 'BACKGROUND\\tObservational studies have indicated better long-term patency when using radial arteries .\\n',\n",
              " 'BACKGROUND\\tTherefore , radial artery might be preferred especially in younger patients where long time patency is important .\\n',\n",
              " 'BACKGROUND\\tDuring the last @years different endoscopic techniques to harvest the radial artery have evolved .\\n',\n",
              " 'BACKGROUND\\tEndoscopic radial artery harvest only requires a small incision near the wrist in contrast to open harvest , which requires an incision from the elbow to the wrist .\\n',\n",
              " 'BACKGROUND\\tHowever , it is unknown whether the endoscopic technique results in fewer complications or a graft patency comparable to open harvest .\\n',\n",
              " 'BACKGROUND\\tWhen the radial artery has been harvested , there are two ways to use the radial artery as a graft .\\n',\n",
              " 'BACKGROUND\\tOne way is sewing it onto the aorta and another is sewing it onto the mammary artery .\\n',\n",
              " 'BACKGROUND\\tIt is unknown which technique is the superior revascularisation technique .\\n',\n",
              " 'METHODS\\tThe NEO Trial is a randomised clinical trial with a @ factorial design .\\n',\n",
              " 'METHODS\\tWe plan to randomise @ participants into four intervention groups : ( @ ) mammario-radial endoscopic group ; ( @ ) aorto-radial endoscopic group ; ( @ ) mammario-radial open surgery group ; and ( @ ) aorto-radial open surgery group.The hand function will be assessed by a questionnaire , a clinical examination , the change in cutaneous sensibility , and the measurement of both sensory and motor nerve conduction velocity at @months postoperatively .\\n',\n",
              " 'METHODS\\tAll the postoperative complications will be registered , and we will evaluate muscular function , scar appearance , vascular supply to the hand , and the graft patency including the patency of the central radial artery anastomosis .\\n',\n",
              " 'METHODS\\tA patency evaluation by multi-slice computer tomography will be done at one year postoperatively.We expect the nerve conduction studies and the standardised neurological examinations to be able to discriminate differences in hand function comparing endoscopic to open harvest of the radial artery .\\n',\n",
              " 'METHODS\\tThe trial also aims to show if there is any patency difference between mammario-radial compared to aorto-radial revascularisation techniques but this objective is exploratory .\\n',\n",
              " 'BACKGROUND\\tClinicalTrials.gov identifier : NCT@.Danish Ethics committee number : H-@-@-@ .\\n',\n",
              " 'BACKGROUND\\tDanish Data Protection Agency : @-@-@ / jr. n :@ -@ .\\n',\n",
              " '\\n',\n",
              " '###24284437\\n',\n",
              " 'BACKGROUND\\tKnowledge of essential amino acid requirements in infants is important because excessive intake of protein can lead to increased long-term morbidity such as obesity .\\n',\n",
              " 'BACKGROUND\\tA deficient intake may lead to suboptimal growth and impaired neurodevelopment .\\n',\n",
              " 'BACKGROUND\\tThe current recommended branched-chain amino acid requirements in infants aged @-@ mo are based on the amino acid content of human milk .\\n',\n",
              " 'OBJECTIVE\\tWe quantified the requirements for isoleucine , leucine , and valine for term neonates by using the indicator amino acid oxidation method with -LSB- @ - ( @ ) C -RSB- phenylalanine as the indicator .\\n',\n",
              " 'METHODS\\tFully enterally fed term infants received randomly graded amounts of isoleucine ( @-@ mg kg ( -@ ) d ( -@ ) ) , leucine ( @-@ mg kg ( -@ ) d ( -@ ) ) , or valine ( @-@ mg kg ( -@ ) d ( -@ ) ) as part of an elemental formula .\\n',\n",
              " 'METHODS\\tData are expressed as means SDs .\\n',\n",
              " 'RESULTS\\tEighty-three Asian , term neonates ( mean SD birth weight : @ @ kg ; gestational age : @ @ wk ) were studied at a postnatal age of @ @ d. Mean requirements for isoleucine , leucine , and valine ( measured in boys only ) were @ mg kg ( -@ ) d ( -@ ) ( r ( @ ) = @ , P < @ ) , @ mg kg ( -@ ) d ( -@ ) ( r ( @ ) = @ , P < @ ) , and @ mg kg ( -@ ) d ( -@ ) ( r ( @ ) = @ , P = @ ) , respectively .\\n',\n",
              " 'CONCLUSIONS\\tCurrent human milk-based recommendations for isoleucine and valine in term infants aged @-@ mo are correct .\\n',\n",
              " 'CONCLUSIONS\\tHowever , the current recommendation for leucine ( @ mg kg ( -@ ) d ( -@ ) ) is higher than the mean requirement of @ mg kg ( -@ ) d ( -@ ) that we determined in this study .\\n',\n",
              " 'CONCLUSIONS\\tThis trial was registered at www.trialregister.nl as NTR@ .\\n',\n",
              " '\\n',\n",
              " '###25585779\\n',\n",
              " 'OBJECTIVE\\tWe wanted to confirm the benefit of mometasone furoate ( MF ) in preventing acute radiation reactions , as shown in a previous study ( Bostrm et al , Radiother Oncol @ ; @:@ -@ ) .\\n',\n",
              " 'METHODS\\tThe study was a double-blind comparison of MF with D ( Diprobase ) , administered daily from the start of radiation therapy for @ weeks in patients receiving breast radiation therapy , @ Gy in @-Gy fractions daily over @ weeks .\\n',\n",
              " 'METHODS\\tThe primary endpoint was mean modified Radiation Therapy Oncology Group ( RTOG ) score .\\n',\n",
              " 'RESULTS\\tMean RTOG scores were significantly less for MF than for D ( P = @ ) .\\n',\n",
              " 'RESULTS\\tMaximum RTOG and mean erythema scores were significantly less for MF than for D ( P = @ and P = @ , respectively ) .\\n',\n",
              " 'RESULTS\\tThe Dermatology Life Quality Index ( DLQI ) score was significantly less for MF than for D at weeks @ and @ when corrected for Hospital Anxiety and Depression ( HAD ) questionnaire scores .\\n',\n",
              " 'CONCLUSIONS\\tMF cream significantly reduces radiation dermatitis when applied to the breast during and after radiation therapy .\\n',\n",
              " 'CONCLUSIONS\\tFor the first time , we have shown a significantly beneficial effect on quality of life using a validated instrument ( DLQI ) , for a topical steroid cream .\\n',\n",
              " 'CONCLUSIONS\\tWe believe that application of this cream should be the standard of care where radiation dermatitis is expected .\\n',\n",
              " '\\n',\n",
              " '###24332668\\n',\n",
              " 'OBJECTIVE\\tTo compare the interstage cardiac catheterization hemodynamic and angiographic findings between shunt types for the Pediatric Heart Network Single Ventricle Reconstruction trial .\\n',\n",
              " 'OBJECTIVE\\tThe trial , which randomized subjects to a modified Blalock-Taussig shunt ( MBTS ) or right ventricle-to-pulmonary artery shunt ( RVPAS ) for the Norwood procedure , demonstrated the RVPAS was associated with a smaller pulmonary artery diameter but superior @-month transplant-free survival .\\n',\n",
              " 'METHODS\\tWe analyzed the pre-stage II catheterization data for the trial subjects .\\n',\n",
              " 'METHODS\\tThe hemodynamic variables and shunt and pulmonary angiographic data were compared between shunt types ; their association with @-month transplant-free survival was also evaluated .\\n',\n",
              " 'RESULTS\\tOf @ randomized subjects , @ underwent pre-stage II catheterization .\\n',\n",
              " 'RESULTS\\tA smaller size , lower aortic and superior vena cava saturation , and higher ventricular end-diastolic pressure were associated with worse @-month transplant-free survival .\\n',\n",
              " 'RESULTS\\tThe MBTS group had a lower coronary perfusion pressure ( @ vs @ mm Hg ; P < @ ) and greater pulmonary blood flow/systemic blood flow ratio ( @ vs @ , P = @ ) .\\n',\n",
              " 'RESULTS\\tA greater pulmonary blood flow/systemic blood flow ratio increased the risk of death or transplantation only in the RVPAS group ( P = @ ) .\\n',\n",
              " 'RESULTS\\tThe MBTS group had fewer shunt ( @ % vs @ % , P = @ ) and severe left pulmonary artery ( @ % vs @ % , P = @ ) stenoses , larger mid-main branch pulmonary artery diameters , and greater Nakata indexes ( @ vs @ , P < @ ) .\\n',\n",
              " 'CONCLUSIONS\\tCompared with the RVPAS subjects , the MBTS subjects had more hemodynamic abnormalities related to shunt physiology , and the RVPAS subjects had more shunt or pulmonary obstruction of a severe degree and inferior pulmonary artery growth at pre-stage II catheterization .\\n',\n",
              " 'CONCLUSIONS\\tA lower body surface area , greater ventricular end-diastolic pressure , and lower superior vena cava saturation were associated with worse @-month transplant-free survival .\\n',\n",
              " '\\n',\n",
              " '###24379356\\n',\n",
              " 'OBJECTIVE\\tIt has been hypothesized that the development of diabetic polyneuropathy ( DPN ) is due to swelling of the nerve , as well as thickening and stiffening of the surrounding ligaments , causing chronic compression of nerves .\\n',\n",
              " 'OBJECTIVE\\tWe aimed to examine the effect of surgical decompression of the tibial nerve on the mean cross-sectional area ( CSA ) .\\n',\n",
              " 'METHODS\\tWe performed a randomized controlled trial of @ subjects with painful DPN diagnosed using the Diabetic Neuropathy Score .\\n',\n",
              " 'METHODS\\tA computer randomized for the surgery arm of the study .\\n',\n",
              " 'METHODS\\tA control group consisting of @ healthy subjects was included .\\n',\n",
              " 'METHODS\\tAn experienced sonographer measured the CSA and thickness-to-width ( T/W ) ratio of the tibial nerve , as well as the thickness of the flexor retinaculum .\\n',\n",
              " 'RESULTS\\tCSA is significantly larger in patients with painful DPN ( @ @ mm ( @ ) ) than in control subjects ( @ @ mm ( @ ) ) , P = @ .\\n',\n",
              " 'RESULTS\\tThe T/W ratio in patients with painful DPN is @ and in control subjects @ , P = @ .\\n',\n",
              " 'RESULTS\\tPatients with DPN have a significantly thicker retinaculum ( @ mm ) than control subjects ( @ mm ) , P < @ .\\n',\n",
              " 'RESULTS\\tMean follow-up was @ weeks ( range @-@ ) .\\n',\n",
              " 'RESULTS\\tDifference between baseline and follow-up in the operated leg was @ mm ( @ ) and in the control leg @ mm ( @ ) , P = @ .\\n',\n",
              " 'CONCLUSIONS\\tDecompression of the tibial nerve does not result in a significant difference between baseline and follow-up in CSA using ultrasound between the operated and control leg .\\n',\n",
              " 'CONCLUSIONS\\tUltrasound measurements show a significantly increased CSA , a significantly thicker retinaculum , and a significantly increased T/W ratio in patients with painful DPN compared with healthy control subjects .\\n',\n",
              " 'CONCLUSIONS\\tClinical trial reg .\\n',\n",
              " 'CONCLUSIONS\\tno .\\n',\n",
              " 'CONCLUSIONS\\tNTR@ , www.trialregister.nl .\\n',\n",
              " '\\n',\n",
              " '###25018097\\n',\n",
              " 'BACKGROUND\\tA community-based randomized trial was conducted in Costa Rica to evaluate the HPV-@ / @ AS@-adjuvanted vaccine ( NCT@ ) .\\n',\n",
              " 'BACKGROUND\\tThe primary objective was to evaluate efficacy of the vaccine to prevent cervical intraepithelial neoplasia @ or more severe disease ( CIN@ + ) associated with incident HPV-@ / @ cervical infections .\\n',\n",
              " 'BACKGROUND\\tSecondary objectives were to evaluate efficacy against CIN@ + associated with incident cervical infection by any oncogenic HPVs and to evaluate duration of protection against incident cervical infection with HPV-@ / @ .\\n',\n",
              " 'BACKGROUND\\tVaccine safety and immunogenicity over the @-year follow-up were also evaluated .\\n',\n",
              " 'METHODS\\tWe randomized ( @ HPV arm ; @ control arm ) , vaccinated ( HPV-@ / @ or Hepatitis A ) and followed ( median @ months ) @ healthy women aged @-@ years .\\n',\n",
              " 'METHODS\\t@ women ( @ HPV arm ; @ control arm ) were included in the according to protocol analysis for efficacy .\\n',\n",
              " 'METHODS\\tThe full cohort was evaluated for safety .\\n',\n",
              " 'METHODS\\tImmunogenicity was considered on a subset of @ ( HPV-@ ) and @ ( HPV-@ ) women .\\n',\n",
              " 'METHODS\\tHPV type was assessed by PCR on cervical specimens .\\n',\n",
              " 'METHODS\\tImmunogenicity was assessed using ELISA and inhibition enzyme immunoassays .\\n',\n",
              " 'METHODS\\tDisease outcomes were histologically confirmed .\\n',\n",
              " 'METHODS\\tVaccine efficacy and @ % confidence intervals ( @ % CI ) were computed .\\n',\n",
              " 'RESULTS\\tVaccine efficacy was @ % ( @ % CI : @-@ @ ; N = @ events total ) against HPV-@ / @ associated CIN@ + , @ % ( @ % CI : @-@ @ ; N = @ events total ) against CIN@ + associated with non-HPV-@ / @ oncogenic HPVs and @ % ( @ % CI : @-@ @ ; N = @ events total ) against CIN@ + irrespective of HPV type .\\n',\n",
              " 'RESULTS\\tThe vaccine had an acceptable safety profile and induced robust and long-lasting antibody responses .\\n',\n",
              " 'CONCLUSIONS\\tOur findings confirm the high efficacy and immunogenicity of the HPV-@ / @ vaccine against incident HPV infections and cervical disease associated with HPV-@ / @ and other oncogenic HPV types .\\n',\n",
              " 'CONCLUSIONS\\tThese results will serve as a benchmark to which we can compare future findings from the ongoing extended follow-up of participants in the Costa Rica trial .\\n',\n",
              " 'BACKGROUND\\tRegistered with clinicaltrials.gov : NCT@ .\\n',\n",
              " '\\n',\n",
              " '###24736930\\n',\n",
              " 'BACKGROUND\\tThere is a long-held concept among spine surgeons that endoscopic lumbar discectomy procedures are reserved for small-contained disc herniation ; @-year follow-up has not been reported .\\n',\n",
              " 'BACKGROUND\\tThe purpose of this study is to assess microendoscopic discectomy ( MED ) in patients with large uncontained lumbar disc herniation ( the antero-posterior diameter of the extruded fragment is @-@ mm or more on axial cuts of MRI ) and report long-term outcome .\\n',\n",
              " 'METHODS\\tOne hundred eighty-five patients with MED or standard open discectomy underwent follow-up for @ years .\\n',\n",
              " 'METHODS\\tPrimary ( clinical ) outcomes data included Numerical Rating Scale ( NRS ) for back and leg symptoms and Oswestry Disability Index ( ODI ) to quantify pain and disability , respectively .\\n',\n",
              " 'METHODS\\tSecondary ( objective ) outcomes data included operative time , blood loss , postoperative analgesics , length of hospital stay , time to return to work , reoperation and complication rate , patient satisfaction index ( PSI ) , and modified ( MacNab ) criteria .\\n',\n",
              " 'RESULTS\\tAt the end of the follow-up , the leg pain relief was statistically significant for both groups .\\n',\n",
              " 'RESULTS\\tNRS back pain , ODI , PSI and MacNab criteria showed significant deterioration for control group .\\n',\n",
              " 'RESULTS\\tSecondary outcomes data of MED group were significantly better than the control group .\\n',\n",
              " 'CONCLUSIONS\\tLarge , uncontained , lumbar disc herniations can be sufficiently removed using MED which is an effective alternative to open discectomy procedures with remarkable long-term outcome .\\n',\n",
              " 'CONCLUSIONS\\tAlthough the neurological outcome of the two procedures is the same , the morbidity of MED is significantly less than open discectomy .\\n',\n",
              " 'CONCLUSIONS\\tMaximum benefit can be gained if we adhere to strict selection criteria .\\n',\n",
              " 'CONCLUSIONS\\tThe optimum indication is single - or multi-level radiculopathy secondary to a single-level , large , uncontained , lumbar disc herniation .\\n',\n",
              " '\\n',\n",
              " '###25498992\\n',\n",
              " 'BACKGROUND\\tHeart failure ( HF ) patients suffer from frequent and repeated hospitalizations , causing a substantial economic burden on society .\\n',\n",
              " 'BACKGROUND\\tHospitalizations can be reduced considerably by better compliance with self-care .\\n',\n",
              " \"BACKGROUND\\tHome telemonitoring has the potential to boost patients ' compliance with self-care , although the results are still contradictory .\\n\",\n",
              " 'OBJECTIVE\\tA randomized controlled trial was conducted in order to study whether the multidisciplinary care of heart failure patients promoted with telemonitoring leads to decreased HF-related hospitalization .\\n',\n",
              " 'METHODS\\tHF patients were eligible whose left ventricular ejection fraction was lower than @ % , NYHA functional class @ , and who needed regular follow-up .\\n',\n",
              " 'METHODS\\tPatients in the telemonitoring group ( n = @ ) measured their body weight , blood pressure , and pulse and answered symptom-related questions on a weekly basis , reporting their values to the heart failure nurse using a mobile phone app .\\n',\n",
              " 'METHODS\\tThe heart failure nurse followed the status of patients weekly and if necessary contacted the patient .\\n',\n",
              " 'METHODS\\tThe primary outcome was the number of HF-related hospital days .\\n',\n",
              " 'METHODS\\tControl patients ( n = @ ) received multidisciplinary treatment according to standard practices .\\n',\n",
              " \"METHODS\\tPatients ' clinical status , use of health care resources , adherence , and user experience from the patients ' and the health care professionals ' perspective were studied .\\n\",\n",
              " 'RESULTS\\tAdherence , calculated as a proportion of weekly submitted self-measurements , was close to @ % .\\n',\n",
              " 'RESULTS\\tNo difference was found in the number of HF-related hospital days ( incidence rate ratio -LSB- IRR -RSB- = @ , P = @ ) , which was the primary outcome .\\n',\n",
              " 'RESULTS\\tThe intervention group used more health care resources : they paid an increased number of visits to the nurse ( IRR = @ , P < @ ) , spent more time at the nurse reception ( mean difference of @ minutes , P < @ ) , and there was a greater number of telephone contacts between the nurse and intervention patients ( IRR = @ , P < @ for nurse-induced contacts and IRR = @ , P = @ for patient-induced contacts ) .\\n',\n",
              " \"RESULTS\\tThere were no statistically significant differences in patients ' clinical health status or in their self-care behavior .\\n\",\n",
              " 'RESULTS\\tThe technology received excellent feedback from the patient and professional side with a high adherence rate throughout the study .\\n',\n",
              " \"CONCLUSIONS\\tHome telemonitoring did not reduce the number of patients ' HF-related hospital days and did not improve the patients ' clinical condition .\\n\",\n",
              " 'CONCLUSIONS\\tPatients in the telemonitoring group contacted the Cardiology Outpatient Clinic more frequently , and on this way increased the use of health care resources .\\n',\n",
              " 'BACKGROUND\\tClinicaltrials.gov NCT@ ; http://clinicaltrials.gov/show/NCT@ ( Archived by WebCite at http://www.webcitation.org/@UFxiCk@Z ) .\\n',\n",
              " '\\n',\n",
              " '###24411490\\n',\n",
              " 'OBJECTIVE\\tProbiotics help maintain balance in composition of the gut microbiota , and have been considered as a potential treatment for obesity .\\n',\n",
              " 'OBJECTIVE\\tThis study was conducted in order to assess the effects of probiotics when combined with herbal medicine in treatment of obesity .\\n',\n",
              " 'OBJECTIVE\\tProbiotics were tested for the ability to modulate gut microbiota , gut permeability , and endotoxin level , which may have correlation with factors involved in obesity .\\n',\n",
              " 'METHODS\\tA randomized , double-blind , placebo controlled study was conducted , in which patients with higher BMI ( > @kg/m ( @ ) ) and waist circumference ( > @cm ) were enrolled and randomly assigned to receive Bofutsushosan with either probiotics or placebo capsules for a period of eight weeks .\\n',\n",
              " 'METHODS\\tAssessment of body composition parameters , metabolic biomarkers , endotoxin level , gut permeability , and fecal bacteria in stool was performed at baseline and at week @ .\\n',\n",
              " 'METHODS\\tThe study was registered at the Clinical Research Information Service , approved by the Korea National Institute of Health ( KCT@ ) .\\n',\n",
              " 'RESULTS\\tAlthough both groups showed a significant reduction in weight and waist circumference ( p = @ ) , no significant differences in body composition and metabolic markers were observed .\\n',\n",
              " 'RESULTS\\tIn correlation analysis , change in body composition showed positive correlation with endotoxin level ( r = @ , p < @ for BW ; and r = @ , p < @ for fat mass ) and the population of gut Lactobacillus plantarum ( r = @ , p < @ for BW ; and r = @ , p < @ for BMI ) .\\n',\n",
              " 'RESULTS\\tThe Gram negative bacterial population in gut also exhibited positive correlation with changes in body composition ( WC ) and total cholesterol level ( r = @ , and @ , for the former and later parameters , respectively , p < @ for both ) .\\n',\n",
              " 'RESULTS\\tWhile , the profile of gut Bifidobacterium breve population showed negative correlation with endotoxin level ( r = -@ , p < @ ) .\\n',\n",
              " 'CONCLUSIONS\\tCorrelations between gut microbiota and change in body composition indicate that probiotics may influence energy metabolism in obesity .\\n',\n",
              " 'CONCLUSIONS\\tCorrelation between endotoxin level and weight reduction indicates that probiotics may play an important role in prevention of endotoxin production , which can lead to gut microbiota dysbiosis associated with obesity .\\n',\n",
              " '\\n',\n",
              " '###24471516\\n',\n",
              " 'OBJECTIVE\\tThe objective of this study is to analyze the effects of a @-week indoor intermittent training program on lung function , physical capacity , body composition and quality of life in children with asthma .\\n',\n",
              " 'METHODS\\tParticipants were randomized in an experimental group ( EG , @ children , age = @ years ) and in a control group ( CG , @ children , age = @ years ) .\\n',\n",
              " 'METHODS\\tThe training program was conducted indoors and consisted of alternating high - and low-intensity stimuli , for three sessions of @min/week , for @ weeks .\\n',\n",
              " \"METHODS\\tPhysical exercise and sports activities were organized to follow the criteria of the American College of Sports Medicine ( @ ) and previous interventions ' studies .\\n\",\n",
              " 'RESULTS\\tIn EG , there was a significant improvement ( p < @ ) in FEV@ , FEV@ , @MWT , handgrip strength , CMJ and flexibility .\\n',\n",
              " 'RESULTS\\tReductions in BMI and fat mass as well as an increase in quality of life were all shown .\\n',\n",
              " 'RESULTS\\tThe dyspnea index decreased significantly and there were no episodes of EIA .\\n',\n",
              " 'RESULTS\\tThere is a significant positive correlation ( p < @ ) between the FEV@ with handgrip strength and @MWT and a negative correlation with fat mass .\\n',\n",
              " 'CONCLUSIONS\\tAn indoor intermittent training program with these characteristics has improved lung function , physical capacity , body composition and quality of life in children with asthma .\\n',\n",
              " 'CONCLUSIONS\\tThese training adaptations are particularly relevant for those patients suffering from asthma as a regular physical exercise routine will greatly improve their quality of life .\\n',\n",
              " '\\n',\n",
              " '###26255514\\n',\n",
              " 'OBJECTIVE\\tTo observe the efficacy of catgut implantation at back-shu points in treatment of mild perimenopausal depression of kidney , deficiency and liver stagnation syndrome and analyze its essential function on target symptoms .\\n',\n",
              " 'METHODS\\tForty-five cases were randomized into a catgut implantation group ( @ cases ) and atid acupuncture group ( @ cases ) .\\n',\n",
              " 'METHODS\\tIn the catgut implantation group , catguts were implanted at Shenshu ( BL @ ) , Ganshu ( BL @ ) , Xinshu ( BL @ ) , Pishu ( BL @ ) , etc. , once every week .\\n',\n",
              " 'METHODS\\tIn the acupuncture group , the conventional acupuncture was applied to the same acupoints as the catgut implantation group , once every two days .\\n',\n",
              " 'METHODS\\tThe : treatment of @ weeks made one session , and continuous @ sessions were required .\\n',\n",
              " 'METHODS\\tThe efficacy was evaluated in , @ sessions .\\n',\n",
              " 'METHODS\\tThe follow-up started in the @th week .\\n',\n",
              " 'METHODS\\tBefore treatment , after treatment and in the follow-up period , Kupperman score and the total score in Hamilton depression scale ( HAMD ) , as well as the factor score were observed in the patients separately .\\n',\n",
              " 'RESULTS\\tKupperman score , the total HAMD score and the scores in the items of anxiety/somatization , retardation , sleep disorder and cognitive disorder after treatment were all reduced significantly as compared with those before treatment in the two groups ( P < @ , P < @ ) .\\n',\n",
              " 'RESULTS\\tIn the follow-up period , the difference in Kupperman was not significant in comparison with that after treatment in the catgut implantation : group ( P > @ ) .\\n',\n",
              " 'RESULTS\\tThe total HAMD score and sleep disorder were reduced significantly as compared with those after treatment in the catgut implantation group ( both P < @ ) ; in the acupuncture group , Kupperman score , the total HAMD score and sleep disorder were all increased as compared with those after treatment ( all P < @ ) .\\n',\n",
              " 'RESULTS\\tIn ; the catgut implantation group , the total HAMD score was lower than that in the acupuncture group ( P < @ ) , and the scores in the items of retardation and sleep disorder were reduced significantly as compared with those in the acupuncture group ( both P < @ ) .\\n',\n",
              " 'CONCLUSIONS\\tThe catgut implantation at back-shu points alleviates perimenopasual sympton is in patients of mild perimenopausal depression of kidney deficiency and liver stagnation syndrome .\\n',\n",
              " \"CONCLUSIONS\\tThis therapy effectively relieves depressive disorders by regulating the target symptoms such as anxiety / somatization , retardation , sleep disorder and cognitive ' disorder .\\n\",\n",
              " 'CONCLUSIONS\\tThe long-term efficacy of this therapy is better than the conventional acupuncture .\\n',\n",
              " '\\n',\n",
              " '###24952391\\n',\n",
              " 'OBJECTIVE\\tUp to @ % of patients who undergo a percutaneous coronary intervention show some limitation in the use of drug-eluting stents .\\n',\n",
              " 'OBJECTIVE\\tThe aim of this study was to evaluate if titanium-nitride-oxide-coated stents could be a good alternative to everolimus-eluting stents in diabetic patients .\\n',\n",
              " 'METHODS\\tA total of @ diabetic patients with lesions at moderate risk of restenosis ( exclusion criteria : diameter < @ mm or length > @ mm in vessels < @mm , chronic occlusion ) were randomized to a titanium group ( @ patients ) or an everolimus group ( @ patients ) .\\n',\n",
              " 'RESULTS\\tBaseline characteristics were well balanced ; @ % of patients were insulin dependent .\\n',\n",
              " 'RESULTS\\tAt @ year , the incidence of major adverse cardiac events ( death , nonfatal myocardial infarction , stroke , or repeat target vessel revascularization ) was significantly higher in the titanium group than in the everolimus group ( total , @ % vs @ % ; P = @ ; noninsulin-dependent subgroup , @ % vs @ % ; P = @ ; insulin-dependent subgroup , @ % vs @ % ; P = @ ) .\\n',\n",
              " 'RESULTS\\tThe incidence of death , nonfatal myocardial infarction , stroke , or any revascularization was @ % in the titanium group and @ % in the everolimus group ( P = @ ) .\\n',\n",
              " 'RESULTS\\tTarget lesion and vessel revascularizations occurred in @ % compared with @ % ( P = @ ) and in @ % compared with @ % ( P = @ ) in the titanium and everolimus groups , respectively .\\n',\n",
              " 'RESULTS\\tAngiographic follow-up at @ months showed significantly less late lumen loss in the everolimus group ( in-segment , @ -LSB- standard deviation , @ ) mm vs -@ -LSB- @ -RSB- mm ; in-stent , @ -LSB- @ -RSB- mm vs @ -LSB- @ -RSB- mm ; P < @ ) .\\n',\n",
              " 'CONCLUSIONS\\tThe everolimus-eluting stent is superior to the titanium stent for clinical and angiographic end points in diabetic patients with lesions at moderate risk of restenosis .\\n',\n",
              " '\\n',\n",
              " '###25516006\\n',\n",
              " 'OBJECTIVE\\tTo evaluate the safety of the fixed combination of ibuprofen and famotidine compared with ibuprofen alone from two @-week , multicenter , double-blind trials designed to evaluate the comparative incidence of endoscopically documented upper gastrointestinal ulcers and a @-week double-blind extension study .\\n',\n",
              " 'METHODS\\tSafety was analyzed by pooling data from the two double-blind trials and the follow-on study .\\n',\n",
              " 'METHODS\\tSafety was assessed by monitoring the incidence , causality , and severity of adverse events ( AEs ) .\\n',\n",
              " 'RESULTS\\tIn the pivotal efficacy and safety trials , discontinuation rates due to any cause and dyspepsia were significantly lower for the ibuprofen/famotidine combination versus ibuprofen alone .\\n',\n",
              " 'RESULTS\\tOther than dyspepsia , gastrointestinal and cardiovascular AEs of special interest were similar .\\n',\n",
              " 'RESULTS\\tEvents judged to be treatment related were significantly lower with the ibuprofen/famotidine combination ( @ % vs. @ % ) .\\n',\n",
              " 'RESULTS\\tIn the safety extension population , there were no differences in the discontinuation rates and the reporting of AEs or serious AEs ( SAEs ) between the two groups .\\n',\n",
              " 'RESULTS\\tGastrointestinal-related events were similar between the groups .\\n',\n",
              " 'RESULTS\\tIncidence of cardiovascular-related AEs of special interest were @ % ( ibuprofen/famotidine ) and @ % ( ibuprofen ) ( p = @ ) , possibly due to a higher number of rheumatoid arthritis patients in the combination group .\\n',\n",
              " 'RESULTS\\tOf these , @ % were reports of hypertension ( @ % ibuprofen/famotidine vs. @ % ibuprofen ) .\\n',\n",
              " 'RESULTS\\tThree cases of hypertension in the ibuprofen/famotidine group were considered treatment related .\\n',\n",
              " 'RESULTS\\tThe probability of a cardiovascular event decreased during days @-@ of treatment and remained low with continued treatment .\\n',\n",
              " 'CONCLUSIONS\\tOne-year safety data from two pivotal trials and a long-term extension study indicate that the ibuprofen/famotidine combination demonstrates a favorable gastrointestinal safety profile and more patients continued on therapy compared to ibuprofen alone .\\n',\n",
              " 'CONCLUSIONS\\tNo new safety signals have been identified .\\n',\n",
              " 'CONCLUSIONS\\tThese data offer additional evidence supporting a new therapeutic option to improve gastrointestinal safety and adherence for patients who require long-term ibuprofen .\\n',\n",
              " '\\n',\n",
              " '###24851689\\n',\n",
              " 'OBJECTIVE\\tTo compare the effects of volume-controlled ventilation ( VCV ) and pressure-controlled volume-guaranteed ( PCV-VG ) mode during one-lung ventilation ( OLV ) on circulation , pulmonary function and lung injury .\\n',\n",
              " 'METHODS\\t@ February to @ March in Ningbo No@ .\\n',\n",
              " 'METHODS\\tHospital cardiothoracic surgery , @ patients aged @ to @ years ( ASA grade II-III ) undergoing elective thoracoscopic lobectomy were randomly divided into VCV group and PCV-VG group , with @ cases in each group .\\n',\n",
              " 'METHODS\\tAfter anesthesia induction and endotracheal intubation , endobronchial blocker was inserted to start OLV .\\n',\n",
              " 'METHODS\\tHeart rate ( HR ) , mean arterial pressure ( MAP ) , measured tidal volume ( TV ) , peak airway pressure ( Ppeak ) , airway resistance ( Raw ) , chest compliance ( Cdyn ) and the end-tidal carbon dioxide pressure ( PetCO ( @ ) ) were recorded at the time point of @ minutes after turning to the lateral position , @ minutes and @ minutes after OLV , and @ minutes after the resumption of two lung ventilation .\\n',\n",
              " 'METHODS\\tIn the meanwhile , arterial blood gas analysis was conducted to measure indicators of pH , oxygen tension ( PaO ( @ ) ) and carbon dioxide partial pressure ( PaCO ( @ ) ) .\\n',\n",
              " 'METHODS\\tBlood was drawn before induction , @ hour after OLV and @ hour after the end of surgery , and the concentration of interleukin-@ ( IL-@ ) and tumor necrosis factor-alpha ( TNF - ) were detected by enzyme-linked immunosorbent assay ( ELISA ) .\\n',\n",
              " 'RESULTS\\tHR , MAP , TV , PetCO ( @ ) , pH and PaCO ( @ ) in two groups at the time point of @ minutes after turning to the lateral position , @ minutes and @ minutes after OLV , and @ minutes after the resumption of two lung ventilation showed no significant difference ( P > @ ) .\\n',\n",
              " 'RESULTS\\tAt the point of @ minutes after turning to the lateral position and @ minutes after two lung ventilation , Ppeak and Cdyn of two groups were significantly different ( P < @ ) ( Ppeak :@ @ cmH ( @ ) O , @ @ cmH ( @ ) O for VCV group and @ @ cmH ( @ ) O , @ @ cmH ( @ ) O for PCV-VG group ; Cdyn : @ @ ml/cmH ( @ ) O , @ @ ml/cmH@O for VCV group and @ @ ml/cmH ( @ ) O , @ @ ml/cmH ( @ ) O for PCV-VG group ) .\\n',\n",
              " 'RESULTS\\tCompared with VCV group , PCV-VG group showed a lower Ppeak @ minutes and @ minutes after OLV -LSB- ( @ @ cmH ( @ ) O ) vs ( @ @ cmH ( @ ) O ) and ( @ @ cmH ( @ ) O ) vs ( @ @ cmH ( @ ) O ) with a higher Cdyn at the same point ( @ @ ml/cmH ( @ ) O ) vs ( @ @ ml/cmH ( @ ) O ) and @ @ ml/cmH ( @ ) O ) vs ( @ @ ml/cmH ( @ ) O ) -RSB- ( P < @ ) .\\n',\n",
              " 'RESULTS\\tCompared with VCV group,IL-@ and TNF - of PCV-VG group @ hour after OLV and @ hour after the end of surgery were significantly lower ( P < @ ) ( IL-@ : @ @ vs @ @ pg/ml and @ @ vs @ @ pg/ml ; TNF - : @ @ vs @ @ pg/ml and @ @ vs. @ @ pg/ml ) .\\n',\n",
              " 'CONCLUSIONS\\tDuring one-lung ventilation in thoracoscopic lobectomy , PCV-VG mode has a competitive advantage over VCV mode in terms of pulmonary function and lung protection .\\n',\n",
              " '\\n',\n",
              " '###24748400\\n',\n",
              " 'OBJECTIVE\\tWe compared the recovery profile of propofol and sevoflurane when used for maintenance of anesthesia in elective day care operative procedures .\\n',\n",
              " 'METHODS\\tOne hundred ASA physical status I and II patients , aged between @ and @ years , were randomly assigned to receive either propofol-nitrous oxide or sevoflurane-nitrous oxide maintenance of anesthesia .\\n',\n",
              " 'METHODS\\tEarly and intermediate recovery in terms of cognitive and ambulatory functions was recorded .\\n',\n",
              " 'METHODS\\tPsychomotor testing , in the form of Trieger dot test and digit symbol substitution test , were performed before surgery and in the post-anesthesia care unit at @ min , @ min , @ h , @ h , and @ h following nitrous oxide switch-off to evaluate intermediate recovery .\\n',\n",
              " \"RESULTS\\tThere were no significant differences in recovery of early cognitive functions between the two groups , except that patients in the sevoflurane group were more responsive at around @ min following nitrous oxide switch-off and `` recalled address '' earlier than patients in the propofol group .\\n\",\n",
              " \"RESULTS\\tThere was no significant difference in between the two groups with regard to `` home-readiness . ''\\n\",\n",
              " \"CONCLUSIONS\\tRecovery from sevoflurane anesthesia , especially with regard to cognitive functions , may be slightly faster than from propofol , but the difference is not sufficiently significant to affect the time to `` home-readiness '' in patients undergoing day care surgery .\\n\",\n",
              " '\\n',\n",
              " '###24594499\\n',\n",
              " \"BACKGROUND\\tVertigo imposes considerable health restrictions with significant impact on the patient 's quality of life .\\n\",\n",
              " 'BACKGROUND\\tThe most effective antivertigo agent is undetermined thus far .\\n',\n",
              " 'OBJECTIVE\\tThis study was performed to assess whether promethazine has superior vertigo reduction compared with lorazepam in ED patients .\\n',\n",
              " 'METHODS\\tIn this randomized , double-blind , parallel group trial @ patients were assigned ( @:@ ratio ) to receive either promethazine , @ mg intravenously , or lorazepam , @ mg intravenously .\\n',\n",
              " 'METHODS\\tPrimary endpoint was mean change in vertigo intensity at @ hours measured using visual analog scale ( VAS ) .\\n',\n",
              " 'METHODS\\tSecondary endpoints were mean change in nausea score , need for second dose of study medications , and adverse events ( AEs ) .\\n',\n",
              " 'RESULTS\\tPromethazine was associated with significantly more reduction ( @ mm ) in vertigo than lorazepam ( @ mm , p < @ ) .\\n',\n",
              " 'RESULTS\\tMean change in nausea score @ hours after drug injection on the VAS was @ mm for promethazine and @ for lorazepam ( p = @ ) .\\n',\n",
              " 'RESULTS\\tThe most frequently reported AEs were lethargy ( @ % in lorazepam group , @ % in promethazine group , p = @ ) and drowsiness ( @ % for promethazine , @ % for lorazepam , p = @ ) .\\n',\n",
              " 'CONCLUSIONS\\tOur study demonstrated the evidence that promethazine is superior to lorazepam in management of peripheral vertigo and vertigo-related nausea in ED adults .\\n',\n",
              " '\\n',\n",
              " '###24604111\\n',\n",
              " 'BACKGROUND\\tDuring lower limb lengthening , distraction-induced muscle pain and surrounding joint contractures are frustrating complications for which few effective treatments are available .\\n',\n",
              " 'OBJECTIVE\\tWe evaluated Botulinum Toxin Type A ( BtX-A ) injection in the calf muscles during human tibial distraction osteogenesis .\\n',\n",
              " 'OBJECTIVE\\tWe hypothesized that it may decrease calf pain and increase ROM of the surrounding joints by reducing muscle stiffness .\\n',\n",
              " 'METHODS\\tBetween April @ and January @ , we evaluated @ patients undergoing bilateral tibia lengthening who met prespecified inclusion criteria .\\n',\n",
              " 'METHODS\\tAll patients underwent stature lengthening with lengthening over a nail or lengthening and then nailing .\\n',\n",
              " 'METHODS\\tBtX-A ( @IU ) was injected at the calf muscle only in one leg for each patient and the same amount of sterile normal saline was injected into the other leg as a control .\\n',\n",
              " 'METHODS\\tSelection of the leg receiving the toxin was randomized .\\n',\n",
              " 'METHODS\\tClinical evaluation included a VAS score for calf pain and measurement of ROM of the knees and ankles and calf circumference , with evaluations performed in a double-blinded manner .\\n',\n",
              " 'METHODS\\tSide-to-side differences were analyzed until the end of consolidation phase .\\n',\n",
              " 'METHODS\\tMinimum followup was @months ( mean , @months ; range , @-@months ) .\\n',\n",
              " 'METHODS\\tThe distraction rate and the final length gain were similar in the treated and control limbs .\\n',\n",
              " 'METHODS\\tA priori power analysis suggested that @ legs were required to achieve statistical significance of @ with @ % of power to detect a @ % difference in treatment effect between treatment and control groups .\\n',\n",
              " 'RESULTS\\tThere were no differences in calf pain , knee and ankle ROM , and maximal calf circumferences between the two legs at each time point .\\n',\n",
              " 'CONCLUSIONS\\tLocal injection of @IU BtX-A at the human calf muscle does not appear to reduce calf pain or help enhance ROM of the knee and ankle during tibial lengthening .\\n',\n",
              " 'CONCLUSIONS\\tHowever , the small sample size provided sufficient power to detect only relatively large clinical effects ; future , larger trials will be needed to determine whether smaller differences are present .\\n',\n",
              " 'METHODS\\tLevel II , therapeutic study .\\n',\n",
              " 'METHODS\\tSee Instructions for Authors for a complete description of levels of evidence .\\n',\n",
              " '\\n',\n",
              " '###25872390\\n',\n",
              " 'OBJECTIVE\\tTo assess potential of preoperative therapy with local steroid and non-steroid anti-inflammatory drugs ( SAIDs and NSAIDs ) for prolonging the hypotensive effect of trabeculectomy .\\n',\n",
              " 'METHODS\\tA total of @ patients with primary open-angle glaucoma planed for trabeculectomy were randomized into @ groups of @ each : @ groups that differed in the studied drug ( nepafenac , dexamethasone , or their non-fixed combination ) and a control group with no preoperative therapy .\\n',\n",
              " 'METHODS\\tThe patients instilled @ drop of either drug b.i.d. for @ weeks before the surgery and were examined each day of the first week and then at weeks @ , @ , @ and months @ , @ , and @ .\\n',\n",
              " 'METHODS\\tThe rate of postoperative surgical and medical interventions ( needling , needling revision , hypotensive therapy ) was used for outcome evaluation .\\n',\n",
              " 'RESULTS\\tPostoperative needling was required in @ % of the controls , @ % of the NSAIDs and @ % of the SAIDs patients as well as @ % the combination-therapy patients .\\n',\n",
              " 'RESULTS\\tNeedling revision had to be performed in @ % of patients from the control group and @ % of patients from the NSAIDs group .\\n',\n",
              " 'RESULTS\\tPatients from the steroid and combination-therapy groups had no need in needling procedure .\\n',\n",
              " 'RESULTS\\tFurther hypotensive therapy was required in @ % of the control group , @ % of the NSAIDs group , @ % of the SAIDs group and @ % of the combination-therapy group .\\n',\n",
              " 'RESULTS\\tDuring the first postoperative year complete success of the treatment was achieved in @ % of the controls , @ % of the NSAIDs patients , @ % of the SAIDs patients , and @ % of those under combination therapy .\\n',\n",
              " 'RESULTS\\tQualified success during the same period was achieved in @ % of cases .\\n',\n",
              " 'CONCLUSIONS\\tPreoperative local anti-inflammatory therapy helped to increase the one-year complete success rate after trabeculectomy as compared with the controls .\\n',\n",
              " 'CONCLUSIONS\\tThe most significant hypotensive effect was noted in the combination-therapy group ( @ % ) , less significant -- in the steroid and non-steroid monotherapy groups ( @ % and @ % correspondingly ) .\\n',\n",
              " 'CONCLUSIONS\\tA negative correlation was noted between the use of nepafenac and dexamethasone and other measures aimed at increasing the hypotensive effect of glaucoma surgery .\\n',\n",
              " '\\n',\n",
              " '###25899215\\n',\n",
              " 'METHODS\\tCase-control study ; ecological study .\\n',\n",
              " 'OBJECTIVE\\tTo examine the efficacy of wearing compression stockings to prevent muscle damage and to maintain running performance during a marathon competition .\\n',\n",
              " 'BACKGROUND\\tExercise-induced muscle damage has been identified as one of the main causes of the progressive decrease in running and muscular performance found during marathon races .\\n',\n",
              " 'METHODS\\tThirty-four experienced runners were pair-matched for age , anthropometric data , and best race time in the marathon , and randomly assigned to a control group ( n = @ ) of runners who wore conventional socks or to a group of runners who wore foot-to-knee graduated compression stockings ( n = @ ) .\\n',\n",
              " 'METHODS\\tBefore and after the race , a sample of venous blood was obtained , and jump height and leg muscle power were measured during a countermovement jump .\\n',\n",
              " 'METHODS\\tSerum myoglobin and creatine kinase concentrations were determined as blood markers of muscle fiber damage .\\n',\n",
              " 'RESULTS\\tTotal race time was not different between the control group and the compression stockings group ( @ @ and @ @ minutes , respectively ; P = @ ) .\\n',\n",
              " 'RESULTS\\tBetween the control group and the compression stockings group , postrace reductions in leg muscle power ( -@ % @ % versus -@ % @ % , respectively ; P = @ ) and jump height ( -@ % @ % versus -@ % .\\n',\n",
              " 'RESULTS\\t@ % , respectively ; P = @ ) were similar .\\n',\n",
              " 'RESULTS\\tAt the end of the race , there were no differences between the control group and the compression stockings group in serum myoglobin ( @ @ ngmL ( -@ ) versus @ @ ngmL ( -@ ) , respectively ; P = @ ) and creatine kinase concentration ( @ @ UL ( -@ ) versus @ @ UL ( -@ ) , respectively ; P = @ ) .\\n',\n",
              " 'CONCLUSIONS\\tThe use of compression stockings did not improve running pace and did not prevent exercise-induced muscle damage during the marathon .\\n',\n",
              " 'CONCLUSIONS\\tWearing compression stockings during long-distance running events is an ineffective strategy to avoid the deleterious effects of muscle damage on running performance .\\n',\n",
              " 'METHODS\\tTherapy , level @b .\\n',\n",
              " '\\n',\n",
              " '###24361853\\n',\n",
              " 'BACKGROUND\\tThe relationships of left ventricular ( LV ) longitudinal and circumferential systolic dysfunction with diastolic performance in hypertensive patients have never been compared .\\n',\n",
              " \"RESULTS\\tIn @ asymptomatic hypertensive patients , circumferential function was assessed with the use of midwall fractional shortening ( mFS ) and stress-corrected mFS ( SCmFS ) , whereas longitudinal function was assessed with the use of left atrioventricular plane displacement ( AVPD ) and systolic mitral annulus velocity ( s ' ) .\\n\",\n",
              " \"RESULTS\\tEarly diastolic annular velocity ( e ' ) and the E/e ' ratio were measured .\\n\",\n",
              " 'RESULTS\\tGlobal longitudinal and circumferential strain were determined in a subset of @ patients .\\n',\n",
              " \"RESULTS\\te ' was linearly related to all systolic indexes ( AVPD : R = @ ; s ' : R = @ ; mFS : R = @ ; SCmFS : R = @ ; all P < @ ) , but the correlations were stronger with longitudinal indexes than with circumferential ones ( P < @ ) .\\n\",\n",
              " \"RESULTS\\tE/e ' was nonlinearly related to AVPD ( R = -@ ; P < @ ) and s ' ( R = -@ ; P < @ ) and showed no relationship with mFS and SCmFS .\\n\",\n",
              " \"RESULTS\\tLongitudinal indexes were superior to circumferential ones in predicting e ' < @ cm/s , E/e ' < @ , and E/e ' @ .\\n\",\n",
              " 'RESULTS\\tThe effect of LV geometry on LV diastolic function was evident among patients with preserved systolic longitudinal function , but was blunted among patients with impaired longitudinal function .\\n',\n",
              " \"RESULTS\\tIn multivariable analyses , only longitudinal indexes remained associated with e ' and E/e ' .\\n\",\n",
              " 'RESULTS\\tAnalyses using strains provided similar results .\\n',\n",
              " 'CONCLUSIONS\\tIn asymptomatic hypertensive subjects , LV diastolic performance is independently associated with longitudinal systolic dysfunction , but not with circumferential systolic dysfunction .\\n',\n",
              " 'CONCLUSIONS\\tSubtle longitudinal systolic impairment plays a role in mediating the effect of LV geometry on diastolic performance .\\n',\n",
              " 'CONCLUSIONS\\tThese findings may support the need of critically revising the concept of isolated diastolic dysfunction in these patients .\\n',\n",
              " '\\n',\n",
              " '###25395709\\n',\n",
              " 'BACKGROUND\\tMultiple Sclerosis ( MS ) is a chronic and disabling disease resulting in disabilities in young and middle-aged persons .\\n',\n",
              " 'BACKGROUND\\tIn this study , researchers explored the effect of yoga techniques on physical activities and sexual function among some Iranian women with MS.\\n',\n",
              " 'METHODS\\tIn this study , @ Iranian women with multiple sclerosis ( MS ) were placed in two equally divided control and case groups through random selection to assess pre-and post-effects of yoga exercises on their physical activities and sexual satisfaction levels .\\n',\n",
              " 'METHODS\\tWomen in case group were offered a series of yoga training and exercises for @ months , which consisted of @ sessions per month for @ to @ minutes at each session .\\n',\n",
              " 'METHODS\\tYoga training program included the @ principles of slow motions ( Hatayoga ) , respiratory exercises ( Pranayama ) and centralization to control mind via meditation , expansion and stasis ( Rajayoga ) .\\n',\n",
              " 'METHODS\\tAfter @ months both groups were surveyed using the initial questionnaire to evaluate and compare findings with the base-line data .\\n',\n",
              " 'RESULTS\\tResearchers found significant statistical difference in physical activity and sexual satisfaction levels among the women in case group ( P = @ ) .\\n',\n",
              " 'RESULTS\\tWomen in case group showed improvement in physical ability while women in control group manifested exacerbated symptoms .\\n',\n",
              " 'CONCLUSIONS\\tYoga techniques may improve physical activities and sexual satisfaction function of women with MS.\\n',\n",
              " '\\n',\n",
              " '###26080882\\n',\n",
              " 'OBJECTIVE\\tTo evaluate the safety and efficacy of antiplatelet therapy of ticagrelor on patients suffering from acute ST segment elevation myocardial infarction undergoing primary percutaneous coronary intervention .\\n',\n",
              " 'METHODS\\tIn the study , @ patients suffering from acute ST segment elevation myocardial infarction onset within @ h undergoing primary percutaneous coronary intervention from May to October in @ were randomly divided into ticagrelor group ( n = @ ) and clopidogrel group ( n = @ ) by using the method of random number table .\\n',\n",
              " 'METHODS\\tTicagrelor and clopidogrel antiplatelet treatment were used before and after operation .\\n',\n",
              " 'METHODS\\tTheir baseline data , coronary artery disease characteristics , platelet count , adenosine diphosphate ( ADP ) - induced platelet inhibition rate by thrombelastograph after @ days of treatment , the major adverse cardiovascular events of the follow up for @ months and bleeding complications were observed and compared in the two groups .\\n',\n",
              " 'RESULTS\\tThe differences between the two groups of patients with their baseline data , the features of coronary artery lesions , platelet count before and after @ days of treatment had no statistical significance ( P > @ ) .\\n',\n",
              " 'RESULTS\\tADP induced platelet inhibition rate -LSB- ( @ ) % -RSB- after @ days of treatment in ticagrelor group was significantly higher than that in clopidogrel group -LSB- ( @ ) % , P < @ -RSB- .\\n',\n",
              " 'RESULTS\\tThe two groups of patients were followed up for @ months , @ cases of major adverse cardiovascular events occurred in clopidogrel group , @ cases of major adverse cardiovascular events occurred in ticagrelor group , and there was significant difference between the two groups ( P < @ ) .\\n',\n",
              " 'RESULTS\\tThe two groups ( @ cases of @ patients in ticagrelor group vs. @ cases of @ patients in clopidogrel group ) had no statistically significant difference in bleeding complications ( P > @ ) .\\n',\n",
              " 'CONCLUSIONS\\tAntiplatelet therapy of ticagrelor on patients suffering from acute ST segment elevation myocardial infarction undergoing emergency PCI has good efficacy and safety .\\n',\n",
              " '\\n',\n",
              " '###25100336\\n',\n",
              " 'OBJECTIVE\\tTo evaluate the image quality , radiation dose and diagnostic accuracy of @kVp , high-pitch CT pulmonary angiography ( CTPA ) with iterative reconstruction using @ ml of contrast agent .\\n',\n",
              " 'METHODS\\tOne hundred patients with suspected pulmonary embolism ( PE ) were randomly divided into two groups ( n = @ each ; group A , @ kVp , @ pitch , @ ml of contrast medium and filtered back projection algorithm ; group B , @ kVp , @ pitch , @ ml of contrast medium and sinogram affirmed iterative reconstruction ) .\\n',\n",
              " 'METHODS\\tImage quality , diagnostic accuracy and radiation dose were evaluated and compared .\\n',\n",
              " 'RESULTS\\tMean CT numbers of pulmonary arteries in group B were higher than those in group A ( all P < @ ) .\\n',\n",
              " 'RESULTS\\tContrast-to-noise ratio and signal-to-noise ratio of group B were higher than those of group A ( both P < @ ) .\\n',\n",
              " 'RESULTS\\tThere was no significant difference in subjective image quality scores between two groups ( P = @ ) .\\n',\n",
              " 'RESULTS\\tThe interobserver agreement was excellent ( k = @ ) .\\n',\n",
              " 'RESULTS\\tThere was no significant difference in diagnostic accuracy between the two groups ( P > @ ) .\\n',\n",
              " 'RESULTS\\tCompared with group A , radiation dose of group B was reduced by @ % ( P < @ ) .\\n',\n",
              " 'CONCLUSIONS\\tHigh-pitch CTPA at @ kVp can obtain sufficient image quality in normal-weight individuals with @ ml of contrast agent and half the radiation dose of a conventional CTPA protocol .\\n',\n",
              " 'CONCLUSIONS\\tCTPA is feasible at @ kVp using only @ ml of contrast agent .\\n',\n",
              " 'CONCLUSIONS\\tHigh-pitch CTPA at @ kVp has an effective dose under @ mSv .\\n',\n",
              " 'CONCLUSIONS\\tThis CTPA protocol can obtain sufficient image quality in normal-weight individuals .\\n',\n",
              " '\\n',\n",
              " '###25267532\\n',\n",
              " 'BACKGROUND\\tFamilies express a need for guidance in helping their loved ones with anorexia nervosa ( AN ) .\\n',\n",
              " 'BACKGROUND\\tGuided self-help interventions can offer support to caregivers .\\n',\n",
              " 'METHODS\\tOne hundred seventy-eight adult AN patients and their caregivers were recruited from @ UK treatment centres .\\n',\n",
              " \"METHODS\\tFamilies were randomized to carers ' assessment , skills and information sharing ( C ) intervention + treatment as usual ( TAU ) or TAU alone .\\n\",\n",
              " 'METHODS\\tFeedback forms were sent at @months post-discharge and , if not returned , at @months .\\n',\n",
              " 'METHODS\\tOne hundred two ( @ % ) patient forms ( n = @TAU ; n = @C ) and @ ( @ % ) caregiver forms ( n = @TAU ; n = @C ) were returned .\\n',\n",
              " 'METHODS\\tTwo researchers coded data blind , using thematic analysis .\\n',\n",
              " 'RESULTS\\t( i ) Caregivers and patients express a need for post-discharge support .\\n',\n",
              " 'RESULTS\\t( ii ) Patients identify helpful and unhelpful support strategies , useful for developing future interventions .\\n',\n",
              " 'RESULTS\\t( iii ) Patients could identify positive caregiver behaviour changes targeted in intervention .\\n',\n",
              " 'RESULTS\\t( iv ) Guided self-help may benefit caregiver and sufferer , post-discharge .\\n',\n",
              " 'CONCLUSIONS\\tCaregiver interventions can be a useful tool that will improve the cost effectiveness of inpatient treatment by enhancing the well-being of caregivers and patients .\\n',\n",
              " '\\n',\n",
              " '###24799513\\n',\n",
              " 'BACKGROUND\\tCardiac mortality and electrophysiological dysfunction both increase with age .\\n',\n",
              " 'BACKGROUND\\tHeart rate variability ( HRV ) provides indices of autonomic function and electrophysiology that are associated with cardiac risk .\\n',\n",
              " 'BACKGROUND\\tHow habitual physical activity among older adults prospectively relates to HRV , including nonlinear indices of erratic sinus patterns , is not established .\\n',\n",
              " 'BACKGROUND\\tWe hypothesized that increasing the levels of both total leisure-time activity and walking would be prospectively associated with more favorable time-domain , frequency-domain , and nonlinear HRV measures in older adults .\\n',\n",
              " 'RESULTS\\tWe evaluated serial longitudinal measures of both physical activity and @-hour Holter HRV over @ years among @ older US adults in the community-based Cardiovascular Health Study .\\n',\n",
              " 'RESULTS\\tAfter multivariable adjustment , greater total leisure-time activity , walking distance , and walking pace were each prospectively associated with specific , more favorable HRV indices , including higher @-hour standard deviation of all normal-to-normal intervals ( Ptrend = @ , @ , @ , respectively ) and ultralow-frequency power ( Ptrend = @ , @ , @ , respectively ) .\\n',\n",
              " 'RESULTS\\tGreater walking pace was also associated with a higher short-term fractal scaling exponent ( Ptrend = @ ) and lower Poincar ratio ( Ptrend = @ ) , markers of less erratic sinus patterns .\\n',\n",
              " 'CONCLUSIONS\\tGreater total leisure-time activity , and walking alone , as well , were prospectively associated with more favorable and specific indices of autonomic function in older adults , including several suggestive of more normal circadian fluctuations and less erratic sinoatrial firing .\\n',\n",
              " 'CONCLUSIONS\\tOur results suggest potential mechanisms that might contribute to lower cardiovascular mortality with habitual physical activity later in life .\\n',\n",
              " '\\n',\n",
              " '###24573358\\n',\n",
              " 'OBJECTIVE\\tOur aim was to compare anatomical and functional outcome between vaginal colposuspension and transvaginal mesh .\\n',\n",
              " 'METHODS\\tThis was a prospective randomized controlled trial in a teaching hospital .\\n',\n",
              " 'METHODS\\tSixty-eight women with stage @ anterior vaginal wall prolapse according to the Pelvic Organ Prolapse Quantification ( POP-Q ) system were assessed , randomized , and analyzed .\\n',\n",
              " 'METHODS\\tPatients were randomized to anterior colporrhaphy with vaginal colposuspension ( n = @ ) or transvaginal mesh ( n = @ ) .\\n',\n",
              " 'METHODS\\tPrimary outcome was objective cure rate of the anterior vaginal wall , defined as POP-Q @ at @years .\\n',\n",
              " 'METHODS\\tSecondary outcomes were functional results , quality-of-life ( QoL ) scores , mesh-related morbidity , and onset of urinary incontinence .\\n',\n",
              " 'RESULTS\\tThe anatomical result for point Ba was significantly better at @years in the mesh group ( -@ cm ) than in the colposuspension group ( -@ cm ) ( p = @ ) .\\n',\n",
              " 'RESULTS\\tConcerning POP-Q stages , the anatomical success rate at @years was @ % for colposuspension and @ % for mesh ( p = @ ) .\\n',\n",
              " 'RESULTS\\tThere were @ anatomic recurrences ( @ % ) in the colposuspension group .\\n',\n",
              " 'RESULTS\\tThe erosion rate was @ % ( n = @ ) .\\n',\n",
              " 'RESULTS\\tNo significant difference was noted regarding minor complications .\\n',\n",
              " 'RESULTS\\tAnalysis of QoL questionnaires showed overall improvement in both groups , with no significant difference between them .\\n',\n",
              " 'CONCLUSIONS\\tThe vaginal colposuspension technique of anterior vaginal wall prolapse repair gave good anatomical and functional results at @years .\\n',\n",
              " 'CONCLUSIONS\\tTransobturator vaginal mesh gave better @-year anatomical results than vaginal colposuspension , with overall improvement in QoL in both groups .\\n',\n",
              " '\\n',\n",
              " '###25249651\\n',\n",
              " 'OBJECTIVE\\tClinical studies evaluating the effects of medications on - cell function in type @ diabetes ( T@DM ) are compromised by an inability to determine the actual baseline degree of - cell dysfunction independent of the reversible dysfunction induced by hyperglycemia ( glucotoxicity ) .\\n',\n",
              " 'OBJECTIVE\\tShort-term intensive insulin therapy ( IIT ) is a strategy for eliminating glucotoxicity before randomization .\\n',\n",
              " 'OBJECTIVE\\tThis study determined whether liraglutide can preserve - cell function over @ weeks in early T@DM following initial elimination of glucotoxicity with IIT .\\n',\n",
              " \"METHODS\\tIn this double-blind , randomized , placebo-controlled trial , @ patients with T@DM of @ @ years ' duration and an A@C of @ @ % ( @ @ mmol/mol ) completed @ weeks of IIT before randomization to daily subcutaneous liraglutide or placebo injection , with serial assessment of - cell function by Insulin Secretion-Sensitivity Index-@ ( ISSI-@ ) on oral glucose tolerance test performed every @ weeks .\\n\",\n",
              " 'RESULTS\\tThe primary outcome of baseline-adjusted ISSI-@ at @ weeks was higher in the liraglutide group than in the placebo group ( @ @ vs. @ @ , P = @ ) .\\n',\n",
              " 'RESULTS\\tBaseline-adjusted HbA@c at @ weeks was lower in the liraglutide group ( @ @ % vs. @ @ % , P = @ ) ( @ @ vs. @ @ mmol/mol ) .\\n',\n",
              " 'RESULTS\\tAt each quarterly assessment , > @ % of participants on liraglutide had an HbA@c @ % ( @ mmol/mol ) and glucose tolerance in the nondiabetic range .\\n',\n",
              " 'RESULTS\\tDespite this level of glycemic control , no difference was found in the incidence of hypoglycemia between the liraglutide and placebo groups ( P = @ ) .\\n',\n",
              " 'RESULTS\\tTwo weeks after stopping treatment , however , the beneficial effect on ISSI-@ of liraglutide versus placebo was entirely lost ( @ @ vs. @ @ , P = @ ) .\\n',\n",
              " 'CONCLUSIONS\\tLiraglutide provides robust enhancement of - cell function that is sustained over @ weeks in early T@DM but lost upon cessation of therapy .\\n',\n",
              " '\\n',\n",
              " '###25110443\\n',\n",
              " 'OBJECTIVE\\tTo investigate the effectiveness of rectally administered indomethacin in the prophylaxis of post-endoscopic retrograde cholangiopancreatography ( ERCP ) pancreatitis and hyperamylasaemia in a multicentre study .\\n',\n",
              " 'METHODS\\tA prospective , randomised , placebo-controlled multicentre study in five endoscopic units was conducted on @ patients randomised to receive a suppository containing @ mg indomethacin , or an inert placebo , @-@ min before ERCP .\\n',\n",
              " 'METHODS\\tPost-ERCP pancreatitis and hyperamylasaemia were evaluated @ h following the procedure on the basis of clinical signs and laboratory parameters , and computed tomography/magnetic resonance imaging findings if required .\\n',\n",
              " 'RESULTS\\tTwenty-one patients were excluded because of incompleteness of their data or because of protocol violation .\\n',\n",
              " 'RESULTS\\tThe results of @ investigations were evaluated : @ in the indomethacin group and @ in the placebo group .\\n',\n",
              " 'RESULTS\\tThe distributions of the risk factors in the two groups did not differ significantly .\\n',\n",
              " 'RESULTS\\tPancreatitis developed in @ patients ( @ % ) : it was mild in @ ( @ % ) and severe in eight ( @ % ) cases .\\n',\n",
              " 'RESULTS\\tHyperamylaesemia occurred in @ patients ( @ % ) .\\n',\n",
              " 'RESULTS\\tThere was no significant difference between the indomethacin and placebo groups in the incidence of either post-ERCP pancreatitis ( @ % vs @ % ) or hyperamylasaemia ( @ % vs @ % ) .\\n',\n",
              " 'RESULTS\\tSimilarly , subgroup analysis did not reveal any significant differences between the two groups .\\n',\n",
              " 'CONCLUSIONS\\t@ mg rectal indomethacin administered before ERCP did not prove effective in preventing post-ERCP pancreatitis .\\n',\n",
              " '\\n',\n",
              " '###24249722\\n',\n",
              " 'BACKGROUND\\tWe sought to determine the incidence of newly diagnosed diabetes in treated elderly hypertensive patients and the prognostic impact of diabetes on long-term survival .\\n',\n",
              " 'METHODS\\tThe Second Australian National Blood Pressure ( ANBP@ ) study randomized @,@ hypertensive patients aged @-@ years to angiotensin-converting enzyme inhibitor ( ACEI ) or thiazide diuretic-based therapy and followed them for a median of @ years .\\n',\n",
              " 'METHODS\\tLong-term survival was determined in @,@ patients over an additional median of @ years after ANBP@ ( post-trial ) .\\n',\n",
              " 'RESULTS\\tAfter ANBP@ , the cohort was classified into preexisting ( @ % ) , newly diagnosed ( @ % ) , and no diabetes ( @ % ) groups .\\n',\n",
              " 'RESULTS\\tA @ % higher incidence of newly diagnosed diabetes was observed in patients randomized to thiazide diuretic compared with ACEI-based treatment .\\n',\n",
              " 'RESULTS\\tThe other predictors of newly diagnosed diabetes were having a higher body mass index , having a higher random blood glucose , and living in a regional location compared to major cities ( a geographical classification based on accessibility ) at study entry .\\n',\n",
              " 'RESULTS\\tAfter completion of ANBP@ , compared with those with no diabetes , the preexisting diabetes group experienced higher cardiovascular ( hazards ratio ( HR ) = @ ; @ % confidence interval ( CI ) = @-@ @ ) and all-cause mortality ( HR = @ ; @ % CI = @-@ @ ) when adjusted for age , sex , and treatment .\\n',\n",
              " 'RESULTS\\tA similar pattern was observed after including the post-trial period for cardiovascular ( HR = @ ; @ % CI = @-@ @ ) and all-cause mortality ( HR = @ ; @ % CI = @-@ @ ) .\\n',\n",
              " 'RESULTS\\tHowever , when the newly diagnosed group was compared with the no diabetes group , no significant difference was observed in cardiovascular ( HR = @ ; @ % CI = @-@ @ ) or all-cause mortality ( HR = @ ; @ % CI = @-@ @ ) either during the ANBP@ trial or including post-trial follow-up ( cardiovascular : HR = @ ; @ % CI = @-@ @ ; all-cause mortality : HR = @ ; @ % CI = @-@ @ ) .\\n',\n",
              " 'CONCLUSIONS\\tLong-term presence of diabetes reduces survival .\\n',\n",
              " 'CONCLUSIONS\\tCompared with thiazide diuretics , ACEI-based antihypertensives may delay the development of diabetes in those at risk and thus potentially improve cardiovascular outcome in the elderly .\\n',\n",
              " '\\n',\n",
              " '###25027286\\n',\n",
              " 'BACKGROUND\\tObesity is associated with a risk of gastroesophageal reflux disease .\\n',\n",
              " 'BACKGROUND\\tThe pharmacodynamic efficacy of proton pump inhibitors has not been specifically evaluated in obese subjects .\\n',\n",
              " 'BACKGROUND\\tThe aim of this study was to compare the antisecretory response to a single oral dose of @ mg rabeprazole , @ mg omeprazole and placebo in obese subjects .\\n',\n",
              " 'METHODS\\tGastric pH was monitored for @ hours on three separate occasions in eighteen H. pylori-negative , asymptomatic obese subjects .\\n',\n",
              " 'METHODS\\tSubjects were given omeprazole , rabeprazole or placebo in a randomized order and in a double-blind fashion .\\n',\n",
              " 'METHODS\\tThe main analysis criterion was @-h percent of time post dose with intragastric pH above @ ; secondary criteria were percentage of time above pH @ , median pH , -LSB- H + -RSB- concentrations and nocturnal acid breakthrough ( NAB ) .\\n',\n",
              " 'METHODS\\tResults were analyzed using linear mixed models and Wilks test comparing variances .\\n',\n",
              " 'RESULTS\\t@-h median -LSB- IQ -RSB- percentages of time with gastric pH above @ and @ were higher with rabeprazole than omeprazole ( @ -LSB- @-@ -RSB- vs. @ -LSB- @-@ -RSB- % , @ -LSB- @-@ -RSB- % for placebo ) but the differences did not reach statistical significance ( p = @ and @ , respectively ) .\\n',\n",
              " 'RESULTS\\tMedian acid concentrations were significantly lower with rabeprazole than with omeprazole and placebo ( @ -LSB- @-@ -RSB- vs. @ -LSB- @-@ -RSB- and @ -LSB- @-@ -RSB- mmoles/l , p < @ ) for all periods .\\n',\n",
              " 'RESULTS\\tThe number of NAB was significantly lower with rabeprazole than with omeprazole ( median @ -LSB- @,@ -RSB- vs. @ -LSB- @-@ -RSB- , p = @ ) .\\n',\n",
              " 'RESULTS\\tVariances of @-h data ( pH above @ and @ , median pH , -LSB- H + -RSB- concentrations ) were significantly lower with rabeprazole than with omeprazole ( p < @ ) .\\n',\n",
              " 'CONCLUSIONS\\tIn asymptomatic obese subjects the gastric antisecretory response to a single dose of rabeprazole and omeprazole was strong and not significantly different between drugs despite a significantly more homogeneous response with rabeprazole .\\n',\n",
              " 'BACKGROUND\\tClinicalTrial.gov : NCT@ .\\n',\n",
              " '\\n',\n",
              " '###25439809\\n',\n",
              " 'OBJECTIVE\\tTo study the effect of growth hormone ( GH ) treatment on ovarian and uterine morphology and function in short , prepubertal small-for-gestational-age ( SGA ) girls .\\n',\n",
              " 'METHODS\\tA multinational , randomized controlled trial on safety and efficacy of GH therapy in short , prepubertal children born SGA .\\n',\n",
              " 'METHODS\\tNot applicable .\\n',\n",
              " 'METHODS\\tA subgroup of @ Danish girls born SGA included in North European SGA Study ( NESGAS ) .\\n',\n",
              " 'METHODS\\tOne year of GH treatment ( @ g/kg/day ) followed by @ years of randomized GH treatment ( @ g/kg/day , @ g/kg/day , or IGF-I titrated ) .\\n',\n",
              " 'METHODS\\tData on anthropometrics , reproductive hormones , and ultrasonographic examination of the internal genitalia were collected during @ months of GH treatment .\\n',\n",
              " 'RESULTS\\tUterine and ovarian volume increased significantly during @ years of treatment ( @ % and @ % , respectively ) but remained low within normal reference ranges .\\n',\n",
              " 'RESULTS\\tOvarian follicles became visible in @ % after @ year compared with @ % before GH therapy .\\n',\n",
              " 'RESULTS\\tAnti-Mllerian hormone increased significantly during the @ years of GH therapy but remained within the normal range .\\n',\n",
              " 'RESULTS\\tPrecocious puberty was observed in one girl ; another girl developed multicystic ovaries .\\n',\n",
              " 'CONCLUSIONS\\tGH treatment was associated with statistically significant growth of the internal genitalia , but remained within the normal range .\\n',\n",
              " 'CONCLUSIONS\\tAs altered pubertal development and ovarian morphology were found in @ of @ girls , monitoring of puberty and ovarian function during GH therapy in SGA girls is prudent .\\n',\n",
              " 'CONCLUSIONS\\tAltogether , the findings are reassuring .\\n',\n",
              " 'CONCLUSIONS\\tHowever , long-term effects of GH treatment on adult reproductive function remain unknown .\\n',\n",
              " 'BACKGROUND\\tEudraCT @-@-@ .\\n',\n",
              " '\\n',\n",
              " '###24898858\\n',\n",
              " 'OBJECTIVE\\tTo test the hypothesis that a brief , clinic-based , single-session programme will reduce the rate of @ selected condom use errors in a clinical sample of young black men ( YBM ) ages @ through @ years .\\n',\n",
              " 'METHODS\\tData were collected in clinics treating patients with sexually transmitted infections ( STI ) in three southern US cities .\\n',\n",
              " 'METHODS\\tMales @-@years of age who identified as black/African-American , and reported recent ( past @months ) condom use were eligible .\\n',\n",
              " 'METHODS\\tOnly those also reporting condom use in the @months prior to a @-month follow-up assessment ( n = @ ) were included in this secondary analysis of data from a randomised , controlled trial .\\n',\n",
              " 'METHODS\\tDifference scores were used to capture a GroupTime effect .\\n',\n",
              " 'RESULTS\\tYBM reported @ condom use events in the @months preceding study enrolment and @ in the @months preceding the follow-up assessment .\\n',\n",
              " 'RESULTS\\tMean baseline error rates were @ and @ for young men randomised to the intervention and control conditions , respectively .\\n',\n",
              " 'RESULTS\\tFollow-up rates were @ and @ for young men randomised to the intervention and control conditions , respectively .\\n',\n",
              " 'RESULTS\\tControlled findings yielded a significant effect for the influence of group assignment on the difference score ( baseline to follow-up ) in the condom use error rate ( = @ ; p = @ ) .\\n',\n",
              " 'CONCLUSIONS\\tA brief , clinic-based counselling programme produced modest reductions in condom use errors among YBM attending STI clinics in the southern USA Intensified clinic-based intervention that helps YBM improve the quality of their condom use behaviours is warranted .\\n',\n",
              " 'BACKGROUND\\tNCT@ .\\n',\n",
              " '\\n',\n",
              " '###24672940\\n',\n",
              " 'OBJECTIVE\\tTo provide evidence for Chinese medical treatment of children with EB virus infection by exploring its clinical efficacy from multiple angles .\\n',\n",
              " 'METHODS\\tTotally @ children patients were randomly assigned to the treatment group ( @ cases ) and the control group ( @ cases ) .\\n',\n",
              " 'METHODS\\tPatients in the treatment group took Chinese medical decoction , while those in the control received intravenous dripping of Ganciclovir and oral administration of pidotimod .\\n',\n",
              " 'METHODS\\tThe treatment period for the two groups was @ weeks .\\n',\n",
              " 'METHODS\\tPatients were followed-up till the @th week .\\n',\n",
              " 'METHODS\\tClinical symptoms such as fever , lymphadenopathy and hepatosplenomegaly , as well as lab indices such as abnormal lymphocyte percentage , EB virus antibody , virus DNA load , T cell subsets , immunoglobulin , and so on were observed before and after treatment , at week @ and @ of follow-ups .\\n',\n",
              " 'RESULTS\\t( @ ) The total effective rate at week @ was @ % in the treatment group , higher than that of the control group ( @ % ) , but there was no statistical difference between the two groups .\\n',\n",
              " 'RESULTS\\t( @ ) The time for defervescence , duration of pharyngeal hyperemia , duration of swollen tonsils was shorter in the treatment group than in the control group ( P < @ ) .\\n',\n",
              " 'RESULTS\\tThe subsidence of lymphadenopathy , hepatomegaly , and abnormal lymphocytes was better in the treatment group than in the control group ( P < @ ) .\\n',\n",
              " 'RESULTS\\t( @ ) The positive cases of peripheral blood hetero-lymphocyte was significantly reduced after treatment , at week @ and @ of follow-ups both in the treatment group and the control group ( P < @ ) .\\n',\n",
              " 'RESULTS\\tThe expression of IgA and IgM decreased after treatment in the two groups when compared with before treatment in the same group ( P < @ , P < @ ) .\\n',\n",
              " 'RESULTS\\tIgG in the treatment group also obviously decreased after treatment , at week @ and @ of follow-ups ( P < @ , P < @ ) , while it decreased only after treatment in the control group ( P < @ ) .\\n',\n",
              " 'RESULTS\\tActivities of AST and ALT in the treatment group and the AST activity in the control group were markedly improved when compared with those before treatment ( P < @ ) .\\n',\n",
              " 'RESULTS\\tCompared with the control group , the abnormal lymphocyte positive case number obviously decreased in the treatment group after treatment , at week @ and @ of follow-ups ( P < @ ) .\\n',\n",
              " 'RESULTS\\t( @ ) After treatment , at week @ and @ of follow-ups , CD@ + and CD@ + significantly decreased ; CD@ + , CD@/CD@ , and B cells significantly increased in the two groups , when compared with before treatment ( P < @ ) .\\n',\n",
              " 'RESULTS\\tNK cells significantly increased more in the treatment group after treatment , at week @ and @ of follow-ups , higher than before treatment as well as the control group ( P < @ ) .\\n',\n",
              " 'RESULTS\\t( @ ) EB viral DNA and EB viral CA-IgM negative conversion case numbers significantly increased in the two groups after treatment , at week @ and @ of follow-ups ( P < @ ) .\\n',\n",
              " 'RESULTS\\tCompared with the control group , EB viral DNA and EB viral CA-IgM negative conversion case numbers significantly increased in the treatment group after treatment and at week @ of follow-ups ( P < @ ) .\\n',\n",
              " 'CONCLUSIONS\\tTreatment of EB virus infection by Chinese medical treatment was effective .\\n',\n",
              " 'CONCLUSIONS\\tIt could promote the recovery of EB viral infection , and reduce the risk of vicious disease after EB viral infection .\\n',\n",
              " '\\n',\n",
              " '###25039547\\n',\n",
              " 'OBJECTIVE\\tThe primary objective was to compare the cosmetic outcomes of traumatic trunk and extremity lacerations repaired using absorbable versus nonabsorbable sutures .\\n',\n",
              " 'OBJECTIVE\\tThe secondary objective was to compare complication rates between the two groups .\\n',\n",
              " 'METHODS\\tThis was a randomized controlled trial comparing wounds repaired with Vicryl Rapide and Prolene sutures .\\n',\n",
              " 'METHODS\\tPediatric and adult patients with lacerations were enrolled in the study .\\n',\n",
              " 'METHODS\\tAt a @-day follow-up , the wounds were evaluated for infection and dehiscence .\\n',\n",
              " 'METHODS\\tAfter @ months , patients returned to have the wounds photographed .\\n',\n",
              " 'METHODS\\tTwo plastic surgeons blinded to the method of closure rated the cosmetic outcome of each wound using a @-mm visual analog scale ( VAS ) .\\n',\n",
              " 'METHODS\\tUsing a noninferiority design , a VAS score of @ mm or greater was considered to be a clinically significant difference .\\n',\n",
              " \"METHODS\\tWe used a Student 's t-test to compare differences between mean VAS scores and odds ratios ( ORs ) to compare differences in complication rates between the two groups .\\n\",\n",
              " 'RESULTS\\tOf the @ patients enrolled , @ completed the study including @ in the Vicryl Rapide group and @ in the Prolene group .\\n',\n",
              " 'RESULTS\\tThe mean ( SD ) age of patients who completed the study was @ ( @ ) years , and @ were male .\\n',\n",
              " 'RESULTS\\tWe found no significant differences in the age , race , sex , length of wound , number of sutures , or layers of repair in the two groups .\\n',\n",
              " \"RESULTS\\tThe observer 's mean VAS for the Vicryl Rapide group was @ mm ( @ % confidence interval -LSB- CI -RSB- = @ to @ mm ) and for the Prolene group was @ mm ( @ % CI = @ to @ mm ) .\\n\",\n",
              " 'RESULTS\\tThe resulting mean difference was @ mm ( @ % CI = -@ to @ mm ; p = @ ) ; thus noninferiority was established .\\n',\n",
              " 'RESULTS\\tStatistical testing showed no differences in the rates of complications between the two groups , but a higher percentage of the Vicryl Rapide wounds developed complications .\\n',\n",
              " 'CONCLUSIONS\\tThe use of absorbable sutures for the repair of simple lacerations on the trunk and extremities should be considered as an alternative to nonabsorbable suture repair .\\n',\n",
              " '\\n',\n",
              " '###25139873\\n',\n",
              " 'OBJECTIVE\\tAspirin early after intravenous thrombolysis in acute ischemic stroke increases the risk of symptomatic intracranial hemorrhage ( SICH ) , without influencing functional outcome at @ months .\\n',\n",
              " 'OBJECTIVE\\tThe effect of aspirin on early neurological deterioration ( END ) was explored as a post hoc analysis of the randomized Antiplatelet Therapy in Combination With Recombinant t-PA Thrombolysis in Ischemic Stroke ( ARTIS ) trial .\\n',\n",
              " 'METHODS\\tEND , defined as a @ points National Institutes of Health Stroke Scale worsening @ hours after intravenous thrombolysis , was categorized into SICH ( ENDSICH ) and cerebral ischemia ( ENDCI ) .\\n',\n",
              " 'METHODS\\tMultinomial logistic regression was used to assess the effect of aspirin on END .\\n',\n",
              " 'RESULTS\\tOf the @ patients , @ patients ( @ % ) experienced END ( @ ENDSICH , @ ENDCI ) .\\n',\n",
              " 'RESULTS\\tAspirin increased the risk of ENDSICH ( odds ratio , @ ; @ % confidence interval , @-@ @ ) but not of ENDCI ( odds ratio , @ ; @ % confidence interval , @-@ @ ) .\\n',\n",
              " 'RESULTS\\tAfter adjustment for other explanatory variables , the association between aspirin and ENDSICH remained significant .\\n',\n",
              " 'CONCLUSIONS\\tIn this trial , there is no evidence of an early antithrombotic effect from the addition of aspirin to intravenous thrombolysis in acute ischemic stroke .\\n',\n",
              " '\\n',\n",
              " '###24917273\\n',\n",
              " 'OBJECTIVE\\tTo compare the relative effectiveness of methotrexate and mycophenolate mofetil for noninfectious intermediate uveitis , posterior uveitis , or panuveitis .\\n',\n",
              " 'METHODS\\tMulticenter , block-randomized , observer-masked clinical trial .\\n',\n",
              " ...]"
            ]
          },
          "metadata": {},
          "execution_count": 5
        }
      ]
    },
    {
      "cell_type": "code",
      "source": [
        "test_lines = get_lines(test_file)\n",
        "test_file"
      ],
      "metadata": {
        "colab": {
          "base_uri": "https://localhost:8080/",
          "height": 36
        },
        "id": "nCjX33dUNQuF",
        "outputId": "8507e105-fec4-4a27-f0db-7214cc8101ba"
      },
      "execution_count": 6,
      "outputs": [
        {
          "output_type": "execute_result",
          "data": {
            "text/plain": [
              "'/content/drive/MyDrive/ML PROJECTS/Skimlit/pubmed-rct/PubMed_20k_RCT_numbers_replaced_with_at_sign/test.txt'"
            ],
            "application/vnd.google.colaboratory.intrinsic+json": {
              "type": "string"
            }
          },
          "metadata": {},
          "execution_count": 6
        }
      ]
    },
    {
      "cell_type": "code",
      "source": [
        "len(train_lines)\n",
        "len(test_lines)"
      ],
      "metadata": {
        "colab": {
          "base_uri": "https://localhost:8080/"
        },
        "id": "5ePLHzN0R3g8",
        "outputId": "a0e08a32-707b-44db-8aab-c691611d4746"
      },
      "execution_count": 7,
      "outputs": [
        {
          "output_type": "execute_result",
          "data": {
            "text/plain": [
              "35135"
            ]
          },
          "metadata": {},
          "execution_count": 7
        }
      ]
    },
    {
      "cell_type": "markdown",
      "source": [
        "### Structure data as per our convenience\n",
        "Create data into a dictionary\n",
        "\n",
        "''' [{'line_number' : value,\n",
        "\n",
        "'target': eg'BACKGROUND',\n",
        "\n",
        "'text': 'some content here',\n",
        "\n",
        "'total_lines': value}\n",
        ".......]\n",
        "'''\n"
      ],
      "metadata": {
        "id": "m-pRJCJHv6Zk"
      }
    },
    {
      "cell_type": "code",
      "source": [
        "def preprocess_text_with_line_numbers(filename):\n",
        "  \"\"\"Returns a list of dictionaries of abstract line data.\n",
        "\n",
        "  Takes in filename, reads its contents and sorts through each line,\n",
        "  extracting things like the target label, the text of the sentence,\n",
        "  how many sentences are in the current abstract and what sentence number\n",
        "  the target line is.\n",
        "\n",
        "  Args:\n",
        "      filename: a string of the target text file to read and extract line data\n",
        "      from.\n",
        "\n",
        "  Returns:\n",
        "      A list of dictionaries each containing a line from an abstract,\n",
        "      the lines label, the lines position in the abstract and the total number\n",
        "      of lines in the abstract where the line is from. For example:\n",
        "\n",
        "      [{\"target\": 'CONCLUSION',\n",
        "        \"text\": The study couldn't have gone better, turns out people are kinder than you think\",\n",
        "        \"line_number\": 8,\n",
        "        \"total_lines\": 8}]\n",
        "  \"\"\"\n",
        "  input_lines = get_lines(filename) # get all lines from filename\n",
        "  abstract_lines = \"\" # create an empty abstract\n",
        "  abstract_samples = [] # create an empty list of abstracts\n",
        "\n",
        "  # Loop through each line in target file\n",
        "  for line in input_lines:\n",
        "    if line.startswith(\"###\"): # check to see if line is an ID line\n",
        "      abstract_id = line\n",
        "      abstract_lines = \"\" # reset abstract string\n",
        "    elif line.isspace(): # check to see if line is a new line\n",
        "      abstract_line_split = abstract_lines.splitlines() # split abstract into separate lines\n",
        "\n",
        "      # Iterate through each line in abstract and count them at the same time\n",
        "      for abstract_line_number, abstract_line in enumerate(abstract_line_split):\n",
        "        line_data = {} # create empty dict to store data from line\n",
        "        target_text_split = abstract_line.split(\"\\t\") # split target label from text\n",
        "        line_data[\"target\"] = target_text_split[0] # get target label\n",
        "        line_data[\"text\"] = target_text_split[1].lower() # get target text and lower it\n",
        "        line_data[\"line_number\"] = abstract_line_number # what number line does the line appear in the abstract?\n",
        "        line_data[\"total_lines\"] = len(abstract_line_split) - 1 # how many total lines are in the abstract? (start from 0)\n",
        "        abstract_samples.append(line_data) # add line data to abstract samples list\n",
        "\n",
        "    else: # if the above conditions aren't fulfilled, the line contains a labelled sentence\n",
        "      abstract_lines += line\n",
        "\n",
        "  return abstract_samples"
      ],
      "metadata": {
        "id": "B446hYCoNQyh"
      },
      "execution_count": 8,
      "outputs": []
    },
    {
      "cell_type": "code",
      "source": [
        "# Get data from file and preprocess it\n",
        "%%time\n",
        "train_samples = preprocess_text_with_line_numbers(data_dir + \"train.txt\")\n",
        "val_samples = preprocess_text_with_line_numbers(data_dir + \"dev.txt\") # validation set\n",
        "test_samples = preprocess_text_with_line_numbers(data_dir + \"test.txt\")\n",
        "len(train_samples), len(val_samples), len(test_samples)"
      ],
      "metadata": {
        "colab": {
          "base_uri": "https://localhost:8080/"
        },
        "id": "I_GRc52PNQ04",
        "outputId": "3ac28870-6db5-4c37-bddd-3450088d79ba"
      },
      "execution_count": 9,
      "outputs": [
        {
          "output_type": "stream",
          "name": "stdout",
          "text": [
            "CPU times: user 445 ms, sys: 81.2 ms, total: 526 ms\n",
            "Wall time: 1.71 s\n"
          ]
        },
        {
          "output_type": "execute_result",
          "data": {
            "text/plain": [
              "(180040, 30212, 30135)"
            ]
          },
          "metadata": {},
          "execution_count": 9
        }
      ]
    },
    {
      "cell_type": "code",
      "source": [
        "# Check the first abstract of our training data\n",
        "train_samples[:14]"
      ],
      "metadata": {
        "colab": {
          "base_uri": "https://localhost:8080/"
        },
        "id": "uibVt2ppLpfJ",
        "outputId": "3f7843e9-8a8b-4ff0-b158-ea8adf9bbb18"
      },
      "execution_count": 10,
      "outputs": [
        {
          "output_type": "execute_result",
          "data": {
            "text/plain": [
              "[{'target': 'OBJECTIVE',\n",
              "  'text': 'to investigate the efficacy of @ weeks of daily low-dose oral prednisolone in improving pain , mobility , and systemic low-grade inflammation in the short term and whether the effect would be sustained at @ weeks in older adults with moderate to severe knee osteoarthritis ( oa ) .',\n",
              "  'line_number': 0,\n",
              "  'total_lines': 11},\n",
              " {'target': 'METHODS',\n",
              "  'text': 'a total of @ patients with primary knee oa were randomized @:@ ; @ received @ mg/day of prednisolone and @ received placebo for @ weeks .',\n",
              "  'line_number': 1,\n",
              "  'total_lines': 11},\n",
              " {'target': 'METHODS',\n",
              "  'text': 'outcome measures included pain reduction and improvement in function scores and systemic inflammation markers .',\n",
              "  'line_number': 2,\n",
              "  'total_lines': 11},\n",
              " {'target': 'METHODS',\n",
              "  'text': 'pain was assessed using the visual analog pain scale ( @-@ mm ) .',\n",
              "  'line_number': 3,\n",
              "  'total_lines': 11},\n",
              " {'target': 'METHODS',\n",
              "  'text': 'secondary outcome measures included the western ontario and mcmaster universities osteoarthritis index scores , patient global assessment ( pga ) of the severity of knee oa , and @-min walk distance ( @mwd ) .',\n",
              "  'line_number': 4,\n",
              "  'total_lines': 11},\n",
              " {'target': 'METHODS',\n",
              "  'text': 'serum levels of interleukin @ ( il-@ ) , il-@ , tumor necrosis factor ( tnf ) - , and high-sensitivity c-reactive protein ( hscrp ) were measured .',\n",
              "  'line_number': 5,\n",
              "  'total_lines': 11},\n",
              " {'target': 'RESULTS',\n",
              "  'text': 'there was a clinically relevant reduction in the intervention group compared to the placebo group for knee pain , physical function , pga , and @mwd at @ weeks .',\n",
              "  'line_number': 6,\n",
              "  'total_lines': 11},\n",
              " {'target': 'RESULTS',\n",
              "  'text': 'the mean difference between treatment arms ( @ % ci ) was @ ( @-@ @ ) , p < @ ; @ ( @-@ @ ) , p < @ ; @ ( @-@ @ ) , p < @ ; and @ ( @-@ @ ) , p < @ , respectively .',\n",
              "  'line_number': 7,\n",
              "  'total_lines': 11},\n",
              " {'target': 'RESULTS',\n",
              "  'text': 'further , there was a clinically relevant reduction in the serum levels of il-@ , il-@ , tnf - , and hscrp at @ weeks in the intervention group when compared to the placebo group .',\n",
              "  'line_number': 8,\n",
              "  'total_lines': 11},\n",
              " {'target': 'RESULTS',\n",
              "  'text': 'these differences remained significant at @ weeks .',\n",
              "  'line_number': 9,\n",
              "  'total_lines': 11},\n",
              " {'target': 'RESULTS',\n",
              "  'text': 'the outcome measures in rheumatology clinical trials-osteoarthritis research society international responder rate was @ % in the intervention group and @ % in the placebo group ( p < @ ) .',\n",
              "  'line_number': 10,\n",
              "  'total_lines': 11},\n",
              " {'target': 'CONCLUSIONS',\n",
              "  'text': 'low-dose oral prednisolone had both a short-term and a longer sustained effect resulting in less knee pain , better physical function , and attenuation of systemic inflammation in older patients with knee oa ( clinicaltrials.gov identifier nct@ ) .',\n",
              "  'line_number': 11,\n",
              "  'total_lines': 11},\n",
              " {'target': 'BACKGROUND',\n",
              "  'text': 'emotional eating is associated with overeating and the development of obesity .',\n",
              "  'line_number': 0,\n",
              "  'total_lines': 10},\n",
              " {'target': 'BACKGROUND',\n",
              "  'text': 'yet , empirical evidence for individual ( trait ) differences in emotional eating and cognitive mechanisms that contribute to eating during sad mood remain equivocal .',\n",
              "  'line_number': 1,\n",
              "  'total_lines': 10}]"
            ]
          },
          "metadata": {},
          "execution_count": 10
        }
      ]
    },
    {
      "cell_type": "code",
      "source": [
        "# Create the dataframe using Pandas\n",
        "import pandas as pd\n",
        "train_df = pd.DataFrame(train_samples)\n",
        "val_df = pd.DataFrame(val_samples)\n",
        "test_df = pd.DataFrame(test_samples)\n",
        "train_df.head(14)"
      ],
      "metadata": {
        "colab": {
          "base_uri": "https://localhost:8080/",
          "height": 488
        },
        "id": "4zb37d-RLphu",
        "outputId": "cacf4675-1af8-449c-882f-124c27c3894a"
      },
      "execution_count": 11,
      "outputs": [
        {
          "output_type": "execute_result",
          "data": {
            "text/plain": [
              "         target                                               text  \\\n",
              "0     OBJECTIVE  to investigate the efficacy of @ weeks of dail...   \n",
              "1       METHODS  a total of @ patients with primary knee oa wer...   \n",
              "2       METHODS  outcome measures included pain reduction and i...   \n",
              "3       METHODS  pain was assessed using the visual analog pain...   \n",
              "4       METHODS  secondary outcome measures included the wester...   \n",
              "5       METHODS  serum levels of interleukin @ ( il-@ ) , il-@ ...   \n",
              "6       RESULTS  there was a clinically relevant reduction in t...   \n",
              "7       RESULTS  the mean difference between treatment arms ( @...   \n",
              "8       RESULTS  further , there was a clinically relevant redu...   \n",
              "9       RESULTS  these differences remained significant at @ we...   \n",
              "10      RESULTS  the outcome measures in rheumatology clinical ...   \n",
              "11  CONCLUSIONS  low-dose oral prednisolone had both a short-te...   \n",
              "12   BACKGROUND  emotional eating is associated with overeating...   \n",
              "13   BACKGROUND  yet , empirical evidence for individual ( trai...   \n",
              "\n",
              "    line_number  total_lines  \n",
              "0             0           11  \n",
              "1             1           11  \n",
              "2             2           11  \n",
              "3             3           11  \n",
              "4             4           11  \n",
              "5             5           11  \n",
              "6             6           11  \n",
              "7             7           11  \n",
              "8             8           11  \n",
              "9             9           11  \n",
              "10           10           11  \n",
              "11           11           11  \n",
              "12            0           10  \n",
              "13            1           10  "
            ],
            "text/html": [
              "\n",
              "  <div id=\"df-ba81e094-b57c-45aa-8618-c0cf08af85d5\" class=\"colab-df-container\">\n",
              "    <div>\n",
              "<style scoped>\n",
              "    .dataframe tbody tr th:only-of-type {\n",
              "        vertical-align: middle;\n",
              "    }\n",
              "\n",
              "    .dataframe tbody tr th {\n",
              "        vertical-align: top;\n",
              "    }\n",
              "\n",
              "    .dataframe thead th {\n",
              "        text-align: right;\n",
              "    }\n",
              "</style>\n",
              "<table border=\"1\" class=\"dataframe\">\n",
              "  <thead>\n",
              "    <tr style=\"text-align: right;\">\n",
              "      <th></th>\n",
              "      <th>target</th>\n",
              "      <th>text</th>\n",
              "      <th>line_number</th>\n",
              "      <th>total_lines</th>\n",
              "    </tr>\n",
              "  </thead>\n",
              "  <tbody>\n",
              "    <tr>\n",
              "      <th>0</th>\n",
              "      <td>OBJECTIVE</td>\n",
              "      <td>to investigate the efficacy of @ weeks of dail...</td>\n",
              "      <td>0</td>\n",
              "      <td>11</td>\n",
              "    </tr>\n",
              "    <tr>\n",
              "      <th>1</th>\n",
              "      <td>METHODS</td>\n",
              "      <td>a total of @ patients with primary knee oa wer...</td>\n",
              "      <td>1</td>\n",
              "      <td>11</td>\n",
              "    </tr>\n",
              "    <tr>\n",
              "      <th>2</th>\n",
              "      <td>METHODS</td>\n",
              "      <td>outcome measures included pain reduction and i...</td>\n",
              "      <td>2</td>\n",
              "      <td>11</td>\n",
              "    </tr>\n",
              "    <tr>\n",
              "      <th>3</th>\n",
              "      <td>METHODS</td>\n",
              "      <td>pain was assessed using the visual analog pain...</td>\n",
              "      <td>3</td>\n",
              "      <td>11</td>\n",
              "    </tr>\n",
              "    <tr>\n",
              "      <th>4</th>\n",
              "      <td>METHODS</td>\n",
              "      <td>secondary outcome measures included the wester...</td>\n",
              "      <td>4</td>\n",
              "      <td>11</td>\n",
              "    </tr>\n",
              "    <tr>\n",
              "      <th>5</th>\n",
              "      <td>METHODS</td>\n",
              "      <td>serum levels of interleukin @ ( il-@ ) , il-@ ...</td>\n",
              "      <td>5</td>\n",
              "      <td>11</td>\n",
              "    </tr>\n",
              "    <tr>\n",
              "      <th>6</th>\n",
              "      <td>RESULTS</td>\n",
              "      <td>there was a clinically relevant reduction in t...</td>\n",
              "      <td>6</td>\n",
              "      <td>11</td>\n",
              "    </tr>\n",
              "    <tr>\n",
              "      <th>7</th>\n",
              "      <td>RESULTS</td>\n",
              "      <td>the mean difference between treatment arms ( @...</td>\n",
              "      <td>7</td>\n",
              "      <td>11</td>\n",
              "    </tr>\n",
              "    <tr>\n",
              "      <th>8</th>\n",
              "      <td>RESULTS</td>\n",
              "      <td>further , there was a clinically relevant redu...</td>\n",
              "      <td>8</td>\n",
              "      <td>11</td>\n",
              "    </tr>\n",
              "    <tr>\n",
              "      <th>9</th>\n",
              "      <td>RESULTS</td>\n",
              "      <td>these differences remained significant at @ we...</td>\n",
              "      <td>9</td>\n",
              "      <td>11</td>\n",
              "    </tr>\n",
              "    <tr>\n",
              "      <th>10</th>\n",
              "      <td>RESULTS</td>\n",
              "      <td>the outcome measures in rheumatology clinical ...</td>\n",
              "      <td>10</td>\n",
              "      <td>11</td>\n",
              "    </tr>\n",
              "    <tr>\n",
              "      <th>11</th>\n",
              "      <td>CONCLUSIONS</td>\n",
              "      <td>low-dose oral prednisolone had both a short-te...</td>\n",
              "      <td>11</td>\n",
              "      <td>11</td>\n",
              "    </tr>\n",
              "    <tr>\n",
              "      <th>12</th>\n",
              "      <td>BACKGROUND</td>\n",
              "      <td>emotional eating is associated with overeating...</td>\n",
              "      <td>0</td>\n",
              "      <td>10</td>\n",
              "    </tr>\n",
              "    <tr>\n",
              "      <th>13</th>\n",
              "      <td>BACKGROUND</td>\n",
              "      <td>yet , empirical evidence for individual ( trai...</td>\n",
              "      <td>1</td>\n",
              "      <td>10</td>\n",
              "    </tr>\n",
              "  </tbody>\n",
              "</table>\n",
              "</div>\n",
              "    <div class=\"colab-df-buttons\">\n",
              "\n",
              "  <div class=\"colab-df-container\">\n",
              "    <button class=\"colab-df-convert\" onclick=\"convertToInteractive('df-ba81e094-b57c-45aa-8618-c0cf08af85d5')\"\n",
              "            title=\"Convert this dataframe to an interactive table.\"\n",
              "            style=\"display:none;\">\n",
              "\n",
              "  <svg xmlns=\"http://www.w3.org/2000/svg\" height=\"24px\" viewBox=\"0 -960 960 960\">\n",
              "    <path d=\"M120-120v-720h720v720H120Zm60-500h600v-160H180v160Zm220 220h160v-160H400v160Zm0 220h160v-160H400v160ZM180-400h160v-160H180v160Zm440 0h160v-160H620v160ZM180-180h160v-160H180v160Zm440 0h160v-160H620v160Z\"/>\n",
              "  </svg>\n",
              "    </button>\n",
              "\n",
              "  <style>\n",
              "    .colab-df-container {\n",
              "      display:flex;\n",
              "      gap: 12px;\n",
              "    }\n",
              "\n",
              "    .colab-df-convert {\n",
              "      background-color: #E8F0FE;\n",
              "      border: none;\n",
              "      border-radius: 50%;\n",
              "      cursor: pointer;\n",
              "      display: none;\n",
              "      fill: #1967D2;\n",
              "      height: 32px;\n",
              "      padding: 0 0 0 0;\n",
              "      width: 32px;\n",
              "    }\n",
              "\n",
              "    .colab-df-convert:hover {\n",
              "      background-color: #E2EBFA;\n",
              "      box-shadow: 0px 1px 2px rgba(60, 64, 67, 0.3), 0px 1px 3px 1px rgba(60, 64, 67, 0.15);\n",
              "      fill: #174EA6;\n",
              "    }\n",
              "\n",
              "    .colab-df-buttons div {\n",
              "      margin-bottom: 4px;\n",
              "    }\n",
              "\n",
              "    [theme=dark] .colab-df-convert {\n",
              "      background-color: #3B4455;\n",
              "      fill: #D2E3FC;\n",
              "    }\n",
              "\n",
              "    [theme=dark] .colab-df-convert:hover {\n",
              "      background-color: #434B5C;\n",
              "      box-shadow: 0px 1px 3px 1px rgba(0, 0, 0, 0.15);\n",
              "      filter: drop-shadow(0px 1px 2px rgba(0, 0, 0, 0.3));\n",
              "      fill: #FFFFFF;\n",
              "    }\n",
              "  </style>\n",
              "\n",
              "    <script>\n",
              "      const buttonEl =\n",
              "        document.querySelector('#df-ba81e094-b57c-45aa-8618-c0cf08af85d5 button.colab-df-convert');\n",
              "      buttonEl.style.display =\n",
              "        google.colab.kernel.accessAllowed ? 'block' : 'none';\n",
              "\n",
              "      async function convertToInteractive(key) {\n",
              "        const element = document.querySelector('#df-ba81e094-b57c-45aa-8618-c0cf08af85d5');\n",
              "        const dataTable =\n",
              "          await google.colab.kernel.invokeFunction('convertToInteractive',\n",
              "                                                    [key], {});\n",
              "        if (!dataTable) return;\n",
              "\n",
              "        const docLinkHtml = 'Like what you see? Visit the ' +\n",
              "          '<a target=\"_blank\" href=https://colab.research.google.com/notebooks/data_table.ipynb>data table notebook</a>'\n",
              "          + ' to learn more about interactive tables.';\n",
              "        element.innerHTML = '';\n",
              "        dataTable['output_type'] = 'display_data';\n",
              "        await google.colab.output.renderOutput(dataTable, element);\n",
              "        const docLink = document.createElement('div');\n",
              "        docLink.innerHTML = docLinkHtml;\n",
              "        element.appendChild(docLink);\n",
              "      }\n",
              "    </script>\n",
              "  </div>\n",
              "\n",
              "\n",
              "<div id=\"df-8f49d0b2-ad66-4e2a-b464-74afe6d9a716\">\n",
              "  <button class=\"colab-df-quickchart\" onclick=\"quickchart('df-8f49d0b2-ad66-4e2a-b464-74afe6d9a716')\"\n",
              "            title=\"Suggest charts\"\n",
              "            style=\"display:none;\">\n",
              "\n",
              "<svg xmlns=\"http://www.w3.org/2000/svg\" height=\"24px\"viewBox=\"0 0 24 24\"\n",
              "     width=\"24px\">\n",
              "    <g>\n",
              "        <path d=\"M19 3H5c-1.1 0-2 .9-2 2v14c0 1.1.9 2 2 2h14c1.1 0 2-.9 2-2V5c0-1.1-.9-2-2-2zM9 17H7v-7h2v7zm4 0h-2V7h2v10zm4 0h-2v-4h2v4z\"/>\n",
              "    </g>\n",
              "</svg>\n",
              "  </button>\n",
              "\n",
              "<style>\n",
              "  .colab-df-quickchart {\n",
              "      --bg-color: #E8F0FE;\n",
              "      --fill-color: #1967D2;\n",
              "      --hover-bg-color: #E2EBFA;\n",
              "      --hover-fill-color: #174EA6;\n",
              "      --disabled-fill-color: #AAA;\n",
              "      --disabled-bg-color: #DDD;\n",
              "  }\n",
              "\n",
              "  [theme=dark] .colab-df-quickchart {\n",
              "      --bg-color: #3B4455;\n",
              "      --fill-color: #D2E3FC;\n",
              "      --hover-bg-color: #434B5C;\n",
              "      --hover-fill-color: #FFFFFF;\n",
              "      --disabled-bg-color: #3B4455;\n",
              "      --disabled-fill-color: #666;\n",
              "  }\n",
              "\n",
              "  .colab-df-quickchart {\n",
              "    background-color: var(--bg-color);\n",
              "    border: none;\n",
              "    border-radius: 50%;\n",
              "    cursor: pointer;\n",
              "    display: none;\n",
              "    fill: var(--fill-color);\n",
              "    height: 32px;\n",
              "    padding: 0;\n",
              "    width: 32px;\n",
              "  }\n",
              "\n",
              "  .colab-df-quickchart:hover {\n",
              "    background-color: var(--hover-bg-color);\n",
              "    box-shadow: 0 1px 2px rgba(60, 64, 67, 0.3), 0 1px 3px 1px rgba(60, 64, 67, 0.15);\n",
              "    fill: var(--button-hover-fill-color);\n",
              "  }\n",
              "\n",
              "  .colab-df-quickchart-complete:disabled,\n",
              "  .colab-df-quickchart-complete:disabled:hover {\n",
              "    background-color: var(--disabled-bg-color);\n",
              "    fill: var(--disabled-fill-color);\n",
              "    box-shadow: none;\n",
              "  }\n",
              "\n",
              "  .colab-df-spinner {\n",
              "    border: 2px solid var(--fill-color);\n",
              "    border-color: transparent;\n",
              "    border-bottom-color: var(--fill-color);\n",
              "    animation:\n",
              "      spin 1s steps(1) infinite;\n",
              "  }\n",
              "\n",
              "  @keyframes spin {\n",
              "    0% {\n",
              "      border-color: transparent;\n",
              "      border-bottom-color: var(--fill-color);\n",
              "      border-left-color: var(--fill-color);\n",
              "    }\n",
              "    20% {\n",
              "      border-color: transparent;\n",
              "      border-left-color: var(--fill-color);\n",
              "      border-top-color: var(--fill-color);\n",
              "    }\n",
              "    30% {\n",
              "      border-color: transparent;\n",
              "      border-left-color: var(--fill-color);\n",
              "      border-top-color: var(--fill-color);\n",
              "      border-right-color: var(--fill-color);\n",
              "    }\n",
              "    40% {\n",
              "      border-color: transparent;\n",
              "      border-right-color: var(--fill-color);\n",
              "      border-top-color: var(--fill-color);\n",
              "    }\n",
              "    60% {\n",
              "      border-color: transparent;\n",
              "      border-right-color: var(--fill-color);\n",
              "    }\n",
              "    80% {\n",
              "      border-color: transparent;\n",
              "      border-right-color: var(--fill-color);\n",
              "      border-bottom-color: var(--fill-color);\n",
              "    }\n",
              "    90% {\n",
              "      border-color: transparent;\n",
              "      border-bottom-color: var(--fill-color);\n",
              "    }\n",
              "  }\n",
              "</style>\n",
              "\n",
              "  <script>\n",
              "    async function quickchart(key) {\n",
              "      const quickchartButtonEl =\n",
              "        document.querySelector('#' + key + ' button');\n",
              "      quickchartButtonEl.disabled = true;  // To prevent multiple clicks.\n",
              "      quickchartButtonEl.classList.add('colab-df-spinner');\n",
              "      try {\n",
              "        const charts = await google.colab.kernel.invokeFunction(\n",
              "            'suggestCharts', [key], {});\n",
              "      } catch (error) {\n",
              "        console.error('Error during call to suggestCharts:', error);\n",
              "      }\n",
              "      quickchartButtonEl.classList.remove('colab-df-spinner');\n",
              "      quickchartButtonEl.classList.add('colab-df-quickchart-complete');\n",
              "    }\n",
              "    (() => {\n",
              "      let quickchartButtonEl =\n",
              "        document.querySelector('#df-8f49d0b2-ad66-4e2a-b464-74afe6d9a716 button');\n",
              "      quickchartButtonEl.style.display =\n",
              "        google.colab.kernel.accessAllowed ? 'block' : 'none';\n",
              "    })();\n",
              "  </script>\n",
              "</div>\n",
              "\n",
              "    </div>\n",
              "  </div>\n"
            ],
            "application/vnd.google.colaboratory.intrinsic+json": {
              "type": "dataframe",
              "variable_name": "train_df"
            }
          },
          "metadata": {},
          "execution_count": 11
        }
      ]
    },
    {
      "cell_type": "code",
      "source": [
        "# Distribution of labels in training data\n",
        "train_df.target.value_counts()"
      ],
      "metadata": {
        "colab": {
          "base_uri": "https://localhost:8080/",
          "height": 272
        },
        "id": "eQkDmVwOLpkW",
        "outputId": "e34c5c75-9c20-4f60-a6b8-6152a971b45a"
      },
      "execution_count": 13,
      "outputs": [
        {
          "output_type": "execute_result",
          "data": {
            "text/plain": [
              "target\n",
              "METHODS        59353\n",
              "RESULTS        57953\n",
              "CONCLUSIONS    27168\n",
              "BACKGROUND     21727\n",
              "OBJECTIVE      13839\n",
              "Name: count, dtype: int64"
            ],
            "text/html": [
              "<div>\n",
              "<style scoped>\n",
              "    .dataframe tbody tr th:only-of-type {\n",
              "        vertical-align: middle;\n",
              "    }\n",
              "\n",
              "    .dataframe tbody tr th {\n",
              "        vertical-align: top;\n",
              "    }\n",
              "\n",
              "    .dataframe thead th {\n",
              "        text-align: right;\n",
              "    }\n",
              "</style>\n",
              "<table border=\"1\" class=\"dataframe\">\n",
              "  <thead>\n",
              "    <tr style=\"text-align: right;\">\n",
              "      <th></th>\n",
              "      <th>count</th>\n",
              "    </tr>\n",
              "    <tr>\n",
              "      <th>target</th>\n",
              "      <th></th>\n",
              "    </tr>\n",
              "  </thead>\n",
              "  <tbody>\n",
              "    <tr>\n",
              "      <th>METHODS</th>\n",
              "      <td>59353</td>\n",
              "    </tr>\n",
              "    <tr>\n",
              "      <th>RESULTS</th>\n",
              "      <td>57953</td>\n",
              "    </tr>\n",
              "    <tr>\n",
              "      <th>CONCLUSIONS</th>\n",
              "      <td>27168</td>\n",
              "    </tr>\n",
              "    <tr>\n",
              "      <th>BACKGROUND</th>\n",
              "      <td>21727</td>\n",
              "    </tr>\n",
              "    <tr>\n",
              "      <th>OBJECTIVE</th>\n",
              "      <td>13839</td>\n",
              "    </tr>\n",
              "  </tbody>\n",
              "</table>\n",
              "</div><br><label><b>dtype:</b> int64</label>"
            ]
          },
          "metadata": {},
          "execution_count": 13
        }
      ]
    },
    {
      "cell_type": "code",
      "source": [
        "train_df.total_lines.plot.hist();"
      ],
      "metadata": {
        "colab": {
          "base_uri": "https://localhost:8080/",
          "height": 431
        },
        "id": "a0Z_DL3lLpmR",
        "outputId": "2d1e8d6b-aa9c-47d0-b17a-c32d34b48516"
      },
      "execution_count": 12,
      "outputs": [
        {
          "output_type": "display_data",
          "data": {
            "text/plain": [
              "<Figure size 640x480 with 1 Axes>"
            ],
            "image/png": "[encoded data removed]"
          },
          "metadata": {}
        }
      ]
    },
    {
      "cell_type": "code",
      "source": [
        "# Convert abstract text lines into lists\n",
        "train_sentences = train_df[\"text\"].tolist()\n",
        "val_sentences = val_df[\"text\"].tolist()\n",
        "test_sentences = test_df[\"text\"].tolist()\n",
        "len(train_sentences), len(val_sentences), len(test_sentences)"
      ],
      "metadata": {
        "colab": {
          "base_uri": "https://localhost:8080/"
        },
        "id": "FGiu7SRlUv18",
        "outputId": "9a032a17-bb3e-4563-cd6d-f64146bc6299"
      },
      "execution_count": 14,
      "outputs": [
        {
          "output_type": "execute_result",
          "data": {
            "text/plain": [
              "(180040, 30212, 30135)"
            ]
          },
          "metadata": {},
          "execution_count": 14
        }
      ]
    },
    {
      "cell_type": "code",
      "source": [
        "# View first 10 lines of training sentences\n",
        "train_sentences[:10]"
      ],
      "metadata": {
        "colab": {
          "base_uri": "https://localhost:8080/"
        },
        "id": "bso4GfcIUv4s",
        "outputId": "e91907b6-b81f-46fb-e1b7-14346521c4eb"
      },
      "execution_count": 15,
      "outputs": [
        {
          "output_type": "execute_result",
          "data": {
            "text/plain": [
              "['to investigate the efficacy of @ weeks of daily low-dose oral prednisolone in improving pain , mobility , and systemic low-grade inflammation in the short term and whether the effect would be sustained at @ weeks in older adults with moderate to severe knee osteoarthritis ( oa ) .',\n",
              " 'a total of @ patients with primary knee oa were randomized @:@ ; @ received @ mg/day of prednisolone and @ received placebo for @ weeks .',\n",
              " 'outcome measures included pain reduction and improvement in function scores and systemic inflammation markers .',\n",
              " 'pain was assessed using the visual analog pain scale ( @-@ mm ) .',\n",
              " 'secondary outcome measures included the western ontario and mcmaster universities osteoarthritis index scores , patient global assessment ( pga ) of the severity of knee oa , and @-min walk distance ( @mwd ) .',\n",
              " 'serum levels of interleukin @ ( il-@ ) , il-@ , tumor necrosis factor ( tnf ) - , and high-sensitivity c-reactive protein ( hscrp ) were measured .',\n",
              " 'there was a clinically relevant reduction in the intervention group compared to the placebo group for knee pain , physical function , pga , and @mwd at @ weeks .',\n",
              " 'the mean difference between treatment arms ( @ % ci ) was @ ( @-@ @ ) , p < @ ; @ ( @-@ @ ) , p < @ ; @ ( @-@ @ ) , p < @ ; and @ ( @-@ @ ) , p < @ , respectively .',\n",
              " 'further , there was a clinically relevant reduction in the serum levels of il-@ , il-@ , tnf - , and hscrp at @ weeks in the intervention group when compared to the placebo group .',\n",
              " 'these differences remained significant at @ weeks .']"
            ]
          },
          "metadata": {},
          "execution_count": 15
        }
      ]
    },
    {
      "cell_type": "code",
      "source": [
        "# One hot encode labels\n",
        "from sklearn.preprocessing import OneHotEncoder\n",
        "one_hot_encoder = OneHotEncoder(sparse_output=False)\n",
        "train_labels_one_hot = one_hot_encoder.fit_transform(train_df[\"target\"].to_numpy().reshape(-1, 1))\n",
        "val_labels_one_hot = one_hot_encoder.transform(val_df[\"target\"].to_numpy().reshape(-1, 1))\n",
        "test_labels_one_hot = one_hot_encoder.transform(test_df[\"target\"].to_numpy().reshape(-1, 1))\n",
        "\n",
        "# Check what training labels look like\n",
        "train_labels_one_hot"
      ],
      "metadata": {
        "colab": {
          "base_uri": "https://localhost:8080/"
        },
        "id": "7x3Pbs-tUv69",
        "outputId": "ee0f3e8d-1769-4e53-c627-04b8b4aacdc8"
      },
      "execution_count": 16,
      "outputs": [
        {
          "output_type": "execute_result",
          "data": {
            "text/plain": [
              "array([[0., 0., 0., 1., 0.],\n",
              "       [0., 0., 1., 0., 0.],\n",
              "       [0., 0., 1., 0., 0.],\n",
              "       ...,\n",
              "       [0., 0., 0., 0., 1.],\n",
              "       [0., 1., 0., 0., 0.],\n",
              "       [0., 1., 0., 0., 0.]])"
            ]
          },
          "metadata": {},
          "execution_count": 16
        }
      ]
    },
    {
      "cell_type": "code",
      "source": [
        "# Extract labels (\"target\" columns) and encode them into integers\n",
        "from sklearn.preprocessing import LabelEncoder\n",
        "label_encoder = LabelEncoder()\n",
        "train_labels_encoded = label_encoder.fit_transform(train_df[\"target\"].to_numpy())\n",
        "val_labels_encoded = label_encoder.transform(val_df[\"target\"].to_numpy())\n",
        "test_labels_encoded = label_encoder.transform(test_df[\"target\"].to_numpy())\n",
        "\n",
        "# Check what training labels look like\n",
        "train_labels_encoded\n",
        ""
      ],
      "metadata": {
        "colab": {
          "base_uri": "https://localhost:8080/"
        },
        "id": "qu3DRCb8Uv94",
        "outputId": "ca5cf3f6-9eb4-48f2-f082-b1d57584bd1a"
      },
      "execution_count": 17,
      "outputs": [
        {
          "output_type": "execute_result",
          "data": {
            "text/plain": [
              "array([3, 2, 2, ..., 4, 1, 1])"
            ]
          },
          "metadata": {},
          "execution_count": 17
        }
      ]
    },
    {
      "cell_type": "code",
      "source": [
        "# Get class names and number of classes from LabelEncoder instance\n",
        "num_classes = len(label_encoder.classes_)\n",
        "class_names = label_encoder.classes_\n",
        "num_classes, class_names"
      ],
      "metadata": {
        "colab": {
          "base_uri": "https://localhost:8080/"
        },
        "id": "hdmlTnFYUwBJ",
        "outputId": "ead87198-50e7-4cae-bb84-78f740b33d28"
      },
      "execution_count": 18,
      "outputs": [
        {
          "output_type": "execute_result",
          "data": {
            "text/plain": [
              "(5,\n",
              " array(['BACKGROUND', 'CONCLUSIONS', 'METHODS', 'OBJECTIVE', 'RESULTS'],\n",
              "       dtype=object))"
            ]
          },
          "metadata": {},
          "execution_count": 18
        }
      ]
    },
    {
      "cell_type": "markdown",
      "source": [
        "### **MODEL 1: Baseline, Naive Bayes Model**\n",
        "\n",
        "\n",
        "\n"
      ],
      "metadata": {
        "id": "MIYFCluwU_jd"
      }
    },
    {
      "cell_type": "code",
      "source": [
        "from sklearn.feature_extraction.text import TfidfVectorizer\n",
        "from sklearn.naive_bayes import MultinomialNB\n",
        "from sklearn.pipeline import Pipeline\n",
        "\n",
        "# Create a pipeline\n",
        "model_0 = Pipeline([\n",
        "  (\"tf-idf\", TfidfVectorizer()),\n",
        "  (\"clf\", MultinomialNB())\n",
        "])\n",
        "\n",
        "# Fit the pipeline to the training data\n",
        "model_0.fit(X=train_sentences,\n",
        "            y=train_labels_encoded);"
      ],
      "metadata": {
        "id": "djnHYQ8LUwDC"
      },
      "execution_count": 19,
      "outputs": []
    },
    {
      "cell_type": "code",
      "source": [
        "# Evaluate baseline on validation dataset\n",
        "model_0.score(X=val_sentences,\n",
        "              y=val_labels_encoded)"
      ],
      "metadata": {
        "colab": {
          "base_uri": "https://localhost:8080/"
        },
        "id": "ZpeyYEfGZl6g",
        "outputId": "85bcff28-875a-48c0-c36d-45a33e78e4f6"
      },
      "execution_count": 20,
      "outputs": [
        {
          "output_type": "execute_result",
          "data": {
            "text/plain": [
              "0.7218323844829869"
            ]
          },
          "metadata": {},
          "execution_count": 20
        }
      ]
    },
    {
      "cell_type": "code",
      "source": [
        "# Make predictions\n",
        "baseline_preds = model_0.predict(val_sentences)\n",
        "baseline_preds"
      ],
      "metadata": {
        "colab": {
          "base_uri": "https://localhost:8080/"
        },
        "id": "lT46ruozZl-D",
        "outputId": "ea537c8c-4a08-4080-8989-85880ba9f8fb"
      },
      "execution_count": 21,
      "outputs": [
        {
          "output_type": "execute_result",
          "data": {
            "text/plain": [
              "array([4, 1, 3, ..., 4, 4, 1])"
            ]
          },
          "metadata": {},
          "execution_count": 21
        }
      ]
    },
    {
      "cell_type": "code",
      "source": [
        "from sklearn.metrics import accuracy_score, precision_recall_fscore_support\n",
        "\n",
        "def calculate_results(y_true, y_pred):\n",
        "  \"\"\"\n",
        "  Calculates model accuracy, precision, recall and f1 score of a binary classification model.\n",
        "\n",
        "  Args:\n",
        "      y_true: true labels in the form of a 1D array\n",
        "      y_pred: predicted labels in the form of a 1D array\n",
        "\n",
        "  Returns a dictionary of accuracy, precision, recall, f1-score.\n",
        "  \"\"\"\n",
        "  # Calculate model accuracy\n",
        "  model_accuracy = accuracy_score(y_true, y_pred) * 100\n",
        "  # Calculate model precision, recall and f1 score using \"weighted average\n",
        "  model_precision, model_recall, model_f1, _ = precision_recall_fscore_support(y_true, y_pred, average=\"weighted\")\n",
        "  model_results = {\"accuracy\": model_accuracy,\n",
        "                  \"precision\": model_precision,\n",
        "                  \"recall\": model_recall,\n",
        "                  \"f1\": model_f1}\n",
        "  return model_results"
      ],
      "metadata": {
        "id": "W2ZucaP2ZmEE"
      },
      "execution_count": 22,
      "outputs": []
    },
    {
      "cell_type": "code",
      "source": [
        "# Calculate baseline results\n",
        "baseline_results = calculate_results(y_true=val_labels_encoded,\n",
        "                                     y_pred=baseline_preds)\n",
        "baseline_results"
      ],
      "metadata": {
        "colab": {
          "base_uri": "https://localhost:8080/"
        },
        "id": "AUH0vd4MZmH_",
        "outputId": "6f807f90-dd2c-4a80-e19f-f5ea0733338e"
      },
      "execution_count": 23,
      "outputs": [
        {
          "output_type": "execute_result",
          "data": {
            "text/plain": [
              "{'accuracy': 72.1832384482987,\n",
              " 'precision': 0.7186466952323352,\n",
              " 'recall': 0.7218323844829869,\n",
              " 'f1': 0.6989250353450294}"
            ]
          },
          "metadata": {},
          "execution_count": 23
        }
      ]
    },
    {
      "cell_type": "markdown",
      "source": [
        "**Deep Sequence Modelling**\n",
        "\n",
        "(processing data to make it appropriate for deep neural network modelling)"
      ],
      "metadata": {
        "id": "AbACgyHAcar7"
      }
    },
    {
      "cell_type": "code",
      "source": [
        "import numpy as np\n",
        "import tensorflow as tf\n",
        "from tensorflow.keras import layers"
      ],
      "metadata": {
        "id": "trab0sOFbna8"
      },
      "execution_count": 24,
      "outputs": []
    },
    {
      "cell_type": "code",
      "source": [
        "# How long is each sentence on average?\n",
        "sent_lens = [len(sentence.split()) for sentence in train_sentences]\n",
        "avg_sent_len = np.mean(sent_lens)\n",
        "avg_sent_len # return average sentence length (in tokens)"
      ],
      "metadata": {
        "colab": {
          "base_uri": "https://localhost:8080/"
        },
        "id": "WT2st8Rrbnd8",
        "outputId": "1a35b944-f5f4-4917-be41-6a722d446591"
      },
      "execution_count": 25,
      "outputs": [
        {
          "output_type": "execute_result",
          "data": {
            "text/plain": [
              "26.338269273494777"
            ]
          },
          "metadata": {},
          "execution_count": 25
        }
      ]
    },
    {
      "cell_type": "code",
      "source": [
        "# What's the distribution look like?\n",
        "import matplotlib.pyplot as plt\n",
        "plt.hist(sent_lens, bins=7);"
      ],
      "metadata": {
        "colab": {
          "base_uri": "https://localhost:8080/",
          "height": 430
        },
        "id": "c5rHJqarbnhF",
        "outputId": "e2688e36-7fc3-467a-b85a-80eb0ec52715"
      },
      "execution_count": 26,
      "outputs": [
        {
          "output_type": "display_data",
          "data": {
            "text/plain": [
              "<Figure size 640x480 with 1 Axes>"
            ],
            "image/png": "[encoded data removed]"
          },
          "metadata": {}
        }
      ]
    },
    {
      "cell_type": "code",
      "source": [
        "# How long of a sentence covers 95% of the lengths?\n",
        "output_seq_len = int(np.percentile(sent_lens, 95))\n",
        "output_seq_len"
      ],
      "metadata": {
        "colab": {
          "base_uri": "https://localhost:8080/"
        },
        "id": "V_N7uKOVbnja",
        "outputId": "65fae77e-c189-429c-804d-86ce2feb5a2b"
      },
      "execution_count": 27,
      "outputs": [
        {
          "output_type": "execute_result",
          "data": {
            "text/plain": [
              "55"
            ]
          },
          "metadata": {},
          "execution_count": 27
        }
      ]
    },
    {
      "cell_type": "code",
      "source": [
        "# Maximum sentence length in the training set\n",
        "max(sent_lens)"
      ],
      "metadata": {
        "colab": {
          "base_uri": "https://localhost:8080/"
        },
        "id": "2u0jhgfibnma",
        "outputId": "1fe58dce-bf02-4ccf-d446-8598436603eb"
      },
      "execution_count": 28,
      "outputs": [
        {
          "output_type": "execute_result",
          "data": {
            "text/plain": [
              "296"
            ]
          },
          "metadata": {},
          "execution_count": 28
        }
      ]
    },
    {
      "cell_type": "code",
      "source": [
        "# How many words are in our vocabulary (taken from 3.2 in https://arxiv.org/pdf/1710.06071.pdf)\n",
        "max_tokens = 68000"
      ],
      "metadata": {
        "id": "Jy19-5mebnpT"
      },
      "execution_count": 31,
      "outputs": []
    },
    {
      "cell_type": "code",
      "source": [
        "# Create text vectorizer\n",
        "\n",
        "# After TensorFlow 2.6\n",
        "from tensorflow.keras.layers import TextVectorization\n",
        "\n",
        "# Before TensorFlow 2.6\n",
        "# from tensorflow.keras.layers.experimental.preprocessing import TextVectorization\n",
        "\n",
        "text_vectorizer = TextVectorization(max_tokens=max_tokens, # number of words in vocabulary\n",
        "                                    output_sequence_length=55) # desired output length of vectorized sequences"
      ],
      "metadata": {
        "id": "MSddhoHKbnrl"
      },
      "execution_count": 30,
      "outputs": []
    },
    {
      "cell_type": "code",
      "source": [
        "# Adapt text vectorizer to training sentences\n",
        "text_vectorizer.adapt(train_sentences)"
      ],
      "metadata": {
        "id": "ISiQ0PiGcDWj"
      },
      "execution_count": 32,
      "outputs": []
    },
    {
      "cell_type": "code",
      "source": [
        "# Test out text vectorizer\n",
        "import random\n",
        "target_sentence = random.choice(train_sentences)\n",
        "print(f\"Text:\\n{target_sentence}\")\n",
        "print(f\"\\nLength of text: {len(target_sentence.split())}\")\n",
        "print(f\"\\nVectorized text:\\n{text_vectorizer([target_sentence])}\")"
      ],
      "metadata": {
        "colab": {
          "base_uri": "https://localhost:8080/"
        },
        "id": "HuHlruKLcDY3",
        "outputId": "1c94f4a2-658a-44dc-fef7-512ae4c3126a"
      },
      "execution_count": 33,
      "outputs": [
        {
          "output_type": "stream",
          "name": "stdout",
          "text": [
            "Text:\n",
            "a self-directed workbook intervention adapted from the reach forgiveness intervention provides an adjunct to traditional psychotherapy that could assist the mental health community to manage the burden of unforgiveness among victims of interpersonal harm .\n",
            "\n",
            "Length of text: 35\n",
            "\n",
            "Vectorized text:\n",
            "[[    8  8576 11328    38  3091    27     2  1424 18744    38   828    26\n",
            "   2814     6   803  2205    28   281  3541     2   486    97   613     6\n",
            "   3620     2  1001     4 42809   116 16359     4  5070  4895     0     0\n",
            "      0     0     0     0     0     0     0     0     0     0     0     0\n",
            "      0     0     0     0     0     0     0]]\n"
          ]
        }
      ]
    },
    {
      "cell_type": "code",
      "source": [
        "# How many words in our training vocabulary?\n",
        "rct_20k_text_vocab = text_vectorizer.get_vocabulary()\n",
        "print(f\"Number of words in vocabulary: {len(rct_20k_text_vocab)}\"),\n",
        "print(f\"Most common words in the vocabulary: {rct_20k_text_vocab[:5]}\")\n",
        "print(f\"Least common words in the vocabulary: {rct_20k_text_vocab[-5:]}\")"
      ],
      "metadata": {
        "colab": {
          "base_uri": "https://localhost:8080/"
        },
        "id": "hHsNTlLicDbn",
        "outputId": "94c79255-f6bb-4e37-e799-bc7ac94b4f58"
      },
      "execution_count": 34,
      "outputs": [
        {
          "output_type": "stream",
          "name": "stdout",
          "text": [
            "Number of words in vocabulary: 64841\n",
            "Most common words in the vocabulary: ['', '[UNK]', 'the', 'and', 'of']\n",
            "Least common words in the vocabulary: ['aainduced', 'aaigroup', 'aachener', 'aachen', 'aaacp']\n"
          ]
        }
      ]
    },
    {
      "cell_type": "code",
      "source": [
        "# Get the config of our text vectorizer\n",
        "text_vectorizer.get_config()"
      ],
      "metadata": {
        "colab": {
          "base_uri": "https://localhost:8080/"
        },
        "id": "CQLLT7KkcDeK",
        "outputId": "50752d65-aaa3-4862-9665-27876d972747"
      },
      "execution_count": 35,
      "outputs": [
        {
          "output_type": "execute_result",
          "data": {
            "text/plain": [
              "{'name': 'text_vectorization',\n",
              " 'trainable': True,\n",
              " 'dtype': {'module': 'keras',\n",
              "  'class_name': 'DTypePolicy',\n",
              "  'config': {'name': 'float32'},\n",
              "  'registered_name': None},\n",
              " 'max_tokens': 68000,\n",
              " 'standardize': 'lower_and_strip_punctuation',\n",
              " 'split': 'whitespace',\n",
              " 'ngrams': None,\n",
              " 'output_mode': 'int',\n",
              " 'output_sequence_length': 55,\n",
              " 'pad_to_max_tokens': False,\n",
              " 'sparse': False,\n",
              " 'ragged': False,\n",
              " 'vocabulary': None,\n",
              " 'idf_weights': None,\n",
              " 'encoding': 'utf-8',\n",
              " 'vocabulary_size': 64841}"
            ]
          },
          "metadata": {},
          "execution_count": 35
        }
      ]
    },
    {
      "cell_type": "code",
      "source": [
        "# Create token embedding layer\n",
        "token_embed = layers.Embedding(input_dim=len(rct_20k_text_vocab), # length of vocabulary\n",
        "                               output_dim=128, # Note: different embedding sizes result in drastically different numbers of parameters to train\n",
        "                               # Use masking to handle variable sequence lengths (save space)\n",
        "                               mask_zero=True,\n",
        "                               name=\"token_embedding\")\n",
        "\n",
        "# Show example embedding\n",
        "print(f\"Sentence before vectorization:\\n{target_sentence}\\n\")\n",
        "vectorized_sentence = text_vectorizer([target_sentence])\n",
        "print(f\"Sentence after vectorization (before embedding):\\n{vectorized_sentence}\\n\")\n",
        "embedded_sentence = token_embed(vectorized_sentence)\n",
        "print(f\"Sentence after embedding:\\n{embedded_sentence}\\n\")\n",
        "print(f\"Embedded sentence shape: {embedded_sentence.shape}\")"
      ],
      "metadata": {
        "colab": {
          "base_uri": "https://localhost:8080/"
        },
        "id": "mSiXKBOYcDhW",
        "outputId": "5a730a2a-9838-487f-e980-0c7b4f63fac6"
      },
      "execution_count": 36,
      "outputs": [
        {
          "output_type": "stream",
          "name": "stdout",
          "text": [
            "Sentence before vectorization:\n",
            "a self-directed workbook intervention adapted from the reach forgiveness intervention provides an adjunct to traditional psychotherapy that could assist the mental health community to manage the burden of unforgiveness among victims of interpersonal harm .\n",
            "\n",
            "Sentence after vectorization (before embedding):\n",
            "[[    8  8576 11328    38  3091    27     2  1424 18744    38   828    26\n",
            "   2814     6   803  2205    28   281  3541     2   486    97   613     6\n",
            "   3620     2  1001     4 42809   116 16359     4  5070  4895     0     0\n",
            "      0     0     0     0     0     0     0     0     0     0     0     0\n",
            "      0     0     0     0     0     0     0]]\n",
            "\n",
            "Sentence after embedding:\n",
            "[[[ 0.00975259  0.0003142   0.04809428 ... -0.03723582 -0.04743443\n",
            "   -0.02920325]\n",
            "  [ 0.00170604  0.00564586  0.01696667 ...  0.0475425  -0.00975781\n",
            "   -0.02200666]\n",
            "  [-0.02487729  0.01135094 -0.02615936 ... -0.03816309 -0.04854571\n",
            "    0.02276805]\n",
            "  ...\n",
            "  [ 0.03876029 -0.00657845 -0.00239086 ...  0.04332942 -0.03153976\n",
            "    0.01046611]\n",
            "  [ 0.03876029 -0.00657845 -0.00239086 ...  0.04332942 -0.03153976\n",
            "    0.01046611]\n",
            "  [ 0.03876029 -0.00657845 -0.00239086 ...  0.04332942 -0.03153976\n",
            "    0.01046611]]]\n",
            "\n",
            "Embedded sentence shape: (1, 55, 128)\n"
          ]
        }
      ]
    },
    {
      "cell_type": "code",
      "source": [
        "# Turn our data into TensorFlow Datasets\n",
        "train_dataset = tf.data.Dataset.from_tensor_slices((train_sentences, train_labels_one_hot))\n",
        "valid_dataset = tf.data.Dataset.from_tensor_slices((val_sentences, val_labels_one_hot))\n",
        "test_dataset = tf.data.Dataset.from_tensor_slices((test_sentences, test_labels_one_hot))\n",
        "\n",
        "train_dataset"
      ],
      "metadata": {
        "colab": {
          "base_uri": "https://localhost:8080/"
        },
        "id": "5rkB22_acOiL",
        "outputId": "2d48ac03-c65e-4a2b-f258-aa6df6dc57d6"
      },
      "execution_count": 37,
      "outputs": [
        {
          "output_type": "execute_result",
          "data": {
            "text/plain": [
              "<_TensorSliceDataset element_spec=(TensorSpec(shape=(), dtype=tf.string, name=None), TensorSpec(shape=(5,), dtype=tf.float64, name=None))>"
            ]
          },
          "metadata": {},
          "execution_count": 37
        }
      ]
    },
    {
      "cell_type": "code",
      "source": [
        "# Take the TensorSliceDataset's and turn them into prefetched batches\n",
        "train_dataset = train_dataset.batch(32).prefetch(tf.data.AUTOTUNE)\n",
        "valid_dataset = valid_dataset.batch(32).prefetch(tf.data.AUTOTUNE)\n",
        "test_dataset = test_dataset.batch(32).prefetch(tf.data.AUTOTUNE)\n",
        "\n",
        "train_dataset"
      ],
      "metadata": {
        "colab": {
          "base_uri": "https://localhost:8080/"
        },
        "id": "TLZwg31PcOlq",
        "outputId": "55a656a9-547f-4e8d-ff32-b86adc6b2fc2"
      },
      "execution_count": 38,
      "outputs": [
        {
          "output_type": "execute_result",
          "data": {
            "text/plain": [
              "<_PrefetchDataset element_spec=(TensorSpec(shape=(None,), dtype=tf.string, name=None), TensorSpec(shape=(None, 5), dtype=tf.float64, name=None))>"
            ]
          },
          "metadata": {},
          "execution_count": 38
        }
      ]
    },
    {
      "cell_type": "markdown",
      "source": [
        "### **MODEL 2**\n",
        "\n",
        "(Custom token embedding + Conv1D)\n",
        "\n",
        "Input (text) -> Tokenize -> Embedding -> Layers -> Output (label probability)\n"
      ],
      "metadata": {
        "id": "PrqiOsKQZfIn"
      }
    },
    {
      "cell_type": "code",
      "source": [
        "# Create 1D convolutional model to process sequences\n",
        "inputs = layers.Input(shape=(1,), dtype=tf.string)\n",
        "text_vectors = text_vectorizer(inputs) # vectorize text inputs\n",
        "token_embeddings = token_embed(text_vectors) # create embedding\n",
        "x = layers.Conv1D(64, kernel_size=5, padding=\"same\", activation=\"relu\")(token_embeddings)\n",
        "x = layers.GlobalAveragePooling1D()(x) # condense the output of our feature vector\n",
        "outputs = layers.Dense(num_classes, activation=\"softmax\")(x)\n",
        "model_1 = tf.keras.Model(inputs, outputs)\n",
        "\n",
        "# Compile\n",
        "model_1.compile(loss=\"categorical_crossentropy\", # if your labels are integer form (not one hot) use sparse_categorical_crossentropy\n",
        "                optimizer=tf.keras.optimizers.Adam(),\n",
        "                metrics=[\"accuracy\"])"
      ],
      "metadata": {
        "colab": {
          "base_uri": "https://localhost:8080/"
        },
        "id": "UI97AHHYcOoX",
        "outputId": "fd16a57a-de92-4ac2-f3e2-1cc7c1b69c1f"
      },
      "execution_count": 39,
      "outputs": [
        {
          "output_type": "stream",
          "name": "stderr",
          "text": [
            "/usr/local/lib/python3.10/dist-packages/keras/src/layers/layer.py:915: UserWarning: Layer 'conv1d' (of type Conv1D) was passed an input with a mask attached to it. However, this layer does not support masking and will therefore destroy the mask information. Downstream layers will not see the mask.\n",
            "  warnings.warn(\n"
          ]
        }
      ]
    },
    {
      "cell_type": "code",
      "source": [
        "# Get summary of Conv1D model\n",
        "model_1.summary()"
      ],
      "metadata": {
        "colab": {
          "base_uri": "https://localhost:8080/",
          "height": 353
        },
        "id": "bSOw3VwhcOrM",
        "outputId": "91372962-65b7-452e-9a23-21393b2a5154"
      },
      "execution_count": 40,
      "outputs": [
        {
          "output_type": "display_data",
          "data": {
            "text/plain": [
              "\u001b[1mModel: \"functional\"\u001b[0m\n"
            ],
            "text/html": [
              "<pre style=\"white-space:pre;overflow-x:auto;line-height:normal;font-family:Menlo,'DejaVu Sans Mono',consolas,'Courier New',monospace\"><span style=\"font-weight: bold\">Model: \"functional\"</span>\n",
              "</pre>\n"
            ]
          },
          "metadata": {}
        },
        {
          "output_type": "display_data",
          "data": {
            "text/plain": [
              "┏━━━━━━━━━━━━━━━━━━━━━━━━━━━━━━━━━━━━━━┳━━━━━━━━━━━━━━━━━━━━━━━━━━━━━┳━━━━━━━━━━━━━━━━━┓\n",
              "┃\u001b[1m \u001b[0m\u001b[1mLayer (type)                        \u001b[0m\u001b[1m \u001b[0m┃\u001b[1m \u001b[0m\u001b[1mOutput Shape               \u001b[0m\u001b[1m \u001b[0m┃\u001b[1m \u001b[0m\u001b[1m        Param #\u001b[0m\u001b[1m \u001b[0m┃\n",
              "┡━━━━━━━━━━━━━━━━━━━━━━━━━━━━━━━━━━━━━━╇━━━━━━━━━━━━━━━━━━━━━━━━━━━━━╇━━━━━━━━━━━━━━━━━┩\n",
              "│ input_layer (\u001b[38;5;33mInputLayer\u001b[0m)             │ (\u001b[38;5;45mNone\u001b[0m, \u001b[38;5;34m1\u001b[0m)                   │               \u001b[38;5;34m0\u001b[0m │\n",
              "├──────────────────────────────────────┼─────────────────────────────┼─────────────────┤\n",
              "│ text_vectorization                   │ (\u001b[38;5;45mNone\u001b[0m, \u001b[38;5;34m55\u001b[0m)                  │               \u001b[38;5;34m0\u001b[0m │\n",
              "│ (\u001b[38;5;33mTextVectorization\u001b[0m)                  │                             │                 │\n",
              "├──────────────────────────────────────┼─────────────────────────────┼─────────────────┤\n",
              "│ token_embedding (\u001b[38;5;33mEmbedding\u001b[0m)          │ (\u001b[38;5;45mNone\u001b[0m, \u001b[38;5;34m55\u001b[0m, \u001b[38;5;34m128\u001b[0m)             │       \u001b[38;5;34m8,299,648\u001b[0m │\n",
              "├──────────────────────────────────────┼─────────────────────────────┼─────────────────┤\n",
              "│ conv1d (\u001b[38;5;33mConv1D\u001b[0m)                      │ (\u001b[38;5;45mNone\u001b[0m, \u001b[38;5;34m55\u001b[0m, \u001b[38;5;34m64\u001b[0m)              │          \u001b[38;5;34m41,024\u001b[0m │\n",
              "├──────────────────────────────────────┼─────────────────────────────┼─────────────────┤\n",
              "│ global_average_pooling1d             │ (\u001b[38;5;45mNone\u001b[0m, \u001b[38;5;34m64\u001b[0m)                  │               \u001b[38;5;34m0\u001b[0m │\n",
              "│ (\u001b[38;5;33mGlobalAveragePooling1D\u001b[0m)             │                             │                 │\n",
              "├──────────────────────────────────────┼─────────────────────────────┼─────────────────┤\n",
              "│ dense (\u001b[38;5;33mDense\u001b[0m)                        │ (\u001b[38;5;45mNone\u001b[0m, \u001b[38;5;34m5\u001b[0m)                   │             \u001b[38;5;34m325\u001b[0m │\n",
              "└──────────────────────────────────────┴─────────────────────────────┴─────────────────┘\n"
            ],
            "text/html": [
              "<pre style=\"white-space:pre;overflow-x:auto;line-height:normal;font-family:Menlo,'DejaVu Sans Mono',consolas,'Courier New',monospace\">┏━━━━━━━━━━━━━━━━━━━━━━━━━━━━━━━━━━━━━━┳━━━━━━━━━━━━━━━━━━━━━━━━━━━━━┳━━━━━━━━━━━━━━━━━┓\n",
              "┃<span style=\"font-weight: bold\"> Layer (type)                         </span>┃<span style=\"font-weight: bold\"> Output Shape                </span>┃<span style=\"font-weight: bold\">         Param # </span>┃\n",
              "┡━━━━━━━━━━━━━━━━━━━━━━━━━━━━━━━━━━━━━━╇━━━━━━━━━━━━━━━━━━━━━━━━━━━━━╇━━━━━━━━━━━━━━━━━┩\n",
              "│ input_layer (<span style=\"color: #0087ff; text-decoration-color: #0087ff\">InputLayer</span>)             │ (<span style=\"color: #00d7ff; text-decoration-color: #00d7ff\">None</span>, <span style=\"color: #00af00; text-decoration-color: #00af00\">1</span>)                   │               <span style=\"color: #00af00; text-decoration-color: #00af00\">0</span> │\n",
              "├──────────────────────────────────────┼─────────────────────────────┼─────────────────┤\n",
              "│ text_vectorization                   │ (<span style=\"color: #00d7ff; text-decoration-color: #00d7ff\">None</span>, <span style=\"color: #00af00; text-decoration-color: #00af00\">55</span>)                  │               <span style=\"color: #00af00; text-decoration-color: #00af00\">0</span> │\n",
              "│ (<span style=\"color: #0087ff; text-decoration-color: #0087ff\">TextVectorization</span>)                  │                             │                 │\n",
              "├──────────────────────────────────────┼─────────────────────────────┼─────────────────┤\n",
              "│ token_embedding (<span style=\"color: #0087ff; text-decoration-color: #0087ff\">Embedding</span>)          │ (<span style=\"color: #00d7ff; text-decoration-color: #00d7ff\">None</span>, <span style=\"color: #00af00; text-decoration-color: #00af00\">55</span>, <span style=\"color: #00af00; text-decoration-color: #00af00\">128</span>)             │       <span style=\"color: #00af00; text-decoration-color: #00af00\">8,299,648</span> │\n",
              "├──────────────────────────────────────┼─────────────────────────────┼─────────────────┤\n",
              "│ conv1d (<span style=\"color: #0087ff; text-decoration-color: #0087ff\">Conv1D</span>)                      │ (<span style=\"color: #00d7ff; text-decoration-color: #00d7ff\">None</span>, <span style=\"color: #00af00; text-decoration-color: #00af00\">55</span>, <span style=\"color: #00af00; text-decoration-color: #00af00\">64</span>)              │          <span style=\"color: #00af00; text-decoration-color: #00af00\">41,024</span> │\n",
              "├──────────────────────────────────────┼─────────────────────────────┼─────────────────┤\n",
              "│ global_average_pooling1d             │ (<span style=\"color: #00d7ff; text-decoration-color: #00d7ff\">None</span>, <span style=\"color: #00af00; text-decoration-color: #00af00\">64</span>)                  │               <span style=\"color: #00af00; text-decoration-color: #00af00\">0</span> │\n",
              "│ (<span style=\"color: #0087ff; text-decoration-color: #0087ff\">GlobalAveragePooling1D</span>)             │                             │                 │\n",
              "├──────────────────────────────────────┼─────────────────────────────┼─────────────────┤\n",
              "│ dense (<span style=\"color: #0087ff; text-decoration-color: #0087ff\">Dense</span>)                        │ (<span style=\"color: #00d7ff; text-decoration-color: #00d7ff\">None</span>, <span style=\"color: #00af00; text-decoration-color: #00af00\">5</span>)                   │             <span style=\"color: #00af00; text-decoration-color: #00af00\">325</span> │\n",
              "└──────────────────────────────────────┴─────────────────────────────┴─────────────────┘\n",
              "</pre>\n"
            ]
          },
          "metadata": {}
        },
        {
          "output_type": "display_data",
          "data": {
            "text/plain": [
              "\u001b[1m Total params: \u001b[0m\u001b[38;5;34m8,340,997\u001b[0m (31.82 MB)\n"
            ],
            "text/html": [
              "<pre style=\"white-space:pre;overflow-x:auto;line-height:normal;font-family:Menlo,'DejaVu Sans Mono',consolas,'Courier New',monospace\"><span style=\"font-weight: bold\"> Total params: </span><span style=\"color: #00af00; text-decoration-color: #00af00\">8,340,997</span> (31.82 MB)\n",
              "</pre>\n"
            ]
          },
          "metadata": {}
        },
        {
          "output_type": "display_data",
          "data": {
            "text/plain": [
              "\u001b[1m Trainable params: \u001b[0m\u001b[38;5;34m8,340,997\u001b[0m (31.82 MB)\n"
            ],
            "text/html": [
              "<pre style=\"white-space:pre;overflow-x:auto;line-height:normal;font-family:Menlo,'DejaVu Sans Mono',consolas,'Courier New',monospace\"><span style=\"font-weight: bold\"> Trainable params: </span><span style=\"color: #00af00; text-decoration-color: #00af00\">8,340,997</span> (31.82 MB)\n",
              "</pre>\n"
            ]
          },
          "metadata": {}
        },
        {
          "output_type": "display_data",
          "data": {
            "text/plain": [
              "\u001b[1m Non-trainable params: \u001b[0m\u001b[38;5;34m0\u001b[0m (0.00 B)\n"
            ],
            "text/html": [
              "<pre style=\"white-space:pre;overflow-x:auto;line-height:normal;font-family:Menlo,'DejaVu Sans Mono',consolas,'Courier New',monospace\"><span style=\"font-weight: bold\"> Non-trainable params: </span><span style=\"color: #00af00; text-decoration-color: #00af00\">0</span> (0.00 B)\n",
              "</pre>\n"
            ]
          },
          "metadata": {}
        }
      ]
    },
    {
      "cell_type": "code",
      "source": [
        "# Fit the model\n",
        "model_1_history = model_1.fit(train_dataset,\n",
        "                              steps_per_epoch=int(0.1 * len(train_dataset)), # only fit on 10% of batches for faster training time\n",
        "                              epochs=5,\n",
        "                              validation_data=valid_dataset,\n",
        "                              validation_steps=int(0.1 * len(valid_dataset))) # only validate on 10% of batches"
      ],
      "metadata": {
        "colab": {
          "base_uri": "https://localhost:8080/"
        },
        "id": "43F09W33cOuC",
        "outputId": "41ca8ece-1c1a-4490-e4a8-92dfcb41bf4f"
      },
      "execution_count": 41,
      "outputs": [
        {
          "output_type": "stream",
          "name": "stdout",
          "text": [
            "Epoch 1/5\n",
            "\u001b[1m562/562\u001b[0m \u001b[32m━━━━━━━━━━━━━━━━━━━━\u001b[0m\u001b[37m\u001b[0m \u001b[1m6s\u001b[0m 5ms/step - accuracy: 0.5200 - loss: 1.1706 - val_accuracy: 0.7390 - val_loss: 0.6898\n",
            "Epoch 2/5\n",
            "\u001b[1m562/562\u001b[0m \u001b[32m━━━━━━━━━━━━━━━━━━━━\u001b[0m\u001b[37m\u001b[0m \u001b[1m2s\u001b[0m 4ms/step - accuracy: 0.7444 - loss: 0.6847 - val_accuracy: 0.7650 - val_loss: 0.6284\n",
            "Epoch 3/5\n",
            "\u001b[1m562/562\u001b[0m \u001b[32m━━━━━━━━━━━━━━━━━━━━\u001b[0m\u001b[37m\u001b[0m \u001b[1m2s\u001b[0m 4ms/step - accuracy: 0.7690 - loss: 0.6265 - val_accuracy: 0.7899 - val_loss: 0.5972\n",
            "Epoch 4/5\n",
            "\u001b[1m562/562\u001b[0m \u001b[32m━━━━━━━━━━━━━━━━━━━━\u001b[0m\u001b[37m\u001b[0m \u001b[1m2s\u001b[0m 4ms/step - accuracy: 0.7831 - loss: 0.6022 - val_accuracy: 0.7995 - val_loss: 0.5690\n",
            "Epoch 5/5\n",
            "\u001b[1m562/562\u001b[0m \u001b[32m━━━━━━━━━━━━━━━━━━━━\u001b[0m\u001b[37m\u001b[0m \u001b[1m2s\u001b[0m 4ms/step - accuracy: 0.7894 - loss: 0.5905 - val_accuracy: 0.7992 - val_loss: 0.5717\n"
          ]
        }
      ]
    },
    {
      "cell_type": "code",
      "source": [
        "# Evaluate on whole validation dataset (we only validated on 10% of batches during training)\n",
        "model_1.evaluate(valid_dataset)"
      ],
      "metadata": {
        "colab": {
          "base_uri": "https://localhost:8080/"
        },
        "id": "CA02RPKZcOwu",
        "outputId": "2652ce1a-acf9-4cd1-838e-2b8b4cf95997"
      },
      "execution_count": 42,
      "outputs": [
        {
          "output_type": "stream",
          "name": "stdout",
          "text": [
            "\u001b[1m945/945\u001b[0m \u001b[32m━━━━━━━━━━━━━━━━━━━━\u001b[0m\u001b[37m\u001b[0m \u001b[1m2s\u001b[0m 2ms/step - accuracy: 0.7997 - loss: 0.5602\n"
          ]
        },
        {
          "output_type": "execute_result",
          "data": {
            "text/plain": [
              "[0.5630744695663452, 0.8011054992675781]"
            ]
          },
          "metadata": {},
          "execution_count": 42
        }
      ]
    },
    {
      "cell_type": "code",
      "source": [
        "# Make predictions (our model outputs prediction probabilities for each class)\n",
        "model_1_pred_probs = model_1.predict(valid_dataset)\n",
        "model_1_pred_probs"
      ],
      "metadata": {
        "colab": {
          "base_uri": "https://localhost:8080/"
        },
        "id": "aXy6QZUtcOzu",
        "outputId": "3a534959-337d-43a2-c985-2fac365a2095"
      },
      "execution_count": 43,
      "outputs": [
        {
          "output_type": "stream",
          "name": "stdout",
          "text": [
            "\u001b[1m945/945\u001b[0m \u001b[32m━━━━━━━━━━━━━━━━━━━━\u001b[0m\u001b[37m\u001b[0m \u001b[1m2s\u001b[0m 2ms/step\n"
          ]
        },
        {
          "output_type": "execute_result",
          "data": {
            "text/plain": [
              "array([[4.6484959e-01, 2.2624755e-01, 7.6885931e-02, 1.8652509e-01,\n",
              "        4.5491811e-02],\n",
              "       [4.4918841e-01, 3.4263465e-01, 2.5117617e-02, 1.4756326e-01,\n",
              "        3.5496019e-02],\n",
              "       [1.8183218e-01, 2.3369344e-03, 5.2640709e-04, 8.1527603e-01,\n",
              "        2.8494445e-05],\n",
              "       ...,\n",
              "       [2.2277511e-05, 7.0455519e-04, 4.1213124e-03, 2.8263894e-05,\n",
              "        9.9512357e-01],\n",
              "       [8.6168133e-02, 2.6693609e-01, 2.1377777e-01, 7.5629823e-02,\n",
              "        3.5748821e-01],\n",
              "       [1.5655023e-01, 7.4515492e-01, 6.7607351e-02, 7.7061956e-03,\n",
              "        2.2981331e-02]], dtype=float32)"
            ]
          },
          "metadata": {},
          "execution_count": 43
        }
      ]
    },
    {
      "cell_type": "code",
      "source": [
        "# Convert pred probs to classes\n",
        "model_1_preds = tf.argmax(model_1_pred_probs, axis=1)\n",
        "model_1_preds"
      ],
      "metadata": {
        "colab": {
          "base_uri": "https://localhost:8080/"
        },
        "id": "Nu3_sTUHarck",
        "outputId": "1e4c9b2c-50a3-4b44-c14d-d3d3e6a778ea"
      },
      "execution_count": 44,
      "outputs": [
        {
          "output_type": "execute_result",
          "data": {
            "text/plain": [
              "<tf.Tensor: shape=(30212,), dtype=int64, numpy=array([0, 0, 3, ..., 4, 4, 1])>"
            ]
          },
          "metadata": {},
          "execution_count": 44
        }
      ]
    },
    {
      "cell_type": "code",
      "source": [
        "from sklearn.metrics import accuracy_score, precision_recall_fscore_support\n",
        "\n",
        "def calculate_results(y_true, y_pred):\n",
        "  \"\"\"\n",
        "  Calculates model accuracy, precision, recall and f1 score of a binary classification model.\n",
        "\n",
        "  Args:\n",
        "      y_true: true labels in the form of a 1D array\n",
        "      y_pred: predicted labels in the form of a 1D array\n",
        "\n",
        "  Returns a dictionary of accuracy, precision, recall, f1-score.\n",
        "  \"\"\"\n",
        "  # Calculate model accuracy\n",
        "  model_accuracy = accuracy_score(y_true, y_pred) * 100\n",
        "  # Calculate model precision, recall and f1 score using \"weighted average\n",
        "  model_precision, model_recall, model_f1, _ = precision_recall_fscore_support(y_true, y_pred, average=\"weighted\")\n",
        "  model_results = {\"accuracy\": model_accuracy,\n",
        "                  \"precision\": model_precision,\n",
        "                  \"recall\": model_recall,\n",
        "                  \"f1\": model_f1}\n",
        "  return model_results"
      ],
      "metadata": {
        "id": "6m5NBJ9qnM3a"
      },
      "execution_count": 45,
      "outputs": []
    },
    {
      "cell_type": "code",
      "source": [
        "# Calculate model_1 results\n",
        "model_1_results = calculate_results(y_true=val_labels_encoded,\n",
        "                                    y_pred=model_1_preds)\n",
        "model_1_results"
      ],
      "metadata": {
        "colab": {
          "base_uri": "https://localhost:8080/"
        },
        "id": "QCRwmJcXarke",
        "outputId": "740747de-2f9e-46ed-832a-0224dcc7ba05"
      },
      "execution_count": 46,
      "outputs": [
        {
          "output_type": "execute_result",
          "data": {
            "text/plain": [
              "{'accuracy': 80.1105520985039,\n",
              " 'precision': 0.8008578143989449,\n",
              " 'recall': 0.8011055209850391,\n",
              " 'f1': 0.7978365781609399}"
            ]
          },
          "metadata": {},
          "execution_count": 46
        }
      ]
    },
    {
      "cell_type": "markdown",
      "source": [
        "### **MODEL 3**\n",
        "Creating a character-level tokenizer\n",
        "\n",
        "Input (character-level text) -> Tokenize -> Embedding -> Layers (Conv1D, GlobalMaxPool1D) -> Output (label probability)"
      ],
      "metadata": {
        "id": "RB8leNCNZiIp"
      }
    },
    {
      "cell_type": "code",
      "source": [
        "# Download pretrained TensorFlow Hub USE\n",
        "import tensorflow_hub as hub\n",
        "tf_hub_embedding_layer = hub.KerasLayer(\"https://tfhub.dev/google/universal-sentence-encoder/4\",\n",
        "                                        trainable=False,\n",
        "                                        name=\"universal_sentence_encoder\")\n",
        "\n",
        "\n",
        "# Test out the embedding on a random sentence\n",
        "random_training_sentence = random.choice(train_sentences)\n",
        "print(f\"Random training sentence:\\n{random_training_sentence}\\n\")\n",
        "use_embedded_sentence = tf_hub_embedding_layer([random_training_sentence])\n",
        "print(f\"Sentence after embedding:\\n{use_embedded_sentence[0][:30]} (truncated output)...\\n\")\n",
        "print(f\"Length of sentence embedding:\\n{len(use_embedded_sentence[0])}\")"
      ],
      "metadata": {
        "colab": {
          "base_uri": "https://localhost:8080/"
        },
        "id": "lB4jjGhk40yU",
        "outputId": "6a11e8a3-a7a5-47a7-b72a-f5473e39b986"
      },
      "execution_count": 48,
      "outputs": [
        {
          "output_type": "stream",
          "name": "stdout",
          "text": [
            "Random training sentence:\n",
            "the purpose of this study was to determine whether a difference exists in learner performance and the type and frequency of diagnostic reasoning skills used , based on the method of case presentation .\n",
            "\n",
            "Sentence after embedding:\n",
            "[ 0.06412753 -0.06411412 -0.03301167 -0.03205972  0.04997466  0.01807088\n",
            " -0.02121224  0.04820788  0.07740457  0.04013759  0.06041146 -0.01484601\n",
            "  0.08359069  0.01780598 -0.04642259 -0.03821624 -0.06400697  0.00217932\n",
            "  0.03614704 -0.08833127  0.07333697  0.00149756 -0.07292505 -0.02405302\n",
            " -0.04758261  0.00085479  0.03362085 -0.03449448  0.00851706  0.01853841] (truncated output)...\n",
            "\n",
            "Length of sentence embedding:\n",
            "512\n"
          ]
        }
      ]
    },
    {
      "cell_type": "code",
      "source": [
        "# Make function to split sentences into characters\n",
        "def split_chars(text):\n",
        "  return \" \".join(list(text))\n",
        "\n",
        "# Test splitting non-character-level sequence into characters\n",
        "split_chars(random_training_sentence)"
      ],
      "metadata": {
        "colab": {
          "base_uri": "https://localhost:8080/",
          "height": 70
        },
        "id": "_VWd28RLaskc",
        "outputId": "506a24c1-6e82-4414-e660-9f0c639108a4"
      },
      "execution_count": 49,
      "outputs": [
        {
          "output_type": "execute_result",
          "data": {
            "text/plain": [
              "'t h e   p u r p o s e   o f   t h i s   s t u d y   w a s   t o   d e t e r m i n e   w h e t h e r   a   d i f f e r e n c e   e x i s t s   i n   l e a r n e r   p e r f o r m a n c e   a n d   t h e   t y p e   a n d   f r e q u e n c y   o f   d i a g n o s t i c   r e a s o n i n g   s k i l l s   u s e d   ,   b a s e d   o n   t h e   m e t h o d   o f   c a s e   p r e s e n t a t i o n   .'"
            ],
            "application/vnd.google.colaboratory.intrinsic+json": {
              "type": "string"
            }
          },
          "metadata": {},
          "execution_count": 49
        }
      ]
    },
    {
      "cell_type": "code",
      "source": [
        "# Split sequence-level data splits into character-level data splits\n",
        "train_chars = [split_chars(sentence) for sentence in train_sentences]\n",
        "val_chars = [split_chars(sentence) for sentence in val_sentences]\n",
        "test_chars = [split_chars(sentence) for sentence in test_sentences]\n",
        "print(train_chars[0])"
      ],
      "metadata": {
        "colab": {
          "base_uri": "https://localhost:8080/"
        },
        "id": "Gh3zzRYTatY_",
        "outputId": "314ec47c-7200-4c9b-e388-8f11e43036a2"
      },
      "execution_count": 50,
      "outputs": [
        {
          "output_type": "stream",
          "name": "stdout",
          "text": [
            "t o   i n v e s t i g a t e   t h e   e f f i c a c y   o f   @   w e e k s   o f   d a i l y   l o w - d o s e   o r a l   p r e d n i s o l o n e   i n   i m p r o v i n g   p a i n   ,   m o b i l i t y   ,   a n d   s y s t e m i c   l o w - g r a d e   i n f l a m m a t i o n   i n   t h e   s h o r t   t e r m   a n d   w h e t h e r   t h e   e f f e c t   w o u l d   b e   s u s t a i n e d   a t   @   w e e k s   i n   o l d e r   a d u l t s   w i t h   m o d e r a t e   t o   s e v e r e   k n e e   o s t e o a r t h r i t i s   (   o a   )   .\n"
          ]
        }
      ]
    },
    {
      "cell_type": "code",
      "source": [
        "# What's the average character length?\n",
        "char_lens = [len(sentence) for sentence in train_sentences]\n",
        "mean_char_len = np.mean(char_lens)\n",
        "mean_char_len"
      ],
      "metadata": {
        "colab": {
          "base_uri": "https://localhost:8080/"
        },
        "id": "sV_w4XsrqF8s",
        "outputId": "03d48e3f-66e8-4e09-f922-e405da5f8256"
      },
      "execution_count": 51,
      "outputs": [
        {
          "output_type": "execute_result",
          "data": {
            "text/plain": [
              "149.3662574983337"
            ]
          },
          "metadata": {},
          "execution_count": 51
        }
      ]
    },
    {
      "cell_type": "code",
      "source": [
        "# Check the distribution of our sequences at character-level\n",
        "import matplotlib.pyplot as plt\n",
        "plt.hist(char_lens, bins=7);"
      ],
      "metadata": {
        "colab": {
          "base_uri": "https://localhost:8080/",
          "height": 430
        },
        "id": "1FUbtQW7atbr",
        "outputId": "36bf39ae-0d6a-481c-cba0-cee1946b92fd"
      },
      "execution_count": 52,
      "outputs": [
        {
          "output_type": "display_data",
          "data": {
            "text/plain": [
              "<Figure size 640x480 with 1 Axes>"
            ],
            "image/png": "[encoded data removed]"
          },
          "metadata": {}
        }
      ]
    },
    {
      "cell_type": "code",
      "source": [
        "# Find what character length covers 95% of sequences\n",
        "output_seq_char_len = int(np.percentile(char_lens, 95))\n",
        "output_seq_char_len"
      ],
      "metadata": {
        "colab": {
          "base_uri": "https://localhost:8080/"
        },
        "id": "WyVW8ZQeatfw",
        "outputId": "c2161ba0-b910-4331-a219-2464f0ef1948"
      },
      "execution_count": 53,
      "outputs": [
        {
          "output_type": "execute_result",
          "data": {
            "text/plain": [
              "290"
            ]
          },
          "metadata": {},
          "execution_count": 53
        }
      ]
    },
    {
      "cell_type": "code",
      "source": [
        "# Get all keyboard characters for char-level embedding\n",
        "import string\n",
        "alphabet = string.ascii_lowercase + string.digits + string.punctuation\n",
        "alphabet"
      ],
      "metadata": {
        "colab": {
          "base_uri": "https://localhost:8080/",
          "height": 36
        },
        "id": "OksEHZFOqL1D",
        "outputId": "e07e62d6-6f12-4e7f-d0de-46046af0652c"
      },
      "execution_count": 54,
      "outputs": [
        {
          "output_type": "execute_result",
          "data": {
            "text/plain": [
              "'abcdefghijklmnopqrstuvwxyz0123456789!\"#$%&\\'()*+,-./:;<=>?@[\\\\]^_`{|}~'"
            ],
            "application/vnd.google.colaboratory.intrinsic+json": {
              "type": "string"
            }
          },
          "metadata": {},
          "execution_count": 54
        }
      ]
    },
    {
      "cell_type": "code",
      "source": [
        "# Create char-level token vectorizer instance\n",
        "NUM_CHAR_TOKENS = len(alphabet) + 2 # num characters in alphabet + space + OOV token\n",
        "char_vectorizer = TextVectorization(max_tokens=NUM_CHAR_TOKENS,\n",
        "                                    output_sequence_length=output_seq_char_len,\n",
        "                                    standardize=\"lower_and_strip_punctuation\",\n",
        "                                    name=\"char_vectorizer\")\n",
        "\n",
        "# Adapt character vectorizer to training characters\n",
        "char_vectorizer.adapt(train_chars)"
      ],
      "metadata": {
        "id": "2C_hSTiNatj0"
      },
      "execution_count": 55,
      "outputs": []
    },
    {
      "cell_type": "code",
      "source": [
        "# Check character vocabulary characteristics\n",
        "char_vocab = char_vectorizer.get_vocabulary()\n",
        "print(f\"Number of different characters in character vocab: {len(char_vocab)}\")\n",
        "print(f\"5 most common characters: {char_vocab[:5]}\")\n",
        "print(f\"5 least common characters: {char_vocab[-5:]}\")"
      ],
      "metadata": {
        "colab": {
          "base_uri": "https://localhost:8080/"
        },
        "id": "V23pkFHzatoB",
        "outputId": "dee08052-4d3d-4e29-f109-df1e0091e4f1"
      },
      "execution_count": 56,
      "outputs": [
        {
          "output_type": "stream",
          "name": "stdout",
          "text": [
            "Number of different characters in character vocab: 28\n",
            "5 most common characters: ['', '[UNK]', 'e', 't', 'i']\n",
            "5 least common characters: ['k', 'x', 'z', 'q', 'j']\n"
          ]
        }
      ]
    },
    {
      "cell_type": "code",
      "source": [
        "# Test out character vectorizer\n",
        "random_train_chars = random.choice(train_chars)\n",
        "print(f\"Charified text:\\n{random_train_chars}\")\n",
        "print(f\"\\nLength of chars: {len(random_train_chars.split())}\")\n",
        "vectorized_chars = char_vectorizer([random_train_chars])\n",
        "print(f\"\\nVectorized chars:\\n{vectorized_chars}\")\n",
        "print(f\"\\nLength of vectorized chars: {len(vectorized_chars[0])}\")"
      ],
      "metadata": {
        "colab": {
          "base_uri": "https://localhost:8080/"
        },
        "id": "BEr9zyeFqSqS",
        "outputId": "ec14d21c-4d7d-4126-e2a5-b2aa3ce1d7a7"
      },
      "execution_count": 57,
      "outputs": [
        {
          "output_type": "stream",
          "name": "stdout",
          "text": [
            "Charified text:\n",
            "t o   e x a m i n e   t h e   p e r f o r m a n c e   o f   t @ - w e i g h t e d   (   t @ w   )   a n d   d i f f u s i o n - w e i g h t e d   (   d w   )   m a g n e t i c   r e s o n a n c e   i m a g i n g   (   m r i   )   f o r   d e t e c t i n g   t h e   i n d e x   t u m o u r   i n   p a t i e n t s   w i t h   p r o s t a t e   c a n c e r   a n d   t o   e x a m i n e   t h e   a g r e e m e n t   b e t w e e n   m r i   a n d   h i s t o l o g y   w h e n   a s s e s s i n g   t u m o u r   v o l u m e   (   t v   )   a n d   o v e r a l l   t u m o u r   b u r d e n   .\n",
            "\n",
            "Length of chars: 247\n",
            "\n",
            "Vectorized chars:\n",
            "[[ 3  7  2 24  5 15  4  6  2  3 13  2 14  2  8 17  7  8 15  5  6 11  2  7\n",
            "  17  3 20  2  4 18 13  3  2 10  3 20  5  6 10 10  4 17 17 16  9  4  7  6\n",
            "  20  2  4 18 13  3  2 10 10 20 15  5 18  6  2  3  4 11  8  2  9  7  6  5\n",
            "   6 11  2  4 15  5 18  4  6 18 15  8  4 17  7  8 10  2  3  2 11  3  4  6\n",
            "  18  3 13  2  4  6 10  2 24  3 16 15  7 16  8  4  6 14  5  3  4  2  6  3\n",
            "   9 20  4  3 13 14  8  7  9  3  5  3  2 11  5  6 11  2  8  5  6 10  3  7\n",
            "   2 24  5 15  4  6  2  3 13  2  5 18  8  2  2 15  2  6  3 22  2  3 20  2\n",
            "   2  6 15  8  4  5  6 10 13  4  9  3  7 12  7 18 19 20 13  2  6  5  9  9\n",
            "   2  9  9  4  6 18  3 16 15  7 16  8 21  7 12 16 15  2  3 21  5  6 10  7\n",
            "  21  2  8  5 12 12  3 16 15  7 16  8 22 16  8 10  2  6  0  0  0  0  0  0\n",
            "   0  0  0  0  0  0  0  0  0  0  0  0  0  0  0  0  0  0  0  0  0  0  0  0\n",
            "   0  0  0  0  0  0  0  0  0  0  0  0  0  0  0  0  0  0  0  0  0  0  0  0\n",
            "   0  0]]\n",
            "\n",
            "Length of vectorized chars: 290\n"
          ]
        }
      ]
    },
    {
      "cell_type": "code",
      "source": [
        "# creating a character level embedding\n",
        "\n",
        "# Create char embedding layer\n",
        "char_embed = layers.Embedding(input_dim=NUM_CHAR_TOKENS, # number of different characters\n",
        "                              output_dim=25, # embedding dimension of each character (same as Figure 1 in https://arxiv.org/pdf/1612.05251.pdf)\n",
        "                              mask_zero=False, # don't use masks (this messes up model_5 if set to True)\n",
        "                              name=\"char_embed\")\n",
        "\n",
        "# Test out character embedding layer\n",
        "print(f\"Charified text (before vectorization and embedding):\\n{random_train_chars}\\n\")\n",
        "char_embed_example = char_embed(char_vectorizer([random_train_chars]))\n",
        "print(f\"Embedded chars (after vectorization and embedding):\\n{char_embed_example}\\n\")\n",
        "print(f\"Character embedding shape: {char_embed_example.shape}\")"
      ],
      "metadata": {
        "colab": {
          "base_uri": "https://localhost:8080/"
        },
        "id": "75alH351qSuG",
        "outputId": "fb43d5a5-1099-4f55-9009-71430b021ac2"
      },
      "execution_count": 58,
      "outputs": [
        {
          "output_type": "stream",
          "name": "stdout",
          "text": [
            "Charified text (before vectorization and embedding):\n",
            "t o   e x a m i n e   t h e   p e r f o r m a n c e   o f   t @ - w e i g h t e d   (   t @ w   )   a n d   d i f f u s i o n - w e i g h t e d   (   d w   )   m a g n e t i c   r e s o n a n c e   i m a g i n g   (   m r i   )   f o r   d e t e c t i n g   t h e   i n d e x   t u m o u r   i n   p a t i e n t s   w i t h   p r o s t a t e   c a n c e r   a n d   t o   e x a m i n e   t h e   a g r e e m e n t   b e t w e e n   m r i   a n d   h i s t o l o g y   w h e n   a s s e s s i n g   t u m o u r   v o l u m e   (   t v   )   a n d   o v e r a l l   t u m o u r   b u r d e n   .\n",
            "\n",
            "Embedded chars (after vectorization and embedding):\n",
            "[[[ 0.01748529  0.02094731  0.04569631 ...  0.03722021 -0.00224523\n",
            "   -0.0436301 ]\n",
            "  [-0.01463983 -0.01759548  0.04919953 ...  0.01004273 -0.01269039\n",
            "   -0.03816209]\n",
            "  [ 0.03274585 -0.0188993  -0.02092251 ...  0.02604109 -0.03630884\n",
            "   -0.01915157]\n",
            "  ...\n",
            "  [-0.02072491  0.04634399 -0.03478818 ... -0.04483084 -0.02756003\n",
            "   -0.0460225 ]\n",
            "  [-0.02072491  0.04634399 -0.03478818 ... -0.04483084 -0.02756003\n",
            "   -0.0460225 ]\n",
            "  [-0.02072491  0.04634399 -0.03478818 ... -0.04483084 -0.02756003\n",
            "   -0.0460225 ]]]\n",
            "\n",
            "Character embedding shape: (1, 290, 25)\n"
          ]
        }
      ]
    },
    {
      "cell_type": "markdown",
      "source": [
        "**Bulding a Conv1D Model to fit on character embeddings**\n",
        "\n",
        "\n"
      ],
      "metadata": {
        "id": "fvSBPFXxqhEB"
      }
    },
    {
      "cell_type": "code",
      "source": [
        "# Make Conv1D on chars only\n",
        "inputs = layers.Input(shape=(1,), dtype=\"string\")\n",
        "char_vectors = char_vectorizer(inputs)\n",
        "char_embeddings = char_embed(char_vectors)\n",
        "x = layers.Conv1D(64, kernel_size=5, padding=\"same\", activation=\"relu\")(char_embeddings)\n",
        "x = layers.GlobalMaxPool1D()(x)\n",
        "outputs = layers.Dense(num_classes, activation=\"softmax\")(x)\n",
        "model_3 = tf.keras.Model(inputs=inputs,\n",
        "                         outputs=outputs,\n",
        "                         name=\"model_3_conv1D_char_embedding\")\n",
        "\n",
        "# Compile model\n",
        "model_3.compile(loss=\"categorical_crossentropy\",\n",
        "                optimizer=tf.keras.optimizers.Adam(),\n",
        "                metrics=[\"accuracy\"])"
      ],
      "metadata": {
        "id": "1d4SZp4kqSyL"
      },
      "execution_count": 59,
      "outputs": []
    },
    {
      "cell_type": "code",
      "source": [
        "# Check the summary of conv1d_char_model\n",
        "model_3.summary()"
      ],
      "metadata": {
        "colab": {
          "base_uri": "https://localhost:8080/",
          "height": 337
        },
        "id": "rT-2x8-MqS9O",
        "outputId": "075c93bf-d2b1-4f7c-98ad-ac16528067f6"
      },
      "execution_count": 60,
      "outputs": [
        {
          "output_type": "display_data",
          "data": {
            "text/plain": [
              "\u001b[1mModel: \"model_3_conv1D_char_embedding\"\u001b[0m\n"
            ],
            "text/html": [
              "<pre style=\"white-space:pre;overflow-x:auto;line-height:normal;font-family:Menlo,'DejaVu Sans Mono',consolas,'Courier New',monospace\"><span style=\"font-weight: bold\">Model: \"model_3_conv1D_char_embedding\"</span>\n",
              "</pre>\n"
            ]
          },
          "metadata": {}
        },
        {
          "output_type": "display_data",
          "data": {
            "text/plain": [
              "┏━━━━━━━━━━━━━━━━━━━━━━━━━━━━━━━━━━━━━━┳━━━━━━━━━━━━━━━━━━━━━━━━━━━━━┳━━━━━━━━━━━━━━━━━┓\n",
              "┃\u001b[1m \u001b[0m\u001b[1mLayer (type)                        \u001b[0m\u001b[1m \u001b[0m┃\u001b[1m \u001b[0m\u001b[1mOutput Shape               \u001b[0m\u001b[1m \u001b[0m┃\u001b[1m \u001b[0m\u001b[1m        Param #\u001b[0m\u001b[1m \u001b[0m┃\n",
              "┡━━━━━━━━━━━━━━━━━━━━━━━━━━━━━━━━━━━━━━╇━━━━━━━━━━━━━━━━━━━━━━━━━━━━━╇━━━━━━━━━━━━━━━━━┩\n",
              "│ input_layer_1 (\u001b[38;5;33mInputLayer\u001b[0m)           │ (\u001b[38;5;45mNone\u001b[0m, \u001b[38;5;34m1\u001b[0m)                   │               \u001b[38;5;34m0\u001b[0m │\n",
              "├──────────────────────────────────────┼─────────────────────────────┼─────────────────┤\n",
              "│ char_vectorizer (\u001b[38;5;33mTextVectorization\u001b[0m)  │ (\u001b[38;5;45mNone\u001b[0m, \u001b[38;5;34m290\u001b[0m)                 │               \u001b[38;5;34m0\u001b[0m │\n",
              "├──────────────────────────────────────┼─────────────────────────────┼─────────────────┤\n",
              "│ char_embed (\u001b[38;5;33mEmbedding\u001b[0m)               │ (\u001b[38;5;45mNone\u001b[0m, \u001b[38;5;34m290\u001b[0m, \u001b[38;5;34m25\u001b[0m)             │           \u001b[38;5;34m1,750\u001b[0m │\n",
              "├──────────────────────────────────────┼─────────────────────────────┼─────────────────┤\n",
              "│ conv1d_1 (\u001b[38;5;33mConv1D\u001b[0m)                    │ (\u001b[38;5;45mNone\u001b[0m, \u001b[38;5;34m290\u001b[0m, \u001b[38;5;34m64\u001b[0m)             │           \u001b[38;5;34m8,064\u001b[0m │\n",
              "├──────────────────────────────────────┼─────────────────────────────┼─────────────────┤\n",
              "│ global_max_pooling1d                 │ (\u001b[38;5;45mNone\u001b[0m, \u001b[38;5;34m64\u001b[0m)                  │               \u001b[38;5;34m0\u001b[0m │\n",
              "│ (\u001b[38;5;33mGlobalMaxPooling1D\u001b[0m)                 │                             │                 │\n",
              "├──────────────────────────────────────┼─────────────────────────────┼─────────────────┤\n",
              "│ dense_1 (\u001b[38;5;33mDense\u001b[0m)                      │ (\u001b[38;5;45mNone\u001b[0m, \u001b[38;5;34m5\u001b[0m)                   │             \u001b[38;5;34m325\u001b[0m │\n",
              "└──────────────────────────────────────┴─────────────────────────────┴─────────────────┘\n"
            ],
            "text/html": [
              "<pre style=\"white-space:pre;overflow-x:auto;line-height:normal;font-family:Menlo,'DejaVu Sans Mono',consolas,'Courier New',monospace\">┏━━━━━━━━━━━━━━━━━━━━━━━━━━━━━━━━━━━━━━┳━━━━━━━━━━━━━━━━━━━━━━━━━━━━━┳━━━━━━━━━━━━━━━━━┓\n",
              "┃<span style=\"font-weight: bold\"> Layer (type)                         </span>┃<span style=\"font-weight: bold\"> Output Shape                </span>┃<span style=\"font-weight: bold\">         Param # </span>┃\n",
              "┡━━━━━━━━━━━━━━━━━━━━━━━━━━━━━━━━━━━━━━╇━━━━━━━━━━━━━━━━━━━━━━━━━━━━━╇━━━━━━━━━━━━━━━━━┩\n",
              "│ input_layer_1 (<span style=\"color: #0087ff; text-decoration-color: #0087ff\">InputLayer</span>)           │ (<span style=\"color: #00d7ff; text-decoration-color: #00d7ff\">None</span>, <span style=\"color: #00af00; text-decoration-color: #00af00\">1</span>)                   │               <span style=\"color: #00af00; text-decoration-color: #00af00\">0</span> │\n",
              "├──────────────────────────────────────┼─────────────────────────────┼─────────────────┤\n",
              "│ char_vectorizer (<span style=\"color: #0087ff; text-decoration-color: #0087ff\">TextVectorization</span>)  │ (<span style=\"color: #00d7ff; text-decoration-color: #00d7ff\">None</span>, <span style=\"color: #00af00; text-decoration-color: #00af00\">290</span>)                 │               <span style=\"color: #00af00; text-decoration-color: #00af00\">0</span> │\n",
              "├──────────────────────────────────────┼─────────────────────────────┼─────────────────┤\n",
              "│ char_embed (<span style=\"color: #0087ff; text-decoration-color: #0087ff\">Embedding</span>)               │ (<span style=\"color: #00d7ff; text-decoration-color: #00d7ff\">None</span>, <span style=\"color: #00af00; text-decoration-color: #00af00\">290</span>, <span style=\"color: #00af00; text-decoration-color: #00af00\">25</span>)             │           <span style=\"color: #00af00; text-decoration-color: #00af00\">1,750</span> │\n",
              "├──────────────────────────────────────┼─────────────────────────────┼─────────────────┤\n",
              "│ conv1d_1 (<span style=\"color: #0087ff; text-decoration-color: #0087ff\">Conv1D</span>)                    │ (<span style=\"color: #00d7ff; text-decoration-color: #00d7ff\">None</span>, <span style=\"color: #00af00; text-decoration-color: #00af00\">290</span>, <span style=\"color: #00af00; text-decoration-color: #00af00\">64</span>)             │           <span style=\"color: #00af00; text-decoration-color: #00af00\">8,064</span> │\n",
              "├──────────────────────────────────────┼─────────────────────────────┼─────────────────┤\n",
              "│ global_max_pooling1d                 │ (<span style=\"color: #00d7ff; text-decoration-color: #00d7ff\">None</span>, <span style=\"color: #00af00; text-decoration-color: #00af00\">64</span>)                  │               <span style=\"color: #00af00; text-decoration-color: #00af00\">0</span> │\n",
              "│ (<span style=\"color: #0087ff; text-decoration-color: #0087ff\">GlobalMaxPooling1D</span>)                 │                             │                 │\n",
              "├──────────────────────────────────────┼─────────────────────────────┼─────────────────┤\n",
              "│ dense_1 (<span style=\"color: #0087ff; text-decoration-color: #0087ff\">Dense</span>)                      │ (<span style=\"color: #00d7ff; text-decoration-color: #00d7ff\">None</span>, <span style=\"color: #00af00; text-decoration-color: #00af00\">5</span>)                   │             <span style=\"color: #00af00; text-decoration-color: #00af00\">325</span> │\n",
              "└──────────────────────────────────────┴─────────────────────────────┴─────────────────┘\n",
              "</pre>\n"
            ]
          },
          "metadata": {}
        },
        {
          "output_type": "display_data",
          "data": {
            "text/plain": [
              "\u001b[1m Total params: \u001b[0m\u001b[38;5;34m10,139\u001b[0m (39.61 KB)\n"
            ],
            "text/html": [
              "<pre style=\"white-space:pre;overflow-x:auto;line-height:normal;font-family:Menlo,'DejaVu Sans Mono',consolas,'Courier New',monospace\"><span style=\"font-weight: bold\"> Total params: </span><span style=\"color: #00af00; text-decoration-color: #00af00\">10,139</span> (39.61 KB)\n",
              "</pre>\n"
            ]
          },
          "metadata": {}
        },
        {
          "output_type": "display_data",
          "data": {
            "text/plain": [
              "\u001b[1m Trainable params: \u001b[0m\u001b[38;5;34m10,139\u001b[0m (39.61 KB)\n"
            ],
            "text/html": [
              "<pre style=\"white-space:pre;overflow-x:auto;line-height:normal;font-family:Menlo,'DejaVu Sans Mono',consolas,'Courier New',monospace\"><span style=\"font-weight: bold\"> Trainable params: </span><span style=\"color: #00af00; text-decoration-color: #00af00\">10,139</span> (39.61 KB)\n",
              "</pre>\n"
            ]
          },
          "metadata": {}
        },
        {
          "output_type": "display_data",
          "data": {
            "text/plain": [
              "\u001b[1m Non-trainable params: \u001b[0m\u001b[38;5;34m0\u001b[0m (0.00 B)\n"
            ],
            "text/html": [
              "<pre style=\"white-space:pre;overflow-x:auto;line-height:normal;font-family:Menlo,'DejaVu Sans Mono',consolas,'Courier New',monospace\"><span style=\"font-weight: bold\"> Non-trainable params: </span><span style=\"color: #00af00; text-decoration-color: #00af00\">0</span> (0.00 B)\n",
              "</pre>\n"
            ]
          },
          "metadata": {}
        }
      ]
    },
    {
      "cell_type": "code",
      "source": [
        "# Create char datasets\n",
        "train_char_dataset = tf.data.Dataset.from_tensor_slices((train_chars, train_labels_one_hot)).batch(32).prefetch(tf.data.AUTOTUNE)\n",
        "val_char_dataset = tf.data.Dataset.from_tensor_slices((val_chars, val_labels_one_hot)).batch(32).prefetch(tf.data.AUTOTUNE)\n",
        "\n",
        "train_char_dataset"
      ],
      "metadata": {
        "colab": {
          "base_uri": "https://localhost:8080/"
        },
        "id": "P7wzajBsatp4",
        "outputId": "fe880569-4f1d-4c91-905d-89c4bb87ce0a"
      },
      "execution_count": 61,
      "outputs": [
        {
          "output_type": "execute_result",
          "data": {
            "text/plain": [
              "<_PrefetchDataset element_spec=(TensorSpec(shape=(None,), dtype=tf.string, name=None), TensorSpec(shape=(None, 5), dtype=tf.float64, name=None))>"
            ]
          },
          "metadata": {},
          "execution_count": 61
        }
      ]
    },
    {
      "cell_type": "code",
      "source": [
        "# Fit the model on chars only\n",
        "model_3_history = model_3.fit(train_char_dataset,\n",
        "                              steps_per_epoch=int(0.1 * len(train_char_dataset)),\n",
        "                              epochs=5,\n",
        "                              validation_data=val_char_dataset,\n",
        "                              validation_steps=int(0.1 * len(val_char_dataset)))"
      ],
      "metadata": {
        "colab": {
          "base_uri": "https://localhost:8080/"
        },
        "id": "5-pmQNP6atso",
        "outputId": "b1a0d08b-93f0-4051-93bb-55da858fb407"
      },
      "execution_count": 62,
      "outputs": [
        {
          "output_type": "stream",
          "name": "stdout",
          "text": [
            "Epoch 1/5\n",
            "\u001b[1m562/562\u001b[0m \u001b[32m━━━━━━━━━━━━━━━━━━━━\u001b[0m\u001b[37m\u001b[0m \u001b[1m4s\u001b[0m 5ms/step - accuracy: 0.4254 - loss: 1.3921 - val_accuracy: 0.5967 - val_loss: 1.0352\n",
            "Epoch 2/5\n",
            "\u001b[1m562/562\u001b[0m \u001b[32m━━━━━━━━━━━━━━━━━━━━\u001b[0m\u001b[37m\u001b[0m \u001b[1m2s\u001b[0m 4ms/step - accuracy: 0.5889 - loss: 1.0310 - val_accuracy: 0.6326 - val_loss: 0.9418\n",
            "Epoch 3/5\n",
            "\u001b[1m562/562\u001b[0m \u001b[32m━━━━━━━━━━━━━━━━━━━━\u001b[0m\u001b[37m\u001b[0m \u001b[1m2s\u001b[0m 4ms/step - accuracy: 0.6287 - loss: 0.9414 - val_accuracy: 0.6543 - val_loss: 0.8887\n",
            "Epoch 4/5\n",
            "\u001b[1m562/562\u001b[0m \u001b[32m━━━━━━━━━━━━━━━━━━━━\u001b[0m\u001b[37m\u001b[0m \u001b[1m2s\u001b[0m 4ms/step - accuracy: 0.6566 - loss: 0.8867 - val_accuracy: 0.6672 - val_loss: 0.8521\n",
            "Epoch 5/5\n",
            "\u001b[1m562/562\u001b[0m \u001b[32m━━━━━━━━━━━━━━━━━━━━\u001b[0m\u001b[37m\u001b[0m \u001b[1m2s\u001b[0m 4ms/step - accuracy: 0.6700 - loss: 0.8526 - val_accuracy: 0.6762 - val_loss: 0.8337\n"
          ]
        }
      ]
    },
    {
      "cell_type": "code",
      "source": [
        "# Evaluate model_3 on whole validation char dataset\n",
        "model_3.evaluate(val_char_dataset)"
      ],
      "metadata": {
        "colab": {
          "base_uri": "https://localhost:8080/"
        },
        "id": "9cesUV3_qwuM",
        "outputId": "f0d2d42c-6f15-44bd-cdb2-45d5a49f2e5b"
      },
      "execution_count": 63,
      "outputs": [
        {
          "output_type": "stream",
          "name": "stdout",
          "text": [
            "\u001b[1m945/945\u001b[0m \u001b[32m━━━━━━━━━━━━━━━━━━━━\u001b[0m\u001b[37m\u001b[0m \u001b[1m2s\u001b[0m 3ms/step - accuracy: 0.6831 - loss: 0.8223\n"
          ]
        },
        {
          "output_type": "execute_result",
          "data": {
            "text/plain": [
              "[0.8263575434684753, 0.6824771761894226]"
            ]
          },
          "metadata": {},
          "execution_count": 63
        }
      ]
    },
    {
      "cell_type": "code",
      "source": [
        "# Make predictions with character model only\n",
        "model_3_pred_probs = model_3.predict(val_char_dataset)\n",
        "model_3_pred_probs"
      ],
      "metadata": {
        "colab": {
          "base_uri": "https://localhost:8080/"
        },
        "id": "_WgWnvfPqww4",
        "outputId": "6ec13259-22d8-4ab0-dec0-41a649656e5f"
      },
      "execution_count": 64,
      "outputs": [
        {
          "output_type": "stream",
          "name": "stdout",
          "text": [
            "\u001b[1m945/945\u001b[0m \u001b[32m━━━━━━━━━━━━━━━━━━━━\u001b[0m\u001b[37m\u001b[0m \u001b[1m2s\u001b[0m 2ms/step\n"
          ]
        },
        {
          "output_type": "execute_result",
          "data": {
            "text/plain": [
              "array([[0.13613488, 0.56362253, 0.09659416, 0.1856456 , 0.01800288],\n",
              "       [0.14127035, 0.45866323, 0.02668565, 0.35466102, 0.01871975],\n",
              "       [0.1646625 , 0.19848429, 0.09391168, 0.53435916, 0.00858244],\n",
              "       ...,\n",
              "       [0.02342085, 0.02965328, 0.07372687, 0.01452306, 0.85867596],\n",
              "       [0.06804568, 0.13573234, 0.4136136 , 0.09041984, 0.29218853],\n",
              "       [0.24940825, 0.6259938 , 0.08539469, 0.0352375 , 0.00396583]],\n",
              "      dtype=float32)"
            ]
          },
          "metadata": {},
          "execution_count": 64
        }
      ]
    },
    {
      "cell_type": "code",
      "source": [
        "# Convert predictions to classes\n",
        "model_3_preds = tf.argmax(model_3_pred_probs, axis=1)\n",
        "model_3_preds"
      ],
      "metadata": {
        "colab": {
          "base_uri": "https://localhost:8080/"
        },
        "id": "RrawPvDGqw1a",
        "outputId": "de03625c-5570-4722-8506-623d38b340fe"
      },
      "execution_count": 65,
      "outputs": [
        {
          "output_type": "execute_result",
          "data": {
            "text/plain": [
              "<tf.Tensor: shape=(30212,), dtype=int64, numpy=array([1, 1, 3, ..., 4, 2, 1])>"
            ]
          },
          "metadata": {},
          "execution_count": 65
        }
      ]
    },
    {
      "cell_type": "code",
      "source": [
        "# Calculate Conv1D char only model results\n",
        "model_3_results = calculate_results(y_true=val_labels_encoded,\n",
        "                                        y_pred=model_3_preds)\n",
        "model_3_results"
      ],
      "metadata": {
        "colab": {
          "base_uri": "https://localhost:8080/"
        },
        "id": "ps7EHdL7q0Do",
        "outputId": "4df1a1ef-7aa3-44cd-c9ff-b71b4bfc8ed8"
      },
      "execution_count": 66,
      "outputs": [
        {
          "output_type": "execute_result",
          "data": {
            "text/plain": [
              "{'accuracy': 68.2477161392824,\n",
              " 'precision': 0.6839298591423792,\n",
              " 'recall': 0.682477161392824,\n",
              " 'f1': 0.6784416953326401}"
            ]
          },
          "metadata": {},
          "execution_count": 66
        }
      ]
    },
    {
      "cell_type": "markdown",
      "source": [
        "###**MODEL 4**\n",
        "\n",
        "Combining pretrained token embeddings with character embeddings"
      ],
      "metadata": {
        "id": "5kTKzU1kZjFZ"
      }
    },
    {
      "cell_type": "code",
      "source": [
        "# 1. Setup token inputs/model\n",
        "\n",
        "tf_hub_embedding_layer = hub.KerasLayer(\"https://tfhub.dev/google/universal-sentence-encoder/4\",\n",
        "                                        input_shape=[],\n",
        "                                        dtype=tf.string,\n",
        "                                        trainable=False,\n",
        "                                        name=\"universal_sentence_encoder\")\n",
        "\n",
        "token_inputs = layers.Input(shape=[], dtype=tf.string, name=\"token_input\")\n",
        "#token_embeddings = layers.Lambda(lambda x: tf_hub_embedding_layer(x))(token_inputs)\n",
        "embedding_dim = 512  # Universal Sentence Encoder has a 512-dimensional output\n",
        "token_embeddings = layers.Lambda(lambda x: tf_hub_embedding_layer(x),\n",
        "                                 output_shape=(embedding_dim,))(token_inputs)\n",
        "token_output = layers.Dense(128, activation=\"relu\")(token_embeddings)\n",
        "token_model = tf.keras.Model(inputs=token_inputs,\n",
        "                             outputs=token_output)\n",
        "\n",
        "# 2. Setup char inputs/model\n",
        "char_inputs = layers.Input(shape=(1,), dtype=tf.string, name=\"char_input\")\n",
        "char_vectors = char_vectorizer(char_inputs)\n",
        "char_embeddings = char_embed(char_vectors)\n",
        "char_bi_lstm = layers.Bidirectional(layers.LSTM(25))(char_embeddings) # bi-LSTM shown in Figure 1 of https://arxiv.org/pdf/1612.05251.pdf\n",
        "char_model = tf.keras.Model(inputs=char_inputs,\n",
        "                            outputs=char_bi_lstm)\n",
        "\n",
        "# 3. Concatenate token and char inputs (create hybrid token embedding)\n",
        "token_char_concat = layers.Concatenate(name=\"token_char_hybrid\")([token_model.output,\n",
        "                                                                  char_model.output])\n",
        "\n",
        "# 4. Create output layers - addition of dropout discussed in 4.2 of https://arxiv.org/pdf/1612.05251.pdf\n",
        "combined_dropout = layers.Dropout(0.5)(token_char_concat)\n",
        "combined_dense = layers.Dense(200, activation=\"relu\")(combined_dropout) # slightly different to Figure 1 due to different shapes of token/char embedding layers\n",
        "final_dropout = layers.Dropout(0.5)(combined_dense)\n",
        "output_layer = layers.Dense(num_classes, activation=\"softmax\")(final_dropout)\n",
        "\n",
        "# 5. Construct model with char and token inputs\n",
        "model_4 = tf.keras.Model(inputs=[token_model.input, char_model.input],\n",
        "                         outputs=output_layer,\n",
        "                         name=\"model_4_token_and_char_embeddings\")"
      ],
      "metadata": {
        "id": "OgINUxj2q0Jp"
      },
      "execution_count": 69,
      "outputs": []
    },
    {
      "cell_type": "code",
      "source": [
        "# Get summary of token and character model\n",
        "model_4.summary()"
      ],
      "metadata": {
        "colab": {
          "base_uri": "https://localhost:8080/",
          "height": 561
        },
        "id": "hbiFitK3q0Gi",
        "outputId": "65dd152a-2cae-4058-b28b-0139805c3040"
      },
      "execution_count": 70,
      "outputs": [
        {
          "output_type": "display_data",
          "data": {
            "text/plain": [
              "\u001b[1mModel: \"model_4_token_and_char_embeddings\"\u001b[0m\n"
            ],
            "text/html": [
              "<pre style=\"white-space:pre;overflow-x:auto;line-height:normal;font-family:Menlo,'DejaVu Sans Mono',consolas,'Courier New',monospace\"><span style=\"font-weight: bold\">Model: \"model_4_token_and_char_embeddings\"</span>\n",
              "</pre>\n"
            ]
          },
          "metadata": {}
        },
        {
          "output_type": "display_data",
          "data": {
            "text/plain": [
              "┏━━━━━━━━━━━━━━━━━━━━━━━━━━━┳━━━━━━━━━━━━━━━━━━━━━━━━┳━━━━━━━━━━━━━━━━┳━━━━━━━━━━━━━━━━━━━━━━━━┓\n",
              "┃\u001b[1m \u001b[0m\u001b[1mLayer (type)             \u001b[0m\u001b[1m \u001b[0m┃\u001b[1m \u001b[0m\u001b[1mOutput Shape          \u001b[0m\u001b[1m \u001b[0m┃\u001b[1m \u001b[0m\u001b[1m       Param #\u001b[0m\u001b[1m \u001b[0m┃\u001b[1m \u001b[0m\u001b[1mConnected to          \u001b[0m\u001b[1m \u001b[0m┃\n",
              "┡━━━━━━━━━━━━━━━━━━━━━━━━━━━╇━━━━━━━━━━━━━━━━━━━━━━━━╇━━━━━━━━━━━━━━━━╇━━━━━━━━━━━━━━━━━━━━━━━━┩\n",
              "│ char_input (\u001b[38;5;33mInputLayer\u001b[0m)   │ (\u001b[38;5;45mNone\u001b[0m, \u001b[38;5;34m1\u001b[0m)              │              \u001b[38;5;34m0\u001b[0m │ -                      │\n",
              "├───────────────────────────┼────────────────────────┼────────────────┼────────────────────────┤\n",
              "│ token_input (\u001b[38;5;33mInputLayer\u001b[0m)  │ (\u001b[38;5;45mNone\u001b[0m)                 │              \u001b[38;5;34m0\u001b[0m │ -                      │\n",
              "├───────────────────────────┼────────────────────────┼────────────────┼────────────────────────┤\n",
              "│ char_vectorizer           │ (\u001b[38;5;45mNone\u001b[0m, \u001b[38;5;34m290\u001b[0m)            │              \u001b[38;5;34m0\u001b[0m │ char_input[\u001b[38;5;34m0\u001b[0m][\u001b[38;5;34m0\u001b[0m]       │\n",
              "│ (\u001b[38;5;33mTextVectorization\u001b[0m)       │                        │                │                        │\n",
              "├───────────────────────────┼────────────────────────┼────────────────┼────────────────────────┤\n",
              "│ lambda_1 (\u001b[38;5;33mLambda\u001b[0m)         │ (\u001b[38;5;45mNone\u001b[0m, \u001b[38;5;34m512\u001b[0m)            │              \u001b[38;5;34m0\u001b[0m │ token_input[\u001b[38;5;34m0\u001b[0m][\u001b[38;5;34m0\u001b[0m]      │\n",
              "├───────────────────────────┼────────────────────────┼────────────────┼────────────────────────┤\n",
              "│ char_embed (\u001b[38;5;33mEmbedding\u001b[0m)    │ (\u001b[38;5;45mNone\u001b[0m, \u001b[38;5;34m290\u001b[0m, \u001b[38;5;34m25\u001b[0m)        │          \u001b[38;5;34m1,750\u001b[0m │ char_vectorizer[\u001b[38;5;34m1\u001b[0m][\u001b[38;5;34m0\u001b[0m]  │\n",
              "├───────────────────────────┼────────────────────────┼────────────────┼────────────────────────┤\n",
              "│ dense_2 (\u001b[38;5;33mDense\u001b[0m)           │ (\u001b[38;5;45mNone\u001b[0m, \u001b[38;5;34m128\u001b[0m)            │         \u001b[38;5;34m65,664\u001b[0m │ lambda_1[\u001b[38;5;34m0\u001b[0m][\u001b[38;5;34m0\u001b[0m]         │\n",
              "├───────────────────────────┼────────────────────────┼────────────────┼────────────────────────┤\n",
              "│ bidirectional             │ (\u001b[38;5;45mNone\u001b[0m, \u001b[38;5;34m50\u001b[0m)             │         \u001b[38;5;34m10,200\u001b[0m │ char_embed[\u001b[38;5;34m1\u001b[0m][\u001b[38;5;34m0\u001b[0m]       │\n",
              "│ (\u001b[38;5;33mBidirectional\u001b[0m)           │                        │                │                        │\n",
              "├───────────────────────────┼────────────────────────┼────────────────┼────────────────────────┤\n",
              "│ token_char_hybrid         │ (\u001b[38;5;45mNone\u001b[0m, \u001b[38;5;34m178\u001b[0m)            │              \u001b[38;5;34m0\u001b[0m │ dense_2[\u001b[38;5;34m0\u001b[0m][\u001b[38;5;34m0\u001b[0m],         │\n",
              "│ (\u001b[38;5;33mConcatenate\u001b[0m)             │                        │                │ bidirectional[\u001b[38;5;34m0\u001b[0m][\u001b[38;5;34m0\u001b[0m]    │\n",
              "├───────────────────────────┼────────────────────────┼────────────────┼────────────────────────┤\n",
              "│ dropout (\u001b[38;5;33mDropout\u001b[0m)         │ (\u001b[38;5;45mNone\u001b[0m, \u001b[38;5;34m178\u001b[0m)            │              \u001b[38;5;34m0\u001b[0m │ token_char_hybrid[\u001b[38;5;34m0\u001b[0m][\u001b[38;5;34m…\u001b[0m │\n",
              "├───────────────────────────┼────────────────────────┼────────────────┼────────────────────────┤\n",
              "│ dense_3 (\u001b[38;5;33mDense\u001b[0m)           │ (\u001b[38;5;45mNone\u001b[0m, \u001b[38;5;34m200\u001b[0m)            │         \u001b[38;5;34m35,800\u001b[0m │ dropout[\u001b[38;5;34m0\u001b[0m][\u001b[38;5;34m0\u001b[0m]          │\n",
              "├───────────────────────────┼────────────────────────┼────────────────┼────────────────────────┤\n",
              "│ dropout_1 (\u001b[38;5;33mDropout\u001b[0m)       │ (\u001b[38;5;45mNone\u001b[0m, \u001b[38;5;34m200\u001b[0m)            │              \u001b[38;5;34m0\u001b[0m │ dense_3[\u001b[38;5;34m0\u001b[0m][\u001b[38;5;34m0\u001b[0m]          │\n",
              "├───────────────────────────┼────────────────────────┼────────────────┼────────────────────────┤\n",
              "│ dense_4 (\u001b[38;5;33mDense\u001b[0m)           │ (\u001b[38;5;45mNone\u001b[0m, \u001b[38;5;34m5\u001b[0m)              │          \u001b[38;5;34m1,005\u001b[0m │ dropout_1[\u001b[38;5;34m0\u001b[0m][\u001b[38;5;34m0\u001b[0m]        │\n",
              "└───────────────────────────┴────────────────────────┴────────────────┴────────────────────────┘\n"
            ],
            "text/html": [
              "<pre style=\"white-space:pre;overflow-x:auto;line-height:normal;font-family:Menlo,'DejaVu Sans Mono',consolas,'Courier New',monospace\">┏━━━━━━━━━━━━━━━━━━━━━━━━━━━┳━━━━━━━━━━━━━━━━━━━━━━━━┳━━━━━━━━━━━━━━━━┳━━━━━━━━━━━━━━━━━━━━━━━━┓\n",
              "┃<span style=\"font-weight: bold\"> Layer (type)              </span>┃<span style=\"font-weight: bold\"> Output Shape           </span>┃<span style=\"font-weight: bold\">        Param # </span>┃<span style=\"font-weight: bold\"> Connected to           </span>┃\n",
              "┡━━━━━━━━━━━━━━━━━━━━━━━━━━━╇━━━━━━━━━━━━━━━━━━━━━━━━╇━━━━━━━━━━━━━━━━╇━━━━━━━━━━━━━━━━━━━━━━━━┩\n",
              "│ char_input (<span style=\"color: #0087ff; text-decoration-color: #0087ff\">InputLayer</span>)   │ (<span style=\"color: #00d7ff; text-decoration-color: #00d7ff\">None</span>, <span style=\"color: #00af00; text-decoration-color: #00af00\">1</span>)              │              <span style=\"color: #00af00; text-decoration-color: #00af00\">0</span> │ -                      │\n",
              "├───────────────────────────┼────────────────────────┼────────────────┼────────────────────────┤\n",
              "│ token_input (<span style=\"color: #0087ff; text-decoration-color: #0087ff\">InputLayer</span>)  │ (<span style=\"color: #00d7ff; text-decoration-color: #00d7ff\">None</span>)                 │              <span style=\"color: #00af00; text-decoration-color: #00af00\">0</span> │ -                      │\n",
              "├───────────────────────────┼────────────────────────┼────────────────┼────────────────────────┤\n",
              "│ char_vectorizer           │ (<span style=\"color: #00d7ff; text-decoration-color: #00d7ff\">None</span>, <span style=\"color: #00af00; text-decoration-color: #00af00\">290</span>)            │              <span style=\"color: #00af00; text-decoration-color: #00af00\">0</span> │ char_input[<span style=\"color: #00af00; text-decoration-color: #00af00\">0</span>][<span style=\"color: #00af00; text-decoration-color: #00af00\">0</span>]       │\n",
              "│ (<span style=\"color: #0087ff; text-decoration-color: #0087ff\">TextVectorization</span>)       │                        │                │                        │\n",
              "├───────────────────────────┼────────────────────────┼────────────────┼────────────────────────┤\n",
              "│ lambda_1 (<span style=\"color: #0087ff; text-decoration-color: #0087ff\">Lambda</span>)         │ (<span style=\"color: #00d7ff; text-decoration-color: #00d7ff\">None</span>, <span style=\"color: #00af00; text-decoration-color: #00af00\">512</span>)            │              <span style=\"color: #00af00; text-decoration-color: #00af00\">0</span> │ token_input[<span style=\"color: #00af00; text-decoration-color: #00af00\">0</span>][<span style=\"color: #00af00; text-decoration-color: #00af00\">0</span>]      │\n",
              "├───────────────────────────┼────────────────────────┼────────────────┼────────────────────────┤\n",
              "│ char_embed (<span style=\"color: #0087ff; text-decoration-color: #0087ff\">Embedding</span>)    │ (<span style=\"color: #00d7ff; text-decoration-color: #00d7ff\">None</span>, <span style=\"color: #00af00; text-decoration-color: #00af00\">290</span>, <span style=\"color: #00af00; text-decoration-color: #00af00\">25</span>)        │          <span style=\"color: #00af00; text-decoration-color: #00af00\">1,750</span> │ char_vectorizer[<span style=\"color: #00af00; text-decoration-color: #00af00\">1</span>][<span style=\"color: #00af00; text-decoration-color: #00af00\">0</span>]  │\n",
              "├───────────────────────────┼────────────────────────┼────────────────┼────────────────────────┤\n",
              "│ dense_2 (<span style=\"color: #0087ff; text-decoration-color: #0087ff\">Dense</span>)           │ (<span style=\"color: #00d7ff; text-decoration-color: #00d7ff\">None</span>, <span style=\"color: #00af00; text-decoration-color: #00af00\">128</span>)            │         <span style=\"color: #00af00; text-decoration-color: #00af00\">65,664</span> │ lambda_1[<span style=\"color: #00af00; text-decoration-color: #00af00\">0</span>][<span style=\"color: #00af00; text-decoration-color: #00af00\">0</span>]         │\n",
              "├───────────────────────────┼────────────────────────┼────────────────┼────────────────────────┤\n",
              "│ bidirectional             │ (<span style=\"color: #00d7ff; text-decoration-color: #00d7ff\">None</span>, <span style=\"color: #00af00; text-decoration-color: #00af00\">50</span>)             │         <span style=\"color: #00af00; text-decoration-color: #00af00\">10,200</span> │ char_embed[<span style=\"color: #00af00; text-decoration-color: #00af00\">1</span>][<span style=\"color: #00af00; text-decoration-color: #00af00\">0</span>]       │\n",
              "│ (<span style=\"color: #0087ff; text-decoration-color: #0087ff\">Bidirectional</span>)           │                        │                │                        │\n",
              "├───────────────────────────┼────────────────────────┼────────────────┼────────────────────────┤\n",
              "│ token_char_hybrid         │ (<span style=\"color: #00d7ff; text-decoration-color: #00d7ff\">None</span>, <span style=\"color: #00af00; text-decoration-color: #00af00\">178</span>)            │              <span style=\"color: #00af00; text-decoration-color: #00af00\">0</span> │ dense_2[<span style=\"color: #00af00; text-decoration-color: #00af00\">0</span>][<span style=\"color: #00af00; text-decoration-color: #00af00\">0</span>],         │\n",
              "│ (<span style=\"color: #0087ff; text-decoration-color: #0087ff\">Concatenate</span>)             │                        │                │ bidirectional[<span style=\"color: #00af00; text-decoration-color: #00af00\">0</span>][<span style=\"color: #00af00; text-decoration-color: #00af00\">0</span>]    │\n",
              "├───────────────────────────┼────────────────────────┼────────────────┼────────────────────────┤\n",
              "│ dropout (<span style=\"color: #0087ff; text-decoration-color: #0087ff\">Dropout</span>)         │ (<span style=\"color: #00d7ff; text-decoration-color: #00d7ff\">None</span>, <span style=\"color: #00af00; text-decoration-color: #00af00\">178</span>)            │              <span style=\"color: #00af00; text-decoration-color: #00af00\">0</span> │ token_char_hybrid[<span style=\"color: #00af00; text-decoration-color: #00af00\">0</span>][<span style=\"color: #00af00; text-decoration-color: #00af00\">…</span> │\n",
              "├───────────────────────────┼────────────────────────┼────────────────┼────────────────────────┤\n",
              "│ dense_3 (<span style=\"color: #0087ff; text-decoration-color: #0087ff\">Dense</span>)           │ (<span style=\"color: #00d7ff; text-decoration-color: #00d7ff\">None</span>, <span style=\"color: #00af00; text-decoration-color: #00af00\">200</span>)            │         <span style=\"color: #00af00; text-decoration-color: #00af00\">35,800</span> │ dropout[<span style=\"color: #00af00; text-decoration-color: #00af00\">0</span>][<span style=\"color: #00af00; text-decoration-color: #00af00\">0</span>]          │\n",
              "├───────────────────────────┼────────────────────────┼────────────────┼────────────────────────┤\n",
              "│ dropout_1 (<span style=\"color: #0087ff; text-decoration-color: #0087ff\">Dropout</span>)       │ (<span style=\"color: #00d7ff; text-decoration-color: #00d7ff\">None</span>, <span style=\"color: #00af00; text-decoration-color: #00af00\">200</span>)            │              <span style=\"color: #00af00; text-decoration-color: #00af00\">0</span> │ dense_3[<span style=\"color: #00af00; text-decoration-color: #00af00\">0</span>][<span style=\"color: #00af00; text-decoration-color: #00af00\">0</span>]          │\n",
              "├───────────────────────────┼────────────────────────┼────────────────┼────────────────────────┤\n",
              "│ dense_4 (<span style=\"color: #0087ff; text-decoration-color: #0087ff\">Dense</span>)           │ (<span style=\"color: #00d7ff; text-decoration-color: #00d7ff\">None</span>, <span style=\"color: #00af00; text-decoration-color: #00af00\">5</span>)              │          <span style=\"color: #00af00; text-decoration-color: #00af00\">1,005</span> │ dropout_1[<span style=\"color: #00af00; text-decoration-color: #00af00\">0</span>][<span style=\"color: #00af00; text-decoration-color: #00af00\">0</span>]        │\n",
              "└───────────────────────────┴────────────────────────┴────────────────┴────────────────────────┘\n",
              "</pre>\n"
            ]
          },
          "metadata": {}
        },
        {
          "output_type": "display_data",
          "data": {
            "text/plain": [
              "\u001b[1m Total params: \u001b[0m\u001b[38;5;34m114,419\u001b[0m (446.95 KB)\n"
            ],
            "text/html": [
              "<pre style=\"white-space:pre;overflow-x:auto;line-height:normal;font-family:Menlo,'DejaVu Sans Mono',consolas,'Courier New',monospace\"><span style=\"font-weight: bold\"> Total params: </span><span style=\"color: #00af00; text-decoration-color: #00af00\">114,419</span> (446.95 KB)\n",
              "</pre>\n"
            ]
          },
          "metadata": {}
        },
        {
          "output_type": "display_data",
          "data": {
            "text/plain": [
              "\u001b[1m Trainable params: \u001b[0m\u001b[38;5;34m114,419\u001b[0m (446.95 KB)\n"
            ],
            "text/html": [
              "<pre style=\"white-space:pre;overflow-x:auto;line-height:normal;font-family:Menlo,'DejaVu Sans Mono',consolas,'Courier New',monospace\"><span style=\"font-weight: bold\"> Trainable params: </span><span style=\"color: #00af00; text-decoration-color: #00af00\">114,419</span> (446.95 KB)\n",
              "</pre>\n"
            ]
          },
          "metadata": {}
        },
        {
          "output_type": "display_data",
          "data": {
            "text/plain": [
              "\u001b[1m Non-trainable params: \u001b[0m\u001b[38;5;34m0\u001b[0m (0.00 B)\n"
            ],
            "text/html": [
              "<pre style=\"white-space:pre;overflow-x:auto;line-height:normal;font-family:Menlo,'DejaVu Sans Mono',consolas,'Courier New',monospace\"><span style=\"font-weight: bold\"> Non-trainable params: </span><span style=\"color: #00af00; text-decoration-color: #00af00\">0</span> (0.00 B)\n",
              "</pre>\n"
            ]
          },
          "metadata": {}
        }
      ]
    },
    {
      "cell_type": "code",
      "source": [
        "# Plot hybrid token and character model\n",
        "from tensorflow.keras.utils import plot_model\n",
        "plot_model(model_4)"
      ],
      "metadata": {
        "colab": {
          "base_uri": "https://localhost:8080/",
          "height": 1000
        },
        "id": "tlj_t-b7auPe",
        "outputId": "308b47d9-ada1-4a0a-daa5-dd79f6ad220b"
      },
      "execution_count": 71,
      "outputs": [
        {
          "output_type": "execute_result",
          "data": {
            "image/png": "[encoded data removed]",
            "text/plain": [
              "<IPython.core.display.Image object>"
            ]
          },
          "metadata": {},
          "execution_count": 71
        }
      ]
    },
    {
      "cell_type": "code",
      "source": [
        "# Compile token char model\n",
        "model_4.compile(loss=\"categorical_crossentropy\",\n",
        "                optimizer=tf.keras.optimizers.Adam(), # section 4.2 of https://arxiv.org/pdf/1612.05251.pdf mentions using SGD but we'll stick with Adam\n",
        "                metrics=[\"accuracy\"])"
      ],
      "metadata": {
        "id": "RFqeGcX_auST"
      },
      "execution_count": 72,
      "outputs": []
    },
    {
      "cell_type": "code",
      "source": [
        "# Combine chars and tokens into a dataset\n",
        "train_char_token_data = tf.data.Dataset.from_tensor_slices((train_sentences, train_chars)) # make data\n",
        "train_char_token_labels = tf.data.Dataset.from_tensor_slices(train_labels_one_hot) # make labels\n",
        "train_char_token_dataset = tf.data.Dataset.zip((train_char_token_data, train_char_token_labels)) # combine data and labels\n",
        "\n",
        "# Prefetch and batch train data\n",
        "train_char_token_dataset = train_char_token_dataset.batch(32).prefetch(tf.data.AUTOTUNE)\n",
        "\n",
        "# Repeat same steps validation data\n",
        "val_char_token_data = tf.data.Dataset.from_tensor_slices((val_sentences, val_chars))\n",
        "val_char_token_labels = tf.data.Dataset.from_tensor_slices(val_labels_one_hot)\n",
        "val_char_token_dataset = tf.data.Dataset.zip((val_char_token_data, val_char_token_labels))\n",
        "val_char_token_dataset = val_char_token_dataset.batch(32).prefetch(tf.data.AUTOTUNE)"
      ],
      "metadata": {
        "id": "m4x3ac0LauU-"
      },
      "execution_count": 73,
      "outputs": []
    },
    {
      "cell_type": "code",
      "source": [
        "# Check out training char and token embedding dataset\n",
        "train_char_token_dataset, val_char_token_dataset"
      ],
      "metadata": {
        "colab": {
          "base_uri": "https://localhost:8080/"
        },
        "id": "nmuL3n9dauXC",
        "outputId": "42092138-ddfc-43d2-927e-1ac72146f925"
      },
      "execution_count": 74,
      "outputs": [
        {
          "output_type": "execute_result",
          "data": {
            "text/plain": [
              "(<_PrefetchDataset element_spec=((TensorSpec(shape=(None,), dtype=tf.string, name=None), TensorSpec(shape=(None,), dtype=tf.string, name=None)), TensorSpec(shape=(None, 5), dtype=tf.float64, name=None))>,\n",
              " <_PrefetchDataset element_spec=((TensorSpec(shape=(None,), dtype=tf.string, name=None), TensorSpec(shape=(None,), dtype=tf.string, name=None)), TensorSpec(shape=(None, 5), dtype=tf.float64, name=None))>)"
            ]
          },
          "metadata": {},
          "execution_count": 74
        }
      ]
    },
    {
      "cell_type": "code",
      "source": [
        "# Fit the model on tokens and chars\n",
        "model_4_history = model_4.fit(train_char_token_dataset, # train on dataset of token and characters\n",
        "                              steps_per_epoch=int(0.1 * len(train_char_token_dataset)),\n",
        "                              epochs=5,\n",
        "                              validation_data=val_char_token_dataset,\n",
        "                              validation_steps=int(0.1 * len(val_char_token_dataset)))"
      ],
      "metadata": {
        "colab": {
          "base_uri": "https://localhost:8080/"
        },
        "id": "GK3Faq_FauZk",
        "outputId": "206a773f-858d-4827-dfa7-004d642b51a4"
      },
      "execution_count": 75,
      "outputs": [
        {
          "output_type": "stream",
          "name": "stdout",
          "text": [
            "Epoch 1/5\n",
            "\u001b[1m562/562\u001b[0m \u001b[32m━━━━━━━━━━━━━━━━━━━━\u001b[0m\u001b[37m\u001b[0m \u001b[1m20s\u001b[0m 25ms/step - accuracy: 0.5279 - loss: 1.1492 - val_accuracy: 0.6991 - val_loss: 0.7834\n",
            "Epoch 2/5\n",
            "\u001b[1m562/562\u001b[0m \u001b[32m━━━━━━━━━━━━━━━━━━━━\u001b[0m\u001b[37m\u001b[0m \u001b[1m13s\u001b[0m 24ms/step - accuracy: 0.6886 - loss: 0.8033 - val_accuracy: 0.7271 - val_loss: 0.7160\n",
            "Epoch 3/5\n",
            "\u001b[1m562/562\u001b[0m \u001b[32m━━━━━━━━━━━━━━━━━━━━\u001b[0m\u001b[37m\u001b[0m \u001b[1m13s\u001b[0m 24ms/step - accuracy: 0.7022 - loss: 0.7741 - val_accuracy: 0.7354 - val_loss: 0.6864\n",
            "Epoch 4/5\n",
            "\u001b[1m562/562\u001b[0m \u001b[32m━━━━━━━━━━━━━━━━━━━━\u001b[0m\u001b[37m\u001b[0m \u001b[1m13s\u001b[0m 24ms/step - accuracy: 0.7174 - loss: 0.7313 - val_accuracy: 0.7447 - val_loss: 0.6698\n",
            "Epoch 5/5\n",
            "\u001b[1m562/562\u001b[0m \u001b[32m━━━━━━━━━━━━━━━━━━━━\u001b[0m\u001b[37m\u001b[0m \u001b[1m13s\u001b[0m 24ms/step - accuracy: 0.7200 - loss: 0.7404 - val_accuracy: 0.7447 - val_loss: 0.6618\n"
          ]
        }
      ]
    },
    {
      "cell_type": "code",
      "source": [
        "# Evaluate on the whole validation dataset\n",
        "model_4.evaluate(val_char_token_dataset)"
      ],
      "metadata": {
        "colab": {
          "base_uri": "https://localhost:8080/"
        },
        "id": "5k0vkInYrtrQ",
        "outputId": "92a6ca4d-7723-4f70-e8e0-3fe1b60c5876"
      },
      "execution_count": 76,
      "outputs": [
        {
          "output_type": "stream",
          "name": "stdout",
          "text": [
            "\u001b[1m945/945\u001b[0m \u001b[32m━━━━━━━━━━━━━━━━━━━━\u001b[0m\u001b[37m\u001b[0m \u001b[1m11s\u001b[0m 12ms/step - accuracy: 0.7468 - loss: 0.6589\n"
          ]
        },
        {
          "output_type": "execute_result",
          "data": {
            "text/plain": [
              "[0.6615230441093445, 0.7471534609794617]"
            ]
          },
          "metadata": {},
          "execution_count": 76
        }
      ]
    },
    {
      "cell_type": "code",
      "source": [
        "# Make predictions using the token-character model hybrid\n",
        "model_4_pred_probs = model_4.predict(val_char_token_dataset)\n",
        "model_4_pred_probs"
      ],
      "metadata": {
        "colab": {
          "base_uri": "https://localhost:8080/"
        },
        "id": "-0LJ0yfNrtvO",
        "outputId": "4098bbc0-5f13-4eff-e1b8-9ab9fca65f66"
      },
      "execution_count": 77,
      "outputs": [
        {
          "output_type": "stream",
          "name": "stdout",
          "text": [
            "\u001b[1m945/945\u001b[0m \u001b[32m━━━━━━━━━━━━━━━━━━━━\u001b[0m\u001b[37m\u001b[0m \u001b[1m12s\u001b[0m 12ms/step\n"
          ]
        },
        {
          "output_type": "execute_result",
          "data": {
            "text/plain": [
              "array([[5.3663003e-01, 2.6944053e-01, 2.6743582e-03, 1.8309462e-01,\n",
              "        8.1604281e-03],\n",
              "       [4.6094850e-01, 4.0957344e-01, 5.0400798e-03, 1.2085322e-01,\n",
              "        3.5847658e-03],\n",
              "       [3.8207990e-01, 4.3600120e-02, 6.2326267e-02, 4.8923928e-01,\n",
              "        2.2754528e-02],\n",
              "       ...,\n",
              "       [1.3364333e-04, 1.8415625e-03, 4.1091364e-02, 3.5072499e-05,\n",
              "        9.5689833e-01],\n",
              "       [3.4114008e-03, 1.5894756e-02, 4.0913025e-01, 1.2239172e-03,\n",
              "        5.7033968e-01],\n",
              "       [2.2295089e-01, 4.8538399e-01, 2.3103741e-01, 8.1400126e-03,\n",
              "        5.2487716e-02]], dtype=float32)"
            ]
          },
          "metadata": {},
          "execution_count": 77
        }
      ]
    },
    {
      "cell_type": "code",
      "source": [
        "# Turn prediction probabilities into prediction classes\n",
        "model_4_preds = tf.argmax(model_4_pred_probs, axis=1)\n",
        "model_4_preds"
      ],
      "metadata": {
        "colab": {
          "base_uri": "https://localhost:8080/"
        },
        "id": "5EjVr8I9rt1x",
        "outputId": "09307ee9-8adb-43b9-b3e2-25c684eba49e"
      },
      "execution_count": 78,
      "outputs": [
        {
          "output_type": "execute_result",
          "data": {
            "text/plain": [
              "<tf.Tensor: shape=(30212,), dtype=int64, numpy=array([0, 0, 3, ..., 4, 4, 1])>"
            ]
          },
          "metadata": {},
          "execution_count": 78
        }
      ]
    },
    {
      "cell_type": "code",
      "source": [
        "# Get results of token-char-hybrid model\n",
        "model_4_results = calculate_results(y_true=val_labels_encoded,\n",
        "                                    y_pred=model_4_preds)\n",
        "model_4_results"
      ],
      "metadata": {
        "colab": {
          "base_uri": "https://localhost:8080/"
        },
        "id": "iQL59DPer1Qx",
        "outputId": "45686ebb-f7bb-4ed6-9e34-d5a104cf1f9f"
      },
      "execution_count": 79,
      "outputs": [
        {
          "output_type": "execute_result",
          "data": {
            "text/plain": [
              "{'accuracy': 74.71534489606779,\n",
              " 'precision': 0.7443390484182898,\n",
              " 'recall': 0.7471534489606779,\n",
              " 'f1': 0.7415377642904489}"
            ]
          },
          "metadata": {},
          "execution_count": 79
        }
      ]
    },
    {
      "cell_type": "markdown",
      "source": [
        "###**MODEL 5**\n",
        "Transfer Learning with pretrained token embeddings + character embeddings + positional embeddings"
      ],
      "metadata": {
        "id": "xl-lNPu6Zj9v"
      }
    },
    {
      "cell_type": "code",
      "source": [
        "# Inspect training dataframe\n",
        "train_df.head()"
      ],
      "metadata": {
        "colab": {
          "base_uri": "https://localhost:8080/",
          "height": 206
        },
        "id": "-T-vxgLxr1bl",
        "outputId": "c67967e7-db7d-490e-b567-b936e83518a2"
      },
      "execution_count": 80,
      "outputs": [
        {
          "output_type": "execute_result",
          "data": {
            "text/plain": [
              "      target                                               text  line_number  \\\n",
              "0  OBJECTIVE  to investigate the efficacy of @ weeks of dail...            0   \n",
              "1    METHODS  a total of @ patients with primary knee oa wer...            1   \n",
              "2    METHODS  outcome measures included pain reduction and i...            2   \n",
              "3    METHODS  pain was assessed using the visual analog pain...            3   \n",
              "4    METHODS  secondary outcome measures included the wester...            4   \n",
              "\n",
              "   total_lines  \n",
              "0           11  \n",
              "1           11  \n",
              "2           11  \n",
              "3           11  \n",
              "4           11  "
            ],
            "text/html": [
              "\n",
              "  <div id=\"df-404acd6a-66b1-449b-bbc7-03ad1808eaa8\" class=\"colab-df-container\">\n",
              "    <div>\n",
              "<style scoped>\n",
              "    .dataframe tbody tr th:only-of-type {\n",
              "        vertical-align: middle;\n",
              "    }\n",
              "\n",
              "    .dataframe tbody tr th {\n",
              "        vertical-align: top;\n",
              "    }\n",
              "\n",
              "    .dataframe thead th {\n",
              "        text-align: right;\n",
              "    }\n",
              "</style>\n",
              "<table border=\"1\" class=\"dataframe\">\n",
              "  <thead>\n",
              "    <tr style=\"text-align: right;\">\n",
              "      <th></th>\n",
              "      <th>target</th>\n",
              "      <th>text</th>\n",
              "      <th>line_number</th>\n",
              "      <th>total_lines</th>\n",
              "    </tr>\n",
              "  </thead>\n",
              "  <tbody>\n",
              "    <tr>\n",
              "      <th>0</th>\n",
              "      <td>OBJECTIVE</td>\n",
              "      <td>to investigate the efficacy of @ weeks of dail...</td>\n",
              "      <td>0</td>\n",
              "      <td>11</td>\n",
              "    </tr>\n",
              "    <tr>\n",
              "      <th>1</th>\n",
              "      <td>METHODS</td>\n",
              "      <td>a total of @ patients with primary knee oa wer...</td>\n",
              "      <td>1</td>\n",
              "      <td>11</td>\n",
              "    </tr>\n",
              "    <tr>\n",
              "      <th>2</th>\n",
              "      <td>METHODS</td>\n",
              "      <td>outcome measures included pain reduction and i...</td>\n",
              "      <td>2</td>\n",
              "      <td>11</td>\n",
              "    </tr>\n",
              "    <tr>\n",
              "      <th>3</th>\n",
              "      <td>METHODS</td>\n",
              "      <td>pain was assessed using the visual analog pain...</td>\n",
              "      <td>3</td>\n",
              "      <td>11</td>\n",
              "    </tr>\n",
              "    <tr>\n",
              "      <th>4</th>\n",
              "      <td>METHODS</td>\n",
              "      <td>secondary outcome measures included the wester...</td>\n",
              "      <td>4</td>\n",
              "      <td>11</td>\n",
              "    </tr>\n",
              "  </tbody>\n",
              "</table>\n",
              "</div>\n",
              "    <div class=\"colab-df-buttons\">\n",
              "\n",
              "  <div class=\"colab-df-container\">\n",
              "    <button class=\"colab-df-convert\" onclick=\"convertToInteractive('df-404acd6a-66b1-449b-bbc7-03ad1808eaa8')\"\n",
              "            title=\"Convert this dataframe to an interactive table.\"\n",
              "            style=\"display:none;\">\n",
              "\n",
              "  <svg xmlns=\"http://www.w3.org/2000/svg\" height=\"24px\" viewBox=\"0 -960 960 960\">\n",
              "    <path d=\"M120-120v-720h720v720H120Zm60-500h600v-160H180v160Zm220 220h160v-160H400v160Zm0 220h160v-160H400v160ZM180-400h160v-160H180v160Zm440 0h160v-160H620v160ZM180-180h160v-160H180v160Zm440 0h160v-160H620v160Z\"/>\n",
              "  </svg>\n",
              "    </button>\n",
              "\n",
              "  <style>\n",
              "    .colab-df-container {\n",
              "      display:flex;\n",
              "      gap: 12px;\n",
              "    }\n",
              "\n",
              "    .colab-df-convert {\n",
              "      background-color: #E8F0FE;\n",
              "      border: none;\n",
              "      border-radius: 50%;\n",
              "      cursor: pointer;\n",
              "      display: none;\n",
              "      fill: #1967D2;\n",
              "      height: 32px;\n",
              "      padding: 0 0 0 0;\n",
              "      width: 32px;\n",
              "    }\n",
              "\n",
              "    .colab-df-convert:hover {\n",
              "      background-color: #E2EBFA;\n",
              "      box-shadow: 0px 1px 2px rgba(60, 64, 67, 0.3), 0px 1px 3px 1px rgba(60, 64, 67, 0.15);\n",
              "      fill: #174EA6;\n",
              "    }\n",
              "\n",
              "    .colab-df-buttons div {\n",
              "      margin-bottom: 4px;\n",
              "    }\n",
              "\n",
              "    [theme=dark] .colab-df-convert {\n",
              "      background-color: #3B4455;\n",
              "      fill: #D2E3FC;\n",
              "    }\n",
              "\n",
              "    [theme=dark] .colab-df-convert:hover {\n",
              "      background-color: #434B5C;\n",
              "      box-shadow: 0px 1px 3px 1px rgba(0, 0, 0, 0.15);\n",
              "      filter: drop-shadow(0px 1px 2px rgba(0, 0, 0, 0.3));\n",
              "      fill: #FFFFFF;\n",
              "    }\n",
              "  </style>\n",
              "\n",
              "    <script>\n",
              "      const buttonEl =\n",
              "        document.querySelector('#df-404acd6a-66b1-449b-bbc7-03ad1808eaa8 button.colab-df-convert');\n",
              "      buttonEl.style.display =\n",
              "        google.colab.kernel.accessAllowed ? 'block' : 'none';\n",
              "\n",
              "      async function convertToInteractive(key) {\n",
              "        const element = document.querySelector('#df-404acd6a-66b1-449b-bbc7-03ad1808eaa8');\n",
              "        const dataTable =\n",
              "          await google.colab.kernel.invokeFunction('convertToInteractive',\n",
              "                                                    [key], {});\n",
              "        if (!dataTable) return;\n",
              "\n",
              "        const docLinkHtml = 'Like what you see? Visit the ' +\n",
              "          '<a target=\"_blank\" href=https://colab.research.google.com/notebooks/data_table.ipynb>data table notebook</a>'\n",
              "          + ' to learn more about interactive tables.';\n",
              "        element.innerHTML = '';\n",
              "        dataTable['output_type'] = 'display_data';\n",
              "        await google.colab.output.renderOutput(dataTable, element);\n",
              "        const docLink = document.createElement('div');\n",
              "        docLink.innerHTML = docLinkHtml;\n",
              "        element.appendChild(docLink);\n",
              "      }\n",
              "    </script>\n",
              "  </div>\n",
              "\n",
              "\n",
              "<div id=\"df-710413da-7d25-4c3e-b543-842372838aca\">\n",
              "  <button class=\"colab-df-quickchart\" onclick=\"quickchart('df-710413da-7d25-4c3e-b543-842372838aca')\"\n",
              "            title=\"Suggest charts\"\n",
              "            style=\"display:none;\">\n",
              "\n",
              "<svg xmlns=\"http://www.w3.org/2000/svg\" height=\"24px\"viewBox=\"0 0 24 24\"\n",
              "     width=\"24px\">\n",
              "    <g>\n",
              "        <path d=\"M19 3H5c-1.1 0-2 .9-2 2v14c0 1.1.9 2 2 2h14c1.1 0 2-.9 2-2V5c0-1.1-.9-2-2-2zM9 17H7v-7h2v7zm4 0h-2V7h2v10zm4 0h-2v-4h2v4z\"/>\n",
              "    </g>\n",
              "</svg>\n",
              "  </button>\n",
              "\n",
              "<style>\n",
              "  .colab-df-quickchart {\n",
              "      --bg-color: #E8F0FE;\n",
              "      --fill-color: #1967D2;\n",
              "      --hover-bg-color: #E2EBFA;\n",
              "      --hover-fill-color: #174EA6;\n",
              "      --disabled-fill-color: #AAA;\n",
              "      --disabled-bg-color: #DDD;\n",
              "  }\n",
              "\n",
              "  [theme=dark] .colab-df-quickchart {\n",
              "      --bg-color: #3B4455;\n",
              "      --fill-color: #D2E3FC;\n",
              "      --hover-bg-color: #434B5C;\n",
              "      --hover-fill-color: #FFFFFF;\n",
              "      --disabled-bg-color: #3B4455;\n",
              "      --disabled-fill-color: #666;\n",
              "  }\n",
              "\n",
              "  .colab-df-quickchart {\n",
              "    background-color: var(--bg-color);\n",
              "    border: none;\n",
              "    border-radius: 50%;\n",
              "    cursor: pointer;\n",
              "    display: none;\n",
              "    fill: var(--fill-color);\n",
              "    height: 32px;\n",
              "    padding: 0;\n",
              "    width: 32px;\n",
              "  }\n",
              "\n",
              "  .colab-df-quickchart:hover {\n",
              "    background-color: var(--hover-bg-color);\n",
              "    box-shadow: 0 1px 2px rgba(60, 64, 67, 0.3), 0 1px 3px 1px rgba(60, 64, 67, 0.15);\n",
              "    fill: var(--button-hover-fill-color);\n",
              "  }\n",
              "\n",
              "  .colab-df-quickchart-complete:disabled,\n",
              "  .colab-df-quickchart-complete:disabled:hover {\n",
              "    background-color: var(--disabled-bg-color);\n",
              "    fill: var(--disabled-fill-color);\n",
              "    box-shadow: none;\n",
              "  }\n",
              "\n",
              "  .colab-df-spinner {\n",
              "    border: 2px solid var(--fill-color);\n",
              "    border-color: transparent;\n",
              "    border-bottom-color: var(--fill-color);\n",
              "    animation:\n",
              "      spin 1s steps(1) infinite;\n",
              "  }\n",
              "\n",
              "  @keyframes spin {\n",
              "    0% {\n",
              "      border-color: transparent;\n",
              "      border-bottom-color: var(--fill-color);\n",
              "      border-left-color: var(--fill-color);\n",
              "    }\n",
              "    20% {\n",
              "      border-color: transparent;\n",
              "      border-left-color: var(--fill-color);\n",
              "      border-top-color: var(--fill-color);\n",
              "    }\n",
              "    30% {\n",
              "      border-color: transparent;\n",
              "      border-left-color: var(--fill-color);\n",
              "      border-top-color: var(--fill-color);\n",
              "      border-right-color: var(--fill-color);\n",
              "    }\n",
              "    40% {\n",
              "      border-color: transparent;\n",
              "      border-right-color: var(--fill-color);\n",
              "      border-top-color: var(--fill-color);\n",
              "    }\n",
              "    60% {\n",
              "      border-color: transparent;\n",
              "      border-right-color: var(--fill-color);\n",
              "    }\n",
              "    80% {\n",
              "      border-color: transparent;\n",
              "      border-right-color: var(--fill-color);\n",
              "      border-bottom-color: var(--fill-color);\n",
              "    }\n",
              "    90% {\n",
              "      border-color: transparent;\n",
              "      border-bottom-color: var(--fill-color);\n",
              "    }\n",
              "  }\n",
              "</style>\n",
              "\n",
              "  <script>\n",
              "    async function quickchart(key) {\n",
              "      const quickchartButtonEl =\n",
              "        document.querySelector('#' + key + ' button');\n",
              "      quickchartButtonEl.disabled = true;  // To prevent multiple clicks.\n",
              "      quickchartButtonEl.classList.add('colab-df-spinner');\n",
              "      try {\n",
              "        const charts = await google.colab.kernel.invokeFunction(\n",
              "            'suggestCharts', [key], {});\n",
              "      } catch (error) {\n",
              "        console.error('Error during call to suggestCharts:', error);\n",
              "      }\n",
              "      quickchartButtonEl.classList.remove('colab-df-spinner');\n",
              "      quickchartButtonEl.classList.add('colab-df-quickchart-complete');\n",
              "    }\n",
              "    (() => {\n",
              "      let quickchartButtonEl =\n",
              "        document.querySelector('#df-710413da-7d25-4c3e-b543-842372838aca button');\n",
              "      quickchartButtonEl.style.display =\n",
              "        google.colab.kernel.accessAllowed ? 'block' : 'none';\n",
              "    })();\n",
              "  </script>\n",
              "</div>\n",
              "\n",
              "    </div>\n",
              "  </div>\n"
            ],
            "application/vnd.google.colaboratory.intrinsic+json": {
              "type": "dataframe",
              "variable_name": "train_df"
            }
          },
          "metadata": {},
          "execution_count": 80
        }
      ]
    },
    {
      "cell_type": "code",
      "source": [
        "# How many different line numbers are there?\n",
        "train_df[\"line_number\"].value_counts()"
      ],
      "metadata": {
        "colab": {
          "base_uri": "https://localhost:8080/",
          "height": 1000
        },
        "id": "-XGkv6voUwFj",
        "outputId": "de17046d-9e3b-489a-8de7-d47d7168fa9a"
      },
      "execution_count": 81,
      "outputs": [
        {
          "output_type": "execute_result",
          "data": {
            "text/plain": [
              "line_number\n",
              "0     15000\n",
              "1     15000\n",
              "2     15000\n",
              "3     15000\n",
              "4     14992\n",
              "5     14949\n",
              "6     14758\n",
              "7     14279\n",
              "8     13346\n",
              "9     11981\n",
              "10    10041\n",
              "11     7892\n",
              "12     5853\n",
              "13     4152\n",
              "14     2835\n",
              "15     1861\n",
              "16     1188\n",
              "17      751\n",
              "18      462\n",
              "19      286\n",
              "20      162\n",
              "21      101\n",
              "22       66\n",
              "23       33\n",
              "24       22\n",
              "25       14\n",
              "26        7\n",
              "27        4\n",
              "28        3\n",
              "29        1\n",
              "30        1\n",
              "Name: count, dtype: int64"
            ],
            "text/html": [
              "<div>\n",
              "<style scoped>\n",
              "    .dataframe tbody tr th:only-of-type {\n",
              "        vertical-align: middle;\n",
              "    }\n",
              "\n",
              "    .dataframe tbody tr th {\n",
              "        vertical-align: top;\n",
              "    }\n",
              "\n",
              "    .dataframe thead th {\n",
              "        text-align: right;\n",
              "    }\n",
              "</style>\n",
              "<table border=\"1\" class=\"dataframe\">\n",
              "  <thead>\n",
              "    <tr style=\"text-align: right;\">\n",
              "      <th></th>\n",
              "      <th>count</th>\n",
              "    </tr>\n",
              "    <tr>\n",
              "      <th>line_number</th>\n",
              "      <th></th>\n",
              "    </tr>\n",
              "  </thead>\n",
              "  <tbody>\n",
              "    <tr>\n",
              "      <th>0</th>\n",
              "      <td>15000</td>\n",
              "    </tr>\n",
              "    <tr>\n",
              "      <th>1</th>\n",
              "      <td>15000</td>\n",
              "    </tr>\n",
              "    <tr>\n",
              "      <th>2</th>\n",
              "      <td>15000</td>\n",
              "    </tr>\n",
              "    <tr>\n",
              "      <th>3</th>\n",
              "      <td>15000</td>\n",
              "    </tr>\n",
              "    <tr>\n",
              "      <th>4</th>\n",
              "      <td>14992</td>\n",
              "    </tr>\n",
              "    <tr>\n",
              "      <th>5</th>\n",
              "      <td>14949</td>\n",
              "    </tr>\n",
              "    <tr>\n",
              "      <th>6</th>\n",
              "      <td>14758</td>\n",
              "    </tr>\n",
              "    <tr>\n",
              "      <th>7</th>\n",
              "      <td>14279</td>\n",
              "    </tr>\n",
              "    <tr>\n",
              "      <th>8</th>\n",
              "      <td>13346</td>\n",
              "    </tr>\n",
              "    <tr>\n",
              "      <th>9</th>\n",
              "      <td>11981</td>\n",
              "    </tr>\n",
              "    <tr>\n",
              "      <th>10</th>\n",
              "      <td>10041</td>\n",
              "    </tr>\n",
              "    <tr>\n",
              "      <th>11</th>\n",
              "      <td>7892</td>\n",
              "    </tr>\n",
              "    <tr>\n",
              "      <th>12</th>\n",
              "      <td>5853</td>\n",
              "    </tr>\n",
              "    <tr>\n",
              "      <th>13</th>\n",
              "      <td>4152</td>\n",
              "    </tr>\n",
              "    <tr>\n",
              "      <th>14</th>\n",
              "      <td>2835</td>\n",
              "    </tr>\n",
              "    <tr>\n",
              "      <th>15</th>\n",
              "      <td>1861</td>\n",
              "    </tr>\n",
              "    <tr>\n",
              "      <th>16</th>\n",
              "      <td>1188</td>\n",
              "    </tr>\n",
              "    <tr>\n",
              "      <th>17</th>\n",
              "      <td>751</td>\n",
              "    </tr>\n",
              "    <tr>\n",
              "      <th>18</th>\n",
              "      <td>462</td>\n",
              "    </tr>\n",
              "    <tr>\n",
              "      <th>19</th>\n",
              "      <td>286</td>\n",
              "    </tr>\n",
              "    <tr>\n",
              "      <th>20</th>\n",
              "      <td>162</td>\n",
              "    </tr>\n",
              "    <tr>\n",
              "      <th>21</th>\n",
              "      <td>101</td>\n",
              "    </tr>\n",
              "    <tr>\n",
              "      <th>22</th>\n",
              "      <td>66</td>\n",
              "    </tr>\n",
              "    <tr>\n",
              "      <th>23</th>\n",
              "      <td>33</td>\n",
              "    </tr>\n",
              "    <tr>\n",
              "      <th>24</th>\n",
              "      <td>22</td>\n",
              "    </tr>\n",
              "    <tr>\n",
              "      <th>25</th>\n",
              "      <td>14</td>\n",
              "    </tr>\n",
              "    <tr>\n",
              "      <th>26</th>\n",
              "      <td>7</td>\n",
              "    </tr>\n",
              "    <tr>\n",
              "      <th>27</th>\n",
              "      <td>4</td>\n",
              "    </tr>\n",
              "    <tr>\n",
              "      <th>28</th>\n",
              "      <td>3</td>\n",
              "    </tr>\n",
              "    <tr>\n",
              "      <th>29</th>\n",
              "      <td>1</td>\n",
              "    </tr>\n",
              "    <tr>\n",
              "      <th>30</th>\n",
              "      <td>1</td>\n",
              "    </tr>\n",
              "  </tbody>\n",
              "</table>\n",
              "</div><br><label><b>dtype:</b> int64</label>"
            ]
          },
          "metadata": {},
          "execution_count": 81
        }
      ]
    },
    {
      "cell_type": "code",
      "source": [
        "# Check the distribution of \"line_number\" column\n",
        "train_df.line_number.plot.hist()"
      ],
      "metadata": {
        "colab": {
          "base_uri": "https://localhost:8080/",
          "height": 447
        },
        "id": "M3U3idGfUwH9",
        "outputId": "7d43ad04-89ab-4e70-c2a3-d40c24aaf336"
      },
      "execution_count": 95,
      "outputs": [
        {
          "output_type": "execute_result",
          "data": {
            "text/plain": [
              "<Axes: ylabel='Frequency'>"
            ]
          },
          "metadata": {},
          "execution_count": 95
        },
        {
          "output_type": "display_data",
          "data": {
            "text/plain": [
              "<Figure size 640x480 with 1 Axes>"
            ],
            "image/png": "[encoded data removed]"
          },
          "metadata": {}
        }
      ]
    },
    {
      "cell_type": "code",
      "source": [
        "# Use TensorFlow to create one-hot-encoded tensors of our \"line_number\" column\n",
        "train_line_numbers_one_hot = tf.one_hot(train_df[\"line_number\"].to_numpy(), depth=15)\n",
        "val_line_numbers_one_hot = tf.one_hot(val_df[\"line_number\"].to_numpy(), depth=15)\n",
        "test_line_numbers_one_hot = tf.one_hot(test_df[\"line_number\"].to_numpy(), depth=15)"
      ],
      "metadata": {
        "id": "LI2eZ7k8UwKd"
      },
      "execution_count": 82,
      "outputs": []
    },
    {
      "cell_type": "code",
      "source": [
        "# Check one-hot encoded \"line_number\" feature samples\n",
        "train_line_numbers_one_hot.shape, train_line_numbers_one_hot[:20]"
      ],
      "metadata": {
        "colab": {
          "base_uri": "https://localhost:8080/"
        },
        "id": "ZEvie15IUwMP",
        "outputId": "9e85a14f-b0cd-45c8-cd7e-e2154d2000f4"
      },
      "execution_count": 83,
      "outputs": [
        {
          "output_type": "execute_result",
          "data": {
            "text/plain": [
              "(TensorShape([180040, 15]),\n",
              " <tf.Tensor: shape=(20, 15), dtype=float32, numpy=\n",
              " array([[1., 0., 0., 0., 0., 0., 0., 0., 0., 0., 0., 0., 0., 0., 0.],\n",
              "        [0., 1., 0., 0., 0., 0., 0., 0., 0., 0., 0., 0., 0., 0., 0.],\n",
              "        [0., 0., 1., 0., 0., 0., 0., 0., 0., 0., 0., 0., 0., 0., 0.],\n",
              "        [0., 0., 0., 1., 0., 0., 0., 0., 0., 0., 0., 0., 0., 0., 0.],\n",
              "        [0., 0., 0., 0., 1., 0., 0., 0., 0., 0., 0., 0., 0., 0., 0.],\n",
              "        [0., 0., 0., 0., 0., 1., 0., 0., 0., 0., 0., 0., 0., 0., 0.],\n",
              "        [0., 0., 0., 0., 0., 0., 1., 0., 0., 0., 0., 0., 0., 0., 0.],\n",
              "        [0., 0., 0., 0., 0., 0., 0., 1., 0., 0., 0., 0., 0., 0., 0.],\n",
              "        [0., 0., 0., 0., 0., 0., 0., 0., 1., 0., 0., 0., 0., 0., 0.],\n",
              "        [0., 0., 0., 0., 0., 0., 0., 0., 0., 1., 0., 0., 0., 0., 0.],\n",
              "        [0., 0., 0., 0., 0., 0., 0., 0., 0., 0., 1., 0., 0., 0., 0.],\n",
              "        [0., 0., 0., 0., 0., 0., 0., 0., 0., 0., 0., 1., 0., 0., 0.],\n",
              "        [1., 0., 0., 0., 0., 0., 0., 0., 0., 0., 0., 0., 0., 0., 0.],\n",
              "        [0., 1., 0., 0., 0., 0., 0., 0., 0., 0., 0., 0., 0., 0., 0.],\n",
              "        [0., 0., 1., 0., 0., 0., 0., 0., 0., 0., 0., 0., 0., 0., 0.],\n",
              "        [0., 0., 0., 1., 0., 0., 0., 0., 0., 0., 0., 0., 0., 0., 0.],\n",
              "        [0., 0., 0., 0., 1., 0., 0., 0., 0., 0., 0., 0., 0., 0., 0.],\n",
              "        [0., 0., 0., 0., 0., 1., 0., 0., 0., 0., 0., 0., 0., 0., 0.],\n",
              "        [0., 0., 0., 0., 0., 0., 1., 0., 0., 0., 0., 0., 0., 0., 0.],\n",
              "        [0., 0., 0., 0., 0., 0., 0., 1., 0., 0., 0., 0., 0., 0., 0.]],\n",
              "       dtype=float32)>)"
            ]
          },
          "metadata": {},
          "execution_count": 83
        }
      ]
    },
    {
      "cell_type": "code",
      "source": [
        "# How many different numbers of lines are there?\n",
        "train_df[\"total_lines\"].value_counts()"
      ],
      "metadata": {
        "colab": {
          "base_uri": "https://localhost:8080/",
          "height": 962
        },
        "id": "wvzn5JsJUwOz",
        "outputId": "465d0293-6617-4e93-f194-52d97bbc5c12"
      },
      "execution_count": 84,
      "outputs": [
        {
          "output_type": "execute_result",
          "data": {
            "text/plain": [
              "total_lines\n",
              "11    24468\n",
              "10    23639\n",
              "12    22113\n",
              "9     19400\n",
              "13    18438\n",
              "14    14610\n",
              "8     12285\n",
              "15    10768\n",
              "7      7464\n",
              "16     7429\n",
              "17     5202\n",
              "6      3353\n",
              "18     3344\n",
              "19     2480\n",
              "20     1281\n",
              "5      1146\n",
              "21      770\n",
              "22      759\n",
              "23      264\n",
              "4       215\n",
              "24      200\n",
              "25      182\n",
              "26       81\n",
              "28       58\n",
              "3        32\n",
              "30       31\n",
              "27       28\n",
              "Name: count, dtype: int64"
            ],
            "text/html": [
              "<div>\n",
              "<style scoped>\n",
              "    .dataframe tbody tr th:only-of-type {\n",
              "        vertical-align: middle;\n",
              "    }\n",
              "\n",
              "    .dataframe tbody tr th {\n",
              "        vertical-align: top;\n",
              "    }\n",
              "\n",
              "    .dataframe thead th {\n",
              "        text-align: right;\n",
              "    }\n",
              "</style>\n",
              "<table border=\"1\" class=\"dataframe\">\n",
              "  <thead>\n",
              "    <tr style=\"text-align: right;\">\n",
              "      <th></th>\n",
              "      <th>count</th>\n",
              "    </tr>\n",
              "    <tr>\n",
              "      <th>total_lines</th>\n",
              "      <th></th>\n",
              "    </tr>\n",
              "  </thead>\n",
              "  <tbody>\n",
              "    <tr>\n",
              "      <th>11</th>\n",
              "      <td>24468</td>\n",
              "    </tr>\n",
              "    <tr>\n",
              "      <th>10</th>\n",
              "      <td>23639</td>\n",
              "    </tr>\n",
              "    <tr>\n",
              "      <th>12</th>\n",
              "      <td>22113</td>\n",
              "    </tr>\n",
              "    <tr>\n",
              "      <th>9</th>\n",
              "      <td>19400</td>\n",
              "    </tr>\n",
              "    <tr>\n",
              "      <th>13</th>\n",
              "      <td>18438</td>\n",
              "    </tr>\n",
              "    <tr>\n",
              "      <th>14</th>\n",
              "      <td>14610</td>\n",
              "    </tr>\n",
              "    <tr>\n",
              "      <th>8</th>\n",
              "      <td>12285</td>\n",
              "    </tr>\n",
              "    <tr>\n",
              "      <th>15</th>\n",
              "      <td>10768</td>\n",
              "    </tr>\n",
              "    <tr>\n",
              "      <th>7</th>\n",
              "      <td>7464</td>\n",
              "    </tr>\n",
              "    <tr>\n",
              "      <th>16</th>\n",
              "      <td>7429</td>\n",
              "    </tr>\n",
              "    <tr>\n",
              "      <th>17</th>\n",
              "      <td>5202</td>\n",
              "    </tr>\n",
              "    <tr>\n",
              "      <th>6</th>\n",
              "      <td>3353</td>\n",
              "    </tr>\n",
              "    <tr>\n",
              "      <th>18</th>\n",
              "      <td>3344</td>\n",
              "    </tr>\n",
              "    <tr>\n",
              "      <th>19</th>\n",
              "      <td>2480</td>\n",
              "    </tr>\n",
              "    <tr>\n",
              "      <th>20</th>\n",
              "      <td>1281</td>\n",
              "    </tr>\n",
              "    <tr>\n",
              "      <th>5</th>\n",
              "      <td>1146</td>\n",
              "    </tr>\n",
              "    <tr>\n",
              "      <th>21</th>\n",
              "      <td>770</td>\n",
              "    </tr>\n",
              "    <tr>\n",
              "      <th>22</th>\n",
              "      <td>759</td>\n",
              "    </tr>\n",
              "    <tr>\n",
              "      <th>23</th>\n",
              "      <td>264</td>\n",
              "    </tr>\n",
              "    <tr>\n",
              "      <th>4</th>\n",
              "      <td>215</td>\n",
              "    </tr>\n",
              "    <tr>\n",
              "      <th>24</th>\n",
              "      <td>200</td>\n",
              "    </tr>\n",
              "    <tr>\n",
              "      <th>25</th>\n",
              "      <td>182</td>\n",
              "    </tr>\n",
              "    <tr>\n",
              "      <th>26</th>\n",
              "      <td>81</td>\n",
              "    </tr>\n",
              "    <tr>\n",
              "      <th>28</th>\n",
              "      <td>58</td>\n",
              "    </tr>\n",
              "    <tr>\n",
              "      <th>3</th>\n",
              "      <td>32</td>\n",
              "    </tr>\n",
              "    <tr>\n",
              "      <th>30</th>\n",
              "      <td>31</td>\n",
              "    </tr>\n",
              "    <tr>\n",
              "      <th>27</th>\n",
              "      <td>28</td>\n",
              "    </tr>\n",
              "  </tbody>\n",
              "</table>\n",
              "</div><br><label><b>dtype:</b> int64</label>"
            ]
          },
          "metadata": {},
          "execution_count": 84
        }
      ]
    },
    {
      "cell_type": "code",
      "source": [
        "# Check the distribution of total lines\n",
        "train_df.total_lines.plot.hist();"
      ],
      "metadata": {
        "colab": {
          "base_uri": "https://localhost:8080/",
          "height": 431
        },
        "id": "C_RpHtykUwRG",
        "outputId": "feb764cd-a78d-43f7-d56b-225abd0d4e01"
      },
      "execution_count": 85,
      "outputs": [
        {
          "output_type": "display_data",
          "data": {
            "text/plain": [
              "<Figure size 640x480 with 1 Axes>"
            ],
            "image/png": "[encoded data removed]"
          },
          "metadata": {}
        }
      ]
    },
    {
      "cell_type": "code",
      "source": [
        "# Check the coverage of a \"total_lines\" value of 20\n",
        "np.percentile(train_df.total_lines, 98) # a value of 20 covers 98% of samples"
      ],
      "metadata": {
        "colab": {
          "base_uri": "https://localhost:8080/"
        },
        "id": "UoMTjw0CUwTQ",
        "outputId": "284ba8de-62e5-479a-9291-50de01857aad"
      },
      "execution_count": 86,
      "outputs": [
        {
          "output_type": "execute_result",
          "data": {
            "text/plain": [
              "20.0"
            ]
          },
          "metadata": {},
          "execution_count": 86
        }
      ]
    },
    {
      "cell_type": "code",
      "source": [
        "# Use TensorFlow to create one-hot-encoded tensors of our \"total_lines\" column\n",
        "train_total_lines_one_hot = tf.one_hot(train_df[\"total_lines\"].to_numpy(), depth=20)\n",
        "val_total_lines_one_hot = tf.one_hot(val_df[\"total_lines\"].to_numpy(), depth=20)\n",
        "test_total_lines_one_hot = tf.one_hot(test_df[\"total_lines\"].to_numpy(), depth=20)\n",
        "\n",
        "# Check shape and samples of total lines one-hot tensor\n",
        "train_total_lines_one_hot.shape, train_total_lines_one_hot[:10]"
      ],
      "metadata": {
        "colab": {
          "base_uri": "https://localhost:8080/"
        },
        "id": "Fz8_VI-9UwVy",
        "outputId": "0f69096d-52bd-48d2-d796-095a2580c799"
      },
      "execution_count": 87,
      "outputs": [
        {
          "output_type": "execute_result",
          "data": {
            "text/plain": [
              "(TensorShape([180040, 20]),\n",
              " <tf.Tensor: shape=(10, 20), dtype=float32, numpy=\n",
              " array([[0., 0., 0., 0., 0., 0., 0., 0., 0., 0., 0., 1., 0., 0., 0., 0.,\n",
              "         0., 0., 0., 0.],\n",
              "        [0., 0., 0., 0., 0., 0., 0., 0., 0., 0., 0., 1., 0., 0., 0., 0.,\n",
              "         0., 0., 0., 0.],\n",
              "        [0., 0., 0., 0., 0., 0., 0., 0., 0., 0., 0., 1., 0., 0., 0., 0.,\n",
              "         0., 0., 0., 0.],\n",
              "        [0., 0., 0., 0., 0., 0., 0., 0., 0., 0., 0., 1., 0., 0., 0., 0.,\n",
              "         0., 0., 0., 0.],\n",
              "        [0., 0., 0., 0., 0., 0., 0., 0., 0., 0., 0., 1., 0., 0., 0., 0.,\n",
              "         0., 0., 0., 0.],\n",
              "        [0., 0., 0., 0., 0., 0., 0., 0., 0., 0., 0., 1., 0., 0., 0., 0.,\n",
              "         0., 0., 0., 0.],\n",
              "        [0., 0., 0., 0., 0., 0., 0., 0., 0., 0., 0., 1., 0., 0., 0., 0.,\n",
              "         0., 0., 0., 0.],\n",
              "        [0., 0., 0., 0., 0., 0., 0., 0., 0., 0., 0., 1., 0., 0., 0., 0.,\n",
              "         0., 0., 0., 0.],\n",
              "        [0., 0., 0., 0., 0., 0., 0., 0., 0., 0., 0., 1., 0., 0., 0., 0.,\n",
              "         0., 0., 0., 0.],\n",
              "        [0., 0., 0., 0., 0., 0., 0., 0., 0., 0., 0., 1., 0., 0., 0., 0.,\n",
              "         0., 0., 0., 0.]], dtype=float32)>)"
            ]
          },
          "metadata": {},
          "execution_count": 87
        }
      ]
    },
    {
      "cell_type": "code",
      "source": [
        "# 1. Token inputs\n",
        "token_inputs = layers.Input(shape=[], dtype=\"string\", name=\"token_inputs\")\n",
        "#token_embeddings = tf_hub_embedding_layer(token_inputs)\n",
        "embedding_dim = 512  # Universal Sentence Encoder has a 512-dimensional output\n",
        "token_embeddings = layers.Lambda(lambda x: tf_hub_embedding_layer(x),\n",
        "                                 output_shape=(embedding_dim,))(token_inputs)\n",
        "token_outputs = layers.Dense(128, activation=\"relu\")(token_embeddings)\n",
        "token_model = tf.keras.Model(inputs=token_inputs,\n",
        "                             outputs=token_outputs)\n",
        "\n",
        "# 2. Char inputs\n",
        "char_inputs = layers.Input(shape=(1,), dtype=\"string\", name=\"char_inputs\")\n",
        "char_vectors = char_vectorizer(char_inputs)\n",
        "char_embeddings = char_embed(char_vectors)\n",
        "char_bi_lstm = layers.Bidirectional(layers.LSTM(32))(char_embeddings)\n",
        "char_model = tf.keras.Model(inputs=char_inputs,\n",
        "                            outputs=char_bi_lstm)\n",
        "\n",
        "# 3. Line numbers inputs\n",
        "line_number_inputs = layers.Input(shape=(15,), dtype=tf.int32, name=\"line_number_input\")\n",
        "x = layers.Dense(32, activation=\"relu\")(line_number_inputs)\n",
        "line_number_model = tf.keras.Model(inputs=line_number_inputs,\n",
        "                                   outputs=x)\n",
        "\n",
        "# 4. Total lines inputs\n",
        "total_lines_inputs = layers.Input(shape=(20,), dtype=tf.int32, name=\"total_lines_input\")\n",
        "y = layers.Dense(32, activation=\"relu\")(total_lines_inputs)\n",
        "total_line_model = tf.keras.Model(inputs=total_lines_inputs,\n",
        "                                  outputs=y)\n",
        "\n",
        "# 5. Combine token and char embeddings into a hybrid embedding\n",
        "combined_embeddings = layers.Concatenate(name=\"token_char_hybrid_embedding\")([token_model.output,\n",
        "                                                                              char_model.output])\n",
        "z = layers.Dense(256, activation=\"relu\")(combined_embeddings)\n",
        "z = layers.Dropout(0.5)(z)\n",
        "\n",
        "# 6. Combine positional embeddings with combined token and char embeddings into a tribrid embedding\n",
        "z = layers.Concatenate(name=\"token_char_positional_embedding\")([line_number_model.output,\n",
        "                                                                total_line_model.output,\n",
        "                                                                z])\n",
        "\n",
        "# 7. Create output layer\n",
        "output_layer = layers.Dense(5, activation=\"softmax\", name=\"output_layer\")(z)\n",
        "\n",
        "# 8. Put together model\n",
        "model_5 = tf.keras.Model(inputs=[line_number_model.input,\n",
        "                                 total_line_model.input,\n",
        "                                 token_model.input,\n",
        "                                 char_model.input],\n",
        "                         outputs=output_layer)"
      ],
      "metadata": {
        "id": "EPPFcpmttKoW"
      },
      "execution_count": 89,
      "outputs": []
    },
    {
      "cell_type": "code",
      "source": [
        "# Get a summary of our token, char and positional embedding model\n",
        "model_5.summary()"
      ],
      "metadata": {
        "colab": {
          "base_uri": "https://localhost:8080/",
          "height": 753
        },
        "id": "zEFUBqHttKrY",
        "outputId": "076668c0-cb22-4e0c-e72f-c16770f07854"
      },
      "execution_count": 90,
      "outputs": [
        {
          "output_type": "display_data",
          "data": {
            "text/plain": [
              "\u001b[1mModel: \"functional_7\"\u001b[0m\n"
            ],
            "text/html": [
              "<pre style=\"white-space:pre;overflow-x:auto;line-height:normal;font-family:Menlo,'DejaVu Sans Mono',consolas,'Courier New',monospace\"><span style=\"font-weight: bold\">Model: \"functional_7\"</span>\n",
              "</pre>\n"
            ]
          },
          "metadata": {}
        },
        {
          "output_type": "display_data",
          "data": {
            "text/plain": [
              "┏━━━━━━━━━━━━━━━━━━━━━━━━━━━┳━━━━━━━━━━━━━━━━━━━━━━━━┳━━━━━━━━━━━━━━━━┳━━━━━━━━━━━━━━━━━━━━━━━━┓\n",
              "┃\u001b[1m \u001b[0m\u001b[1mLayer (type)             \u001b[0m\u001b[1m \u001b[0m┃\u001b[1m \u001b[0m\u001b[1mOutput Shape          \u001b[0m\u001b[1m \u001b[0m┃\u001b[1m \u001b[0m\u001b[1m       Param #\u001b[0m\u001b[1m \u001b[0m┃\u001b[1m \u001b[0m\u001b[1mConnected to          \u001b[0m\u001b[1m \u001b[0m┃\n",
              "┡━━━━━━━━━━━━━━━━━━━━━━━━━━━╇━━━━━━━━━━━━━━━━━━━━━━━━╇━━━━━━━━━━━━━━━━╇━━━━━━━━━━━━━━━━━━━━━━━━┩\n",
              "│ char_inputs (\u001b[38;5;33mInputLayer\u001b[0m)  │ (\u001b[38;5;45mNone\u001b[0m, \u001b[38;5;34m1\u001b[0m)              │              \u001b[38;5;34m0\u001b[0m │ -                      │\n",
              "├───────────────────────────┼────────────────────────┼────────────────┼────────────────────────┤\n",
              "│ token_inputs (\u001b[38;5;33mInputLayer\u001b[0m) │ (\u001b[38;5;45mNone\u001b[0m)                 │              \u001b[38;5;34m0\u001b[0m │ -                      │\n",
              "├───────────────────────────┼────────────────────────┼────────────────┼────────────────────────┤\n",
              "│ char_vectorizer           │ (\u001b[38;5;45mNone\u001b[0m, \u001b[38;5;34m290\u001b[0m)            │              \u001b[38;5;34m0\u001b[0m │ char_inputs[\u001b[38;5;34m0\u001b[0m][\u001b[38;5;34m0\u001b[0m]      │\n",
              "│ (\u001b[38;5;33mTextVectorization\u001b[0m)       │                        │                │                        │\n",
              "├───────────────────────────┼────────────────────────┼────────────────┼────────────────────────┤\n",
              "│ lambda_2 (\u001b[38;5;33mLambda\u001b[0m)         │ (\u001b[38;5;45mNone\u001b[0m, \u001b[38;5;34m512\u001b[0m)            │              \u001b[38;5;34m0\u001b[0m │ token_inputs[\u001b[38;5;34m0\u001b[0m][\u001b[38;5;34m0\u001b[0m]     │\n",
              "├───────────────────────────┼────────────────────────┼────────────────┼────────────────────────┤\n",
              "│ char_embed (\u001b[38;5;33mEmbedding\u001b[0m)    │ (\u001b[38;5;45mNone\u001b[0m, \u001b[38;5;34m290\u001b[0m, \u001b[38;5;34m25\u001b[0m)        │          \u001b[38;5;34m1,750\u001b[0m │ char_vectorizer[\u001b[38;5;34m2\u001b[0m][\u001b[38;5;34m0\u001b[0m]  │\n",
              "├───────────────────────────┼────────────────────────┼────────────────┼────────────────────────┤\n",
              "│ dense_5 (\u001b[38;5;33mDense\u001b[0m)           │ (\u001b[38;5;45mNone\u001b[0m, \u001b[38;5;34m128\u001b[0m)            │         \u001b[38;5;34m65,664\u001b[0m │ lambda_2[\u001b[38;5;34m0\u001b[0m][\u001b[38;5;34m0\u001b[0m]         │\n",
              "├───────────────────────────┼────────────────────────┼────────────────┼────────────────────────┤\n",
              "│ bidirectional_1           │ (\u001b[38;5;45mNone\u001b[0m, \u001b[38;5;34m64\u001b[0m)             │         \u001b[38;5;34m14,848\u001b[0m │ char_embed[\u001b[38;5;34m2\u001b[0m][\u001b[38;5;34m0\u001b[0m]       │\n",
              "│ (\u001b[38;5;33mBidirectional\u001b[0m)           │                        │                │                        │\n",
              "├───────────────────────────┼────────────────────────┼────────────────┼────────────────────────┤\n",
              "│ token_char_hybrid_embedd… │ (\u001b[38;5;45mNone\u001b[0m, \u001b[38;5;34m192\u001b[0m)            │              \u001b[38;5;34m0\u001b[0m │ dense_5[\u001b[38;5;34m0\u001b[0m][\u001b[38;5;34m0\u001b[0m],         │\n",
              "│ (\u001b[38;5;33mConcatenate\u001b[0m)             │                        │                │ bidirectional_1[\u001b[38;5;34m0\u001b[0m][\u001b[38;5;34m0\u001b[0m]  │\n",
              "├───────────────────────────┼────────────────────────┼────────────────┼────────────────────────┤\n",
              "│ line_number_input         │ (\u001b[38;5;45mNone\u001b[0m, \u001b[38;5;34m15\u001b[0m)             │              \u001b[38;5;34m0\u001b[0m │ -                      │\n",
              "│ (\u001b[38;5;33mInputLayer\u001b[0m)              │                        │                │                        │\n",
              "├───────────────────────────┼────────────────────────┼────────────────┼────────────────────────┤\n",
              "│ total_lines_input         │ (\u001b[38;5;45mNone\u001b[0m, \u001b[38;5;34m20\u001b[0m)             │              \u001b[38;5;34m0\u001b[0m │ -                      │\n",
              "│ (\u001b[38;5;33mInputLayer\u001b[0m)              │                        │                │                        │\n",
              "├───────────────────────────┼────────────────────────┼────────────────┼────────────────────────┤\n",
              "│ dense_8 (\u001b[38;5;33mDense\u001b[0m)           │ (\u001b[38;5;45mNone\u001b[0m, \u001b[38;5;34m256\u001b[0m)            │         \u001b[38;5;34m49,408\u001b[0m │ token_char_hybrid_emb… │\n",
              "├───────────────────────────┼────────────────────────┼────────────────┼────────────────────────┤\n",
              "│ dense_6 (\u001b[38;5;33mDense\u001b[0m)           │ (\u001b[38;5;45mNone\u001b[0m, \u001b[38;5;34m32\u001b[0m)             │            \u001b[38;5;34m512\u001b[0m │ line_number_input[\u001b[38;5;34m0\u001b[0m][\u001b[38;5;34m…\u001b[0m │\n",
              "├───────────────────────────┼────────────────────────┼────────────────┼────────────────────────┤\n",
              "│ dense_7 (\u001b[38;5;33mDense\u001b[0m)           │ (\u001b[38;5;45mNone\u001b[0m, \u001b[38;5;34m32\u001b[0m)             │            \u001b[38;5;34m672\u001b[0m │ total_lines_input[\u001b[38;5;34m0\u001b[0m][\u001b[38;5;34m…\u001b[0m │\n",
              "├───────────────────────────┼────────────────────────┼────────────────┼────────────────────────┤\n",
              "│ dropout_2 (\u001b[38;5;33mDropout\u001b[0m)       │ (\u001b[38;5;45mNone\u001b[0m, \u001b[38;5;34m256\u001b[0m)            │              \u001b[38;5;34m0\u001b[0m │ dense_8[\u001b[38;5;34m0\u001b[0m][\u001b[38;5;34m0\u001b[0m]          │\n",
              "├───────────────────────────┼────────────────────────┼────────────────┼────────────────────────┤\n",
              "│ token_char_positional_em… │ (\u001b[38;5;45mNone\u001b[0m, \u001b[38;5;34m320\u001b[0m)            │              \u001b[38;5;34m0\u001b[0m │ dense_6[\u001b[38;5;34m0\u001b[0m][\u001b[38;5;34m0\u001b[0m],         │\n",
              "│ (\u001b[38;5;33mConcatenate\u001b[0m)             │                        │                │ dense_7[\u001b[38;5;34m0\u001b[0m][\u001b[38;5;34m0\u001b[0m],         │\n",
              "│                           │                        │                │ dropout_2[\u001b[38;5;34m0\u001b[0m][\u001b[38;5;34m0\u001b[0m]        │\n",
              "├───────────────────────────┼────────────────────────┼────────────────┼────────────────────────┤\n",
              "│ output_layer (\u001b[38;5;33mDense\u001b[0m)      │ (\u001b[38;5;45mNone\u001b[0m, \u001b[38;5;34m5\u001b[0m)              │          \u001b[38;5;34m1,605\u001b[0m │ token_char_positional… │\n",
              "└───────────────────────────┴────────────────────────┴────────────────┴────────────────────────┘\n"
            ],
            "text/html": [
              "<pre style=\"white-space:pre;overflow-x:auto;line-height:normal;font-family:Menlo,'DejaVu Sans Mono',consolas,'Courier New',monospace\">┏━━━━━━━━━━━━━━━━━━━━━━━━━━━┳━━━━━━━━━━━━━━━━━━━━━━━━┳━━━━━━━━━━━━━━━━┳━━━━━━━━━━━━━━━━━━━━━━━━┓\n",
              "┃<span style=\"font-weight: bold\"> Layer (type)              </span>┃<span style=\"font-weight: bold\"> Output Shape           </span>┃<span style=\"font-weight: bold\">        Param # </span>┃<span style=\"font-weight: bold\"> Connected to           </span>┃\n",
              "┡━━━━━━━━━━━━━━━━━━━━━━━━━━━╇━━━━━━━━━━━━━━━━━━━━━━━━╇━━━━━━━━━━━━━━━━╇━━━━━━━━━━━━━━━━━━━━━━━━┩\n",
              "│ char_inputs (<span style=\"color: #0087ff; text-decoration-color: #0087ff\">InputLayer</span>)  │ (<span style=\"color: #00d7ff; text-decoration-color: #00d7ff\">None</span>, <span style=\"color: #00af00; text-decoration-color: #00af00\">1</span>)              │              <span style=\"color: #00af00; text-decoration-color: #00af00\">0</span> │ -                      │\n",
              "├───────────────────────────┼────────────────────────┼────────────────┼────────────────────────┤\n",
              "│ token_inputs (<span style=\"color: #0087ff; text-decoration-color: #0087ff\">InputLayer</span>) │ (<span style=\"color: #00d7ff; text-decoration-color: #00d7ff\">None</span>)                 │              <span style=\"color: #00af00; text-decoration-color: #00af00\">0</span> │ -                      │\n",
              "├───────────────────────────┼────────────────────────┼────────────────┼────────────────────────┤\n",
              "│ char_vectorizer           │ (<span style=\"color: #00d7ff; text-decoration-color: #00d7ff\">None</span>, <span style=\"color: #00af00; text-decoration-color: #00af00\">290</span>)            │              <span style=\"color: #00af00; text-decoration-color: #00af00\">0</span> │ char_inputs[<span style=\"color: #00af00; text-decoration-color: #00af00\">0</span>][<span style=\"color: #00af00; text-decoration-color: #00af00\">0</span>]      │\n",
              "│ (<span style=\"color: #0087ff; text-decoration-color: #0087ff\">TextVectorization</span>)       │                        │                │                        │\n",
              "├───────────────────────────┼────────────────────────┼────────────────┼────────────────────────┤\n",
              "│ lambda_2 (<span style=\"color: #0087ff; text-decoration-color: #0087ff\">Lambda</span>)         │ (<span style=\"color: #00d7ff; text-decoration-color: #00d7ff\">None</span>, <span style=\"color: #00af00; text-decoration-color: #00af00\">512</span>)            │              <span style=\"color: #00af00; text-decoration-color: #00af00\">0</span> │ token_inputs[<span style=\"color: #00af00; text-decoration-color: #00af00\">0</span>][<span style=\"color: #00af00; text-decoration-color: #00af00\">0</span>]     │\n",
              "├───────────────────────────┼────────────────────────┼────────────────┼────────────────────────┤\n",
              "│ char_embed (<span style=\"color: #0087ff; text-decoration-color: #0087ff\">Embedding</span>)    │ (<span style=\"color: #00d7ff; text-decoration-color: #00d7ff\">None</span>, <span style=\"color: #00af00; text-decoration-color: #00af00\">290</span>, <span style=\"color: #00af00; text-decoration-color: #00af00\">25</span>)        │          <span style=\"color: #00af00; text-decoration-color: #00af00\">1,750</span> │ char_vectorizer[<span style=\"color: #00af00; text-decoration-color: #00af00\">2</span>][<span style=\"color: #00af00; text-decoration-color: #00af00\">0</span>]  │\n",
              "├───────────────────────────┼────────────────────────┼────────────────┼────────────────────────┤\n",
              "│ dense_5 (<span style=\"color: #0087ff; text-decoration-color: #0087ff\">Dense</span>)           │ (<span style=\"color: #00d7ff; text-decoration-color: #00d7ff\">None</span>, <span style=\"color: #00af00; text-decoration-color: #00af00\">128</span>)            │         <span style=\"color: #00af00; text-decoration-color: #00af00\">65,664</span> │ lambda_2[<span style=\"color: #00af00; text-decoration-color: #00af00\">0</span>][<span style=\"color: #00af00; text-decoration-color: #00af00\">0</span>]         │\n",
              "├───────────────────────────┼────────────────────────┼────────────────┼────────────────────────┤\n",
              "│ bidirectional_1           │ (<span style=\"color: #00d7ff; text-decoration-color: #00d7ff\">None</span>, <span style=\"color: #00af00; text-decoration-color: #00af00\">64</span>)             │         <span style=\"color: #00af00; text-decoration-color: #00af00\">14,848</span> │ char_embed[<span style=\"color: #00af00; text-decoration-color: #00af00\">2</span>][<span style=\"color: #00af00; text-decoration-color: #00af00\">0</span>]       │\n",
              "│ (<span style=\"color: #0087ff; text-decoration-color: #0087ff\">Bidirectional</span>)           │                        │                │                        │\n",
              "├───────────────────────────┼────────────────────────┼────────────────┼────────────────────────┤\n",
              "│ token_char_hybrid_embedd… │ (<span style=\"color: #00d7ff; text-decoration-color: #00d7ff\">None</span>, <span style=\"color: #00af00; text-decoration-color: #00af00\">192</span>)            │              <span style=\"color: #00af00; text-decoration-color: #00af00\">0</span> │ dense_5[<span style=\"color: #00af00; text-decoration-color: #00af00\">0</span>][<span style=\"color: #00af00; text-decoration-color: #00af00\">0</span>],         │\n",
              "│ (<span style=\"color: #0087ff; text-decoration-color: #0087ff\">Concatenate</span>)             │                        │                │ bidirectional_1[<span style=\"color: #00af00; text-decoration-color: #00af00\">0</span>][<span style=\"color: #00af00; text-decoration-color: #00af00\">0</span>]  │\n",
              "├───────────────────────────┼────────────────────────┼────────────────┼────────────────────────┤\n",
              "│ line_number_input         │ (<span style=\"color: #00d7ff; text-decoration-color: #00d7ff\">None</span>, <span style=\"color: #00af00; text-decoration-color: #00af00\">15</span>)             │              <span style=\"color: #00af00; text-decoration-color: #00af00\">0</span> │ -                      │\n",
              "│ (<span style=\"color: #0087ff; text-decoration-color: #0087ff\">InputLayer</span>)              │                        │                │                        │\n",
              "├───────────────────────────┼────────────────────────┼────────────────┼────────────────────────┤\n",
              "│ total_lines_input         │ (<span style=\"color: #00d7ff; text-decoration-color: #00d7ff\">None</span>, <span style=\"color: #00af00; text-decoration-color: #00af00\">20</span>)             │              <span style=\"color: #00af00; text-decoration-color: #00af00\">0</span> │ -                      │\n",
              "│ (<span style=\"color: #0087ff; text-decoration-color: #0087ff\">InputLayer</span>)              │                        │                │                        │\n",
              "├───────────────────────────┼────────────────────────┼────────────────┼────────────────────────┤\n",
              "│ dense_8 (<span style=\"color: #0087ff; text-decoration-color: #0087ff\">Dense</span>)           │ (<span style=\"color: #00d7ff; text-decoration-color: #00d7ff\">None</span>, <span style=\"color: #00af00; text-decoration-color: #00af00\">256</span>)            │         <span style=\"color: #00af00; text-decoration-color: #00af00\">49,408</span> │ token_char_hybrid_emb… │\n",
              "├───────────────────────────┼────────────────────────┼────────────────┼────────────────────────┤\n",
              "│ dense_6 (<span style=\"color: #0087ff; text-decoration-color: #0087ff\">Dense</span>)           │ (<span style=\"color: #00d7ff; text-decoration-color: #00d7ff\">None</span>, <span style=\"color: #00af00; text-decoration-color: #00af00\">32</span>)             │            <span style=\"color: #00af00; text-decoration-color: #00af00\">512</span> │ line_number_input[<span style=\"color: #00af00; text-decoration-color: #00af00\">0</span>][<span style=\"color: #00af00; text-decoration-color: #00af00\">…</span> │\n",
              "├───────────────────────────┼────────────────────────┼────────────────┼────────────────────────┤\n",
              "│ dense_7 (<span style=\"color: #0087ff; text-decoration-color: #0087ff\">Dense</span>)           │ (<span style=\"color: #00d7ff; text-decoration-color: #00d7ff\">None</span>, <span style=\"color: #00af00; text-decoration-color: #00af00\">32</span>)             │            <span style=\"color: #00af00; text-decoration-color: #00af00\">672</span> │ total_lines_input[<span style=\"color: #00af00; text-decoration-color: #00af00\">0</span>][<span style=\"color: #00af00; text-decoration-color: #00af00\">…</span> │\n",
              "├───────────────────────────┼────────────────────────┼────────────────┼────────────────────────┤\n",
              "│ dropout_2 (<span style=\"color: #0087ff; text-decoration-color: #0087ff\">Dropout</span>)       │ (<span style=\"color: #00d7ff; text-decoration-color: #00d7ff\">None</span>, <span style=\"color: #00af00; text-decoration-color: #00af00\">256</span>)            │              <span style=\"color: #00af00; text-decoration-color: #00af00\">0</span> │ dense_8[<span style=\"color: #00af00; text-decoration-color: #00af00\">0</span>][<span style=\"color: #00af00; text-decoration-color: #00af00\">0</span>]          │\n",
              "├───────────────────────────┼────────────────────────┼────────────────┼────────────────────────┤\n",
              "│ token_char_positional_em… │ (<span style=\"color: #00d7ff; text-decoration-color: #00d7ff\">None</span>, <span style=\"color: #00af00; text-decoration-color: #00af00\">320</span>)            │              <span style=\"color: #00af00; text-decoration-color: #00af00\">0</span> │ dense_6[<span style=\"color: #00af00; text-decoration-color: #00af00\">0</span>][<span style=\"color: #00af00; text-decoration-color: #00af00\">0</span>],         │\n",
              "│ (<span style=\"color: #0087ff; text-decoration-color: #0087ff\">Concatenate</span>)             │                        │                │ dense_7[<span style=\"color: #00af00; text-decoration-color: #00af00\">0</span>][<span style=\"color: #00af00; text-decoration-color: #00af00\">0</span>],         │\n",
              "│                           │                        │                │ dropout_2[<span style=\"color: #00af00; text-decoration-color: #00af00\">0</span>][<span style=\"color: #00af00; text-decoration-color: #00af00\">0</span>]        │\n",
              "├───────────────────────────┼────────────────────────┼────────────────┼────────────────────────┤\n",
              "│ output_layer (<span style=\"color: #0087ff; text-decoration-color: #0087ff\">Dense</span>)      │ (<span style=\"color: #00d7ff; text-decoration-color: #00d7ff\">None</span>, <span style=\"color: #00af00; text-decoration-color: #00af00\">5</span>)              │          <span style=\"color: #00af00; text-decoration-color: #00af00\">1,605</span> │ token_char_positional… │\n",
              "└───────────────────────────┴────────────────────────┴────────────────┴────────────────────────┘\n",
              "</pre>\n"
            ]
          },
          "metadata": {}
        },
        {
          "output_type": "display_data",
          "data": {
            "text/plain": [
              "\u001b[1m Total params: \u001b[0m\u001b[38;5;34m134,459\u001b[0m (525.23 KB)\n"
            ],
            "text/html": [
              "<pre style=\"white-space:pre;overflow-x:auto;line-height:normal;font-family:Menlo,'DejaVu Sans Mono',consolas,'Courier New',monospace\"><span style=\"font-weight: bold\"> Total params: </span><span style=\"color: #00af00; text-decoration-color: #00af00\">134,459</span> (525.23 KB)\n",
              "</pre>\n"
            ]
          },
          "metadata": {}
        },
        {
          "output_type": "display_data",
          "data": {
            "text/plain": [
              "\u001b[1m Trainable params: \u001b[0m\u001b[38;5;34m134,459\u001b[0m (525.23 KB)\n"
            ],
            "text/html": [
              "<pre style=\"white-space:pre;overflow-x:auto;line-height:normal;font-family:Menlo,'DejaVu Sans Mono',consolas,'Courier New',monospace\"><span style=\"font-weight: bold\"> Trainable params: </span><span style=\"color: #00af00; text-decoration-color: #00af00\">134,459</span> (525.23 KB)\n",
              "</pre>\n"
            ]
          },
          "metadata": {}
        },
        {
          "output_type": "display_data",
          "data": {
            "text/plain": [
              "\u001b[1m Non-trainable params: \u001b[0m\u001b[38;5;34m0\u001b[0m (0.00 B)\n"
            ],
            "text/html": [
              "<pre style=\"white-space:pre;overflow-x:auto;line-height:normal;font-family:Menlo,'DejaVu Sans Mono',consolas,'Courier New',monospace\"><span style=\"font-weight: bold\"> Non-trainable params: </span><span style=\"color: #00af00; text-decoration-color: #00af00\">0</span> (0.00 B)\n",
              "</pre>\n"
            ]
          },
          "metadata": {}
        }
      ]
    },
    {
      "cell_type": "code",
      "source": [
        "# Plot the token, char, positional embedding model\n",
        "from tensorflow.keras.utils import plot_model\n",
        "plot_model(model_5)"
      ],
      "metadata": {
        "colab": {
          "base_uri": "https://localhost:8080/",
          "height": 1000
        },
        "id": "DZWshKymtKuM",
        "outputId": "5257a6d0-41d9-4c04-f4fc-f924b3e4180d"
      },
      "execution_count": 91,
      "outputs": [
        {
          "output_type": "execute_result",
          "data": {
            "image/png": "[encoded data removed]",
            "text/plain": [
              "<IPython.core.display.Image object>"
            ]
          },
          "metadata": {},
          "execution_count": 91
        }
      ]
    },
    {
      "cell_type": "code",
      "source": [
        "# Check which layers of our model are trainable or not\n",
        "for layer in model_5.layers:\n",
        "  print(layer, layer.trainable)"
      ],
      "metadata": {
        "colab": {
          "base_uri": "https://localhost:8080/"
        },
        "id": "qG4Fwko2tKw8",
        "outputId": "74db978b-de6a-4b59-9008-f780772586d8"
      },
      "execution_count": 92,
      "outputs": [
        {
          "metadata": {
            "tags": null
          },
          "name": "stdout",
          "output_type": "stream",
          "text": [
            "<InputLayer name=char_inputs, built=True> True\n",
            "<InputLayer name=token_inputs, built=True> True\n",
            "<TextVectorization name=char_vectorizer, built=True> True\n",
            "<Lambda name=lambda_2, built=True> True\n",
            "<Embedding name=char_embed, built=True> True\n",
            "<Dense name=dense_5, built=True> True\n",
            "<Bidirectional name=bidirectional_1, built=True> True\n",
            "<Concatenate name=token_char_hybrid_embedding, built=True> True\n",
            "<InputLayer name=line_number_input, built=True> True\n",
            "<InputLayer name=total_lines_input, built=True> True\n",
            "<Dense name=dense_8, built=True> True\n",
            "<Dense name=dense_6, built=True> True\n",
            "<Dense name=dense_7, built=True> True\n",
            "<Dropout name=dropout_2, built=True> True\n",
            "<Concatenate name=token_char_positional_embedding, built=True> True\n",
            "<Dense name=output_layer, built=True> True\n"
          ]
        }
      ]
    },
    {
      "cell_type": "code",
      "source": [
        "# Compile token, char, positional embedding model\n",
        "model_5.compile(loss=tf.keras.losses.CategoricalCrossentropy(label_smoothing=0.2), # add label smoothing (examples which are really confident get smoothed a little)\n",
        "                optimizer=tf.keras.optimizers.Adam(),\n",
        "                metrics=[\"accuracy\"])"
      ],
      "metadata": {
        "id": "-GULsAfWtUNZ"
      },
      "execution_count": 93,
      "outputs": []
    },
    {
      "cell_type": "code",
      "source": [
        "# Create training and validation datasets (all four kinds of inputs)\n",
        "train_pos_char_token_data = tf.data.Dataset.from_tensor_slices((train_line_numbers_one_hot, # line numbers\n",
        "                                                                train_total_lines_one_hot, # total lines\n",
        "                                                                train_sentences, # train tokens\n",
        "                                                                train_chars)) # train chars\n",
        "train_pos_char_token_labels = tf.data.Dataset.from_tensor_slices(train_labels_one_hot) # train labels\n",
        "train_pos_char_token_dataset = tf.data.Dataset.zip((train_pos_char_token_data, train_pos_char_token_labels)) # combine data and labels\n",
        "train_pos_char_token_dataset = train_pos_char_token_dataset.batch(32).prefetch(tf.data.AUTOTUNE) # turn into batches and prefetch appropriately\n",
        "\n",
        "# Validation dataset\n",
        "val_pos_char_token_data = tf.data.Dataset.from_tensor_slices((val_line_numbers_one_hot,\n",
        "                                                              val_total_lines_one_hot,\n",
        "                                                              val_sentences,\n",
        "                                                              val_chars))\n",
        "val_pos_char_token_labels = tf.data.Dataset.from_tensor_slices(val_labels_one_hot)\n",
        "val_pos_char_token_dataset = tf.data.Dataset.zip((val_pos_char_token_data, val_pos_char_token_labels))\n",
        "val_pos_char_token_dataset = val_pos_char_token_dataset.batch(32).prefetch(tf.data.AUTOTUNE) # turn into batches and prefetch appropriately\n",
        "\n",
        "# Check input shapes\n",
        "train_pos_char_token_dataset, val_pos_char_token_dataset"
      ],
      "metadata": {
        "colab": {
          "base_uri": "https://localhost:8080/"
        },
        "id": "_R2xmz7htUQQ",
        "outputId": "93196da3-7227-41c4-b5d8-dc3cdf6d8ebc"
      },
      "execution_count": 94,
      "outputs": [
        {
          "output_type": "execute_result",
          "data": {
            "text/plain": [
              "(<_PrefetchDataset element_spec=((TensorSpec(shape=(None, 15), dtype=tf.float32, name=None), TensorSpec(shape=(None, 20), dtype=tf.float32, name=None), TensorSpec(shape=(None,), dtype=tf.string, name=None), TensorSpec(shape=(None,), dtype=tf.string, name=None)), TensorSpec(shape=(None, 5), dtype=tf.float64, name=None))>,\n",
              " <_PrefetchDataset element_spec=((TensorSpec(shape=(None, 15), dtype=tf.float32, name=None), TensorSpec(shape=(None, 20), dtype=tf.float32, name=None), TensorSpec(shape=(None,), dtype=tf.string, name=None), TensorSpec(shape=(None,), dtype=tf.string, name=None)), TensorSpec(shape=(None, 5), dtype=tf.float64, name=None))>)"
            ]
          },
          "metadata": {},
          "execution_count": 94
        }
      ]
    },
    {
      "cell_type": "code",
      "source": [
        "# Fit the token, char and positional embedding model\n",
        "history_model_5 = model_5.fit(train_pos_char_token_dataset,\n",
        "                              steps_per_epoch=int(0.1 * len(train_pos_char_token_dataset)),\n",
        "                              epochs=5,\n",
        "                              validation_data=val_pos_char_token_dataset,\n",
        "                              validation_steps=int(0.1 * len(val_pos_char_token_dataset)))"
      ],
      "metadata": {
        "colab": {
          "base_uri": "https://localhost:8080/"
        },
        "id": "xjmdE8hotUTb",
        "outputId": "0c5beb0d-90a3-4ea9-cca8-c020fdfb16ed"
      },
      "execution_count": 95,
      "outputs": [
        {
          "output_type": "stream",
          "name": "stdout",
          "text": [
            "Epoch 1/5\n",
            "\u001b[1m562/562\u001b[0m \u001b[32m━━━━━━━━━━━━━━━━━━━━\u001b[0m\u001b[37m\u001b[0m \u001b[1m19s\u001b[0m 27ms/step - accuracy: 0.6137 - loss: 1.2368 - val_accuracy: 0.8052 - val_loss: 0.9842\n",
            "Epoch 2/5\n",
            "\u001b[1m562/562\u001b[0m \u001b[32m━━━━━━━━━━━━━━━━━━━━\u001b[0m\u001b[37m\u001b[0m \u001b[1m14s\u001b[0m 25ms/step - accuracy: 0.8151 - loss: 0.9717 - val_accuracy: 0.8291 - val_loss: 0.9424\n",
            "Epoch 3/5\n",
            "\u001b[1m562/562\u001b[0m \u001b[32m━━━━━━━━━━━━━━━━━━━━\u001b[0m\u001b[37m\u001b[0m \u001b[1m14s\u001b[0m 25ms/step - accuracy: 0.8169 - loss: 0.9547 - val_accuracy: 0.8298 - val_loss: 0.9374\n",
            "Epoch 4/5\n",
            "\u001b[1m562/562\u001b[0m \u001b[32m━━━━━━━━━━━━━━━━━━━━\u001b[0m\u001b[37m\u001b[0m \u001b[1m14s\u001b[0m 25ms/step - accuracy: 0.8328 - loss: 0.9406 - val_accuracy: 0.8421 - val_loss: 0.9266\n",
            "Epoch 5/5\n",
            "\u001b[1m562/562\u001b[0m \u001b[32m━━━━━━━━━━━━━━━━━━━━\u001b[0m\u001b[37m\u001b[0m \u001b[1m14s\u001b[0m 25ms/step - accuracy: 0.8394 - loss: 0.9322 - val_accuracy: 0.8454 - val_loss: 0.9132\n"
          ]
        }
      ]
    },
    {
      "cell_type": "code",
      "source": [
        "# Make predictions with token-char-positional hybrid model\n",
        "model_5_pred_probs = model_5.predict(val_pos_char_token_dataset, verbose=1)\n",
        "model_5_pred_probs"
      ],
      "metadata": {
        "colab": {
          "base_uri": "https://localhost:8080/"
        },
        "id": "8q5XjLWKtad5",
        "outputId": "70d51c18-1bc0-4a54-ef38-e5af982ffcfe"
      },
      "execution_count": 96,
      "outputs": [
        {
          "output_type": "stream",
          "name": "stdout",
          "text": [
            "\u001b[1m945/945\u001b[0m \u001b[32m━━━━━━━━━━━━━━━━━━━━\u001b[0m\u001b[37m\u001b[0m \u001b[1m12s\u001b[0m 12ms/step\n"
          ]
        },
        {
          "output_type": "execute_result",
          "data": {
            "text/plain": [
              "array([[0.6259935 , 0.07645506, 0.0143348 , 0.25895658, 0.02426007],\n",
              "       [0.66251254, 0.06442266, 0.06545565, 0.19435282, 0.01325623],\n",
              "       [0.39065236, 0.10158779, 0.12246729, 0.33526158, 0.05003099],\n",
              "       ...,\n",
              "       [0.03359472, 0.06502993, 0.0391899 , 0.02912914, 0.83305633],\n",
              "       [0.02250069, 0.28889063, 0.09607975, 0.02035222, 0.5721767 ],\n",
              "       [0.10643365, 0.66867465, 0.11756202, 0.02470544, 0.08262421]],\n",
              "      dtype=float32)"
            ]
          },
          "metadata": {},
          "execution_count": 96
        }
      ]
    },
    {
      "cell_type": "code",
      "source": [
        "# Turn prediction probabilities into prediction classes\n",
        "model_5_preds = tf.argmax(model_5_pred_probs, axis=1)\n",
        "model_5_preds"
      ],
      "metadata": {
        "colab": {
          "base_uri": "https://localhost:8080/"
        },
        "id": "d3llXMz0talW",
        "outputId": "7f379bdd-8650-4fae-d128-cccc0aed6c4b"
      },
      "execution_count": 97,
      "outputs": [
        {
          "output_type": "execute_result",
          "data": {
            "text/plain": [
              "<tf.Tensor: shape=(30212,), dtype=int64, numpy=array([0, 0, 0, ..., 4, 4, 1])>"
            ]
          },
          "metadata": {},
          "execution_count": 97
        }
      ]
    },
    {
      "cell_type": "code",
      "source": [
        "# Calculate results of token-char-positional hybrid model\n",
        "model_5_results = calculate_results(y_true=val_labels_encoded,\n",
        "                                    y_pred=model_5_preds)\n",
        "model_5_results"
      ],
      "metadata": {
        "colab": {
          "base_uri": "https://localhost:8080/"
        },
        "id": "rAQNNK44tUWa",
        "outputId": "ba02f851-25b3-403b-e47c-5a37a4d357c9"
      },
      "execution_count": 98,
      "outputs": [
        {
          "output_type": "execute_result",
          "data": {
            "text/plain": [
              "{'accuracy': 84.26122070700384,\n",
              " 'precision': 0.8454723878832535,\n",
              " 'recall': 0.8426122070700384,\n",
              " 'f1': 0.8387213279242317}"
            ]
          },
          "metadata": {},
          "execution_count": 98
        }
      ]
    },
    {
      "cell_type": "markdown",
      "source": [
        "###**Comparing Results of all Models**"
      ],
      "metadata": {
        "id": "Bj6HMwUSuuqu"
      }
    },
    {
      "cell_type": "code",
      "source": [
        "# Combine model results into a DataFrame\n",
        "all_model_results = pd.DataFrame({\"baseline\": baseline_results,\n",
        "                                  \"custom_token_embed_conv1d\": model_1_results,\n",
        "                                  \"custom_char_embed_conv1d\": model_3_results,\n",
        "                                  \"hybrid_char_token_embed\": model_4_results,\n",
        "                                  \"tribrid_pos_char_token_embed\": model_5_results})\n",
        "all_model_results = all_model_results.transpose()\n",
        "all_model_results"
      ],
      "metadata": {
        "colab": {
          "base_uri": "https://localhost:8080/",
          "height": 206
        },
        "id": "wKNzCRTsutpi",
        "outputId": "6e980ddb-ed8d-4353-b46c-8db19c843940"
      },
      "execution_count": 99,
      "outputs": [
        {
          "output_type": "execute_result",
          "data": {
            "text/plain": [
              "                               accuracy  precision    recall        f1\n",
              "baseline                      72.183238   0.718647  0.721832  0.698925\n",
              "custom_token_embed_conv1d     80.110552   0.800858  0.801106  0.797837\n",
              "custom_char_embed_conv1d      68.247716   0.683930  0.682477  0.678442\n",
              "hybrid_char_token_embed       74.715345   0.744339  0.747153  0.741538\n",
              "tribrid_pos_char_token_embed  84.261221   0.845472  0.842612  0.838721"
            ],
            "text/html": [
              "\n",
              "  <div id=\"df-4b118f77-c355-476a-ad88-f027cdbe7d91\" class=\"colab-df-container\">\n",
              "    <div>\n",
              "<style scoped>\n",
              "    .dataframe tbody tr th:only-of-type {\n",
              "        vertical-align: middle;\n",
              "    }\n",
              "\n",
              "    .dataframe tbody tr th {\n",
              "        vertical-align: top;\n",
              "    }\n",
              "\n",
              "    .dataframe thead th {\n",
              "        text-align: right;\n",
              "    }\n",
              "</style>\n",
              "<table border=\"1\" class=\"dataframe\">\n",
              "  <thead>\n",
              "    <tr style=\"text-align: right;\">\n",
              "      <th></th>\n",
              "      <th>accuracy</th>\n",
              "      <th>precision</th>\n",
              "      <th>recall</th>\n",
              "      <th>f1</th>\n",
              "    </tr>\n",
              "  </thead>\n",
              "  <tbody>\n",
              "    <tr>\n",
              "      <th>baseline</th>\n",
              "      <td>72.183238</td>\n",
              "      <td>0.718647</td>\n",
              "      <td>0.721832</td>\n",
              "      <td>0.698925</td>\n",
              "    </tr>\n",
              "    <tr>\n",
              "      <th>custom_token_embed_conv1d</th>\n",
              "      <td>80.110552</td>\n",
              "      <td>0.800858</td>\n",
              "      <td>0.801106</td>\n",
              "      <td>0.797837</td>\n",
              "    </tr>\n",
              "    <tr>\n",
              "      <th>custom_char_embed_conv1d</th>\n",
              "      <td>68.247716</td>\n",
              "      <td>0.683930</td>\n",
              "      <td>0.682477</td>\n",
              "      <td>0.678442</td>\n",
              "    </tr>\n",
              "    <tr>\n",
              "      <th>hybrid_char_token_embed</th>\n",
              "      <td>74.715345</td>\n",
              "      <td>0.744339</td>\n",
              "      <td>0.747153</td>\n",
              "      <td>0.741538</td>\n",
              "    </tr>\n",
              "    <tr>\n",
              "      <th>tribrid_pos_char_token_embed</th>\n",
              "      <td>84.261221</td>\n",
              "      <td>0.845472</td>\n",
              "      <td>0.842612</td>\n",
              "      <td>0.838721</td>\n",
              "    </tr>\n",
              "  </tbody>\n",
              "</table>\n",
              "</div>\n",
              "    <div class=\"colab-df-buttons\">\n",
              "\n",
              "  <div class=\"colab-df-container\">\n",
              "    <button class=\"colab-df-convert\" onclick=\"convertToInteractive('df-4b118f77-c355-476a-ad88-f027cdbe7d91')\"\n",
              "            title=\"Convert this dataframe to an interactive table.\"\n",
              "            style=\"display:none;\">\n",
              "\n",
              "  <svg xmlns=\"http://www.w3.org/2000/svg\" height=\"24px\" viewBox=\"0 -960 960 960\">\n",
              "    <path d=\"M120-120v-720h720v720H120Zm60-500h600v-160H180v160Zm220 220h160v-160H400v160Zm0 220h160v-160H400v160ZM180-400h160v-160H180v160Zm440 0h160v-160H620v160ZM180-180h160v-160H180v160Zm440 0h160v-160H620v160Z\"/>\n",
              "  </svg>\n",
              "    </button>\n",
              "\n",
              "  <style>\n",
              "    .colab-df-container {\n",
              "      display:flex;\n",
              "      gap: 12px;\n",
              "    }\n",
              "\n",
              "    .colab-df-convert {\n",
              "      background-color: #E8F0FE;\n",
              "      border: none;\n",
              "      border-radius: 50%;\n",
              "      cursor: pointer;\n",
              "      display: none;\n",
              "      fill: #1967D2;\n",
              "      height: 32px;\n",
              "      padding: 0 0 0 0;\n",
              "      width: 32px;\n",
              "    }\n",
              "\n",
              "    .colab-df-convert:hover {\n",
              "      background-color: #E2EBFA;\n",
              "      box-shadow: 0px 1px 2px rgba(60, 64, 67, 0.3), 0px 1px 3px 1px rgba(60, 64, 67, 0.15);\n",
              "      fill: #174EA6;\n",
              "    }\n",
              "\n",
              "    .colab-df-buttons div {\n",
              "      margin-bottom: 4px;\n",
              "    }\n",
              "\n",
              "    [theme=dark] .colab-df-convert {\n",
              "      background-color: #3B4455;\n",
              "      fill: #D2E3FC;\n",
              "    }\n",
              "\n",
              "    [theme=dark] .colab-df-convert:hover {\n",
              "      background-color: #434B5C;\n",
              "      box-shadow: 0px 1px 3px 1px rgba(0, 0, 0, 0.15);\n",
              "      filter: drop-shadow(0px 1px 2px rgba(0, 0, 0, 0.3));\n",
              "      fill: #FFFFFF;\n",
              "    }\n",
              "  </style>\n",
              "\n",
              "    <script>\n",
              "      const buttonEl =\n",
              "        document.querySelector('#df-4b118f77-c355-476a-ad88-f027cdbe7d91 button.colab-df-convert');\n",
              "      buttonEl.style.display =\n",
              "        google.colab.kernel.accessAllowed ? 'block' : 'none';\n",
              "\n",
              "      async function convertToInteractive(key) {\n",
              "        const element = document.querySelector('#df-4b118f77-c355-476a-ad88-f027cdbe7d91');\n",
              "        const dataTable =\n",
              "          await google.colab.kernel.invokeFunction('convertToInteractive',\n",
              "                                                    [key], {});\n",
              "        if (!dataTable) return;\n",
              "\n",
              "        const docLinkHtml = 'Like what you see? Visit the ' +\n",
              "          '<a target=\"_blank\" href=https://colab.research.google.com/notebooks/data_table.ipynb>data table notebook</a>'\n",
              "          + ' to learn more about interactive tables.';\n",
              "        element.innerHTML = '';\n",
              "        dataTable['output_type'] = 'display_data';\n",
              "        await google.colab.output.renderOutput(dataTable, element);\n",
              "        const docLink = document.createElement('div');\n",
              "        docLink.innerHTML = docLinkHtml;\n",
              "        element.appendChild(docLink);\n",
              "      }\n",
              "    </script>\n",
              "  </div>\n",
              "\n",
              "\n",
              "<div id=\"df-326be8b6-a259-41a8-8dd0-224df1fbd18a\">\n",
              "  <button class=\"colab-df-quickchart\" onclick=\"quickchart('df-326be8b6-a259-41a8-8dd0-224df1fbd18a')\"\n",
              "            title=\"Suggest charts\"\n",
              "            style=\"display:none;\">\n",
              "\n",
              "<svg xmlns=\"http://www.w3.org/2000/svg\" height=\"24px\"viewBox=\"0 0 24 24\"\n",
              "     width=\"24px\">\n",
              "    <g>\n",
              "        <path d=\"M19 3H5c-1.1 0-2 .9-2 2v14c0 1.1.9 2 2 2h14c1.1 0 2-.9 2-2V5c0-1.1-.9-2-2-2zM9 17H7v-7h2v7zm4 0h-2V7h2v10zm4 0h-2v-4h2v4z\"/>\n",
              "    </g>\n",
              "</svg>\n",
              "  </button>\n",
              "\n",
              "<style>\n",
              "  .colab-df-quickchart {\n",
              "      --bg-color: #E8F0FE;\n",
              "      --fill-color: #1967D2;\n",
              "      --hover-bg-color: #E2EBFA;\n",
              "      --hover-fill-color: #174EA6;\n",
              "      --disabled-fill-color: #AAA;\n",
              "      --disabled-bg-color: #DDD;\n",
              "  }\n",
              "\n",
              "  [theme=dark] .colab-df-quickchart {\n",
              "      --bg-color: #3B4455;\n",
              "      --fill-color: #D2E3FC;\n",
              "      --hover-bg-color: #434B5C;\n",
              "      --hover-fill-color: #FFFFFF;\n",
              "      --disabled-bg-color: #3B4455;\n",
              "      --disabled-fill-color: #666;\n",
              "  }\n",
              "\n",
              "  .colab-df-quickchart {\n",
              "    background-color: var(--bg-color);\n",
              "    border: none;\n",
              "    border-radius: 50%;\n",
              "    cursor: pointer;\n",
              "    display: none;\n",
              "    fill: var(--fill-color);\n",
              "    height: 32px;\n",
              "    padding: 0;\n",
              "    width: 32px;\n",
              "  }\n",
              "\n",
              "  .colab-df-quickchart:hover {\n",
              "    background-color: var(--hover-bg-color);\n",
              "    box-shadow: 0 1px 2px rgba(60, 64, 67, 0.3), 0 1px 3px 1px rgba(60, 64, 67, 0.15);\n",
              "    fill: var(--button-hover-fill-color);\n",
              "  }\n",
              "\n",
              "  .colab-df-quickchart-complete:disabled,\n",
              "  .colab-df-quickchart-complete:disabled:hover {\n",
              "    background-color: var(--disabled-bg-color);\n",
              "    fill: var(--disabled-fill-color);\n",
              "    box-shadow: none;\n",
              "  }\n",
              "\n",
              "  .colab-df-spinner {\n",
              "    border: 2px solid var(--fill-color);\n",
              "    border-color: transparent;\n",
              "    border-bottom-color: var(--fill-color);\n",
              "    animation:\n",
              "      spin 1s steps(1) infinite;\n",
              "  }\n",
              "\n",
              "  @keyframes spin {\n",
              "    0% {\n",
              "      border-color: transparent;\n",
              "      border-bottom-color: var(--fill-color);\n",
              "      border-left-color: var(--fill-color);\n",
              "    }\n",
              "    20% {\n",
              "      border-color: transparent;\n",
              "      border-left-color: var(--fill-color);\n",
              "      border-top-color: var(--fill-color);\n",
              "    }\n",
              "    30% {\n",
              "      border-color: transparent;\n",
              "      border-left-color: var(--fill-color);\n",
              "      border-top-color: var(--fill-color);\n",
              "      border-right-color: var(--fill-color);\n",
              "    }\n",
              "    40% {\n",
              "      border-color: transparent;\n",
              "      border-right-color: var(--fill-color);\n",
              "      border-top-color: var(--fill-color);\n",
              "    }\n",
              "    60% {\n",
              "      border-color: transparent;\n",
              "      border-right-color: var(--fill-color);\n",
              "    }\n",
              "    80% {\n",
              "      border-color: transparent;\n",
              "      border-right-color: var(--fill-color);\n",
              "      border-bottom-color: var(--fill-color);\n",
              "    }\n",
              "    90% {\n",
              "      border-color: transparent;\n",
              "      border-bottom-color: var(--fill-color);\n",
              "    }\n",
              "  }\n",
              "</style>\n",
              "\n",
              "  <script>\n",
              "    async function quickchart(key) {\n",
              "      const quickchartButtonEl =\n",
              "        document.querySelector('#' + key + ' button');\n",
              "      quickchartButtonEl.disabled = true;  // To prevent multiple clicks.\n",
              "      quickchartButtonEl.classList.add('colab-df-spinner');\n",
              "      try {\n",
              "        const charts = await google.colab.kernel.invokeFunction(\n",
              "            'suggestCharts', [key], {});\n",
              "      } catch (error) {\n",
              "        console.error('Error during call to suggestCharts:', error);\n",
              "      }\n",
              "      quickchartButtonEl.classList.remove('colab-df-spinner');\n",
              "      quickchartButtonEl.classList.add('colab-df-quickchart-complete');\n",
              "    }\n",
              "    (() => {\n",
              "      let quickchartButtonEl =\n",
              "        document.querySelector('#df-326be8b6-a259-41a8-8dd0-224df1fbd18a button');\n",
              "      quickchartButtonEl.style.display =\n",
              "        google.colab.kernel.accessAllowed ? 'block' : 'none';\n",
              "    })();\n",
              "  </script>\n",
              "</div>\n",
              "\n",
              "  <div id=\"id_07e1989f-0b46-43c5-b4f1-0cc905276061\">\n",
              "    <style>\n",
              "      .colab-df-generate {\n",
              "        background-color: #E8F0FE;\n",
              "        border: none;\n",
              "        border-radius: 50%;\n",
              "        cursor: pointer;\n",
              "        display: none;\n",
              "        fill: #1967D2;\n",
              "        height: 32px;\n",
              "        padding: 0 0 0 0;\n",
              "        width: 32px;\n",
              "      }\n",
              "\n",
              "      .colab-df-generate:hover {\n",
              "        background-color: #E2EBFA;\n",
              "        box-shadow: 0px 1px 2px rgba(60, 64, 67, 0.3), 0px 1px 3px 1px rgba(60, 64, 67, 0.15);\n",
              "        fill: #174EA6;\n",
              "      }\n",
              "\n",
              "      [theme=dark] .colab-df-generate {\n",
              "        background-color: #3B4455;\n",
              "        fill: #D2E3FC;\n",
              "      }\n",
              "\n",
              "      [theme=dark] .colab-df-generate:hover {\n",
              "        background-color: #434B5C;\n",
              "        box-shadow: 0px 1px 3px 1px rgba(0, 0, 0, 0.15);\n",
              "        filter: drop-shadow(0px 1px 2px rgba(0, 0, 0, 0.3));\n",
              "        fill: #FFFFFF;\n",
              "      }\n",
              "    </style>\n",
              "    <button class=\"colab-df-generate\" onclick=\"generateWithVariable('all_model_results')\"\n",
              "            title=\"Generate code using this dataframe.\"\n",
              "            style=\"display:none;\">\n",
              "\n",
              "  <svg xmlns=\"http://www.w3.org/2000/svg\" height=\"24px\"viewBox=\"0 0 24 24\"\n",
              "       width=\"24px\">\n",
              "    <path d=\"M7,19H8.4L18.45,9,17,7.55,7,17.6ZM5,21V16.75L18.45,3.32a2,2,0,0,1,2.83,0l1.4,1.43a1.91,1.91,0,0,1,.58,1.4,1.91,1.91,0,0,1-.58,1.4L9.25,21ZM18.45,9,17,7.55Zm-12,3A5.31,5.31,0,0,0,4.9,8.1,5.31,5.31,0,0,0,1,6.5,5.31,5.31,0,0,0,4.9,4.9,5.31,5.31,0,0,0,6.5,1,5.31,5.31,0,0,0,8.1,4.9,5.31,5.31,0,0,0,12,6.5,5.46,5.46,0,0,0,6.5,12Z\"/>\n",
              "  </svg>\n",
              "    </button>\n",
              "    <script>\n",
              "      (() => {\n",
              "      const buttonEl =\n",
              "        document.querySelector('#id_07e1989f-0b46-43c5-b4f1-0cc905276061 button.colab-df-generate');\n",
              "      buttonEl.style.display =\n",
              "        google.colab.kernel.accessAllowed ? 'block' : 'none';\n",
              "\n",
              "      buttonEl.onclick = () => {\n",
              "        google.colab.notebook.generateWithVariable('all_model_results');\n",
              "      }\n",
              "      })();\n",
              "    </script>\n",
              "  </div>\n",
              "\n",
              "    </div>\n",
              "  </div>\n"
            ],
            "application/vnd.google.colaboratory.intrinsic+json": {
              "type": "dataframe",
              "variable_name": "all_model_results",
              "summary": "{\n  \"name\": \"all_model_results\",\n  \"rows\": 5,\n  \"fields\": [\n    {\n      \"column\": \"accuracy\",\n      \"properties\": {\n        \"dtype\": \"number\",\n        \"std\": 6.352437874477702,\n        \"min\": 68.2477161392824,\n        \"max\": 84.26122070700384,\n        \"num_unique_values\": 5,\n        \"samples\": [\n          80.1105520985039,\n          84.26122070700384,\n          68.2477161392824\n        ],\n        \"semantic_type\": \"\",\n        \"description\": \"\"\n      }\n    },\n    {\n      \"column\": \"precision\",\n      \"properties\": {\n        \"dtype\": \"number\",\n        \"std\": 0.06462931573182916,\n        \"min\": 0.6839298591423792,\n        \"max\": 0.8454723878832535,\n        \"num_unique_values\": 5,\n        \"samples\": [\n          0.8008578143989449,\n          0.8454723878832535,\n          0.6839298591423792\n        ],\n        \"semantic_type\": \"\",\n        \"description\": \"\"\n      }\n    },\n    {\n      \"column\": \"recall\",\n      \"properties\": {\n        \"dtype\": \"number\",\n        \"std\": 0.06352437874477702,\n        \"min\": 0.682477161392824,\n        \"max\": 0.8426122070700384,\n        \"num_unique_values\": 5,\n        \"samples\": [\n          0.8011055209850391,\n          0.8426122070700384,\n          0.682477161392824\n        ],\n        \"semantic_type\": \"\",\n        \"description\": \"\"\n      }\n    },\n    {\n      \"column\": \"f1\",\n      \"properties\": {\n        \"dtype\": \"number\",\n        \"std\": 0.06699756915051204,\n        \"min\": 0.6784416953326401,\n        \"max\": 0.8387213279242317,\n        \"num_unique_values\": 5,\n        \"samples\": [\n          0.7978365781609399,\n          0.8387213279242317,\n          0.6784416953326401\n        ],\n        \"semantic_type\": \"\",\n        \"description\": \"\"\n      }\n    }\n  ]\n}"
            }
          },
          "metadata": {},
          "execution_count": 99
        }
      ]
    },
    {
      "cell_type": "code",
      "source": [
        "# Reduce the accuracy to same scale as other metrics\n",
        "all_model_results[\"accuracy\"] = all_model_results[\"accuracy\"]/100"
      ],
      "metadata": {
        "id": "H1nJNTu-uttI"
      },
      "execution_count": 100,
      "outputs": []
    },
    {
      "cell_type": "code",
      "source": [
        "# Plot and compare all of the model results\n",
        "all_model_results.plot(kind=\"bar\", figsize=(10, 7)).legend(bbox_to_anchor=(1.0, 1.0));"
      ],
      "metadata": {
        "colab": {
          "base_uri": "https://localhost:8080/",
          "height": 798
        },
        "id": "smldlKCjutwE",
        "outputId": "a7730b4f-fa9a-4e40-cfac-cbab5f3899e5"
      },
      "execution_count": 101,
      "outputs": [
        {
          "output_type": "display_data",
          "data": {
            "text/plain": [
              "<Figure size 1000x700 with 1 Axes>"
            ],
            "image/png": "[encoded data removed]"
          },
          "metadata": {}
        }
      ]
    },
    {
      "cell_type": "code",
      "source": [
        "# Sort model results by f1-score\n",
        "all_model_results.sort_values(\"f1\", ascending=False)[\"f1\"].plot(kind=\"bar\", figsize=(10, 7));"
      ],
      "metadata": {
        "colab": {
          "base_uri": "https://localhost:8080/",
          "height": 798
        },
        "id": "XC2J-Zmkutyr",
        "outputId": "65b693a7-7e36-488a-84b8-a2b52713eac9"
      },
      "execution_count": 102,
      "outputs": [
        {
          "output_type": "display_data",
          "data": {
            "text/plain": [
              "<Figure size 1000x700 with 1 Axes>"
            ],
            "image/png": "[encoded data removed]"
          },
          "metadata": {}
        }
      ]
    },
    {
      "cell_type": "markdown",
      "source": [
        "### **Testing**\n",
        "\n",
        "Taking a sample abstract dataset to generate result"
      ],
      "metadata": {
        "id": "erKdHs470LMb"
      }
    },
    {
      "cell_type": "code",
      "source": [
        "import json\n",
        "# Downloaded and opened example abstracts (copy and pasted from PubMed)\n",
        "#/content/skimlit_example_abstracts.json\n",
        "\n",
        "with open(\"/content/skimlit_example_abstracts.json\", \"r\") as f:\n",
        "  example_abstracts = json.load(f)\n",
        "\n",
        "example_abstracts"
      ],
      "metadata": {
        "colab": {
          "base_uri": "https://localhost:8080/"
        },
        "id": "Svy67MGe1WO8",
        "outputId": "60f9507d-b941-4483-9ce3-ed81b4620cea"
      },
      "execution_count": 134,
      "outputs": [
        {
          "output_type": "execute_result",
          "data": {
            "text/plain": [
              "[{'abstract': 'This RCT examined the efficacy of a manualized social intervention for children with HFASDs. Participants were randomly assigned to treatment or wait-list conditions. Treatment included instruction and therapeutic activities targeting social skills, face-emotion recognition, interest expansion, and interpretation of non-literal language. A response-cost program was applied to reduce problem behaviors and foster skills acquisition. Significant treatment effects were found for five of seven primary outcome measures (parent ratings and direct child measures). Secondary measures based on staff ratings (treatment group only) corroborated gains reported by parents. High levels of parent, child and staff satisfaction were reported, along with high levels of treatment fidelity. Standardized effect size estimates were primarily in the medium and large ranges and favored the treatment group.',\n",
              "  'source': 'https://pubmed.ncbi.nlm.nih.gov/20232240/',\n",
              "  'details': 'RCT of a manualized social treatment for high-functioning autism spectrum disorders'},\n",
              " {'abstract': \"Postpartum depression (PPD) is the most prevalent mood disorder associated with childbirth. No single cause of PPD has been identified, however the increased risk of nutritional deficiencies incurred through the high nutritional requirements of pregnancy may play a role in the pathology of depressive symptoms. Three nutritional interventions have drawn particular interest as possible non-invasive and cost-effective prevention and/or treatment strategies for PPD; omega-3 (n-3) long chain polyunsaturated fatty acids (LCPUFA), vitamin D and overall diet. We searched for meta-analyses of randomised controlled trials (RCT's) of nutritional interventions during the perinatal period with PPD as an outcome, and checked for any trials published subsequently to the meta-analyses. Fish oil: Eleven RCT's of prenatal fish oil supplementation RCT's show null and positive effects on PPD symptoms. Vitamin D: no relevant RCT's were identified, however seven observational studies of maternal vitamin D levels with PPD outcomes showed inconsistent associations. Diet: Two Australian RCT's with dietary advice interventions in pregnancy had a positive and null result on PPD. With the exception of fish oil, few RCT's with nutritional interventions during pregnancy assess PPD. Further research is needed to determine whether nutritional intervention strategies during pregnancy can protect against symptoms of PPD. Given the prevalence of PPD and ease of administering PPD measures, we recommend future prenatal nutritional RCT's include PPD as an outcome.\",\n",
              "  'source': 'https://pubmed.ncbi.nlm.nih.gov/28012571/',\n",
              "  'details': 'Formatting removed (can be used to compare model to actual example)'},\n",
              " {'abstract': 'Mental illness, including depression, anxiety and bipolar disorder, accounts for a significant proportion of global disability and poses a substantial social, economic and heath burden. Treatment is presently dominated by pharmacotherapy, such as antidepressants, and psychotherapy, such as cognitive behavioural therapy; however, such treatments avert less than half of the disease burden, suggesting that additional strategies are needed to prevent and treat mental disorders. There are now consistent mechanistic, observational and interventional data to suggest diet quality may be a modifiable risk factor for mental illness. This review provides an overview of the nutritional psychiatry field. It includes a discussion of the neurobiological mechanisms likely modulated by diet, the use of dietary and nutraceutical interventions in mental disorders, and recommendations for further research. Potential biological pathways related to mental disorders include inflammation, oxidative stress, the gut microbiome, epigenetic modifications and neuroplasticity. Consistent epidemiological evidence, particularly for depression, suggests an association between measures of diet quality and mental health, across multiple populations and age groups; these do not appear to be explained by other demographic, lifestyle factors or reverse causality. Our recently published intervention trial provides preliminary clinical evidence that dietary interventions in clinically diagnosed populations are feasible and can provide significant clinical benefit. Furthermore, nutraceuticals including n-3 fatty acids, folate, S-adenosylmethionine, N-acetyl cysteine and probiotics, among others, are promising avenues for future research. Continued research is now required to investigate the efficacy of intervention studies in large cohorts and within clinically relevant populations, particularly in patients with schizophrenia, bipolar and anxiety disorders.',\n",
              "  'source': 'https://pubmed.ncbi.nlm.nih.gov/28942748/',\n",
              "  'details': 'Effect of nutrition on mental health'},\n",
              " {'abstract': \"Hepatitis C virus (HCV) and alcoholic liver disease (ALD), either alone or in combination, count for more than two thirds of all liver diseases in the Western world. There is no safe level of drinking in HCV-infected patients and the most effective goal for these patients is total abstinence. Baclofen, a GABA(B) receptor agonist, represents a promising pharmacotherapy for alcohol dependence (AD). Previously, we performed a randomized clinical trial (RCT), which demonstrated the safety and efficacy of baclofen in patients affected by AD and cirrhosis. The goal of this post-hoc analysis was to explore baclofen's effect in a subgroup of alcohol-dependent HCV-infected cirrhotic patients. Any patient with HCV infection was selected for this analysis. Among the 84 subjects randomized in the main trial, 24 alcohol-dependent cirrhotic patients had a HCV infection; 12 received baclofen 10mg t.i.d. and 12 received placebo for 12-weeks. With respect to the placebo group (3/12, 25.0%), a significantly higher number of patients who achieved and maintained total alcohol abstinence was found in the baclofen group (10/12, 83.3%; p=0.0123). Furthermore, in the baclofen group, compared to placebo, there was a significantly higher increase in albumin values from baseline (p=0.0132) and a trend toward a significant reduction in INR levels from baseline (p=0.0716). In conclusion, baclofen was safe and significantly more effective than placebo in promoting alcohol abstinence, and improving some Liver Function Tests (LFTs) (i.e. albumin, INR) in alcohol-dependent HCV-infected cirrhotic patients. Baclofen may represent a clinically relevant alcohol pharmacotherapy for these patients.\",\n",
              "  'source': 'https://pubmed.ncbi.nlm.nih.gov/22244707/',\n",
              "  'details': 'Baclofen promotes alcohol abstinence in alcohol dependent cirrhotic patients with hepatitis C virus (HCV) infection'}]"
            ]
          },
          "metadata": {},
          "execution_count": 134
        }
      ]
    },
    {
      "cell_type": "code",
      "source": [
        "# See what our example abstracts look like\n",
        "abstracts = pd.DataFrame(example_abstracts)\n",
        "abstracts"
      ],
      "metadata": {
        "colab": {
          "base_uri": "https://localhost:8080/",
          "height": 175
        },
        "id": "Ao9pH9Lm1Wpu",
        "outputId": "50b37f1f-6a55-46e3-8ec0-829acf9c70da"
      },
      "execution_count": 119,
      "outputs": [
        {
          "output_type": "execute_result",
          "data": {
            "text/plain": [
              "                                            abstract  \\\n",
              "0  This RCT examined the efficacy of a manualized...   \n",
              "1  Postpartum depression (PPD) is the most preval...   \n",
              "2  Mental illness, including depression, anxiety ...   \n",
              "3  Hepatitis C virus (HCV) and alcoholic liver di...   \n",
              "\n",
              "                                      source  \\\n",
              "0  https://pubmed.ncbi.nlm.nih.gov/20232240/   \n",
              "1  https://pubmed.ncbi.nlm.nih.gov/28012571/   \n",
              "2  https://pubmed.ncbi.nlm.nih.gov/28942748/   \n",
              "3  https://pubmed.ncbi.nlm.nih.gov/22244707/   \n",
              "\n",
              "                                             details  \n",
              "0  RCT of a manualized social treatment for high-...  \n",
              "1  Formatting removed (can be used to compare mod...  \n",
              "2               Effect of nutrition on mental health  \n",
              "3  Baclofen promotes alcohol abstinence in alcoho...  "
            ],
            "text/html": [
              "\n",
              "  <div id=\"df-e67763dc-fb62-4afa-9cf8-ad09d58e5a74\" class=\"colab-df-container\">\n",
              "    <div>\n",
              "<style scoped>\n",
              "    .dataframe tbody tr th:only-of-type {\n",
              "        vertical-align: middle;\n",
              "    }\n",
              "\n",
              "    .dataframe tbody tr th {\n",
              "        vertical-align: top;\n",
              "    }\n",
              "\n",
              "    .dataframe thead th {\n",
              "        text-align: right;\n",
              "    }\n",
              "</style>\n",
              "<table border=\"1\" class=\"dataframe\">\n",
              "  <thead>\n",
              "    <tr style=\"text-align: right;\">\n",
              "      <th></th>\n",
              "      <th>abstract</th>\n",
              "      <th>source</th>\n",
              "      <th>details</th>\n",
              "    </tr>\n",
              "  </thead>\n",
              "  <tbody>\n",
              "    <tr>\n",
              "      <th>0</th>\n",
              "      <td>This RCT examined the efficacy of a manualized...</td>\n",
              "      <td>https://pubmed.ncbi.nlm.nih.gov/20232240/</td>\n",
              "      <td>RCT of a manualized social treatment for high-...</td>\n",
              "    </tr>\n",
              "    <tr>\n",
              "      <th>1</th>\n",
              "      <td>Postpartum depression (PPD) is the most preval...</td>\n",
              "      <td>https://pubmed.ncbi.nlm.nih.gov/28012571/</td>\n",
              "      <td>Formatting removed (can be used to compare mod...</td>\n",
              "    </tr>\n",
              "    <tr>\n",
              "      <th>2</th>\n",
              "      <td>Mental illness, including depression, anxiety ...</td>\n",
              "      <td>https://pubmed.ncbi.nlm.nih.gov/28942748/</td>\n",
              "      <td>Effect of nutrition on mental health</td>\n",
              "    </tr>\n",
              "    <tr>\n",
              "      <th>3</th>\n",
              "      <td>Hepatitis C virus (HCV) and alcoholic liver di...</td>\n",
              "      <td>https://pubmed.ncbi.nlm.nih.gov/22244707/</td>\n",
              "      <td>Baclofen promotes alcohol abstinence in alcoho...</td>\n",
              "    </tr>\n",
              "  </tbody>\n",
              "</table>\n",
              "</div>\n",
              "    <div class=\"colab-df-buttons\">\n",
              "\n",
              "  <div class=\"colab-df-container\">\n",
              "    <button class=\"colab-df-convert\" onclick=\"convertToInteractive('df-e67763dc-fb62-4afa-9cf8-ad09d58e5a74')\"\n",
              "            title=\"Convert this dataframe to an interactive table.\"\n",
              "            style=\"display:none;\">\n",
              "\n",
              "  <svg xmlns=\"http://www.w3.org/2000/svg\" height=\"24px\" viewBox=\"0 -960 960 960\">\n",
              "    <path d=\"M120-120v-720h720v720H120Zm60-500h600v-160H180v160Zm220 220h160v-160H400v160Zm0 220h160v-160H400v160ZM180-400h160v-160H180v160Zm440 0h160v-160H620v160ZM180-180h160v-160H180v160Zm440 0h160v-160H620v160Z\"/>\n",
              "  </svg>\n",
              "    </button>\n",
              "\n",
              "  <style>\n",
              "    .colab-df-container {\n",
              "      display:flex;\n",
              "      gap: 12px;\n",
              "    }\n",
              "\n",
              "    .colab-df-convert {\n",
              "      background-color: #E8F0FE;\n",
              "      border: none;\n",
              "      border-radius: 50%;\n",
              "      cursor: pointer;\n",
              "      display: none;\n",
              "      fill: #1967D2;\n",
              "      height: 32px;\n",
              "      padding: 0 0 0 0;\n",
              "      width: 32px;\n",
              "    }\n",
              "\n",
              "    .colab-df-convert:hover {\n",
              "      background-color: #E2EBFA;\n",
              "      box-shadow: 0px 1px 2px rgba(60, 64, 67, 0.3), 0px 1px 3px 1px rgba(60, 64, 67, 0.15);\n",
              "      fill: #174EA6;\n",
              "    }\n",
              "\n",
              "    .colab-df-buttons div {\n",
              "      margin-bottom: 4px;\n",
              "    }\n",
              "\n",
              "    [theme=dark] .colab-df-convert {\n",
              "      background-color: #3B4455;\n",
              "      fill: #D2E3FC;\n",
              "    }\n",
              "\n",
              "    [theme=dark] .colab-df-convert:hover {\n",
              "      background-color: #434B5C;\n",
              "      box-shadow: 0px 1px 3px 1px rgba(0, 0, 0, 0.15);\n",
              "      filter: drop-shadow(0px 1px 2px rgba(0, 0, 0, 0.3));\n",
              "      fill: #FFFFFF;\n",
              "    }\n",
              "  </style>\n",
              "\n",
              "    <script>\n",
              "      const buttonEl =\n",
              "        document.querySelector('#df-e67763dc-fb62-4afa-9cf8-ad09d58e5a74 button.colab-df-convert');\n",
              "      buttonEl.style.display =\n",
              "        google.colab.kernel.accessAllowed ? 'block' : 'none';\n",
              "\n",
              "      async function convertToInteractive(key) {\n",
              "        const element = document.querySelector('#df-e67763dc-fb62-4afa-9cf8-ad09d58e5a74');\n",
              "        const dataTable =\n",
              "          await google.colab.kernel.invokeFunction('convertToInteractive',\n",
              "                                                    [key], {});\n",
              "        if (!dataTable) return;\n",
              "\n",
              "        const docLinkHtml = 'Like what you see? Visit the ' +\n",
              "          '<a target=\"_blank\" href=https://colab.research.google.com/notebooks/data_table.ipynb>data table notebook</a>'\n",
              "          + ' to learn more about interactive tables.';\n",
              "        element.innerHTML = '';\n",
              "        dataTable['output_type'] = 'display_data';\n",
              "        await google.colab.output.renderOutput(dataTable, element);\n",
              "        const docLink = document.createElement('div');\n",
              "        docLink.innerHTML = docLinkHtml;\n",
              "        element.appendChild(docLink);\n",
              "      }\n",
              "    </script>\n",
              "  </div>\n",
              "\n",
              "\n",
              "<div id=\"df-b10d1ef9-e120-4a1c-b488-31ca46ead169\">\n",
              "  <button class=\"colab-df-quickchart\" onclick=\"quickchart('df-b10d1ef9-e120-4a1c-b488-31ca46ead169')\"\n",
              "            title=\"Suggest charts\"\n",
              "            style=\"display:none;\">\n",
              "\n",
              "<svg xmlns=\"http://www.w3.org/2000/svg\" height=\"24px\"viewBox=\"0 0 24 24\"\n",
              "     width=\"24px\">\n",
              "    <g>\n",
              "        <path d=\"M19 3H5c-1.1 0-2 .9-2 2v14c0 1.1.9 2 2 2h14c1.1 0 2-.9 2-2V5c0-1.1-.9-2-2-2zM9 17H7v-7h2v7zm4 0h-2V7h2v10zm4 0h-2v-4h2v4z\"/>\n",
              "    </g>\n",
              "</svg>\n",
              "  </button>\n",
              "\n",
              "<style>\n",
              "  .colab-df-quickchart {\n",
              "      --bg-color: #E8F0FE;\n",
              "      --fill-color: #1967D2;\n",
              "      --hover-bg-color: #E2EBFA;\n",
              "      --hover-fill-color: #174EA6;\n",
              "      --disabled-fill-color: #AAA;\n",
              "      --disabled-bg-color: #DDD;\n",
              "  }\n",
              "\n",
              "  [theme=dark] .colab-df-quickchart {\n",
              "      --bg-color: #3B4455;\n",
              "      --fill-color: #D2E3FC;\n",
              "      --hover-bg-color: #434B5C;\n",
              "      --hover-fill-color: #FFFFFF;\n",
              "      --disabled-bg-color: #3B4455;\n",
              "      --disabled-fill-color: #666;\n",
              "  }\n",
              "\n",
              "  .colab-df-quickchart {\n",
              "    background-color: var(--bg-color);\n",
              "    border: none;\n",
              "    border-radius: 50%;\n",
              "    cursor: pointer;\n",
              "    display: none;\n",
              "    fill: var(--fill-color);\n",
              "    height: 32px;\n",
              "    padding: 0;\n",
              "    width: 32px;\n",
              "  }\n",
              "\n",
              "  .colab-df-quickchart:hover {\n",
              "    background-color: var(--hover-bg-color);\n",
              "    box-shadow: 0 1px 2px rgba(60, 64, 67, 0.3), 0 1px 3px 1px rgba(60, 64, 67, 0.15);\n",
              "    fill: var(--button-hover-fill-color);\n",
              "  }\n",
              "\n",
              "  .colab-df-quickchart-complete:disabled,\n",
              "  .colab-df-quickchart-complete:disabled:hover {\n",
              "    background-color: var(--disabled-bg-color);\n",
              "    fill: var(--disabled-fill-color);\n",
              "    box-shadow: none;\n",
              "  }\n",
              "\n",
              "  .colab-df-spinner {\n",
              "    border: 2px solid var(--fill-color);\n",
              "    border-color: transparent;\n",
              "    border-bottom-color: var(--fill-color);\n",
              "    animation:\n",
              "      spin 1s steps(1) infinite;\n",
              "  }\n",
              "\n",
              "  @keyframes spin {\n",
              "    0% {\n",
              "      border-color: transparent;\n",
              "      border-bottom-color: var(--fill-color);\n",
              "      border-left-color: var(--fill-color);\n",
              "    }\n",
              "    20% {\n",
              "      border-color: transparent;\n",
              "      border-left-color: var(--fill-color);\n",
              "      border-top-color: var(--fill-color);\n",
              "    }\n",
              "    30% {\n",
              "      border-color: transparent;\n",
              "      border-left-color: var(--fill-color);\n",
              "      border-top-color: var(--fill-color);\n",
              "      border-right-color: var(--fill-color);\n",
              "    }\n",
              "    40% {\n",
              "      border-color: transparent;\n",
              "      border-right-color: var(--fill-color);\n",
              "      border-top-color: var(--fill-color);\n",
              "    }\n",
              "    60% {\n",
              "      border-color: transparent;\n",
              "      border-right-color: var(--fill-color);\n",
              "    }\n",
              "    80% {\n",
              "      border-color: transparent;\n",
              "      border-right-color: var(--fill-color);\n",
              "      border-bottom-color: var(--fill-color);\n",
              "    }\n",
              "    90% {\n",
              "      border-color: transparent;\n",
              "      border-bottom-color: var(--fill-color);\n",
              "    }\n",
              "  }\n",
              "</style>\n",
              "\n",
              "  <script>\n",
              "    async function quickchart(key) {\n",
              "      const quickchartButtonEl =\n",
              "        document.querySelector('#' + key + ' button');\n",
              "      quickchartButtonEl.disabled = true;  // To prevent multiple clicks.\n",
              "      quickchartButtonEl.classList.add('colab-df-spinner');\n",
              "      try {\n",
              "        const charts = await google.colab.kernel.invokeFunction(\n",
              "            'suggestCharts', [key], {});\n",
              "      } catch (error) {\n",
              "        console.error('Error during call to suggestCharts:', error);\n",
              "      }\n",
              "      quickchartButtonEl.classList.remove('colab-df-spinner');\n",
              "      quickchartButtonEl.classList.add('colab-df-quickchart-complete');\n",
              "    }\n",
              "    (() => {\n",
              "      let quickchartButtonEl =\n",
              "        document.querySelector('#df-b10d1ef9-e120-4a1c-b488-31ca46ead169 button');\n",
              "      quickchartButtonEl.style.display =\n",
              "        google.colab.kernel.accessAllowed ? 'block' : 'none';\n",
              "    })();\n",
              "  </script>\n",
              "</div>\n",
              "\n",
              "  <div id=\"id_006c2425-0917-41e3-b0f2-a5614bfcee49\">\n",
              "    <style>\n",
              "      .colab-df-generate {\n",
              "        background-color: #E8F0FE;\n",
              "        border: none;\n",
              "        border-radius: 50%;\n",
              "        cursor: pointer;\n",
              "        display: none;\n",
              "        fill: #1967D2;\n",
              "        height: 32px;\n",
              "        padding: 0 0 0 0;\n",
              "        width: 32px;\n",
              "      }\n",
              "\n",
              "      .colab-df-generate:hover {\n",
              "        background-color: #E2EBFA;\n",
              "        box-shadow: 0px 1px 2px rgba(60, 64, 67, 0.3), 0px 1px 3px 1px rgba(60, 64, 67, 0.15);\n",
              "        fill: #174EA6;\n",
              "      }\n",
              "\n",
              "      [theme=dark] .colab-df-generate {\n",
              "        background-color: #3B4455;\n",
              "        fill: #D2E3FC;\n",
              "      }\n",
              "\n",
              "      [theme=dark] .colab-df-generate:hover {\n",
              "        background-color: #434B5C;\n",
              "        box-shadow: 0px 1px 3px 1px rgba(0, 0, 0, 0.15);\n",
              "        filter: drop-shadow(0px 1px 2px rgba(0, 0, 0, 0.3));\n",
              "        fill: #FFFFFF;\n",
              "      }\n",
              "    </style>\n",
              "    <button class=\"colab-df-generate\" onclick=\"generateWithVariable('abstracts')\"\n",
              "            title=\"Generate code using this dataframe.\"\n",
              "            style=\"display:none;\">\n",
              "\n",
              "  <svg xmlns=\"http://www.w3.org/2000/svg\" height=\"24px\"viewBox=\"0 0 24 24\"\n",
              "       width=\"24px\">\n",
              "    <path d=\"M7,19H8.4L18.45,9,17,7.55,7,17.6ZM5,21V16.75L18.45,3.32a2,2,0,0,1,2.83,0l1.4,1.43a1.91,1.91,0,0,1,.58,1.4,1.91,1.91,0,0,1-.58,1.4L9.25,21ZM18.45,9,17,7.55Zm-12,3A5.31,5.31,0,0,0,4.9,8.1,5.31,5.31,0,0,0,1,6.5,5.31,5.31,0,0,0,4.9,4.9,5.31,5.31,0,0,0,6.5,1,5.31,5.31,0,0,0,8.1,4.9,5.31,5.31,0,0,0,12,6.5,5.46,5.46,0,0,0,6.5,12Z\"/>\n",
              "  </svg>\n",
              "    </button>\n",
              "    <script>\n",
              "      (() => {\n",
              "      const buttonEl =\n",
              "        document.querySelector('#id_006c2425-0917-41e3-b0f2-a5614bfcee49 button.colab-df-generate');\n",
              "      buttonEl.style.display =\n",
              "        google.colab.kernel.accessAllowed ? 'block' : 'none';\n",
              "\n",
              "      buttonEl.onclick = () => {\n",
              "        google.colab.notebook.generateWithVariable('abstracts');\n",
              "      }\n",
              "      })();\n",
              "    </script>\n",
              "  </div>\n",
              "\n",
              "    </div>\n",
              "  </div>\n"
            ],
            "application/vnd.google.colaboratory.intrinsic+json": {
              "type": "dataframe",
              "variable_name": "abstracts",
              "summary": "{\n  \"name\": \"abstracts\",\n  \"rows\": 4,\n  \"fields\": [\n    {\n      \"column\": \"abstract\",\n      \"properties\": {\n        \"dtype\": \"string\",\n        \"num_unique_values\": 4,\n        \"samples\": [\n          \"Postpartum depression (PPD) is the most prevalent mood disorder associated with childbirth. No single cause of PPD has been identified, however the increased risk of nutritional deficiencies incurred through the high nutritional requirements of pregnancy may play a role in the pathology of depressive symptoms. Three nutritional interventions have drawn particular interest as possible non-invasive and cost-effective prevention and/or treatment strategies for PPD; omega-3 (n-3) long chain polyunsaturated fatty acids (LCPUFA), vitamin D and overall diet. We searched for meta-analyses of randomised controlled trials (RCT's) of nutritional interventions during the perinatal period with PPD as an outcome, and checked for any trials published subsequently to the meta-analyses. Fish oil: Eleven RCT's of prenatal fish oil supplementation RCT's show null and positive effects on PPD symptoms. Vitamin D: no relevant RCT's were identified, however seven observational studies of maternal vitamin D levels with PPD outcomes showed inconsistent associations. Diet: Two Australian RCT's with dietary advice interventions in pregnancy had a positive and null result on PPD. With the exception of fish oil, few RCT's with nutritional interventions during pregnancy assess PPD. Further research is needed to determine whether nutritional intervention strategies during pregnancy can protect against symptoms of PPD. Given the prevalence of PPD and ease of administering PPD measures, we recommend future prenatal nutritional RCT's include PPD as an outcome.\",\n          \"Hepatitis C virus (HCV) and alcoholic liver disease (ALD), either alone or in combination, count for more than two thirds of all liver diseases in the Western world. There is no safe level of drinking in HCV-infected patients and the most effective goal for these patients is total abstinence. Baclofen, a GABA(B) receptor agonist, represents a promising pharmacotherapy for alcohol dependence (AD). Previously, we performed a randomized clinical trial (RCT), which demonstrated the safety and efficacy of baclofen in patients affected by AD and cirrhosis. The goal of this post-hoc analysis was to explore baclofen's effect in a subgroup of alcohol-dependent HCV-infected cirrhotic patients. Any patient with HCV infection was selected for this analysis. Among the 84 subjects randomized in the main trial, 24 alcohol-dependent cirrhotic patients had a HCV infection; 12 received baclofen 10mg t.i.d. and 12 received placebo for 12-weeks. With respect to the placebo group (3/12, 25.0%), a significantly higher number of patients who achieved and maintained total alcohol abstinence was found in the baclofen group (10/12, 83.3%; p=0.0123). Furthermore, in the baclofen group, compared to placebo, there was a significantly higher increase in albumin values from baseline (p=0.0132) and a trend toward a significant reduction in INR levels from baseline (p=0.0716). In conclusion, baclofen was safe and significantly more effective than placebo in promoting alcohol abstinence, and improving some Liver Function Tests (LFTs) (i.e. albumin, INR) in alcohol-dependent HCV-infected cirrhotic patients. Baclofen may represent a clinically relevant alcohol pharmacotherapy for these patients.\",\n          \"This RCT examined the efficacy of a manualized social intervention for children with HFASDs. Participants were randomly assigned to treatment or wait-list conditions. Treatment included instruction and therapeutic activities targeting social skills, face-emotion recognition, interest expansion, and interpretation of non-literal language. A response-cost program was applied to reduce problem behaviors and foster skills acquisition. Significant treatment effects were found for five of seven primary outcome measures (parent ratings and direct child measures). Secondary measures based on staff ratings (treatment group only) corroborated gains reported by parents. High levels of parent, child and staff satisfaction were reported, along with high levels of treatment fidelity. Standardized effect size estimates were primarily in the medium and large ranges and favored the treatment group.\"\n        ],\n        \"semantic_type\": \"\",\n        \"description\": \"\"\n      }\n    },\n    {\n      \"column\": \"source\",\n      \"properties\": {\n        \"dtype\": \"string\",\n        \"num_unique_values\": 4,\n        \"samples\": [\n          \"https://pubmed.ncbi.nlm.nih.gov/28012571/\",\n          \"https://pubmed.ncbi.nlm.nih.gov/22244707/\",\n          \"https://pubmed.ncbi.nlm.nih.gov/20232240/\"\n        ],\n        \"semantic_type\": \"\",\n        \"description\": \"\"\n      }\n    },\n    {\n      \"column\": \"details\",\n      \"properties\": {\n        \"dtype\": \"string\",\n        \"num_unique_values\": 4,\n        \"samples\": [\n          \"Formatting removed (can be used to compare model to actual example)\",\n          \"Baclofen promotes alcohol abstinence in alcohol dependent cirrhotic patients with hepatitis C virus (HCV) infection\",\n          \"RCT of a manualized social treatment for high-functioning autism spectrum disorders\"\n        ],\n        \"semantic_type\": \"\",\n        \"description\": \"\"\n      }\n    }\n  ]\n}"
            }
          },
          "metadata": {},
          "execution_count": 119
        }
      ]
    },
    {
      "cell_type": "code",
      "source": [
        "# Create sentencizer\n",
        "from spacy.lang.en import English\n",
        "nlp = English() # setup English sentence parser\n",
        "\n",
        " # create sentence splitting pipeline object\n",
        "sentencizer = nlp.add_pipe(\"sentencizer\")\n",
        "\n",
        "# Create \"doc\" of parsed sequences, change index for a different abstract\n",
        "doc = nlp(example_abstracts[0][\"abstract\"])\n",
        "abstract_lines = [str(sent) for sent in list(doc.sents)] # return detected sentences from doc in string type (not spaCy token type)\n",
        "abstract_lines"
      ],
      "metadata": {
        "colab": {
          "base_uri": "https://localhost:8080/"
        },
        "id": "5f0VVRuw1wq7",
        "outputId": "131c5613-6b2f-4f24-d92f-bf27ed4f7a8a"
      },
      "execution_count": 120,
      "outputs": [
        {
          "output_type": "execute_result",
          "data": {
            "text/plain": [
              "['This RCT examined the efficacy of a manualized social intervention for children with HFASDs.',\n",
              " 'Participants were randomly assigned to treatment or wait-list conditions.',\n",
              " 'Treatment included instruction and therapeutic activities targeting social skills, face-emotion recognition, interest expansion, and interpretation of non-literal language.',\n",
              " 'A response-cost program was applied to reduce problem behaviors and foster skills acquisition.',\n",
              " 'Significant treatment effects were found for five of seven primary outcome measures (parent ratings and direct child measures).',\n",
              " 'Secondary measures based on staff ratings (treatment group only) corroborated gains reported by parents.',\n",
              " 'High levels of parent, child and staff satisfaction were reported, along with high levels of treatment fidelity.',\n",
              " 'Standardized effect size estimates were primarily in the medium and large ranges and favored the treatment group.']"
            ]
          },
          "metadata": {},
          "execution_count": 120
        }
      ]
    },
    {
      "cell_type": "code",
      "source": [
        "# Get total number of lines\n",
        "total_lines_in_sample = len(abstract_lines)\n",
        "\n",
        "# Go through each line in abstract and create a list of dictionaries containing features for each line\n",
        "sample_lines = []\n",
        "for i, line in enumerate(abstract_lines):\n",
        "  sample_dict = {}\n",
        "  sample_dict[\"text\"] = str(line)\n",
        "  sample_dict[\"line_number\"] = i\n",
        "  sample_dict[\"total_lines\"] = total_lines_in_sample - 1\n",
        "  sample_lines.append(sample_dict)\n",
        "sample_lines"
      ],
      "metadata": {
        "colab": {
          "base_uri": "https://localhost:8080/"
        },
        "id": "KeJIvofH1wz5",
        "outputId": "9ed79279-3679-4089-f270-ab66ec1676d0"
      },
      "execution_count": 121,
      "outputs": [
        {
          "output_type": "execute_result",
          "data": {
            "text/plain": [
              "[{'text': 'This RCT examined the efficacy of a manualized social intervention for children with HFASDs.',\n",
              "  'line_number': 0,\n",
              "  'total_lines': 7},\n",
              " {'text': 'Participants were randomly assigned to treatment or wait-list conditions.',\n",
              "  'line_number': 1,\n",
              "  'total_lines': 7},\n",
              " {'text': 'Treatment included instruction and therapeutic activities targeting social skills, face-emotion recognition, interest expansion, and interpretation of non-literal language.',\n",
              "  'line_number': 2,\n",
              "  'total_lines': 7},\n",
              " {'text': 'A response-cost program was applied to reduce problem behaviors and foster skills acquisition.',\n",
              "  'line_number': 3,\n",
              "  'total_lines': 7},\n",
              " {'text': 'Significant treatment effects were found for five of seven primary outcome measures (parent ratings and direct child measures).',\n",
              "  'line_number': 4,\n",
              "  'total_lines': 7},\n",
              " {'text': 'Secondary measures based on staff ratings (treatment group only) corroborated gains reported by parents.',\n",
              "  'line_number': 5,\n",
              "  'total_lines': 7},\n",
              " {'text': 'High levels of parent, child and staff satisfaction were reported, along with high levels of treatment fidelity.',\n",
              "  'line_number': 6,\n",
              "  'total_lines': 7},\n",
              " {'text': 'Standardized effect size estimates were primarily in the medium and large ranges and favored the treatment group.',\n",
              "  'line_number': 7,\n",
              "  'total_lines': 7}]"
            ]
          },
          "metadata": {},
          "execution_count": 121
        }
      ]
    },
    {
      "cell_type": "code",
      "source": [
        "# Get all line_number values from sample abstract\n",
        "test_abstract_line_numbers = [line[\"line_number\"] for line in sample_lines]\n",
        "# One-hot encode to same depth as training data, so model accepts right input shape\n",
        "test_abstract_line_numbers_one_hot = tf.one_hot(test_abstract_line_numbers, depth=15)\n",
        "test_abstract_line_numbers_one_hot"
      ],
      "metadata": {
        "colab": {
          "base_uri": "https://localhost:8080/"
        },
        "id": "eZ5ekJLd1NRa",
        "outputId": "890dc1c7-be1d-4c75-b447-f37e454b6520"
      },
      "execution_count": 122,
      "outputs": [
        {
          "output_type": "execute_result",
          "data": {
            "text/plain": [
              "<tf.Tensor: shape=(8, 15), dtype=float32, numpy=\n",
              "array([[1., 0., 0., 0., 0., 0., 0., 0., 0., 0., 0., 0., 0., 0., 0.],\n",
              "       [0., 1., 0., 0., 0., 0., 0., 0., 0., 0., 0., 0., 0., 0., 0.],\n",
              "       [0., 0., 1., 0., 0., 0., 0., 0., 0., 0., 0., 0., 0., 0., 0.],\n",
              "       [0., 0., 0., 1., 0., 0., 0., 0., 0., 0., 0., 0., 0., 0., 0.],\n",
              "       [0., 0., 0., 0., 1., 0., 0., 0., 0., 0., 0., 0., 0., 0., 0.],\n",
              "       [0., 0., 0., 0., 0., 1., 0., 0., 0., 0., 0., 0., 0., 0., 0.],\n",
              "       [0., 0., 0., 0., 0., 0., 1., 0., 0., 0., 0., 0., 0., 0., 0.],\n",
              "       [0., 0., 0., 0., 0., 0., 0., 1., 0., 0., 0., 0., 0., 0., 0.]],\n",
              "      dtype=float32)>"
            ]
          },
          "metadata": {},
          "execution_count": 122
        }
      ]
    },
    {
      "cell_type": "code",
      "source": [
        "# Get all total_lines values from sample abstract\n",
        "test_abstract_total_lines = [line[\"total_lines\"] for line in sample_lines]\n",
        "# One-hot encode to same depth as training data, so model accepts right input shape\n",
        "test_abstract_total_lines_one_hot = tf.one_hot(test_abstract_total_lines, depth=20)\n",
        "test_abstract_total_lines_one_hot"
      ],
      "metadata": {
        "colab": {
          "base_uri": "https://localhost:8080/"
        },
        "id": "BFVvbTcZ2BEQ",
        "outputId": "49f78543-3e3b-4f68-edbf-fec30667809f"
      },
      "execution_count": 123,
      "outputs": [
        {
          "output_type": "execute_result",
          "data": {
            "text/plain": [
              "<tf.Tensor: shape=(8, 20), dtype=float32, numpy=\n",
              "array([[0., 0., 0., 0., 0., 0., 0., 1., 0., 0., 0., 0., 0., 0., 0., 0.,\n",
              "        0., 0., 0., 0.],\n",
              "       [0., 0., 0., 0., 0., 0., 0., 1., 0., 0., 0., 0., 0., 0., 0., 0.,\n",
              "        0., 0., 0., 0.],\n",
              "       [0., 0., 0., 0., 0., 0., 0., 1., 0., 0., 0., 0., 0., 0., 0., 0.,\n",
              "        0., 0., 0., 0.],\n",
              "       [0., 0., 0., 0., 0., 0., 0., 1., 0., 0., 0., 0., 0., 0., 0., 0.,\n",
              "        0., 0., 0., 0.],\n",
              "       [0., 0., 0., 0., 0., 0., 0., 1., 0., 0., 0., 0., 0., 0., 0., 0.,\n",
              "        0., 0., 0., 0.],\n",
              "       [0., 0., 0., 0., 0., 0., 0., 1., 0., 0., 0., 0., 0., 0., 0., 0.,\n",
              "        0., 0., 0., 0.],\n",
              "       [0., 0., 0., 0., 0., 0., 0., 1., 0., 0., 0., 0., 0., 0., 0., 0.,\n",
              "        0., 0., 0., 0.],\n",
              "       [0., 0., 0., 0., 0., 0., 0., 1., 0., 0., 0., 0., 0., 0., 0., 0.,\n",
              "        0., 0., 0., 0.]], dtype=float32)>"
            ]
          },
          "metadata": {},
          "execution_count": 123
        }
      ]
    },
    {
      "cell_type": "code",
      "source": [
        "# Split abstract lines into characters\n",
        "abstract_chars = [split_chars(sentence) for sentence in abstract_lines]\n",
        "abstract_chars"
      ],
      "metadata": {
        "colab": {
          "base_uri": "https://localhost:8080/"
        },
        "id": "CGD42iLX2BHp",
        "outputId": "14268dfd-5f6d-41b6-e358-adeff1556633"
      },
      "execution_count": 124,
      "outputs": [
        {
          "output_type": "execute_result",
          "data": {
            "text/plain": [
              "['T h i s   R C T   e x a m i n e d   t h e   e f f i c a c y   o f   a   m a n u a l i z e d   s o c i a l   i n t e r v e n t i o n   f o r   c h i l d r e n   w i t h   H F A S D s .',\n",
              " 'P a r t i c i p a n t s   w e r e   r a n d o m l y   a s s i g n e d   t o   t r e a t m e n t   o r   w a i t - l i s t   c o n d i t i o n s .',\n",
              " 'T r e a t m e n t   i n c l u d e d   i n s t r u c t i o n   a n d   t h e r a p e u t i c   a c t i v i t i e s   t a r g e t i n g   s o c i a l   s k i l l s ,   f a c e - e m o t i o n   r e c o g n i t i o n ,   i n t e r e s t   e x p a n s i o n ,   a n d   i n t e r p r e t a t i o n   o f   n o n - l i t e r a l   l a n g u a g e .',\n",
              " 'A   r e s p o n s e - c o s t   p r o g r a m   w a s   a p p l i e d   t o   r e d u c e   p r o b l e m   b e h a v i o r s   a n d   f o s t e r   s k i l l s   a c q u i s i t i o n .',\n",
              " 'S i g n i f i c a n t   t r e a t m e n t   e f f e c t s   w e r e   f o u n d   f o r   f i v e   o f   s e v e n   p r i m a r y   o u t c o m e   m e a s u r e s   ( p a r e n t   r a t i n g s   a n d   d i r e c t   c h i l d   m e a s u r e s ) .',\n",
              " 'S e c o n d a r y   m e a s u r e s   b a s e d   o n   s t a f f   r a t i n g s   ( t r e a t m e n t   g r o u p   o n l y )   c o r r o b o r a t e d   g a i n s   r e p o r t e d   b y   p a r e n t s .',\n",
              " 'H i g h   l e v e l s   o f   p a r e n t ,   c h i l d   a n d   s t a f f   s a t i s f a c t i o n   w e r e   r e p o r t e d ,   a l o n g   w i t h   h i g h   l e v e l s   o f   t r e a t m e n t   f i d e l i t y .',\n",
              " 'S t a n d a r d i z e d   e f f e c t   s i z e   e s t i m a t e s   w e r e   p r i m a r i l y   i n   t h e   m e d i u m   a n d   l a r g e   r a n g e s   a n d   f a v o r e d   t h e   t r e a t m e n t   g r o u p .']"
            ]
          },
          "metadata": {},
          "execution_count": 124
        }
      ]
    },
    {
      "cell_type": "code",
      "source": [
        "# Make predictions on sample abstract features\n",
        "%%time\n",
        "test_abstract_pred_probs = model_5.predict(x=(test_abstract_line_numbers_one_hot,\n",
        "                                                   test_abstract_total_lines_one_hot,\n",
        "                                                   tf.constant(abstract_lines),\n",
        "                                                   tf.constant(abstract_chars)))\n",
        "test_abstract_pred_probs"
      ],
      "metadata": {
        "colab": {
          "base_uri": "https://localhost:8080/"
        },
        "id": "b6ger8gE2BMD",
        "outputId": "c01d2b53-1e72-4684-88fa-39b225fce7c5"
      },
      "execution_count": 126,
      "outputs": [
        {
          "output_type": "stream",
          "name": "stdout",
          "text": [
            "\u001b[1m1/1\u001b[0m \u001b[32m━━━━━━━━━━━━━━━━━━━━\u001b[0m\u001b[37m\u001b[0m \u001b[1m1s\u001b[0m 796ms/step\n",
            "CPU times: user 857 ms, sys: 14 ms, total: 871 ms\n",
            "Wall time: 847 ms\n"
          ]
        },
        {
          "output_type": "execute_result",
          "data": {
            "text/plain": [
              "array([[0.37549043, 0.10202133, 0.02596336, 0.45654434, 0.0399805 ],\n",
              "       [0.0580726 , 0.02998976, 0.75266826, 0.0857007 , 0.07356871],\n",
              "       [0.08816513, 0.0399874 , 0.703786  , 0.10440318, 0.06365835],\n",
              "       [0.07754338, 0.11325389, 0.58964366, 0.05954196, 0.16001712],\n",
              "       [0.05278415, 0.11504672, 0.406867  , 0.04260761, 0.3826946 ],\n",
              "       [0.03777963, 0.07957033, 0.53196377, 0.04491335, 0.3057729 ],\n",
              "       [0.02738019, 0.20216215, 0.10951437, 0.02617511, 0.6347682 ],\n",
              "       [0.01586797, 0.15692976, 0.19866553, 0.02757324, 0.60096353]],\n",
              "      dtype=float32)"
            ]
          },
          "metadata": {},
          "execution_count": 126
        }
      ]
    },
    {
      "cell_type": "code",
      "source": [
        "# Turn prediction probabilities into prediction classes\n",
        "test_abstract_preds = tf.argmax(test_abstract_pred_probs, axis=1)\n",
        "test_abstract_preds"
      ],
      "metadata": {
        "colab": {
          "base_uri": "https://localhost:8080/"
        },
        "id": "yp-Sk2Cy2Pv7",
        "outputId": "bf580380-72f4-4630-9d45-5cd074095aea"
      },
      "execution_count": 127,
      "outputs": [
        {
          "output_type": "execute_result",
          "data": {
            "text/plain": [
              "<tf.Tensor: shape=(8,), dtype=int64, numpy=array([3, 2, 2, 2, 2, 2, 4, 4])>"
            ]
          },
          "metadata": {},
          "execution_count": 127
        }
      ]
    },
    {
      "cell_type": "code",
      "source": [
        "# Turn prediction class integers into string class names\n",
        "test_abstract_pred_classes = [label_encoder.classes_[i] for i in test_abstract_preds]\n",
        "test_abstract_pred_classes"
      ],
      "metadata": {
        "colab": {
          "base_uri": "https://localhost:8080/"
        },
        "id": "wdm9fHgX2P1S",
        "outputId": "cad7bf26-f066-46d2-c1ea-1d186b03e146"
      },
      "execution_count": 128,
      "outputs": [
        {
          "output_type": "execute_result",
          "data": {
            "text/plain": [
              "['OBJECTIVE',\n",
              " 'METHODS',\n",
              " 'METHODS',\n",
              " 'METHODS',\n",
              " 'METHODS',\n",
              " 'METHODS',\n",
              " 'RESULTS',\n",
              " 'RESULTS']"
            ]
          },
          "metadata": {},
          "execution_count": 128
        }
      ]
    },
    {
      "cell_type": "code",
      "source": [
        "# Visualize abstract lines and predicted sequence labels\n",
        "for i, line in enumerate(abstract_lines):\n",
        "  print(f\"{test_abstract_pred_classes[i]}: {line}\")"
      ],
      "metadata": {
        "colab": {
          "base_uri": "https://localhost:8080/"
        },
        "id": "gemlGMjT2Uaz",
        "outputId": "9bef4da6-05e9-4060-d23a-01104e4d53eb"
      },
      "execution_count": 129,
      "outputs": [
        {
          "output_type": "stream",
          "name": "stdout",
          "text": [
            "OBJECTIVE: This RCT examined the efficacy of a manualized social intervention for children with HFASDs.\n",
            "METHODS: Participants were randomly assigned to treatment or wait-list conditions.\n",
            "METHODS: Treatment included instruction and therapeutic activities targeting social skills, face-emotion recognition, interest expansion, and interpretation of non-literal language.\n",
            "METHODS: A response-cost program was applied to reduce problem behaviors and foster skills acquisition.\n",
            "METHODS: Significant treatment effects were found for five of seven primary outcome measures (parent ratings and direct child measures).\n",
            "METHODS: Secondary measures based on staff ratings (treatment group only) corroborated gains reported by parents.\n",
            "RESULTS: High levels of parent, child and staff satisfaction were reported, along with high levels of treatment fidelity.\n",
            "RESULTS: Standardized effect size estimates were primarily in the medium and large ranges and favored the treatment group.\n"
          ]
        }
      ]
    },
    {
      "cell_type": "code",
      "source": [
        "import pandas as pd\n",
        "from tabulate import tabulate\n",
        "# Data as a list of dictionaries for each section\n",
        "data = [\n",
        "    {\"Section\": \"OBJECTIVE\", \"Content\": \"This RCT examined the efficacy of a manualized social intervention for children with HFASDs.\"},\n",
        "    {\"Section\": \"METHODS\", \"Content\": \"Participants were randomly assigned to treatment or wait-list conditions.\"},\n",
        "    {\"Section\": \"METHODS\", \"Content\": \"Treatment included instruction and therapeutic activities targeting social skills, face-emotion recognition, interest expansion, and interpretation of non-literal language.\"},\n",
        "    {\"Section\": \"METHODS\", \"Content\": \"A response-cost program was applied to reduce problem behaviors and foster skills acquisition.\"},\n",
        "    {\"Section\": \"METHODS\", \"Content\": \"Significant treatment effects were found for five of seven primary outcome measures (parent ratings and direct child measures).\"},\n",
        "    {\"Section\": \"METHODS\", \"Content\": \"Secondary measures based on staff ratings (treatment group only) corroborated gains reported by parents.\"},\n",
        "    {\"Section\": \"RESULTS\", \"Content\": \"High levels of parent, child and staff satisfaction were reported, along with high levels of treatment fidelity.\"},\n",
        "    {\"Section\": \"RESULTS\", \"Content\": \"Standardized effect size estimates were primarily in the medium and large ranges and favored the treatment group.\"}\n",
        "]\n",
        "\n",
        "# Convert to DataFrame for prettier tabular display\n",
        "df = pd.DataFrame(data)\n",
        "table = tabulate(df, headers=\"keys\", tablefmt=\"fancy_grid\", showindex=False, stralign=\"center\", numalign=\"center\")\n",
        "\n",
        "# Print the table\n",
        "print(table)"
      ],
      "metadata": {
        "colab": {
          "base_uri": "https://localhost:8080/"
        },
        "id": "TdEtW7QDAI-t",
        "outputId": "dc9e65f2-1943-4861-fbce-9fe3dbe2cda0"
      },
      "execution_count": 133,
      "outputs": [
        {
          "output_type": "stream",
          "name": "stdout",
          "text": [
            "╒═══════════╤══════════════════════════════════════════════════════════════════════════════════════════════════════════════════════════════════════════════════════════════════════════════╕\n",
            "│  Section  │                                                                                   Content                                                                                    │\n",
            "╞═══════════╪══════════════════════════════════════════════════════════════════════════════════════════════════════════════════════════════════════════════════════════════════════════════╡\n",
            "│ OBJECTIVE │                                         This RCT examined the efficacy of a manualized social intervention for children with HFASDs.                                         │\n",
            "├───────────┼──────────────────────────────────────────────────────────────────────────────────────────────────────────────────────────────────────────────────────────────────────────────┤\n",
            "│  METHODS  │                                                  Participants were randomly assigned to treatment or wait-list conditions.                                                   │\n",
            "├───────────┼──────────────────────────────────────────────────────────────────────────────────────────────────────────────────────────────────────────────────────────────────────────────┤\n",
            "│  METHODS  │ Treatment included instruction and therapeutic activities targeting social skills, face-emotion recognition, interest expansion, and interpretation of non-literal language. │\n",
            "├───────────┼──────────────────────────────────────────────────────────────────────────────────────────────────────────────────────────────────────────────────────────────────────────────┤\n",
            "│  METHODS  │                                        A response-cost program was applied to reduce problem behaviors and foster skills acquisition.                                        │\n",
            "├───────────┼──────────────────────────────────────────────────────────────────────────────────────────────────────────────────────────────────────────────────────────────────────────────┤\n",
            "│  METHODS  │                       Significant treatment effects were found for five of seven primary outcome measures (parent ratings and direct child measures).                        │\n",
            "├───────────┼──────────────────────────────────────────────────────────────────────────────────────────────────────────────────────────────────────────────────────────────────────────────┤\n",
            "│  METHODS  │                                   Secondary measures based on staff ratings (treatment group only) corroborated gains reported by parents.                                   │\n",
            "├───────────┼──────────────────────────────────────────────────────────────────────────────────────────────────────────────────────────────────────────────────────────────────────────────┤\n",
            "│  RESULTS  │                               High levels of parent, child and staff satisfaction were reported, along with high levels of treatment fidelity.                               │\n",
            "├───────────┼──────────────────────────────────────────────────────────────────────────────────────────────────────────────────────────────────────────────────────────────────────────────┤\n",
            "│  RESULTS  │                              Standardized effect size estimates were primarily in the medium and large ranges and favored the treatment group.                               │\n",
            "╘═══════════╧══════════════════════════════════════════════════════════════════════════════════════════════════════════════════════════════════════════════════════════════════════════════╛\n"
          ]
        }
      ]
    }
  ]
}